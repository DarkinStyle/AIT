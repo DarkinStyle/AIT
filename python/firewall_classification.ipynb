{
 "metadata": {
  "language_info": {
   "codemirror_mode": {
    "name": "ipython",
    "version": 3
   },
   "file_extension": ".py",
   "mimetype": "text/x-python",
   "name": "python",
   "nbconvert_exporter": "python",
   "pygments_lexer": "ipython3",
   "version": "3.8.3-final"
  },
  "orig_nbformat": 2,
  "kernelspec": {
   "name": "python_defaultSpec_1598622263832",
   "display_name": "Python 3.8.3 64-bit ('Wai Hin(Darkin)': virtualenv)"
  }
 },
 "nbformat": 4,
 "nbformat_minor": 2,
 "cells": [
  {
   "cell_type": "markdown",
   "metadata": {},
   "source": [
    "**Hello There, This is a new ipynb file for classification project!**"
   ]
  },
  {
   "cell_type": "code",
   "execution_count": 2,
   "metadata": {
    "tags": []
   },
   "outputs": [
    {
     "output_type": "stream",
     "name": "stdout",
     "text": "[0 1 2 3 4 5 6 7 8 9]\n"
    },
    {
     "output_type": "execute_result",
     "data": {
      "text/plain": "       Source Port  Destination Port  NAT Source Port  NAT Destination Port  \\\n0            57222                53            54587                    53   \n1            56258              3389            56258                  3389   \n2             6881             50321            43265                 50321   \n3            50553              3389            50553                  3389   \n4            50002               443            45848                   443   \n...            ...               ...              ...                   ...   \n65527        63691                80            13237                    80   \n65528        50964                80            13485                    80   \n65529        54871               445                0                     0   \n65530        54870               445                0                     0   \n65531        54867               445                0                     0   \n\n      Action    Bytes  Bytes Sent  Bytes Received  Packets  \\\n0      allow      177          94              83        2   \n1      allow     4768        1600            3168       19   \n2      allow      238         118             120        2   \n3      allow     3327        1438            1889       15   \n4      allow    25358        6778           18580       31   \n...      ...      ...         ...             ...      ...   \n65527  allow      314         192             122        6   \n65528  allow  4680740       67312         4613428     4675   \n65529   drop       70          70               0        1   \n65530   drop       70          70               0        1   \n65531   drop       70          70               0        1   \n\n       Elapsed Time (sec)  pkts_sent  pkts_received  \n0                      30          1              1  \n1                      17         10              9  \n2                    1199          1              1  \n3                      17          8              7  \n4                      16         13             18  \n...                   ...        ...            ...  \n65527                  15          4              2  \n65528                  77        985           3690  \n65529                   0          1              0  \n65530                   0          1              0  \n65531                   0          1              0  \n\n[65532 rows x 12 columns]",
      "text/html": "<div>\n<style scoped>\n    .dataframe tbody tr th:only-of-type {\n        vertical-align: middle;\n    }\n\n    .dataframe tbody tr th {\n        vertical-align: top;\n    }\n\n    .dataframe thead th {\n        text-align: right;\n    }\n</style>\n<table border=\"1\" class=\"dataframe\">\n  <thead>\n    <tr style=\"text-align: right;\">\n      <th></th>\n      <th>Source Port</th>\n      <th>Destination Port</th>\n      <th>NAT Source Port</th>\n      <th>NAT Destination Port</th>\n      <th>Action</th>\n      <th>Bytes</th>\n      <th>Bytes Sent</th>\n      <th>Bytes Received</th>\n      <th>Packets</th>\n      <th>Elapsed Time (sec)</th>\n      <th>pkts_sent</th>\n      <th>pkts_received</th>\n    </tr>\n  </thead>\n  <tbody>\n    <tr>\n      <th>0</th>\n      <td>57222</td>\n      <td>53</td>\n      <td>54587</td>\n      <td>53</td>\n      <td>allow</td>\n      <td>177</td>\n      <td>94</td>\n      <td>83</td>\n      <td>2</td>\n      <td>30</td>\n      <td>1</td>\n      <td>1</td>\n    </tr>\n    <tr>\n      <th>1</th>\n      <td>56258</td>\n      <td>3389</td>\n      <td>56258</td>\n      <td>3389</td>\n      <td>allow</td>\n      <td>4768</td>\n      <td>1600</td>\n      <td>3168</td>\n      <td>19</td>\n      <td>17</td>\n      <td>10</td>\n      <td>9</td>\n    </tr>\n    <tr>\n      <th>2</th>\n      <td>6881</td>\n      <td>50321</td>\n      <td>43265</td>\n      <td>50321</td>\n      <td>allow</td>\n      <td>238</td>\n      <td>118</td>\n      <td>120</td>\n      <td>2</td>\n      <td>1199</td>\n      <td>1</td>\n      <td>1</td>\n    </tr>\n    <tr>\n      <th>3</th>\n      <td>50553</td>\n      <td>3389</td>\n      <td>50553</td>\n      <td>3389</td>\n      <td>allow</td>\n      <td>3327</td>\n      <td>1438</td>\n      <td>1889</td>\n      <td>15</td>\n      <td>17</td>\n      <td>8</td>\n      <td>7</td>\n    </tr>\n    <tr>\n      <th>4</th>\n      <td>50002</td>\n      <td>443</td>\n      <td>45848</td>\n      <td>443</td>\n      <td>allow</td>\n      <td>25358</td>\n      <td>6778</td>\n      <td>18580</td>\n      <td>31</td>\n      <td>16</td>\n      <td>13</td>\n      <td>18</td>\n    </tr>\n    <tr>\n      <th>...</th>\n      <td>...</td>\n      <td>...</td>\n      <td>...</td>\n      <td>...</td>\n      <td>...</td>\n      <td>...</td>\n      <td>...</td>\n      <td>...</td>\n      <td>...</td>\n      <td>...</td>\n      <td>...</td>\n      <td>...</td>\n    </tr>\n    <tr>\n      <th>65527</th>\n      <td>63691</td>\n      <td>80</td>\n      <td>13237</td>\n      <td>80</td>\n      <td>allow</td>\n      <td>314</td>\n      <td>192</td>\n      <td>122</td>\n      <td>6</td>\n      <td>15</td>\n      <td>4</td>\n      <td>2</td>\n    </tr>\n    <tr>\n      <th>65528</th>\n      <td>50964</td>\n      <td>80</td>\n      <td>13485</td>\n      <td>80</td>\n      <td>allow</td>\n      <td>4680740</td>\n      <td>67312</td>\n      <td>4613428</td>\n      <td>4675</td>\n      <td>77</td>\n      <td>985</td>\n      <td>3690</td>\n    </tr>\n    <tr>\n      <th>65529</th>\n      <td>54871</td>\n      <td>445</td>\n      <td>0</td>\n      <td>0</td>\n      <td>drop</td>\n      <td>70</td>\n      <td>70</td>\n      <td>0</td>\n      <td>1</td>\n      <td>0</td>\n      <td>1</td>\n      <td>0</td>\n    </tr>\n    <tr>\n      <th>65530</th>\n      <td>54870</td>\n      <td>445</td>\n      <td>0</td>\n      <td>0</td>\n      <td>drop</td>\n      <td>70</td>\n      <td>70</td>\n      <td>0</td>\n      <td>1</td>\n      <td>0</td>\n      <td>1</td>\n      <td>0</td>\n    </tr>\n    <tr>\n      <th>65531</th>\n      <td>54867</td>\n      <td>445</td>\n      <td>0</td>\n      <td>0</td>\n      <td>drop</td>\n      <td>70</td>\n      <td>70</td>\n      <td>0</td>\n      <td>1</td>\n      <td>0</td>\n      <td>1</td>\n      <td>0</td>\n    </tr>\n  </tbody>\n</table>\n<p>65532 rows × 12 columns</p>\n</div>"
     },
     "metadata": {},
     "execution_count": 2
    }
   ],
   "source": [
    "import pandas as pd \n",
    "import numpy as np \n",
    "import matplotlib \n",
    "import matplotlib.pyplot as plt\n",
    "from sklearn import datasets \n",
    "from sklearn.model_selection import train_test_split \n",
    "from sklearn.ensemble import RandomForestClassifier \n",
    "from sklearn.datasets import make_classification\n",
    " \n",
    "print(np.arange(10))\n",
    "\n",
    "fire = pd.read_csv('Firewall_data_sets.csv')\n",
    "fire"
   ]
  },
  {
   "cell_type": "code",
   "execution_count": 6,
   "metadata": {},
   "outputs": [
    {
     "output_type": "execute_result",
     "data": {
      "text/plain": "        Source Port  Destination Port  NAT Source Port  NAT Destination Port  \\\ncount  65532.000000      65532.000000     65532.000000          65532.000000   \nmean   49391.969343      10577.385812     19282.972761           2671.049930   \nstd    15255.712537      18466.027039     21970.689669           9739.162278   \nmin        0.000000          0.000000         0.000000              0.000000   \n25%    49183.000000         80.000000         0.000000              0.000000   \n50%    53776.500000        445.000000      8820.500000             53.000000   \n75%    58638.000000      15000.000000     38366.250000            443.000000   \nmax    65534.000000      65535.000000     65535.000000          65535.000000   \n\n              Bytes    Bytes Sent  Bytes Received       Packets  \\\ncount  6.553200e+04  6.553200e+04    6.553200e+04  6.553200e+04   \nmean   9.712395e+04  2.238580e+04    7.473815e+04  1.028660e+02   \nstd    5.618439e+06  3.828139e+06    2.463208e+06  5.133002e+03   \nmin    6.000000e+01  6.000000e+01    0.000000e+00  1.000000e+00   \n25%    6.600000e+01  6.600000e+01    0.000000e+00  1.000000e+00   \n50%    1.680000e+02  9.000000e+01    7.900000e+01  2.000000e+00   \n75%    7.522500e+02  2.100000e+02    4.490000e+02  6.000000e+00   \nmax    1.269359e+09  9.484772e+08    3.208818e+08  1.036116e+06   \n\n       Elapsed Time (sec)      pkts_sent  pkts_received  \ncount        65532.000000   65532.000000   65532.000000  \nmean            65.833577      41.399530      61.466505  \nstd            302.461762    3218.871288    2223.332271  \nmin              0.000000       1.000000       0.000000  \n25%              0.000000       1.000000       0.000000  \n50%             15.000000       1.000000       1.000000  \n75%             30.000000       3.000000       2.000000  \nmax          10824.000000  747520.000000  327208.000000  ",
      "text/html": "<div>\n<style scoped>\n    .dataframe tbody tr th:only-of-type {\n        vertical-align: middle;\n    }\n\n    .dataframe tbody tr th {\n        vertical-align: top;\n    }\n\n    .dataframe thead th {\n        text-align: right;\n    }\n</style>\n<table border=\"1\" class=\"dataframe\">\n  <thead>\n    <tr style=\"text-align: right;\">\n      <th></th>\n      <th>Source Port</th>\n      <th>Destination Port</th>\n      <th>NAT Source Port</th>\n      <th>NAT Destination Port</th>\n      <th>Bytes</th>\n      <th>Bytes Sent</th>\n      <th>Bytes Received</th>\n      <th>Packets</th>\n      <th>Elapsed Time (sec)</th>\n      <th>pkts_sent</th>\n      <th>pkts_received</th>\n    </tr>\n  </thead>\n  <tbody>\n    <tr>\n      <th>count</th>\n      <td>65532.000000</td>\n      <td>65532.000000</td>\n      <td>65532.000000</td>\n      <td>65532.000000</td>\n      <td>6.553200e+04</td>\n      <td>6.553200e+04</td>\n      <td>6.553200e+04</td>\n      <td>6.553200e+04</td>\n      <td>65532.000000</td>\n      <td>65532.000000</td>\n      <td>65532.000000</td>\n    </tr>\n    <tr>\n      <th>mean</th>\n      <td>49391.969343</td>\n      <td>10577.385812</td>\n      <td>19282.972761</td>\n      <td>2671.049930</td>\n      <td>9.712395e+04</td>\n      <td>2.238580e+04</td>\n      <td>7.473815e+04</td>\n      <td>1.028660e+02</td>\n      <td>65.833577</td>\n      <td>41.399530</td>\n      <td>61.466505</td>\n    </tr>\n    <tr>\n      <th>std</th>\n      <td>15255.712537</td>\n      <td>18466.027039</td>\n      <td>21970.689669</td>\n      <td>9739.162278</td>\n      <td>5.618439e+06</td>\n      <td>3.828139e+06</td>\n      <td>2.463208e+06</td>\n      <td>5.133002e+03</td>\n      <td>302.461762</td>\n      <td>3218.871288</td>\n      <td>2223.332271</td>\n    </tr>\n    <tr>\n      <th>min</th>\n      <td>0.000000</td>\n      <td>0.000000</td>\n      <td>0.000000</td>\n      <td>0.000000</td>\n      <td>6.000000e+01</td>\n      <td>6.000000e+01</td>\n      <td>0.000000e+00</td>\n      <td>1.000000e+00</td>\n      <td>0.000000</td>\n      <td>1.000000</td>\n      <td>0.000000</td>\n    </tr>\n    <tr>\n      <th>25%</th>\n      <td>49183.000000</td>\n      <td>80.000000</td>\n      <td>0.000000</td>\n      <td>0.000000</td>\n      <td>6.600000e+01</td>\n      <td>6.600000e+01</td>\n      <td>0.000000e+00</td>\n      <td>1.000000e+00</td>\n      <td>0.000000</td>\n      <td>1.000000</td>\n      <td>0.000000</td>\n    </tr>\n    <tr>\n      <th>50%</th>\n      <td>53776.500000</td>\n      <td>445.000000</td>\n      <td>8820.500000</td>\n      <td>53.000000</td>\n      <td>1.680000e+02</td>\n      <td>9.000000e+01</td>\n      <td>7.900000e+01</td>\n      <td>2.000000e+00</td>\n      <td>15.000000</td>\n      <td>1.000000</td>\n      <td>1.000000</td>\n    </tr>\n    <tr>\n      <th>75%</th>\n      <td>58638.000000</td>\n      <td>15000.000000</td>\n      <td>38366.250000</td>\n      <td>443.000000</td>\n      <td>7.522500e+02</td>\n      <td>2.100000e+02</td>\n      <td>4.490000e+02</td>\n      <td>6.000000e+00</td>\n      <td>30.000000</td>\n      <td>3.000000</td>\n      <td>2.000000</td>\n    </tr>\n    <tr>\n      <th>max</th>\n      <td>65534.000000</td>\n      <td>65535.000000</td>\n      <td>65535.000000</td>\n      <td>65535.000000</td>\n      <td>1.269359e+09</td>\n      <td>9.484772e+08</td>\n      <td>3.208818e+08</td>\n      <td>1.036116e+06</td>\n      <td>10824.000000</td>\n      <td>747520.000000</td>\n      <td>327208.000000</td>\n    </tr>\n  </tbody>\n</table>\n</div>"
     },
     "metadata": {},
     "execution_count": 6
    }
   ],
   "source": [
    "fire.describe()\n"
   ]
  },
  {
   "cell_type": "code",
   "execution_count": 7,
   "metadata": {
    "tags": []
   },
   "outputs": [
    {
     "output_type": "stream",
     "name": "stdout",
     "text": "<class 'pandas.core.frame.DataFrame'>\nRangeIndex: 65532 entries, 0 to 65531\nData columns (total 12 columns):\n #   Column                Non-Null Count  Dtype \n---  ------                --------------  ----- \n 0   Source Port           65532 non-null  int64 \n 1   Destination Port      65532 non-null  int64 \n 2   NAT Source Port       65532 non-null  int64 \n 3   NAT Destination Port  65532 non-null  int64 \n 4   Action                65532 non-null  object\n 5   Bytes                 65532 non-null  int64 \n 6   Bytes Sent            65532 non-null  int64 \n 7   Bytes Received        65532 non-null  int64 \n 8   Packets               65532 non-null  int64 \n 9   Elapsed Time (sec)    65532 non-null  int64 \n 10  pkts_sent             65532 non-null  int64 \n 11  pkts_received         65532 non-null  int64 \ndtypes: int64(11), object(1)\nmemory usage: 6.0+ MB\n"
    }
   ],
   "source": [
    "fire.info()"
   ]
  },
  {
   "cell_type": "code",
   "execution_count": null,
   "metadata": {},
   "outputs": [],
   "source": []
  }
 ]
}