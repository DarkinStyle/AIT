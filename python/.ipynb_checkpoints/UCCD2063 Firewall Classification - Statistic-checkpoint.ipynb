{
 "cells": [
  {
   "cell_type": "markdown",
   "metadata": {},
   "source": [
    "# UCCD2063 Machine Learning Classification Assignment\n",
    "The following is the Machine Learning algorithm designed to conduct classification tasks for multivariant attributes.\n",
    "\n",
    "**Contributors:**\n",
    "- Yee Zi Yang 18ACB02834\n",
    "- Lee Wai Hin 18ACB02736\n",
    "- Tan Jie Nan 18ACB02121\n",
    "\n",
    "**Classification Dataset:**\n",
    "- Firewall rules action on malicious data transfer"
   ]
  },
  {
   "cell_type": "markdown",
   "metadata": {},
   "source": [
    "## Table of Content\n",
    "1. [Data Initialization](#data_init)\n",
    "2. [Data Preprocessing - Label Binarizer](#data_pros_bin)\n",
    "3. [Data Preprocessing - One Hot Encoding](#data_pros_ohe)\n",
    "\n",
    "### Algorithm's Section:\n",
    "- [Decision Tree Regressor](#dt_section)\n",
    "- [Random Forest Classifier](#rfc_section)\n",
    "- [Stochastic Gradient Descent Classifier](#sgd_section)\n",
    "- [Logistic Regession](#log_section)\n",
    "- [k-Nearest Neighbors Classifier](#knn_section)\n"
   ]
  },
  {
   "cell_type": "markdown",
   "metadata": {},
   "source": [
    "<a id=\"data_init\"></a>\n",
    "# 1.0 Data Initialization\n",
    "<hr>"
   ]
  },
  {
   "cell_type": "code",
   "execution_count": 42,
   "metadata": {
    "tags": []
   },
   "outputs": [
    {
     "name": "stdout",
     "output_type": "stream",
     "text": [
      "==> Loading specified dataset...\n",
      "\n",
      "==> Dataset loading completed.\n",
      "\n"
     ]
    }
   ],
   "source": [
    "#Library imports\n",
    "import pandas as pd\n",
    "import numpy as np\n",
    "import matplotlib.pyplot as plt\n",
    "\n",
    "# Load the dataset\n",
    "print ('==> Loading specified dataset...\\n')\n",
    "firewall_data =  pd.read_csv(\"Firewall_data_sets.csv\")\n",
    "print ('==> Dataset loading completed.\\n')\n"
   ]
  },
  {
   "cell_type": "code",
   "execution_count": 43,
   "metadata": {},
   "outputs": [
    {
     "data": {
      "text/html": [
       "<div>\n",
       "<style scoped>\n",
       "    .dataframe tbody tr th:only-of-type {\n",
       "        vertical-align: middle;\n",
       "    }\n",
       "\n",
       "    .dataframe tbody tr th {\n",
       "        vertical-align: top;\n",
       "    }\n",
       "\n",
       "    .dataframe thead th {\n",
       "        text-align: right;\n",
       "    }\n",
       "</style>\n",
       "<table border=\"1\" class=\"dataframe\">\n",
       "  <thead>\n",
       "    <tr style=\"text-align: right;\">\n",
       "      <th></th>\n",
       "      <th>Source Port</th>\n",
       "      <th>Destination Port</th>\n",
       "      <th>NAT Source Port</th>\n",
       "      <th>NAT Destination Port</th>\n",
       "      <th>Action</th>\n",
       "      <th>Bytes</th>\n",
       "      <th>Bytes Sent</th>\n",
       "      <th>Bytes Received</th>\n",
       "      <th>Packets</th>\n",
       "      <th>Elapsed Time (sec)</th>\n",
       "      <th>pkts_sent</th>\n",
       "      <th>pkts_received</th>\n",
       "    </tr>\n",
       "  </thead>\n",
       "  <tbody>\n",
       "    <tr>\n",
       "      <th>0</th>\n",
       "      <td>57222</td>\n",
       "      <td>53</td>\n",
       "      <td>54587</td>\n",
       "      <td>53</td>\n",
       "      <td>allow</td>\n",
       "      <td>177</td>\n",
       "      <td>94</td>\n",
       "      <td>83</td>\n",
       "      <td>2</td>\n",
       "      <td>30</td>\n",
       "      <td>1</td>\n",
       "      <td>1</td>\n",
       "    </tr>\n",
       "    <tr>\n",
       "      <th>1</th>\n",
       "      <td>56258</td>\n",
       "      <td>3389</td>\n",
       "      <td>56258</td>\n",
       "      <td>3389</td>\n",
       "      <td>allow</td>\n",
       "      <td>4768</td>\n",
       "      <td>1600</td>\n",
       "      <td>3168</td>\n",
       "      <td>19</td>\n",
       "      <td>17</td>\n",
       "      <td>10</td>\n",
       "      <td>9</td>\n",
       "    </tr>\n",
       "    <tr>\n",
       "      <th>2</th>\n",
       "      <td>6881</td>\n",
       "      <td>50321</td>\n",
       "      <td>43265</td>\n",
       "      <td>50321</td>\n",
       "      <td>allow</td>\n",
       "      <td>238</td>\n",
       "      <td>118</td>\n",
       "      <td>120</td>\n",
       "      <td>2</td>\n",
       "      <td>1199</td>\n",
       "      <td>1</td>\n",
       "      <td>1</td>\n",
       "    </tr>\n",
       "    <tr>\n",
       "      <th>3</th>\n",
       "      <td>50553</td>\n",
       "      <td>3389</td>\n",
       "      <td>50553</td>\n",
       "      <td>3389</td>\n",
       "      <td>allow</td>\n",
       "      <td>3327</td>\n",
       "      <td>1438</td>\n",
       "      <td>1889</td>\n",
       "      <td>15</td>\n",
       "      <td>17</td>\n",
       "      <td>8</td>\n",
       "      <td>7</td>\n",
       "    </tr>\n",
       "    <tr>\n",
       "      <th>4</th>\n",
       "      <td>50002</td>\n",
       "      <td>443</td>\n",
       "      <td>45848</td>\n",
       "      <td>443</td>\n",
       "      <td>allow</td>\n",
       "      <td>25358</td>\n",
       "      <td>6778</td>\n",
       "      <td>18580</td>\n",
       "      <td>31</td>\n",
       "      <td>16</td>\n",
       "      <td>13</td>\n",
       "      <td>18</td>\n",
       "    </tr>\n",
       "  </tbody>\n",
       "</table>\n",
       "</div>"
      ],
      "text/plain": [
       "   Source Port  Destination Port  NAT Source Port  NAT Destination Port  \\\n",
       "0        57222                53            54587                    53   \n",
       "1        56258              3389            56258                  3389   \n",
       "2         6881             50321            43265                 50321   \n",
       "3        50553              3389            50553                  3389   \n",
       "4        50002               443            45848                   443   \n",
       "\n",
       "  Action  Bytes  Bytes Sent  Bytes Received  Packets  Elapsed Time (sec)  \\\n",
       "0  allow    177          94              83        2                  30   \n",
       "1  allow   4768        1600            3168       19                  17   \n",
       "2  allow    238         118             120        2                1199   \n",
       "3  allow   3327        1438            1889       15                  17   \n",
       "4  allow  25358        6778           18580       31                  16   \n",
       "\n",
       "   pkts_sent  pkts_received  \n",
       "0          1              1  \n",
       "1         10              9  \n",
       "2          1              1  \n",
       "3          8              7  \n",
       "4         13             18  "
      ]
     },
     "execution_count": 43,
     "metadata": {},
     "output_type": "execute_result"
    }
   ],
   "source": [
    "firewall_data.head(5)"
   ]
  },
  {
   "cell_type": "code",
   "execution_count": 44,
   "metadata": {
    "tags": []
   },
   "outputs": [
    {
     "name": "stdout",
     "output_type": "stream",
     "text": [
      "<class 'pandas.core.frame.DataFrame'>\n",
      "RangeIndex: 65532 entries, 0 to 65531\n",
      "Data columns (total 12 columns):\n",
      " #   Column                Non-Null Count  Dtype \n",
      "---  ------                --------------  ----- \n",
      " 0   Source Port           65532 non-null  int64 \n",
      " 1   Destination Port      65532 non-null  int64 \n",
      " 2   NAT Source Port       65532 non-null  int64 \n",
      " 3   NAT Destination Port  65532 non-null  int64 \n",
      " 4   Action                65532 non-null  object\n",
      " 5   Bytes                 65532 non-null  int64 \n",
      " 6   Bytes Sent            65532 non-null  int64 \n",
      " 7   Bytes Received        65532 non-null  int64 \n",
      " 8   Packets               65532 non-null  int64 \n",
      " 9   Elapsed Time (sec)    65532 non-null  int64 \n",
      " 10  pkts_sent             65532 non-null  int64 \n",
      " 11  pkts_received         65532 non-null  int64 \n",
      "dtypes: int64(11), object(1)\n",
      "memory usage: 6.0+ MB\n"
     ]
    }
   ],
   "source": [
    "firewall_data.info()"
   ]
  },
  {
   "cell_type": "code",
   "execution_count": 45,
   "metadata": {},
   "outputs": [
    {
     "data": {
      "text/html": [
       "<div>\n",
       "<style scoped>\n",
       "    .dataframe tbody tr th:only-of-type {\n",
       "        vertical-align: middle;\n",
       "    }\n",
       "\n",
       "    .dataframe tbody tr th {\n",
       "        vertical-align: top;\n",
       "    }\n",
       "\n",
       "    .dataframe thead th {\n",
       "        text-align: right;\n",
       "    }\n",
       "</style>\n",
       "<table border=\"1\" class=\"dataframe\">\n",
       "  <thead>\n",
       "    <tr style=\"text-align: right;\">\n",
       "      <th></th>\n",
       "      <th>Source Port</th>\n",
       "      <th>Destination Port</th>\n",
       "      <th>NAT Source Port</th>\n",
       "      <th>NAT Destination Port</th>\n",
       "      <th>Bytes</th>\n",
       "      <th>Bytes Sent</th>\n",
       "      <th>Bytes Received</th>\n",
       "      <th>Packets</th>\n",
       "      <th>Elapsed Time (sec)</th>\n",
       "      <th>pkts_sent</th>\n",
       "      <th>pkts_received</th>\n",
       "    </tr>\n",
       "  </thead>\n",
       "  <tbody>\n",
       "    <tr>\n",
       "      <th>count</th>\n",
       "      <td>65532.000000</td>\n",
       "      <td>65532.000000</td>\n",
       "      <td>65532.000000</td>\n",
       "      <td>65532.000000</td>\n",
       "      <td>6.553200e+04</td>\n",
       "      <td>6.553200e+04</td>\n",
       "      <td>6.553200e+04</td>\n",
       "      <td>6.553200e+04</td>\n",
       "      <td>65532.000000</td>\n",
       "      <td>65532.000000</td>\n",
       "      <td>65532.000000</td>\n",
       "    </tr>\n",
       "    <tr>\n",
       "      <th>mean</th>\n",
       "      <td>49391.969343</td>\n",
       "      <td>10577.385812</td>\n",
       "      <td>19282.972761</td>\n",
       "      <td>2671.049930</td>\n",
       "      <td>9.712395e+04</td>\n",
       "      <td>2.238580e+04</td>\n",
       "      <td>7.473815e+04</td>\n",
       "      <td>1.028660e+02</td>\n",
       "      <td>65.833577</td>\n",
       "      <td>41.399530</td>\n",
       "      <td>61.466505</td>\n",
       "    </tr>\n",
       "    <tr>\n",
       "      <th>std</th>\n",
       "      <td>15255.712537</td>\n",
       "      <td>18466.027039</td>\n",
       "      <td>21970.689669</td>\n",
       "      <td>9739.162278</td>\n",
       "      <td>5.618439e+06</td>\n",
       "      <td>3.828139e+06</td>\n",
       "      <td>2.463208e+06</td>\n",
       "      <td>5.133002e+03</td>\n",
       "      <td>302.461762</td>\n",
       "      <td>3218.871288</td>\n",
       "      <td>2223.332271</td>\n",
       "    </tr>\n",
       "    <tr>\n",
       "      <th>min</th>\n",
       "      <td>0.000000</td>\n",
       "      <td>0.000000</td>\n",
       "      <td>0.000000</td>\n",
       "      <td>0.000000</td>\n",
       "      <td>6.000000e+01</td>\n",
       "      <td>6.000000e+01</td>\n",
       "      <td>0.000000e+00</td>\n",
       "      <td>1.000000e+00</td>\n",
       "      <td>0.000000</td>\n",
       "      <td>1.000000</td>\n",
       "      <td>0.000000</td>\n",
       "    </tr>\n",
       "    <tr>\n",
       "      <th>25%</th>\n",
       "      <td>49183.000000</td>\n",
       "      <td>80.000000</td>\n",
       "      <td>0.000000</td>\n",
       "      <td>0.000000</td>\n",
       "      <td>6.600000e+01</td>\n",
       "      <td>6.600000e+01</td>\n",
       "      <td>0.000000e+00</td>\n",
       "      <td>1.000000e+00</td>\n",
       "      <td>0.000000</td>\n",
       "      <td>1.000000</td>\n",
       "      <td>0.000000</td>\n",
       "    </tr>\n",
       "    <tr>\n",
       "      <th>50%</th>\n",
       "      <td>53776.500000</td>\n",
       "      <td>445.000000</td>\n",
       "      <td>8820.500000</td>\n",
       "      <td>53.000000</td>\n",
       "      <td>1.680000e+02</td>\n",
       "      <td>9.000000e+01</td>\n",
       "      <td>7.900000e+01</td>\n",
       "      <td>2.000000e+00</td>\n",
       "      <td>15.000000</td>\n",
       "      <td>1.000000</td>\n",
       "      <td>1.000000</td>\n",
       "    </tr>\n",
       "    <tr>\n",
       "      <th>75%</th>\n",
       "      <td>58638.000000</td>\n",
       "      <td>15000.000000</td>\n",
       "      <td>38366.250000</td>\n",
       "      <td>443.000000</td>\n",
       "      <td>7.522500e+02</td>\n",
       "      <td>2.100000e+02</td>\n",
       "      <td>4.490000e+02</td>\n",
       "      <td>6.000000e+00</td>\n",
       "      <td>30.000000</td>\n",
       "      <td>3.000000</td>\n",
       "      <td>2.000000</td>\n",
       "    </tr>\n",
       "    <tr>\n",
       "      <th>max</th>\n",
       "      <td>65534.000000</td>\n",
       "      <td>65535.000000</td>\n",
       "      <td>65535.000000</td>\n",
       "      <td>65535.000000</td>\n",
       "      <td>1.269359e+09</td>\n",
       "      <td>9.484772e+08</td>\n",
       "      <td>3.208818e+08</td>\n",
       "      <td>1.036116e+06</td>\n",
       "      <td>10824.000000</td>\n",
       "      <td>747520.000000</td>\n",
       "      <td>327208.000000</td>\n",
       "    </tr>\n",
       "  </tbody>\n",
       "</table>\n",
       "</div>"
      ],
      "text/plain": [
       "        Source Port  Destination Port  NAT Source Port  NAT Destination Port  \\\n",
       "count  65532.000000      65532.000000     65532.000000          65532.000000   \n",
       "mean   49391.969343      10577.385812     19282.972761           2671.049930   \n",
       "std    15255.712537      18466.027039     21970.689669           9739.162278   \n",
       "min        0.000000          0.000000         0.000000              0.000000   \n",
       "25%    49183.000000         80.000000         0.000000              0.000000   \n",
       "50%    53776.500000        445.000000      8820.500000             53.000000   \n",
       "75%    58638.000000      15000.000000     38366.250000            443.000000   \n",
       "max    65534.000000      65535.000000     65535.000000          65535.000000   \n",
       "\n",
       "              Bytes    Bytes Sent  Bytes Received       Packets  \\\n",
       "count  6.553200e+04  6.553200e+04    6.553200e+04  6.553200e+04   \n",
       "mean   9.712395e+04  2.238580e+04    7.473815e+04  1.028660e+02   \n",
       "std    5.618439e+06  3.828139e+06    2.463208e+06  5.133002e+03   \n",
       "min    6.000000e+01  6.000000e+01    0.000000e+00  1.000000e+00   \n",
       "25%    6.600000e+01  6.600000e+01    0.000000e+00  1.000000e+00   \n",
       "50%    1.680000e+02  9.000000e+01    7.900000e+01  2.000000e+00   \n",
       "75%    7.522500e+02  2.100000e+02    4.490000e+02  6.000000e+00   \n",
       "max    1.269359e+09  9.484772e+08    3.208818e+08  1.036116e+06   \n",
       "\n",
       "       Elapsed Time (sec)      pkts_sent  pkts_received  \n",
       "count        65532.000000   65532.000000   65532.000000  \n",
       "mean            65.833577      41.399530      61.466505  \n",
       "std            302.461762    3218.871288    2223.332271  \n",
       "min              0.000000       1.000000       0.000000  \n",
       "25%              0.000000       1.000000       0.000000  \n",
       "50%             15.000000       1.000000       1.000000  \n",
       "75%             30.000000       3.000000       2.000000  \n",
       "max          10824.000000  747520.000000  327208.000000  "
      ]
     },
     "execution_count": 45,
     "metadata": {},
     "output_type": "execute_result"
    }
   ],
   "source": [
    "firewall_data.describe()"
   ]
  },
  {
   "cell_type": "code",
   "execution_count": 46,
   "metadata": {},
   "outputs": [
    {
     "data": {
      "image/png": "[encoded data removed]",
      "text/plain": [
       "<Figure size 2000x1500 with 12 Axes>"
      ]
     },
     "metadata": {},
     "output_type": "display_data"
    }
   ],
   "source": [
    "firewall_data.hist(bins=50,figsize=(20,15))\n",
    "plt.show()"
   ]
  },
  {
   "cell_type": "code",
   "execution_count": 47,
   "metadata": {},
   "outputs": [
    {
     "data": {
      "text/plain": [
       "allow         37640\n",
       "deny          14987\n",
       "drop          12851\n",
       "reset-both       54\n",
       "Name: Action, dtype: int64"
      ]
     },
     "execution_count": 47,
     "metadata": {},
     "output_type": "execute_result"
    }
   ],
   "source": [
    "firewall_data.Action.value_counts()"
   ]
  },
  {
   "cell_type": "code",
   "execution_count": 48,
   "metadata": {
    "scrolled": true
   },
   "outputs": [
    {
     "data": {
      "text/html": [
       "<div>\n",
       "<style scoped>\n",
       "    .dataframe tbody tr th:only-of-type {\n",
       "        vertical-align: middle;\n",
       "    }\n",
       "\n",
       "    .dataframe tbody tr th {\n",
       "        vertical-align: top;\n",
       "    }\n",
       "\n",
       "    .dataframe thead th {\n",
       "        text-align: right;\n",
       "    }\n",
       "</style>\n",
       "<table border=\"1\" class=\"dataframe\">\n",
       "  <thead>\n",
       "    <tr style=\"text-align: right;\">\n",
       "      <th></th>\n",
       "      <th>Source Port</th>\n",
       "      <th>Destination Port</th>\n",
       "      <th>NAT Source Port</th>\n",
       "      <th>NAT Destination Port</th>\n",
       "      <th>Bytes</th>\n",
       "      <th>Bytes Sent</th>\n",
       "      <th>Bytes Received</th>\n",
       "      <th>Packets</th>\n",
       "      <th>Elapsed Time (sec)</th>\n",
       "      <th>pkts_sent</th>\n",
       "      <th>pkts_received</th>\n",
       "    </tr>\n",
       "  </thead>\n",
       "  <tbody>\n",
       "    <tr>\n",
       "      <th>Source Port</th>\n",
       "      <td>1.000000</td>\n",
       "      <td>-0.332246</td>\n",
       "      <td>0.145391</td>\n",
       "      <td>-0.024843</td>\n",
       "      <td>0.000221</td>\n",
       "      <td>-0.000931</td>\n",
       "      <td>0.001950</td>\n",
       "      <td>-0.001742</td>\n",
       "      <td>-0.046515</td>\n",
       "      <td>-0.001422</td>\n",
       "      <td>-0.001962</td>\n",
       "    </tr>\n",
       "    <tr>\n",
       "      <th>Destination Port</th>\n",
       "      <td>-0.332246</td>\n",
       "      <td>1.000000</td>\n",
       "      <td>-0.281676</td>\n",
       "      <td>0.410042</td>\n",
       "      <td>-0.005297</td>\n",
       "      <td>0.001675</td>\n",
       "      <td>-0.014684</td>\n",
       "      <td>-0.006063</td>\n",
       "      <td>0.023537</td>\n",
       "      <td>-0.002134</td>\n",
       "      <td>-0.010909</td>\n",
       "    </tr>\n",
       "    <tr>\n",
       "      <th>NAT Source Port</th>\n",
       "      <td>0.145391</td>\n",
       "      <td>-0.281676</td>\n",
       "      <td>1.000000</td>\n",
       "      <td>0.178435</td>\n",
       "      <td>0.010659</td>\n",
       "      <td>0.002242</td>\n",
       "      <td>0.020827</td>\n",
       "      <td>0.012633</td>\n",
       "      <td>0.141485</td>\n",
       "      <td>0.007180</td>\n",
       "      <td>0.018772</td>\n",
       "    </tr>\n",
       "    <tr>\n",
       "      <th>NAT Destination Port</th>\n",
       "      <td>-0.024843</td>\n",
       "      <td>0.410042</td>\n",
       "      <td>0.178435</td>\n",
       "      <td>1.000000</td>\n",
       "      <td>0.003975</td>\n",
       "      <td>0.007904</td>\n",
       "      <td>-0.003216</td>\n",
       "      <td>0.004605</td>\n",
       "      <td>0.219776</td>\n",
       "      <td>0.006136</td>\n",
       "      <td>0.001747</td>\n",
       "    </tr>\n",
       "    <tr>\n",
       "      <th>Bytes</th>\n",
       "      <td>0.000221</td>\n",
       "      <td>-0.005297</td>\n",
       "      <td>0.010659</td>\n",
       "      <td>0.003975</td>\n",
       "      <td>1.000000</td>\n",
       "      <td>0.933462</td>\n",
       "      <td>0.830225</td>\n",
       "      <td>0.974379</td>\n",
       "      <td>0.148834</td>\n",
       "      <td>0.966548</td>\n",
       "      <td>0.850209</td>\n",
       "    </tr>\n",
       "    <tr>\n",
       "      <th>Bytes Sent</th>\n",
       "      <td>-0.000931</td>\n",
       "      <td>0.001675</td>\n",
       "      <td>0.002242</td>\n",
       "      <td>0.007904</td>\n",
       "      <td>0.933462</td>\n",
       "      <td>1.000000</td>\n",
       "      <td>0.575047</td>\n",
       "      <td>0.887596</td>\n",
       "      <td>0.126039</td>\n",
       "      <td>0.973976</td>\n",
       "      <td>0.639098</td>\n",
       "    </tr>\n",
       "    <tr>\n",
       "      <th>Bytes Received</th>\n",
       "      <td>0.001950</td>\n",
       "      <td>-0.014684</td>\n",
       "      <td>0.020827</td>\n",
       "      <td>-0.003216</td>\n",
       "      <td>0.830225</td>\n",
       "      <td>0.575047</td>\n",
       "      <td>1.000000</td>\n",
       "      <td>0.843067</td>\n",
       "      <td>0.143601</td>\n",
       "      <td>0.690959</td>\n",
       "      <td>0.946039</td>\n",
       "    </tr>\n",
       "    <tr>\n",
       "      <th>Packets</th>\n",
       "      <td>-0.001742</td>\n",
       "      <td>-0.006063</td>\n",
       "      <td>0.012633</td>\n",
       "      <td>0.004605</td>\n",
       "      <td>0.974379</td>\n",
       "      <td>0.887596</td>\n",
       "      <td>0.843067</td>\n",
       "      <td>1.000000</td>\n",
       "      <td>0.147074</td>\n",
       "      <td>0.961286</td>\n",
       "      <td>0.916978</td>\n",
       "    </tr>\n",
       "    <tr>\n",
       "      <th>Elapsed Time (sec)</th>\n",
       "      <td>-0.046515</td>\n",
       "      <td>0.023537</td>\n",
       "      <td>0.141485</td>\n",
       "      <td>0.219776</td>\n",
       "      <td>0.148834</td>\n",
       "      <td>0.126039</td>\n",
       "      <td>0.143601</td>\n",
       "      <td>0.147074</td>\n",
       "      <td>1.000000</td>\n",
       "      <td>0.135101</td>\n",
       "      <td>0.143954</td>\n",
       "    </tr>\n",
       "    <tr>\n",
       "      <th>pkts_sent</th>\n",
       "      <td>-0.001422</td>\n",
       "      <td>-0.002134</td>\n",
       "      <td>0.007180</td>\n",
       "      <td>0.006136</td>\n",
       "      <td>0.966548</td>\n",
       "      <td>0.973976</td>\n",
       "      <td>0.690959</td>\n",
       "      <td>0.961286</td>\n",
       "      <td>0.135101</td>\n",
       "      <td>1.000000</td>\n",
       "      <td>0.771550</td>\n",
       "    </tr>\n",
       "    <tr>\n",
       "      <th>pkts_received</th>\n",
       "      <td>-0.001962</td>\n",
       "      <td>-0.010909</td>\n",
       "      <td>0.018772</td>\n",
       "      <td>0.001747</td>\n",
       "      <td>0.850209</td>\n",
       "      <td>0.639098</td>\n",
       "      <td>0.946039</td>\n",
       "      <td>0.916978</td>\n",
       "      <td>0.143954</td>\n",
       "      <td>0.771550</td>\n",
       "      <td>1.000000</td>\n",
       "    </tr>\n",
       "  </tbody>\n",
       "</table>\n",
       "</div>"
      ],
      "text/plain": [
       "                      Source Port  Destination Port  NAT Source Port  \\\n",
       "Source Port              1.000000         -0.332246         0.145391   \n",
       "Destination Port        -0.332246          1.000000        -0.281676   \n",
       "NAT Source Port          0.145391         -0.281676         1.000000   \n",
       "NAT Destination Port    -0.024843          0.410042         0.178435   \n",
       "Bytes                    0.000221         -0.005297         0.010659   \n",
       "Bytes Sent              -0.000931          0.001675         0.002242   \n",
       "Bytes Received           0.001950         -0.014684         0.020827   \n",
       "Packets                 -0.001742         -0.006063         0.012633   \n",
       "Elapsed Time (sec)      -0.046515          0.023537         0.141485   \n",
       "pkts_sent               -0.001422         -0.002134         0.007180   \n",
       "pkts_received           -0.001962         -0.010909         0.018772   \n",
       "\n",
       "                      NAT Destination Port     Bytes  Bytes Sent  \\\n",
       "Source Port                      -0.024843  0.000221   -0.000931   \n",
       "Destination Port                  0.410042 -0.005297    0.001675   \n",
       "NAT Source Port                   0.178435  0.010659    0.002242   \n",
       "NAT Destination Port              1.000000  0.003975    0.007904   \n",
       "Bytes                             0.003975  1.000000    0.933462   \n",
       "Bytes Sent                        0.007904  0.933462    1.000000   \n",
       "Bytes Received                   -0.003216  0.830225    0.575047   \n",
       "Packets                           0.004605  0.974379    0.887596   \n",
       "Elapsed Time (sec)                0.219776  0.148834    0.126039   \n",
       "pkts_sent                         0.006136  0.966548    0.973976   \n",
       "pkts_received                     0.001747  0.850209    0.639098   \n",
       "\n",
       "                      Bytes Received   Packets  Elapsed Time (sec)  pkts_sent  \\\n",
       "Source Port                 0.001950 -0.001742           -0.046515  -0.001422   \n",
       "Destination Port           -0.014684 -0.006063            0.023537  -0.002134   \n",
       "NAT Source Port             0.020827  0.012633            0.141485   0.007180   \n",
       "NAT Destination Port       -0.003216  0.004605            0.219776   0.006136   \n",
       "Bytes                       0.830225  0.974379            0.148834   0.966548   \n",
       "Bytes Sent                  0.575047  0.887596            0.126039   0.973976   \n",
       "Bytes Received              1.000000  0.843067            0.143601   0.690959   \n",
       "Packets                     0.843067  1.000000            0.147074   0.961286   \n",
       "Elapsed Time (sec)          0.143601  0.147074            1.000000   0.135101   \n",
       "pkts_sent                   0.690959  0.961286            0.135101   1.000000   \n",
       "pkts_received               0.946039  0.916978            0.143954   0.771550   \n",
       "\n",
       "                      pkts_received  \n",
       "Source Port               -0.001962  \n",
       "Destination Port          -0.010909  \n",
       "NAT Source Port            0.018772  \n",
       "NAT Destination Port       0.001747  \n",
       "Bytes                      0.850209  \n",
       "Bytes Sent                 0.639098  \n",
       "Bytes Received             0.946039  \n",
       "Packets                    0.916978  \n",
       "Elapsed Time (sec)         0.143954  \n",
       "pkts_sent                  0.771550  \n",
       "pkts_received              1.000000  "
      ]
     },
     "execution_count": 48,
     "metadata": {},
     "output_type": "execute_result"
    }
   ],
   "source": [
    "firewall_data.corr() #correlation"
   ]
  },
  {
   "cell_type": "markdown",
   "metadata": {},
   "source": [
    "<a id=\"data_pros_bin\"></a>\n",
    "# 2.1 Data Preprocessing - Label Binarizer\n",
    "<hr>"
   ]
  },
  {
   "cell_type": "code",
   "execution_count": 49,
   "metadata": {
    "tags": []
   },
   "outputs": [
    {
     "data": {
      "text/html": [
       "<div>\n",
       "<style scoped>\n",
       "    .dataframe tbody tr th:only-of-type {\n",
       "        vertical-align: middle;\n",
       "    }\n",
       "\n",
       "    .dataframe tbody tr th {\n",
       "        vertical-align: top;\n",
       "    }\n",
       "\n",
       "    .dataframe thead th {\n",
       "        text-align: right;\n",
       "    }\n",
       "</style>\n",
       "<table border=\"1\" class=\"dataframe\">\n",
       "  <thead>\n",
       "    <tr style=\"text-align: right;\">\n",
       "      <th></th>\n",
       "      <th>Source Port</th>\n",
       "      <th>Destination Port</th>\n",
       "      <th>NAT Source Port</th>\n",
       "      <th>NAT Destination Port</th>\n",
       "      <th>Action</th>\n",
       "      <th>Bytes</th>\n",
       "      <th>Bytes Sent</th>\n",
       "      <th>Bytes Received</th>\n",
       "      <th>Packets</th>\n",
       "      <th>Elapsed Time (sec)</th>\n",
       "      <th>pkts_sent</th>\n",
       "      <th>pkts_received</th>\n",
       "    </tr>\n",
       "  </thead>\n",
       "  <tbody>\n",
       "    <tr>\n",
       "      <th>Source Port</th>\n",
       "      <td>1.000000</td>\n",
       "      <td>-0.332246</td>\n",
       "      <td>0.145391</td>\n",
       "      <td>-0.024843</td>\n",
       "      <td>0.132189</td>\n",
       "      <td>0.000221</td>\n",
       "      <td>-0.000931</td>\n",
       "      <td>0.001950</td>\n",
       "      <td>-0.001742</td>\n",
       "      <td>-0.046515</td>\n",
       "      <td>-0.001422</td>\n",
       "      <td>-0.001962</td>\n",
       "    </tr>\n",
       "    <tr>\n",
       "      <th>Destination Port</th>\n",
       "      <td>-0.332246</td>\n",
       "      <td>1.000000</td>\n",
       "      <td>-0.281676</td>\n",
       "      <td>0.410042</td>\n",
       "      <td>-0.367960</td>\n",
       "      <td>-0.005297</td>\n",
       "      <td>0.001675</td>\n",
       "      <td>-0.014684</td>\n",
       "      <td>-0.006063</td>\n",
       "      <td>0.023537</td>\n",
       "      <td>-0.002134</td>\n",
       "      <td>-0.010909</td>\n",
       "    </tr>\n",
       "    <tr>\n",
       "      <th>NAT Source Port</th>\n",
       "      <td>0.145391</td>\n",
       "      <td>-0.281676</td>\n",
       "      <td>1.000000</td>\n",
       "      <td>0.178435</td>\n",
       "      <td>0.754348</td>\n",
       "      <td>0.010659</td>\n",
       "      <td>0.002242</td>\n",
       "      <td>0.020827</td>\n",
       "      <td>0.012633</td>\n",
       "      <td>0.141485</td>\n",
       "      <td>0.007180</td>\n",
       "      <td>0.018772</td>\n",
       "    </tr>\n",
       "    <tr>\n",
       "      <th>NAT Destination Port</th>\n",
       "      <td>-0.024843</td>\n",
       "      <td>0.410042</td>\n",
       "      <td>0.178435</td>\n",
       "      <td>1.000000</td>\n",
       "      <td>0.235859</td>\n",
       "      <td>0.003975</td>\n",
       "      <td>0.007904</td>\n",
       "      <td>-0.003216</td>\n",
       "      <td>0.004605</td>\n",
       "      <td>0.219776</td>\n",
       "      <td>0.006136</td>\n",
       "      <td>0.001747</td>\n",
       "    </tr>\n",
       "    <tr>\n",
       "      <th>Action</th>\n",
       "      <td>0.132189</td>\n",
       "      <td>-0.367960</td>\n",
       "      <td>0.754348</td>\n",
       "      <td>0.235859</td>\n",
       "      <td>1.000000</td>\n",
       "      <td>0.014869</td>\n",
       "      <td>0.005017</td>\n",
       "      <td>0.026119</td>\n",
       "      <td>0.017083</td>\n",
       "      <td>0.187367</td>\n",
       "      <td>0.010804</td>\n",
       "      <td>0.023798</td>\n",
       "    </tr>\n",
       "    <tr>\n",
       "      <th>Bytes</th>\n",
       "      <td>0.000221</td>\n",
       "      <td>-0.005297</td>\n",
       "      <td>0.010659</td>\n",
       "      <td>0.003975</td>\n",
       "      <td>0.014869</td>\n",
       "      <td>1.000000</td>\n",
       "      <td>0.933462</td>\n",
       "      <td>0.830225</td>\n",
       "      <td>0.974379</td>\n",
       "      <td>0.148834</td>\n",
       "      <td>0.966548</td>\n",
       "      <td>0.850209</td>\n",
       "    </tr>\n",
       "    <tr>\n",
       "      <th>Bytes Sent</th>\n",
       "      <td>-0.000931</td>\n",
       "      <td>0.001675</td>\n",
       "      <td>0.002242</td>\n",
       "      <td>0.007904</td>\n",
       "      <td>0.005017</td>\n",
       "      <td>0.933462</td>\n",
       "      <td>1.000000</td>\n",
       "      <td>0.575047</td>\n",
       "      <td>0.887596</td>\n",
       "      <td>0.126039</td>\n",
       "      <td>0.973976</td>\n",
       "      <td>0.639098</td>\n",
       "    </tr>\n",
       "    <tr>\n",
       "      <th>Bytes Received</th>\n",
       "      <td>0.001950</td>\n",
       "      <td>-0.014684</td>\n",
       "      <td>0.020827</td>\n",
       "      <td>-0.003216</td>\n",
       "      <td>0.026119</td>\n",
       "      <td>0.830225</td>\n",
       "      <td>0.575047</td>\n",
       "      <td>1.000000</td>\n",
       "      <td>0.843067</td>\n",
       "      <td>0.143601</td>\n",
       "      <td>0.690959</td>\n",
       "      <td>0.946039</td>\n",
       "    </tr>\n",
       "    <tr>\n",
       "      <th>Packets</th>\n",
       "      <td>-0.001742</td>\n",
       "      <td>-0.006063</td>\n",
       "      <td>0.012633</td>\n",
       "      <td>0.004605</td>\n",
       "      <td>0.017083</td>\n",
       "      <td>0.974379</td>\n",
       "      <td>0.887596</td>\n",
       "      <td>0.843067</td>\n",
       "      <td>1.000000</td>\n",
       "      <td>0.147074</td>\n",
       "      <td>0.961286</td>\n",
       "      <td>0.916978</td>\n",
       "    </tr>\n",
       "    <tr>\n",
       "      <th>Elapsed Time (sec)</th>\n",
       "      <td>-0.046515</td>\n",
       "      <td>0.023537</td>\n",
       "      <td>0.141485</td>\n",
       "      <td>0.219776</td>\n",
       "      <td>0.187367</td>\n",
       "      <td>0.148834</td>\n",
       "      <td>0.126039</td>\n",
       "      <td>0.143601</td>\n",
       "      <td>0.147074</td>\n",
       "      <td>1.000000</td>\n",
       "      <td>0.135101</td>\n",
       "      <td>0.143954</td>\n",
       "    </tr>\n",
       "    <tr>\n",
       "      <th>pkts_sent</th>\n",
       "      <td>-0.001422</td>\n",
       "      <td>-0.002134</td>\n",
       "      <td>0.007180</td>\n",
       "      <td>0.006136</td>\n",
       "      <td>0.010804</td>\n",
       "      <td>0.966548</td>\n",
       "      <td>0.973976</td>\n",
       "      <td>0.690959</td>\n",
       "      <td>0.961286</td>\n",
       "      <td>0.135101</td>\n",
       "      <td>1.000000</td>\n",
       "      <td>0.771550</td>\n",
       "    </tr>\n",
       "    <tr>\n",
       "      <th>pkts_received</th>\n",
       "      <td>-0.001962</td>\n",
       "      <td>-0.010909</td>\n",
       "      <td>0.018772</td>\n",
       "      <td>0.001747</td>\n",
       "      <td>0.023798</td>\n",
       "      <td>0.850209</td>\n",
       "      <td>0.639098</td>\n",
       "      <td>0.946039</td>\n",
       "      <td>0.916978</td>\n",
       "      <td>0.143954</td>\n",
       "      <td>0.771550</td>\n",
       "      <td>1.000000</td>\n",
       "    </tr>\n",
       "  </tbody>\n",
       "</table>\n",
       "</div>"
      ],
      "text/plain": [
       "                      Source Port  Destination Port  NAT Source Port  \\\n",
       "Source Port              1.000000         -0.332246         0.145391   \n",
       "Destination Port        -0.332246          1.000000        -0.281676   \n",
       "NAT Source Port          0.145391         -0.281676         1.000000   \n",
       "NAT Destination Port    -0.024843          0.410042         0.178435   \n",
       "Action                   0.132189         -0.367960         0.754348   \n",
       "Bytes                    0.000221         -0.005297         0.010659   \n",
       "Bytes Sent              -0.000931          0.001675         0.002242   \n",
       "Bytes Received           0.001950         -0.014684         0.020827   \n",
       "Packets                 -0.001742         -0.006063         0.012633   \n",
       "Elapsed Time (sec)      -0.046515          0.023537         0.141485   \n",
       "pkts_sent               -0.001422         -0.002134         0.007180   \n",
       "pkts_received           -0.001962         -0.010909         0.018772   \n",
       "\n",
       "                      NAT Destination Port    Action     Bytes  Bytes Sent  \\\n",
       "Source Port                      -0.024843  0.132189  0.000221   -0.000931   \n",
       "Destination Port                  0.410042 -0.367960 -0.005297    0.001675   \n",
       "NAT Source Port                   0.178435  0.754348  0.010659    0.002242   \n",
       "NAT Destination Port              1.000000  0.235859  0.003975    0.007904   \n",
       "Action                            0.235859  1.000000  0.014869    0.005017   \n",
       "Bytes                             0.003975  0.014869  1.000000    0.933462   \n",
       "Bytes Sent                        0.007904  0.005017  0.933462    1.000000   \n",
       "Bytes Received                   -0.003216  0.026119  0.830225    0.575047   \n",
       "Packets                           0.004605  0.017083  0.974379    0.887596   \n",
       "Elapsed Time (sec)                0.219776  0.187367  0.148834    0.126039   \n",
       "pkts_sent                         0.006136  0.010804  0.966548    0.973976   \n",
       "pkts_received                     0.001747  0.023798  0.850209    0.639098   \n",
       "\n",
       "                      Bytes Received   Packets  Elapsed Time (sec)  pkts_sent  \\\n",
       "Source Port                 0.001950 -0.001742           -0.046515  -0.001422   \n",
       "Destination Port           -0.014684 -0.006063            0.023537  -0.002134   \n",
       "NAT Source Port             0.020827  0.012633            0.141485   0.007180   \n",
       "NAT Destination Port       -0.003216  0.004605            0.219776   0.006136   \n",
       "Action                      0.026119  0.017083            0.187367   0.010804   \n",
       "Bytes                       0.830225  0.974379            0.148834   0.966548   \n",
       "Bytes Sent                  0.575047  0.887596            0.126039   0.973976   \n",
       "Bytes Received              1.000000  0.843067            0.143601   0.690959   \n",
       "Packets                     0.843067  1.000000            0.147074   0.961286   \n",
       "Elapsed Time (sec)          0.143601  0.147074            1.000000   0.135101   \n",
       "pkts_sent                   0.690959  0.961286            0.135101   1.000000   \n",
       "pkts_received               0.946039  0.916978            0.143954   0.771550   \n",
       "\n",
       "                      pkts_received  \n",
       "Source Port               -0.001962  \n",
       "Destination Port          -0.010909  \n",
       "NAT Source Port            0.018772  \n",
       "NAT Destination Port       0.001747  \n",
       "Action                     0.023798  \n",
       "Bytes                      0.850209  \n",
       "Bytes Sent                 0.639098  \n",
       "Bytes Received             0.946039  \n",
       "Packets                    0.916978  \n",
       "Elapsed Time (sec)         0.143954  \n",
       "pkts_sent                  0.771550  \n",
       "pkts_received              1.000000  "
      ]
     },
     "execution_count": 49,
     "metadata": {},
     "output_type": "execute_result"
    }
   ],
   "source": [
    "from sklearn.preprocessing import LabelBinarizer\n",
    "\n",
    "lb_encoder = LabelBinarizer()\n",
    "firewall_data.Action = lb_encoder.fit_transform(firewall_data.Action)\n",
    "#firewall_data\n",
    "#print(firewall_data.Action.value_counts().count)\n",
    "#print(firewall_data.describe())\n",
    "#print(type(firewall_data))\n",
    "firewall_data.corr()\n"
   ]
  },
  {
   "cell_type": "code",
   "execution_count": 50,
   "metadata": {},
   "outputs": [
    {
     "data": {
      "text/plain": [
       "pandas.core.frame.DataFrame"
      ]
     },
     "execution_count": 50,
     "metadata": {},
     "output_type": "execute_result"
    }
   ],
   "source": [
    "type(firewall_data)"
   ]
  },
  {
   "cell_type": "code",
   "execution_count": 51,
   "metadata": {},
   "outputs": [
    {
     "data": {
      "text/html": [
       "<div>\n",
       "<style scoped>\n",
       "    .dataframe tbody tr th:only-of-type {\n",
       "        vertical-align: middle;\n",
       "    }\n",
       "\n",
       "    .dataframe tbody tr th {\n",
       "        vertical-align: top;\n",
       "    }\n",
       "\n",
       "    .dataframe thead th {\n",
       "        text-align: right;\n",
       "    }\n",
       "</style>\n",
       "<table border=\"1\" class=\"dataframe\">\n",
       "  <thead>\n",
       "    <tr style=\"text-align: right;\">\n",
       "      <th></th>\n",
       "      <th>Source Port</th>\n",
       "      <th>Destination Port</th>\n",
       "      <th>NAT Source Port</th>\n",
       "      <th>NAT Destination Port</th>\n",
       "      <th>Action</th>\n",
       "      <th>Bytes</th>\n",
       "      <th>Bytes Sent</th>\n",
       "      <th>Bytes Received</th>\n",
       "      <th>Packets</th>\n",
       "      <th>Elapsed Time (sec)</th>\n",
       "      <th>pkts_sent</th>\n",
       "      <th>pkts_received</th>\n",
       "    </tr>\n",
       "  </thead>\n",
       "  <tbody>\n",
       "    <tr>\n",
       "      <th>count</th>\n",
       "      <td>65532.000000</td>\n",
       "      <td>65532.000000</td>\n",
       "      <td>65532.000000</td>\n",
       "      <td>65532.000000</td>\n",
       "      <td>65532.000000</td>\n",
       "      <td>6.553200e+04</td>\n",
       "      <td>6.553200e+04</td>\n",
       "      <td>6.553200e+04</td>\n",
       "      <td>6.553200e+04</td>\n",
       "      <td>65532.000000</td>\n",
       "      <td>65532.000000</td>\n",
       "      <td>65532.000000</td>\n",
       "    </tr>\n",
       "    <tr>\n",
       "      <th>mean</th>\n",
       "      <td>49391.969343</td>\n",
       "      <td>10577.385812</td>\n",
       "      <td>19282.972761</td>\n",
       "      <td>2671.049930</td>\n",
       "      <td>0.574376</td>\n",
       "      <td>9.712395e+04</td>\n",
       "      <td>2.238580e+04</td>\n",
       "      <td>7.473815e+04</td>\n",
       "      <td>1.028660e+02</td>\n",
       "      <td>65.833577</td>\n",
       "      <td>41.399530</td>\n",
       "      <td>61.466505</td>\n",
       "    </tr>\n",
       "    <tr>\n",
       "      <th>std</th>\n",
       "      <td>15255.712537</td>\n",
       "      <td>18466.027039</td>\n",
       "      <td>21970.689669</td>\n",
       "      <td>9739.162278</td>\n",
       "      <td>0.494441</td>\n",
       "      <td>5.618439e+06</td>\n",
       "      <td>3.828139e+06</td>\n",
       "      <td>2.463208e+06</td>\n",
       "      <td>5.133002e+03</td>\n",
       "      <td>302.461762</td>\n",
       "      <td>3218.871288</td>\n",
       "      <td>2223.332271</td>\n",
       "    </tr>\n",
       "    <tr>\n",
       "      <th>min</th>\n",
       "      <td>0.000000</td>\n",
       "      <td>0.000000</td>\n",
       "      <td>0.000000</td>\n",
       "      <td>0.000000</td>\n",
       "      <td>0.000000</td>\n",
       "      <td>6.000000e+01</td>\n",
       "      <td>6.000000e+01</td>\n",
       "      <td>0.000000e+00</td>\n",
       "      <td>1.000000e+00</td>\n",
       "      <td>0.000000</td>\n",
       "      <td>1.000000</td>\n",
       "      <td>0.000000</td>\n",
       "    </tr>\n",
       "    <tr>\n",
       "      <th>25%</th>\n",
       "      <td>49183.000000</td>\n",
       "      <td>80.000000</td>\n",
       "      <td>0.000000</td>\n",
       "      <td>0.000000</td>\n",
       "      <td>0.000000</td>\n",
       "      <td>6.600000e+01</td>\n",
       "      <td>6.600000e+01</td>\n",
       "      <td>0.000000e+00</td>\n",
       "      <td>1.000000e+00</td>\n",
       "      <td>0.000000</td>\n",
       "      <td>1.000000</td>\n",
       "      <td>0.000000</td>\n",
       "    </tr>\n",
       "    <tr>\n",
       "      <th>50%</th>\n",
       "      <td>53776.500000</td>\n",
       "      <td>445.000000</td>\n",
       "      <td>8820.500000</td>\n",
       "      <td>53.000000</td>\n",
       "      <td>1.000000</td>\n",
       "      <td>1.680000e+02</td>\n",
       "      <td>9.000000e+01</td>\n",
       "      <td>7.900000e+01</td>\n",
       "      <td>2.000000e+00</td>\n",
       "      <td>15.000000</td>\n",
       "      <td>1.000000</td>\n",
       "      <td>1.000000</td>\n",
       "    </tr>\n",
       "    <tr>\n",
       "      <th>75%</th>\n",
       "      <td>58638.000000</td>\n",
       "      <td>15000.000000</td>\n",
       "      <td>38366.250000</td>\n",
       "      <td>443.000000</td>\n",
       "      <td>1.000000</td>\n",
       "      <td>7.522500e+02</td>\n",
       "      <td>2.100000e+02</td>\n",
       "      <td>4.490000e+02</td>\n",
       "      <td>6.000000e+00</td>\n",
       "      <td>30.000000</td>\n",
       "      <td>3.000000</td>\n",
       "      <td>2.000000</td>\n",
       "    </tr>\n",
       "    <tr>\n",
       "      <th>max</th>\n",
       "      <td>65534.000000</td>\n",
       "      <td>65535.000000</td>\n",
       "      <td>65535.000000</td>\n",
       "      <td>65535.000000</td>\n",
       "      <td>1.000000</td>\n",
       "      <td>1.269359e+09</td>\n",
       "      <td>9.484772e+08</td>\n",
       "      <td>3.208818e+08</td>\n",
       "      <td>1.036116e+06</td>\n",
       "      <td>10824.000000</td>\n",
       "      <td>747520.000000</td>\n",
       "      <td>327208.000000</td>\n",
       "    </tr>\n",
       "  </tbody>\n",
       "</table>\n",
       "</div>"
      ],
      "text/plain": [
       "        Source Port  Destination Port  NAT Source Port  NAT Destination Port  \\\n",
       "count  65532.000000      65532.000000     65532.000000          65532.000000   \n",
       "mean   49391.969343      10577.385812     19282.972761           2671.049930   \n",
       "std    15255.712537      18466.027039     21970.689669           9739.162278   \n",
       "min        0.000000          0.000000         0.000000              0.000000   \n",
       "25%    49183.000000         80.000000         0.000000              0.000000   \n",
       "50%    53776.500000        445.000000      8820.500000             53.000000   \n",
       "75%    58638.000000      15000.000000     38366.250000            443.000000   \n",
       "max    65534.000000      65535.000000     65535.000000          65535.000000   \n",
       "\n",
       "             Action         Bytes    Bytes Sent  Bytes Received       Packets  \\\n",
       "count  65532.000000  6.553200e+04  6.553200e+04    6.553200e+04  6.553200e+04   \n",
       "mean       0.574376  9.712395e+04  2.238580e+04    7.473815e+04  1.028660e+02   \n",
       "std        0.494441  5.618439e+06  3.828139e+06    2.463208e+06  5.133002e+03   \n",
       "min        0.000000  6.000000e+01  6.000000e+01    0.000000e+00  1.000000e+00   \n",
       "25%        0.000000  6.600000e+01  6.600000e+01    0.000000e+00  1.000000e+00   \n",
       "50%        1.000000  1.680000e+02  9.000000e+01    7.900000e+01  2.000000e+00   \n",
       "75%        1.000000  7.522500e+02  2.100000e+02    4.490000e+02  6.000000e+00   \n",
       "max        1.000000  1.269359e+09  9.484772e+08    3.208818e+08  1.036116e+06   \n",
       "\n",
       "       Elapsed Time (sec)      pkts_sent  pkts_received  \n",
       "count        65532.000000   65532.000000   65532.000000  \n",
       "mean            65.833577      41.399530      61.466505  \n",
       "std            302.461762    3218.871288    2223.332271  \n",
       "min              0.000000       1.000000       0.000000  \n",
       "25%              0.000000       1.000000       0.000000  \n",
       "50%             15.000000       1.000000       1.000000  \n",
       "75%             30.000000       3.000000       2.000000  \n",
       "max          10824.000000  747520.000000  327208.000000  "
      ]
     },
     "execution_count": 51,
     "metadata": {},
     "output_type": "execute_result"
    }
   ],
   "source": [
    "firewall_data.describe()"
   ]
  },
  {
   "cell_type": "code",
   "execution_count": 52,
   "metadata": {},
   "outputs": [
    {
     "data": {
      "text/plain": [
       "Action                  1.000000\n",
       "NAT Source Port         0.754348\n",
       "NAT Destination Port    0.235859\n",
       "Elapsed Time (sec)      0.187367\n",
       "Source Port             0.132189\n",
       "Bytes Received          0.026119\n",
       "pkts_received           0.023798\n",
       "Packets                 0.017083\n",
       "Bytes                   0.014869\n",
       "pkts_sent               0.010804\n",
       "Bytes Sent              0.005017\n",
       "Destination Port       -0.367960\n",
       "Name: Action, dtype: float64"
      ]
     },
     "execution_count": 52,
     "metadata": {},
     "output_type": "execute_result"
    }
   ],
   "source": [
    "corr_matrix = firewall_data.corr()\n",
    "corr_matrix['Action'].sort_values(ascending=False)"
   ]
  },
  {
   "cell_type": "code",
   "execution_count": 53,
   "metadata": {},
   "outputs": [
    {
     "data": {
      "text/html": [
       "<div>\n",
       "<style scoped>\n",
       "    .dataframe tbody tr th:only-of-type {\n",
       "        vertical-align: middle;\n",
       "    }\n",
       "\n",
       "    .dataframe tbody tr th {\n",
       "        vertical-align: top;\n",
       "    }\n",
       "\n",
       "    .dataframe thead th {\n",
       "        text-align: right;\n",
       "    }\n",
       "</style>\n",
       "<table border=\"1\" class=\"dataframe\">\n",
       "  <thead>\n",
       "    <tr style=\"text-align: right;\">\n",
       "      <th></th>\n",
       "      <th>Source Port</th>\n",
       "      <th>Destination Port</th>\n",
       "      <th>NAT Source Port</th>\n",
       "      <th>NAT Destination Port</th>\n",
       "      <th>Action</th>\n",
       "      <th>Bytes</th>\n",
       "      <th>Bytes Sent</th>\n",
       "      <th>Bytes Received</th>\n",
       "      <th>Packets</th>\n",
       "      <th>Elapsed Time (sec)</th>\n",
       "      <th>pkts_sent</th>\n",
       "      <th>pkts_received</th>\n",
       "    </tr>\n",
       "  </thead>\n",
       "  <tbody>\n",
       "    <tr>\n",
       "      <th>0</th>\n",
       "      <td>57222</td>\n",
       "      <td>53</td>\n",
       "      <td>54587</td>\n",
       "      <td>53</td>\n",
       "      <td>1</td>\n",
       "      <td>177</td>\n",
       "      <td>94</td>\n",
       "      <td>83</td>\n",
       "      <td>2</td>\n",
       "      <td>30</td>\n",
       "      <td>1</td>\n",
       "      <td>1</td>\n",
       "    </tr>\n",
       "    <tr>\n",
       "      <th>1</th>\n",
       "      <td>56258</td>\n",
       "      <td>3389</td>\n",
       "      <td>56258</td>\n",
       "      <td>3389</td>\n",
       "      <td>1</td>\n",
       "      <td>4768</td>\n",
       "      <td>1600</td>\n",
       "      <td>3168</td>\n",
       "      <td>19</td>\n",
       "      <td>17</td>\n",
       "      <td>10</td>\n",
       "      <td>9</td>\n",
       "    </tr>\n",
       "    <tr>\n",
       "      <th>2</th>\n",
       "      <td>6881</td>\n",
       "      <td>50321</td>\n",
       "      <td>43265</td>\n",
       "      <td>50321</td>\n",
       "      <td>1</td>\n",
       "      <td>238</td>\n",
       "      <td>118</td>\n",
       "      <td>120</td>\n",
       "      <td>2</td>\n",
       "      <td>1199</td>\n",
       "      <td>1</td>\n",
       "      <td>1</td>\n",
       "    </tr>\n",
       "    <tr>\n",
       "      <th>3</th>\n",
       "      <td>50553</td>\n",
       "      <td>3389</td>\n",
       "      <td>50553</td>\n",
       "      <td>3389</td>\n",
       "      <td>1</td>\n",
       "      <td>3327</td>\n",
       "      <td>1438</td>\n",
       "      <td>1889</td>\n",
       "      <td>15</td>\n",
       "      <td>17</td>\n",
       "      <td>8</td>\n",
       "      <td>7</td>\n",
       "    </tr>\n",
       "    <tr>\n",
       "      <th>4</th>\n",
       "      <td>50002</td>\n",
       "      <td>443</td>\n",
       "      <td>45848</td>\n",
       "      <td>443</td>\n",
       "      <td>1</td>\n",
       "      <td>25358</td>\n",
       "      <td>6778</td>\n",
       "      <td>18580</td>\n",
       "      <td>31</td>\n",
       "      <td>16</td>\n",
       "      <td>13</td>\n",
       "      <td>18</td>\n",
       "    </tr>\n",
       "    <tr>\n",
       "      <th>5</th>\n",
       "      <td>51465</td>\n",
       "      <td>443</td>\n",
       "      <td>39975</td>\n",
       "      <td>443</td>\n",
       "      <td>1</td>\n",
       "      <td>3961</td>\n",
       "      <td>1595</td>\n",
       "      <td>2366</td>\n",
       "      <td>21</td>\n",
       "      <td>16</td>\n",
       "      <td>12</td>\n",
       "      <td>9</td>\n",
       "    </tr>\n",
       "    <tr>\n",
       "      <th>6</th>\n",
       "      <td>60513</td>\n",
       "      <td>47094</td>\n",
       "      <td>45469</td>\n",
       "      <td>47094</td>\n",
       "      <td>1</td>\n",
       "      <td>320</td>\n",
       "      <td>140</td>\n",
       "      <td>180</td>\n",
       "      <td>6</td>\n",
       "      <td>7</td>\n",
       "      <td>3</td>\n",
       "      <td>3</td>\n",
       "    </tr>\n",
       "    <tr>\n",
       "      <th>7</th>\n",
       "      <td>50049</td>\n",
       "      <td>443</td>\n",
       "      <td>21285</td>\n",
       "      <td>443</td>\n",
       "      <td>1</td>\n",
       "      <td>7912</td>\n",
       "      <td>3269</td>\n",
       "      <td>4643</td>\n",
       "      <td>23</td>\n",
       "      <td>96</td>\n",
       "      <td>12</td>\n",
       "      <td>11</td>\n",
       "    </tr>\n",
       "  </tbody>\n",
       "</table>\n",
       "</div>"
      ],
      "text/plain": [
       "   Source Port  Destination Port  NAT Source Port  NAT Destination Port  \\\n",
       "0        57222                53            54587                    53   \n",
       "1        56258              3389            56258                  3389   \n",
       "2         6881             50321            43265                 50321   \n",
       "3        50553              3389            50553                  3389   \n",
       "4        50002               443            45848                   443   \n",
       "5        51465               443            39975                   443   \n",
       "6        60513             47094            45469                 47094   \n",
       "7        50049               443            21285                   443   \n",
       "\n",
       "   Action  Bytes  Bytes Sent  Bytes Received  Packets  Elapsed Time (sec)  \\\n",
       "0       1    177          94              83        2                  30   \n",
       "1       1   4768        1600            3168       19                  17   \n",
       "2       1    238         118             120        2                1199   \n",
       "3       1   3327        1438            1889       15                  17   \n",
       "4       1  25358        6778           18580       31                  16   \n",
       "5       1   3961        1595            2366       21                  16   \n",
       "6       1    320         140             180        6                   7   \n",
       "7       1   7912        3269            4643       23                  96   \n",
       "\n",
       "   pkts_sent  pkts_received  \n",
       "0          1              1  \n",
       "1         10              9  \n",
       "2          1              1  \n",
       "3          8              7  \n",
       "4         13             18  \n",
       "5         12              9  \n",
       "6          3              3  \n",
       "7         12             11  "
      ]
     },
     "execution_count": 53,
     "metadata": {},
     "output_type": "execute_result"
    }
   ],
   "source": [
    "firewall_data.head(8)"
   ]
  },
  {
   "cell_type": "code",
   "execution_count": 73,
   "metadata": {},
   "outputs": [],
   "source": [
    "# write code to separate the output (y) from input (X)\n",
    "X = firewall_data.drop('Action', axis = 1)\n",
    "y = firewall_data['Action']"
   ]
  },
  {
   "cell_type": "code",
   "execution_count": 74,
   "metadata": {
    "tags": []
   },
   "outputs": [
    {
     "name": "stdout",
     "output_type": "stream",
     "text": [
      "[5.39571e+06 2.86033e+08 9.33478e+08 1.29453e+08 4.70895e+09 1.07965e+09\n",
      " 3.62931e+09 4.89829e+06 3.19688e+06 1.91424e+06 2.98475e+06]\n",
      "[[57222    53 54587    53   177    94    83     2]\n",
      " [56258  3389 56258  3389  4768  1600  3168    19]\n",
      " [ 6881 50321 43265 50321   238   118   120     2]\n",
      " [50553  3389 50553  3389  3327  1438  1889    15]\n",
      " [50002   443 45848   443 25358  6778 18580    31]\n",
      " [51465   443 39975   443  3961  1595  2366    21]\n",
      " [60513 47094 45469 47094   320   140   180     6]\n",
      " [50049   443 21285   443  7912  3269  4643    23]]\n"
     ]
    }
   ],
   "source": [
    "# Import the necessary libraries first\n",
    "from sklearn.feature_selection import SelectKBest\n",
    "from sklearn.feature_selection import chi2\n",
    "\n",
    "#Feature extraction\n",
    "test = SelectKBest(score_func=chi2, k=8)\n",
    "fit = test.fit(X, y)\n",
    "\n",
    "#Summarize scores\n",
    "np.set_printoptions(precision = 5)\n",
    "print(fit.scores_)\n",
    "\n",
    "features = fit.transform(X)\n",
    "\n",
    "#Summarize selected features\n",
    "print(features[0:8, :])\n"
   ]
  },
  {
   "cell_type": "code",
   "execution_count": 75,
   "metadata": {},
   "outputs": [],
   "source": [
    "X = firewall_data.drop(['Action'], axis =1)"
   ]
  },
  {
   "cell_type": "code",
   "execution_count": 76,
   "metadata": {
    "tags": []
   },
   "outputs": [
    {
     "name": "stdout",
     "output_type": "stream",
     "text": [
      "Shape of original dataset, train (65532, 12)\n",
      "X: shape= (65532, 11) type= <class 'pandas.core.frame.DataFrame'>\n",
      "y: shape= (65532,) type= <class 'pandas.core.series.Series'>\n",
      "0        1\n",
      "1        1\n",
      "2        1\n",
      "3        1\n",
      "4        1\n",
      "        ..\n",
      "65527    1\n",
      "65528    1\n",
      "65529    0\n",
      "65530    0\n",
      "65531    0\n",
      "Name: Action, Length: 65532, dtype: int32\n"
     ]
    }
   ],
   "source": [
    "print('Shape of original dataset, train', firewall_data.shape)\n",
    "print('X: shape=', X.shape, 'type=', type(X))\n",
    "print('y: shape=', y.shape, 'type=', type(y))\n",
    "print(y)"
   ]
  },
  {
   "cell_type": "code",
   "execution_count": 77,
   "metadata": {},
   "outputs": [
    {
     "data": {
      "text/plain": [
       "Source Port             0\n",
       "Destination Port        0\n",
       "NAT Source Port         0\n",
       "NAT Destination Port    0\n",
       "Bytes                   0\n",
       "Bytes Sent              0\n",
       "Bytes Received          0\n",
       "Packets                 0\n",
       "Elapsed Time (sec)      0\n",
       "pkts_sent               0\n",
       "pkts_received           0\n",
       "dtype: int64"
      ]
     },
     "execution_count": 77,
     "metadata": {},
     "output_type": "execute_result"
    }
   ],
   "source": [
    "X.isnull().sum()"
   ]
  },
  {
   "cell_type": "code",
   "execution_count": 78,
   "metadata": {},
   "outputs": [
    {
     "data": {
      "text/plain": [
       "0"
      ]
     },
     "execution_count": 78,
     "metadata": {},
     "output_type": "execute_result"
    }
   ],
   "source": [
    "y.isnull().sum()"
   ]
  },
  {
   "cell_type": "code",
   "execution_count": 79,
   "metadata": {
    "tags": []
   },
   "outputs": [
    {
     "name": "stdout",
     "output_type": "stream",
     "text": [
      "<class 'numpy.ndarray'>\n",
      "<class 'numpy.ndarray'>\n"
     ]
    }
   ],
   "source": [
    "X = X.values\n",
    "y = y.values\n",
    "print(type(X))\n",
    "print(type(y))"
   ]
  },
  {
   "cell_type": "code",
   "execution_count": 61,
   "metadata": {
    "tags": []
   },
   "outputs": [
    {
     "name": "stdout",
     "output_type": "stream",
     "text": [
      "full set shape = (65532, 11)\n",
      "train shape= (52425, 11)\n",
      "test shape= (13107, 11)\n"
     ]
    }
   ],
   "source": [
    "from sklearn.model_selection import train_test_split\n",
    "X_train, X_test, y_train, y_test = train_test_split(X, y, test_size = 0.2, random_state=30)\n",
    "\n",
    "print('full set shape =', X.shape)\n",
    "print('train shape=', X_train.shape)\n",
    "print('test shape=', X_test.shape)\n"
   ]
  },
  {
   "cell_type": "code",
   "execution_count": 62,
   "metadata": {
    "tags": []
   },
   "outputs": [
    {
     "name": "stdout",
     "output_type": "stream",
     "text": [
      "<class 'numpy.ndarray'>\n",
      "<class 'numpy.ndarray'>\n",
      "<class 'numpy.ndarray'>\n",
      "<class 'numpy.ndarray'>\n"
     ]
    }
   ],
   "source": [
    "print(type(X_train))\n",
    "print(type(X_test))\n",
    "print(type(y_train))\n",
    "print(type(y_test))"
   ]
  },
  {
   "cell_type": "code",
   "execution_count": 63,
   "metadata": {},
   "outputs": [],
   "source": [
    "from sklearn.preprocessing import StandardScaler\n",
    "scaler = StandardScaler()\n",
    "scaler.fit(X_train)\n",
    "X_train = scaler.transform(X_train)"
   ]
  },
  {
   "cell_type": "code",
   "execution_count": 64,
   "metadata": {
    "tags": []
   },
   "outputs": [
    {
     "name": "stdout",
     "output_type": "stream",
     "text": [
      "[ 1.11209e-16 -1.75307e-15 -5.42403e-16 -2.26832e-16 -3.80219e-16\n",
      " -8.68111e-17  6.61928e-16  1.24616e-17  5.20527e-16  3.30170e-16\n",
      " -1.45569e-15]\n",
      "[1. 1. 1. 1. 1. 1. 1. 1. 1. 1. 1.]\n",
      ">>> Mean of all columns:\n",
      " 1.7021975800105405e-17\n",
      "\n",
      ">>> Std of all columns:\n",
      " 0.9999999999999908\n"
     ]
    }
   ],
   "source": [
    "print(X_train.mean (axis = 0))\n",
    "print(X_train.std (axis = 0))\n",
    "\n",
    "print('>>> Mean of all columns:\\n', X_train.mean())\n",
    "print('\\n>>> Std of all columns:\\n', X_train.std())"
   ]
  },
  {
   "cell_type": "code",
   "execution_count": 65,
   "metadata": {
    "tags": []
   },
   "outputs": [
    {
     "name": "stdout",
     "output_type": "stream",
     "text": [
      "Possible values of Action:\n",
      " ['allow' 'deny' 'drop' 'reset-both']\n"
     ]
    }
   ],
   "source": [
    "print('Possible values of Action:\\n', lb_encoder.classes_)"
   ]
  },
  {
   "cell_type": "code",
   "execution_count": 66,
   "metadata": {
    "tags": []
   },
   "outputs": [
    {
     "name": "stdout",
     "output_type": "stream",
     "text": [
      "X_train shape:  (52425, 11)\n",
      "<class 'numpy.ndarray'>\n",
      "y_train shape:  (52425,)\n"
     ]
    }
   ],
   "source": [
    "print('X_train shape: ', X_train.shape)\n",
    "print(type(y_train))\n",
    "print('y_train shape: ', y_train.shape)"
   ]
  },
  {
   "cell_type": "markdown",
   "metadata": {},
   "source": [
    "<a id=\"dt_section\"></a>\n",
    "# Decision Tree Regression\n",
    "<hr>"
   ]
  },
  {
   "cell_type": "code",
   "execution_count": 86,
   "metadata": {
    "tags": []
   },
   "outputs": [
    {
     "name": "stdout",
     "output_type": "stream",
     "text": [
      "Result for the 10 random samples: \n",
      "actual =       1 pred =      1\n",
      "actual =       1 pred =      1\n",
      "actual =       1 pred =      1\n",
      "actual =       0 pred =      0\n",
      "actual =       1 pred =      1\n",
      "actual =       0 pred =      0\n",
      "actual =       1 pred =      1\n",
      "actual =       1 pred =      1\n",
      "actual =       0 pred =      0\n",
      "actual =       0 pred =      0\n",
      "RMSE =  0.010358384880813021\n"
     ]
    }
   ],
   "source": [
    "from sklearn.tree import DecisionTreeRegressor \n",
    "from sklearn.metrics import mean_squared_error\n",
    "#create a instance of DecisionTreeRegressor\n",
    "#tree_reg = ?\n",
    "tree_reg = DecisionTreeRegressor()\n",
    "\n",
    "#Train the regressor model\n",
    "tree_reg.fit(X_train, y_train)\n",
    "\n",
    "#Predict on training set using trained regressor\n",
    "y_pred = tree_reg.predict(X_train)\n",
    "\n",
    "#Show the result of 10 random samples\n",
    "def show10results(y_train, y_pred):\n",
    "    print('Result for the 10 random samples: ')\n",
    "    selected = np.random.randint(0, len(y_train), 10)\n",
    "    for i in selected:\n",
    "        print('actual = {:7.0f} pred ={:7.0f}'.format(y_train[i], y_pred[i]))\n",
    "\n",
    "\n",
    "show10results(y_train, y_pred)\n",
    "\n",
    "#Compute and show the RMSE on training set\n",
    "tree_mse = mean_squared_error(y_pred, y_train)\n",
    "tree_rmse = np.sqrt(tree_mse)\n",
    "print('RMSE = ', tree_rmse)"
   ]
  },
  {
   "cell_type": "markdown",
   "metadata": {},
   "source": [
    "<a id=\"rf_section\"></a>\n",
    "# Random Forest Classifier\n",
    "<hr>"
   ]
  },
  {
   "cell_type": "code",
   "execution_count": 87,
   "metadata": {
    "tags": []
   },
   "outputs": [
    {
     "name": "stdout",
     "output_type": "stream",
     "text": [
      "Result for the 10 random samples:\n",
      "actual =       0 pred =      0\n",
      "actual =       1 pred =      1\n",
      "actual =       1 pred =      1\n",
      "actual =       1 pred =      1\n",
      "actual =       1 pred =      1\n",
      "actual =       0 pred =      0\n",
      "actual =       0 pred =      0\n",
      "actual =       0 pred =      0\n",
      "actual =       1 pred =      1\n",
      "actual =       1 pred =      1\n",
      "RMSE = 0.013102435641608368\n"
     ]
    }
   ],
   "source": [
    "from sklearn.ensemble import RandomForestClassifier\n",
    "\n",
    "# create a instance of RandomForestRegressor\n",
    "# forest_reg = ?\n",
    "forest_reg = RandomForestClassifier(n_estimators=10, random_state=42)\n",
    "\n",
    "# Train the regressor model\n",
    "forest_reg.fit (X_train, y_train)\n",
    "\n",
    "# Predict on training set using trained regressor\n",
    "y_pred = forest_reg.predict(X_train)\n",
    "# Show the result of 10 random samples\n",
    "def show10results(y_train, y_pred):\n",
    "    print('Result for the 10 random samples:')\n",
    "    selected = np.random.randint(0, len(y_train), 10)\n",
    "    for i in selected:\n",
    "        print('actual = {:7.0f} pred ={:7.0f}'.format(y_train[i], y_pred[i]))\n",
    "\n",
    "show10results(y_train, y_pred)\n",
    "\n",
    "\n",
    "# Compute and show the RMSE on training set\n",
    "forest_mse = mean_squared_error(y_pred, y_train)\n",
    "forest_rmse= np.sqrt(forest_mse)\n",
    "print('RMSE =', forest_rmse)"
   ]
  },
  {
   "cell_type": "code",
   "execution_count": 88,
   "metadata": {},
   "outputs": [
    {
     "data": {
      "text/plain": [
       "0.5743758774339254"
      ]
     },
     "execution_count": 88,
     "metadata": {},
     "output_type": "execute_result"
    }
   ],
   "source": [
    "firewall_data.Action.mean()"
   ]
  },
  {
   "cell_type": "markdown",
   "metadata": {},
   "source": [
    "# Evaluating "
   ]
  },
  {
   "cell_type": "code",
   "execution_count": 89,
   "metadata": {
    "tags": []
   },
   "outputs": [
    {
     "name": "stdout",
     "output_type": "stream",
     "text": [
      "Scores:  [0.02343 0.01263 0.01277 0.01953 0.01914] \n",
      "\n",
      "Mean:  0.017499567771755382\n",
      "Standard deviation:  0.00419544916116395\n"
     ]
    }
   ],
   "source": [
    "from sklearn.model_selection import cross_val_score\n",
    "\n",
    "def display_scores(scores):\n",
    "    print('Scores: ', scores, '\\n')\n",
    "    print('Mean: ', scores.mean())\n",
    "    print('Standard deviation: ', scores.std())\n",
    "# perform k-fold cross-out validation\n",
    "# use cross_val_score on tree_reg\n",
    "k_fold_scores = cross_val_score(tree_reg, X_train, y_train, scoring = 'neg_mean_squared_error', cv = 5)\n",
    "\n",
    "# convert NMSE to RMSE\n",
    "tree_rmse_scores = np.sqrt(-k_fold_scores)\n",
    "\n",
    "# use display_scores to show the results\n",
    "display_scores(tree_rmse_scores)"
   ]
  },
  {
   "cell_type": "code",
   "execution_count": 90,
   "metadata": {
    "tags": []
   },
   "outputs": [
    {
     "name": "stdout",
     "output_type": "stream",
     "text": [
      "Scores:  [0.01953 0.00977 0.01381 0.01692 0.00977] \n",
      "\n",
      "Mean:  0.013958053441317685\n",
      "Standard deviation:  0.0038725058543999527\n"
     ]
    }
   ],
   "source": [
    "# use cross_val_score on forest_reg\n",
    "\n",
    "k_fold_scores = cross_val_score(forest_reg, X_train, y_train, scoring ='neg_mean_squared_error', cv=5)\n",
    "\n",
    "# covert NMSE to RMSE\n",
    "forest_rmse_scores = np.sqrt(-k_fold_scores)\n",
    "\n",
    "# use display_scores to show the results\n",
    "display_scores(forest_rmse_scores)"
   ]
  },
  {
   "cell_type": "markdown",
   "metadata": {},
   "source": [
    "<a id=\"sgd_section\"></a>\n",
    "# Stochastic Gradient Descent Classifier\n",
    "<hr>"
   ]
  },
  {
   "cell_type": "markdown",
   "metadata": {},
   "source": [
    "### Training an action model"
   ]
  },
  {
   "cell_type": "code",
   "execution_count": 91,
   "metadata": {},
   "outputs": [
    {
     "data": {
      "text/plain": [
       "SGDClassifier(max_iter=5, random_state=42, tol=None)"
      ]
     },
     "execution_count": 91,
     "metadata": {},
     "output_type": "execute_result"
    }
   ],
   "source": [
    "# import the SGD from sklearn\n",
    "\n",
    "from sklearn.linear_model import SGDClassifier\n",
    "\n",
    "# Train using the training set\n",
    "sgd_clf = SGDClassifier (random_state = 42, max_iter = 5, tol = None)\n",
    "sgd_clf.fit(X_train, y_train)"
   ]
  },
  {
   "cell_type": "markdown",
   "metadata": {},
   "source": [
    "### Performing predictions"
   ]
  },
  {
   "cell_type": "code",
   "execution_count": 92,
   "metadata": {},
   "outputs": [
    {
     "data": {
      "text/plain": [
       "array([0, 1, 1, ..., 0, 1, 1])"
      ]
     },
     "execution_count": 92,
     "metadata": {},
     "output_type": "execute_result"
    }
   ],
   "source": [
    "y_pred_sgd = sgd_clf.predict(X_train)\n",
    "y_pred_sgd"
   ]
  },
  {
   "cell_type": "markdown",
   "metadata": {},
   "source": [
    "#### Detection result for some randomly generated samples"
   ]
  },
  {
   "cell_type": "code",
   "execution_count": 93,
   "metadata": {
    "tags": []
   },
   "outputs": [
    {
     "name": "stdout",
     "output_type": "stream",
     "text": [
      "actual | Predicted\n",
      "------------------\n",
      "0  |  0\n",
      "0  |  0\n",
      "1  |  1\n",
      "0  |  0\n",
      "1  |  1\n",
      "0  |  0\n",
      "1  |  1\n",
      "1  |  1\n",
      "0  |  0\n",
      "0  |  0\n",
      "0  |  0\n",
      "1  |  1\n",
      "0  |  0\n",
      "1  |  1\n",
      "0  |  0\n",
      "1  |  1\n",
      "1  |  1\n",
      "1  |  1\n",
      "1  |  1\n",
      "1  |  1\n"
     ]
    }
   ],
   "source": [
    "def peek_results(actual, predicted, num = 20):\n",
    "    print('actual | Predicted')\n",
    "    print('------------------')\n",
    "    for i in range(num):\n",
    "        sel = np.random.randint(0, len(y_train))\n",
    "        print(actual[sel], ' | ', predicted[sel])\n",
    "\n",
    "peek_results(y_train, y_pred_sgd)"
   ]
  },
  {
   "cell_type": "markdown",
   "metadata": {},
   "source": [
    "### Performance measure: Accuracy"
   ]
  },
  {
   "cell_type": "code",
   "execution_count": 94,
   "metadata": {
    "tags": []
   },
   "outputs": [
    {
     "name": "stdout",
     "output_type": "stream",
     "text": [
      "Training accuracy: 0.9974\n"
     ]
    }
   ],
   "source": [
    "from sklearn.metrics import accuracy_score\n",
    "\n",
    "# compute accuracy using accuracy_score and show the result\n",
    "train_acc = accuracy_score(y_train, y_pred_sgd)\n",
    "print('Training accuracy: {:.4f}'.format(train_acc))"
   ]
  },
  {
   "cell_type": "markdown",
   "metadata": {},
   "source": [
    "### Measuring training accuracy using Cross-validation"
   ]
  },
  {
   "cell_type": "code",
   "execution_count": 95,
   "metadata": {},
   "outputs": [
    {
     "data": {
      "text/plain": [
       "array([0.99752, 0.99695, 0.99752, 0.99781, 0.99819])"
      ]
     },
     "execution_count": 95,
     "metadata": {},
     "output_type": "execute_result"
    }
   ],
   "source": [
    "# compute 5-fold cross validation accuracy and show the result\n",
    "# k_scores = ....\n",
    "\n",
    "k_scores = cross_val_score(sgd_clf, X_train, y_train, cv = 5, scoring = 'accuracy')\n",
    "k_scores"
   ]
  },
  {
   "cell_type": "markdown",
   "metadata": {},
   "source": [
    "#### Problems with accuracy"
   ]
  },
  {
   "cell_type": "code",
   "execution_count": 96,
   "metadata": {
    "tags": []
   },
   "outputs": [
    {
     "name": "stdout",
     "output_type": "stream",
     "text": [
      "Accuracy using prediction values:  0.9974248927038627\n",
      "Accuracy using prediction values:  0.4266666666666667\n",
      "Accuracy using prediction values:  0.5733333333333334\n"
     ]
    }
   ],
   "source": [
    "y_train_pred_sgd = sgd_clf.predict(X_train) \n",
    "print('Accuracy using prediction values: ', accuracy_score(y_train, y_train_pred_sgd))\n",
    "\n",
    "y_train_allzero = np.zeros(len(y_train), dtype=bool)\n",
    "print('Accuracy using prediction values: ', accuracy_score(y_train, y_train_allzero))\n",
    "\n",
    "y_train_allzero = np.ones(len(y_train), dtype=bool)\n",
    "print('Accuracy using prediction values: ', accuracy_score(y_train, y_train_allzero))"
   ]
  },
  {
   "cell_type": "markdown",
   "metadata": {},
   "source": [
    "### Performance Measure: Confusion Matrix\n",
    "\n",
    "#### Perform cross-validated prediction"
   ]
  },
  {
   "cell_type": "code",
   "execution_count": 97,
   "metadata": {},
   "outputs": [
    {
     "data": {
      "text/plain": [
       "array([0, 1, 1, ..., 0, 1, 1])"
      ]
     },
     "execution_count": 97,
     "metadata": {},
     "output_type": "execute_result"
    }
   ],
   "source": [
    "from sklearn.model_selection import cross_val_predict\n",
    "\n",
    "# perform cross-validation prediction using cross_val_predict\n",
    "y_pred_cv = cross_val_predict(sgd_clf, X_train, y_train, cv = 5)\n",
    "y_pred_cv"
   ]
  },
  {
   "cell_type": "code",
   "execution_count": 98,
   "metadata": {
    "tags": []
   },
   "outputs": [
    {
     "name": "stdout",
     "output_type": "stream",
     "text": [
      "actual | Predicted\n",
      "------------------\n",
      "1  |  1\n",
      "0  |  0\n",
      "1  |  1\n",
      "0  |  0\n",
      "1  |  1\n",
      "1  |  1\n",
      "0  |  0\n",
      "1  |  1\n",
      "0  |  0\n",
      "0  |  0\n",
      "0  |  0\n",
      "1  |  1\n",
      "1  |  1\n",
      "0  |  0\n",
      "0  |  0\n",
      "0  |  0\n",
      "1  |  1\n",
      "0  |  0\n",
      "0  |  0\n",
      "1  |  1\n"
     ]
    }
   ],
   "source": [
    "peek_results(y_train, y_pred_cv)"
   ]
  },
  {
   "cell_type": "markdown",
   "metadata": {},
   "source": [
    "#### Compute the confusion matrix"
   ]
  },
  {
   "cell_type": "code",
   "execution_count": 99,
   "metadata": {
    "tags": []
   },
   "outputs": [
    {
     "name": "stdout",
     "output_type": "stream",
     "text": [
      "[[22347    21]\n",
      " [  105 29952]]\n"
     ]
    }
   ],
   "source": [
    "from sklearn.metrics import confusion_matrix\n",
    "cm = confusion_matrix (y_train, y_pred_cv)\n",
    "print(cm)"
   ]
  },
  {
   "cell_type": "markdown",
   "metadata": {},
   "source": [
    "### Performance Measure: Precision, Recall and F1 Score"
   ]
  },
  {
   "cell_type": "code",
   "execution_count": 100,
   "metadata": {
    "tags": []
   },
   "outputs": [
    {
     "name": "stdout",
     "output_type": "stream",
     "text": [
      "Precision =  0.9992993694324892\n",
      "Recall =  0.996506637388961\n",
      "Precision =  0.9979010494752624\n"
     ]
    }
   ],
   "source": [
    "from sklearn.metrics import precision_score, recall_score, f1_score\n",
    "\n",
    "# compute and print the precision, recall and f1 score\n",
    "print('Precision = ', precision_score(y_train, y_pred_cv))\n",
    "print('Recall = ', recall_score(y_train, y_pred_cv))\n",
    "print('Precision = ', f1_score(y_train, y_pred_cv))\n"
   ]
  },
  {
   "cell_type": "markdown",
   "metadata": {},
   "source": [
    "### Performance Measure: Precision-Recall curve"
   ]
  },
  {
   "cell_type": "markdown",
   "metadata": {},
   "source": [
    "#### Generating prediction scores"
   ]
  },
  {
   "cell_type": "code",
   "execution_count": 101,
   "metadata": {},
   "outputs": [],
   "source": [
    "def peek_scores(actual, scores, num = 20):\n",
    "    print('actual | score')\n",
    "    print('---------------')\n",
    "    for i in range(num):\n",
    "        sel = np.random.randint(0, len(y_train))\n",
    "        print(actual[sel], ' | ', scores[sel])\n",
    "\n",
    "y_scores = sgd_clf.decision_function(X_train) # retrieve classification scores"
   ]
  },
  {
   "cell_type": "code",
   "execution_count": 102,
   "metadata": {
    "tags": []
   },
   "outputs": [
    {
     "name": "stdout",
     "output_type": "stream",
     "text": [
      "actual | score\n",
      "---------------\n",
      "1  |  8.949307611467269\n",
      "0  |  -1.6096156444984597\n",
      "0  |  -2.128783666211188\n",
      "1  |  0.07987663027202352\n",
      "1  |  8.758808325298766\n",
      "1  |  4.931737324837062\n",
      "1  |  9.919608259144827\n",
      "0  |  -1.1273136712494036\n",
      "1  |  1.9530465079741397\n",
      "1  |  12.58605429986307\n",
      "1  |  12.092882517755562\n",
      "1  |  20.23545739773378\n",
      "0  |  -1.596545600179411\n",
      "0  |  -1.1406260704922246\n",
      "1  |  22.978895991439806\n",
      "0  |  -1.1320248422937347\n",
      "1  |  10.749052270519533\n",
      "0  |  -1.1373066995315249\n",
      "1  |  15.131096867278067\n",
      "1  |  2.503895971053674\n"
     ]
    }
   ],
   "source": [
    "peek_scores(y_train, y_scores)"
   ]
  },
  {
   "cell_type": "code",
   "execution_count": 103,
   "metadata": {},
   "outputs": [
    {
     "data": {
      "text/plain": [
       "array([-1.09342, 11.05545, 10.62624, ..., -1.319  ,  5.8434 ,  9.67623])"
      ]
     },
     "execution_count": 103,
     "metadata": {},
     "output_type": "execute_result"
    }
   ],
   "source": [
    "# retrieve the average cross-validated prediction score values for all samples\n",
    "# y_scores_cv = ....\n",
    "y_scores_cv = cross_val_predict(sgd_clf, X_train, y_train, cv = 5, method = 'decision_function')\n",
    "y_scores_cv"
   ]
  },
  {
   "cell_type": "markdown",
   "metadata": {},
   "source": [
    "#### Plot precision and recall graph"
   ]
  },
  {
   "cell_type": "code",
   "execution_count": 104,
   "metadata": {},
   "outputs": [],
   "source": [
    "from sklearn.metrics import precision_recall_curve\n",
    "# compute precision-recall pairs for different threshold values\n",
    "# precisions, recalls, thresholds = .....\n",
    "precisions, recalls, threholds = precision_recall_curve(y_train, y_scores_cv)"
   ]
  },
  {
   "cell_type": "code",
   "execution_count": 105,
   "metadata": {},
   "outputs": [
    {
     "data": {
      "image/png": "[encoded data removed]",
      "text/plain": [
       "<Figure size 800x600 with 1 Axes>"
      ]
     },
     "metadata": {},
     "output_type": "display_data"
    }
   ],
   "source": [
    "def plot_precision_vs_recall(precisions, recalls):\n",
    "    plt.plot(recalls, precisions, 'b-', linewidth=3)\n",
    "    plt.plot(np.linspace(0, 1, 20), np.linspace(1, 0, 20), 'k--')\n",
    "    plt.xlabel('Recall', fontsize = 16)\n",
    "    plt.ylabel('Precision', fontsize = 16)\n",
    "    plt.axis([0, 1, 0, 1])\n",
    "    \n",
    "plt.figure(figsize=(8, 6))\n",
    "plot_precision_vs_recall(precisions, recalls)\n",
    "plt.title('Precision-Recall Graph (Training Set', fontsize = 20)\n",
    "plt.show()"
   ]
  },
  {
   "cell_type": "markdown",
   "metadata": {},
   "source": [
    "# Performance measure: ROC curve"
   ]
  },
  {
   "cell_type": "code",
   "execution_count": 106,
   "metadata": {},
   "outputs": [
    {
     "data": {
      "image/png": "[encoded data removed]",
      "text/plain": [
       "<Figure size 640x480 with 1 Axes>"
      ]
     },
     "metadata": {},
     "output_type": "display_data"
    }
   ],
   "source": [
    "from sklearn.metrics import roc_curve\n",
    "fpr, tpr, thresholds = roc_curve(y_train, y_scores_cv)\n",
    "\n",
    "def plot_roc_curve (fpr, tpr, style = 'b-', label = None):\n",
    "    plt.plot(fpr, tpr, style, linewidth = 3, label = label)\n",
    "    plt.plot([0,1], [0, 1], 'k--')\n",
    "    plt.axis([0, 1, 0, 1])\n",
    "    plt.xlabel ('False Positive Rate')\n",
    "    plt.ylabel ('True Positive Rate')\n",
    "    plt.title('TPR vs FPR', fontsize=20)\n",
    "    \n",
    "plot_roc_curve(fpr, tpr)"
   ]
  },
  {
   "cell_type": "markdown",
   "metadata": {},
   "source": [
    "# The AUC (Area under curve) measure"
   ]
  },
  {
   "cell_type": "code",
   "execution_count": 107,
   "metadata": {},
   "outputs": [
    {
     "name": "stdout",
     "output_type": "stream",
     "text": [
      "AUC = 0.9991\n"
     ]
    }
   ],
   "source": [
    "from sklearn.metrics import roc_auc_score\n",
    "\n",
    "auc = roc_auc_score(y_train, y_scores_cv)\n",
    "\n",
    "print('AUC = {:.4f}'.format(auc))"
   ]
  },
  {
   "cell_type": "markdown",
   "metadata": {},
   "source": [
    "# Evaluate model on test set"
   ]
  },
  {
   "cell_type": "code",
   "execution_count": 108,
   "metadata": {},
   "outputs": [
    {
     "name": "stdout",
     "output_type": "stream",
     "text": [
      "Test precision = 0.7345\n",
      "Test recall = 0.9971\n",
      "Test f1 score = 0.8459\n"
     ]
    }
   ],
   "source": [
    "from sklearn.linear_model import SGDClassifier\n",
    "from sklearn.metrics import precision_score, recall_score, f1_score\n",
    "\n",
    "y_pred_test = sgd_clf.predict(X_test)\n",
    "\n",
    "print('Test precision = {:.4f}'.format(precision_score(y_test, y_pred_test)))\n",
    "print('Test recall = {:.4f}'.format(recall_score(y_test, y_pred_test)))\n",
    "print('Test f1 score = {:.4f}'.format(f1_score(y_test, y_pred_test)))\n",
    "\n"
   ]
  },
  {
   "cell_type": "markdown",
   "metadata": {},
   "source": [
    "# Classifier Comparison"
   ]
  },
  {
   "cell_type": "markdown",
   "metadata": {},
   "source": [
    "### SGDClassifier vs RandomForestClassifier"
   ]
  },
  {
   "cell_type": "code",
   "execution_count": null,
   "metadata": {},
   "outputs": [],
   "source": [
    "from sklearn.model_selection import cross_validate\n",
    "from sklearn.linear_model import SGDClassifier\n",
    "\n",
    "sgd_clf = SGDClassifier(max_iter = 200, random_state = 42)\n",
    "sgd_result = cross_validate (sgd_clf, X_train, y_train, cv=3, scoring=['accuracy', 'precision', 'recall', 'f1'])\n",
    "\n",
    "print('SGDClassifier: validation accuracy  = {:.4f}'.format(sgd_result['test_accuracy'].mean()))\n",
    "print('SGDClassifier: validation recall    = {:.4f}'.format(sgd_result['test_recall'].mean()))\n",
    "print('SGDClassifier: validation precision = {:.4f}'.format(sgd_result['test_precision'].mean()))\n",
    "print('SGDClassifier: validation f1        = {:.4f}'.format(sgd_result['test_f1'].mean()))"
   ]
  },
  {
   "cell_type": "code",
   "execution_count": null,
   "metadata": {},
   "outputs": [],
   "source": [
    "from sklearn.model_selection import cross_validate\n",
    "from sklearn.ensemble import RandomForestClassifier\n",
    "\n",
    "forest_clf = RandomForestClassifier(n_estimators = 10, random_state = 42)\n",
    "forest_result = cross_validate(forest_clf, X_train, y_train, cv = 5, scoring = ['accuracy', 'precision', 'recall', 'f1'])\n",
    "\n",
    "print('Forest: validation accuracy = {:.4f}'.format(forest_result['test_accuracy'].mean()))\n",
    "print('Forest: validation recall = {:.4f}'.format(forest_result['test_recall'].mean()))\n",
    "print('Forest: validation precision = {:.4f}'.format(forest_result['test_precision'].mean()))\n",
    "print('Forest: validation f1 = {:.4f}'.format(forest_result['test_f1'].mean()))"
   ]
  },
  {
   "cell_type": "markdown",
   "metadata": {},
   "source": [
    "## Comparing classifiers using the ROC curve\n",
    "### SGDClassifier: decision_function\n",
    "### RandomForestClassifier: predict_proba"
   ]
  },
  {
   "cell_type": "code",
   "execution_count": null,
   "metadata": {},
   "outputs": [],
   "source": [
    "print('Computing scores for SGDClassifier...', end = '')\n",
    "y_scores_sgd = cross_val_predict(sgd_clf, X_train, y_train, cv = 5, method = 'decision_function')\n",
    "print('done')\n",
    "\n",
    "print('Computing scores for RandomForestClassifier...', end='')\n",
    "y_scores_forest = cross_val_predict(forest_clf, X_train, y_train, cv = 5, method = 'predict_proba')\n",
    "print('done')"
   ]
  },
  {
   "cell_type": "code",
   "execution_count": null,
   "metadata": {},
   "outputs": [],
   "source": [
    "print('Shape of y_scores_sgd:', y_scores_sgd.shape)\n",
    "print('Shape of y_scores_sgd:', y_scores_forest.shape)"
   ]
  },
  {
   "cell_type": "code",
   "execution_count": null,
   "metadata": {},
   "outputs": [],
   "source": [
    "y_scores_forest = y_scores_forest[:, 1]"
   ]
  },
  {
   "cell_type": "code",
   "execution_count": null,
   "metadata": {},
   "outputs": [],
   "source": [
    "fpr_sgd, tpr_sgd, thresholds_sgd = roc_curve (y_train, y_scores_sgd)\n",
    "fpr_forest, tpr_forest, thresholds_forest = roc_curve (y_train, y_scores_forest)"
   ]
  },
  {
   "cell_type": "code",
   "execution_count": null,
   "metadata": {},
   "outputs": [],
   "source": [
    "plt.figure(figsize = (8, 6))\n",
    "plot_roc_curve(fpr_sgd, tpr_sgd, 'r-', 'SGDClassifier')\n",
    "plot_roc_curve(fpr_forest, tpr_forest, 'b-', 'RandomForestClassifier')\n",
    "plt.legend (loc='lower right')\n",
    "plt.show()"
   ]
  },
  {
   "cell_type": "code",
   "execution_count": null,
   "metadata": {},
   "outputs": [],
   "source": [
    "from sklearn.metrics import roc_auc_score\n",
    "\n",
    "auc_sgd = roc_auc_score(y_train, y_scores_sgd)\n",
    "print('AUC for SGDClassifier = {:.4f}'.format(auc_sgd))\n",
    "\n",
    "auc_forest = roc_auc_score(y_train, y_scores_forest)\n",
    "print('AUC for RandomForestClassifier = {:.4f}'.format(auc_forest))"
   ]
  },
  {
   "cell_type": "markdown",
   "metadata": {},
   "source": [
    "<a id=\"log_section\"></a>\n",
    "# Logistic Regression Classifier\n",
    "<hr>"
   ]
  },
  {
   "cell_type": "code",
   "execution_count": 163,
   "metadata": {},
   "outputs": [],
   "source": [
    "# Imports\n",
    "from sklearn.preprocessing import StandardScaler\n",
    "from sklearn import metrics\n",
    "from sklearn.model_selection import train_test_split\n",
    "from sklearn.linear_model import LogisticRegression\n",
    "import pandas as pd\n",
    "import numpy as np\n",
    "import matplotlib.pyplot as plt\n",
    "\n",
    "np.random.seed(42) # to ensure we have consistent results"
   ]
  },
  {
   "cell_type": "markdown",
   "metadata": {},
   "source": [
    "The output for this dataset consists of 4 unique values: Allow, Deny, Drop and Reset-both. Thus we must consider a **multioutput regression** solution. One of the possible training model that could be used is: **Logistic Regression**.\n",
    "\n",
    "The actual dataset output, **y** is in categorical value, we no need to convert it to a numerical value because Logistic regression will automatically used the **multinomial multiclass** for this dataset output.\n"
   ]
  },
  {
   "cell_type": "code",
   "execution_count": 170,
   "metadata": {},
   "outputs": [],
   "source": [
    "# Data Preprocessing\n",
    "X = firewall_data.drop(['Action'], axis =1)\n",
    "y = firewall_data['Action']"
   ]
  },
  {
   "cell_type": "code",
   "execution_count": 171,
   "metadata": {},
   "outputs": [
    {
     "name": "stdout",
     "output_type": "stream",
     "text": [
      "<class 'numpy.ndarray'>\n",
      "<class 'numpy.ndarray'>\n",
      "full set shape = (65532, 11)\n",
      "X train shape= (45872, 11)\n",
      "X test shape= (19660, 11)\n",
      "y train shape= (45872,)\n",
      "y test shape= (19660,)\n",
      "<class 'numpy.ndarray'>\n",
      "<class 'numpy.ndarray'>\n",
      "<class 'numpy.ndarray'>\n",
      "<class 'numpy.ndarray'>\n"
     ]
    }
   ],
   "source": [
    "# test_size: what proportion of original data is used for test set\n",
    "X = X.values\n",
    "y = y.values\n",
    "print(type(X))\n",
    "print(type(y))\n",
    "\n",
    "# Random Sampling\n",
    "X_train, X_test, y_train, y_test = train_test_split(X, y, test_size = 0.3, random_state = 42)\n",
    "\n",
    "print('full set shape =', X.shape)\n",
    "print('X train shape=', X_train.shape)\n",
    "print('X test shape=', X_test.shape)\n",
    "print('y train shape=', y_train.shape)\n",
    "print('y test shape=', y_test.shape)\n",
    "\n",
    "print(type(X_train))\n",
    "print(type(X_test))\n",
    "print(type(y_train))\n",
    "print(type(y_test))"
   ]
  },
  {
   "cell_type": "code",
   "execution_count": 172,
   "metadata": {},
   "outputs": [],
   "source": [
    "# Data Standardization\n",
    "scaler = StandardScaler()\n",
    "# Fit on training set only.\n",
    "scaler.fit(X_train)\n",
    "# Apply transform to both the training set and the test set.\n",
    "X_train = scaler.transform(X_train)\n",
    "X_test = scaler.transform(X_test)"
   ]
  },
  {
   "cell_type": "code",
   "execution_count": 173,
   "metadata": {},
   "outputs": [
    {
     "name": "stdout",
     "output_type": "stream",
     "text": [
      "[ 6.39494e-17 -2.03556e-16  2.20962e-15 -3.56789e-16 -7.24237e-16\n",
      "  1.95058e-17  8.68946e-16  7.77168e-16  5.45587e-16 -6.20923e-16\n",
      "  1.40395e-15]\n",
      "[1. 1. 1. 1. 1. 1. 1. 1. 1. 1. 1.]\n",
      ">>> Mean of all columns:\n",
      " 1.6193759435823699e-19\n",
      "\n",
      ">>> Std of all columns:\n",
      " 0.9999999999999566\n",
      "[ 0.01172  0.00635 -0.0005   0.01676 -0.00502 -0.00429 -0.00491 -0.00549\n",
      "  0.00895 -0.00501 -0.00543]\n",
      "[0.99363 1.00407 1.00087 1.03321 0.2529  0.19287 0.48996 0.29865 1.00258\n",
      " 0.19529 0.42579]\n",
      ">>> Mean of all columns:\n",
      " 0.0011930543378150737\n",
      "\n",
      ">>> Std of all columns:\n",
      " 0.7211366618172452\n"
     ]
    }
   ],
   "source": [
    "# Show the mean and std of the train set and test set\n",
    "# train set\n",
    "print(X_train.mean (axis = 0))\n",
    "print(X_train.std (axis = 0))\n",
    "print('>>> Mean of all columns:\\n', X_train.mean())\n",
    "print('\\n>>> Std of all columns:\\n', X_train.std())\n",
    "\n",
    "#test set\n",
    "print(X_test.mean (axis = 0))\n",
    "print(X_test.std (axis = 0))\n",
    "print('>>> Mean of all columns:\\n', X_test.mean())\n",
    "print('\\n>>> Std of all columns:\\n', X_test.std())"
   ]
  },
  {
   "cell_type": "code",
   "execution_count": 174,
   "metadata": {},
   "outputs": [
    {
     "name": "stdout",
     "output_type": "stream",
     "text": [
      "Actual\t\t|\tPredicted\n",
      "---------------------------------\n",
      "allow \t\t|\t allow\n",
      "drop \t\t|\t drop\n",
      "allow \t\t|\t allow\n",
      "allow \t\t|\t allow\n",
      "deny \t\t|\t deny\n",
      "deny \t\t|\t deny\n",
      "deny \t\t|\t deny\n",
      "allow \t\t|\t allow\n",
      "drop \t\t|\t drop\n",
      "deny \t\t|\t deny\n",
      "drop \t\t|\t drop\n",
      "allow \t\t|\t allow\n",
      "allow \t\t|\t allow\n",
      "allow \t\t|\t allow\n",
      "allow \t\t|\t allow\n",
      "allow \t\t|\t allow\n",
      "deny \t\t|\t deny\n",
      "allow \t\t|\t allow\n",
      "allow \t\t|\t allow\n",
      "allow \t\t|\t allow\n"
     ]
    }
   ],
   "source": [
    "# Training the model\n",
    "model = LogisticRegression(solver = 'lbfgs', max_iter = 1000)\n",
    "model.fit(X_train, y_train)\n",
    "\n",
    "# Making a prediction on the training sets\n",
    "y_pred_train = model.predict(X_train)\n",
    "\n",
    "# Let's see if the prediction is accurate enough\n",
    "def listToString(s):  \n",
    "    # initialize an empty string \n",
    "    str1 = \"\"  \n",
    "    # traverse in the string   \n",
    "    for ele in s:  \n",
    "        str1 += ele   \n",
    "    # return string   \n",
    "    return str1  \n",
    "\n",
    "def peek_results(actual, predicted, num = 20):\n",
    "    print('Actual\\t\\t|\\tPredicted')\n",
    "    print('---------------------------------')\n",
    "    for i in range(num):\n",
    "        sel = np.random.randint(0, len(y_pred_train))\n",
    "        print(listToString(actual[sel]), '\\t\\t|\\t', listToString(predicted[sel]))\n",
    "        \n",
    "peek_results(y_train, y_pred_train)"
   ]
  },
  {
   "cell_type": "code",
   "execution_count": 175,
   "metadata": {},
   "outputs": [
    {
     "name": "stdout",
     "output_type": "stream",
     "text": [
      "Misclassified samples: 631\n",
      "Accuracy: 0.99\n"
     ]
    }
   ],
   "source": [
    "# Numbers of Misclassified samples\n",
    "count_misclassified = (y_train != y_pred_train).sum()\n",
    "print('Misclassified samples: {}'.format(count_misclassified))\n",
    "\n",
    "# Accuracy Performance\n",
    "accuracy = metrics.accuracy_score(y_train, y_pred_train)\n",
    "print('Accuracy: {:.2f}'.format(accuracy))\n"
   ]
  },
  {
   "cell_type": "code",
   "execution_count": 176,
   "metadata": {},
   "outputs": [
    {
     "name": "stdout",
     "output_type": "stream",
     "text": [
      "[[26107    84   119     0]\n",
      " [   10 10113   379     0]\n",
      " [    0     0  9021     0]\n",
      " [    9    30     0     0]]\n"
     ]
    }
   ],
   "source": [
    "from sklearn.metrics import confusion_matrix\n",
    "cm = confusion_matrix (y_train, y_pred_train)\n",
    "\n",
    "print(cm)"
   ]
  },
  {
   "cell_type": "code",
   "execution_count": 177,
   "metadata": {},
   "outputs": [
    {
     "data": {
      "image/png": "[encoded data removed]",
      "text/plain": [
       "<Figure size 640x480 with 2 Axes>"
      ]
     },
     "metadata": {},
     "output_type": "display_data"
    }
   ],
   "source": [
    "import seaborn as sn\n",
    "def plot_confusion_matrix(cfm, y_test, caller, algor_name):\n",
    "    # plot confusion_matrix\n",
    "    df_cm = pd.DataFrame(cfm, columns=np.unique(y_test), index = np.unique(y_test))\n",
    "    df_cm.index.name = 'Actual'\n",
    "    df_cm.columns.name = 'Predicted'\n",
    "    fig = plt.figure()\n",
    "    plt.title('Confusion Matrix: ' + caller, fontsize=14)\n",
    "    plt.suptitle(algor_name, fontsize=16)\n",
    "    plt.style.use('default')\n",
    "    fig.tight_layout(rect=[0, 0.03, 1, 0.95])\n",
    "    sn.set(font_scale=1.4)\n",
    "    sn.heatmap(df_cm, cmap=\"Blues\", annot=True, fmt='g', annot_kws={\"size\": 25})\n",
    "    plt.show()\n",
    "    \n",
    "plot_confusion_matrix(cm, y_train, 'Firewall Action', type(model).__name__)"
   ]
  },
  {
   "cell_type": "markdown",
   "metadata": {},
   "source": [
    "Performance measure"
   ]
  },
  {
   "cell_type": "code",
   "execution_count": 178,
   "metadata": {},
   "outputs": [
    {
     "name": "stderr",
     "output_type": "stream",
     "text": [
      "C:\\Users\\Wai Hin(Darkin)\\anaconda3\\lib\\site-packages\\sklearn\\metrics\\_classification.py:1221: UndefinedMetricWarning: Precision is ill-defined and being set to 0.0 in labels with no predicted samples. Use `zero_division` parameter to control this behavior.\n",
      "  _warn_prf(average, modifier, msg_start, len(result))\n"
     ]
    },
    {
     "name": "stdout",
     "output_type": "stream",
     "text": [
      "Precision =  0.9858923602397734\n",
      "Recall =  0.9862443320544123\n",
      "F1 score =  0.9858838144594019\n"
     ]
    }
   ],
   "source": [
    "# Conducting performance measure on the model\n",
    "from sklearn.metrics import precision_score, recall_score, f1_score\n",
    "\n",
    "print('Precision = ', precision_score(y_train, y_pred_train, average = \"weighted\"))\n",
    "print('Recall = ', recall_score (y_train, y_pred_train, average = \"weighted\"))\n",
    "print('F1 score = ', f1_score(y_train, y_pred_train, average = \"weighted\"))"
   ]
  },
  {
   "cell_type": "code",
   "execution_count": 179,
   "metadata": {},
   "outputs": [
    {
     "name": "stdout",
     "output_type": "stream",
     "text": [
      "5-fold cross validation scores:  [0.9794  0.9822  0.98118 0.98194 0.98245]\n",
      "\n",
      "Cross Validation Predictions:\n",
      " ['deny' 'deny' 'allow' ... 'allow' 'allow' 'allow']\n"
     ]
    }
   ],
   "source": [
    "# Cross validation of data\n",
    "from sklearn.model_selection import cross_val_score as CVS\n",
    "from sklearn.model_selection import cross_val_predict as CVP\n",
    "from sklearn.metrics import mean_squared_error as MSE\n",
    "\n",
    "y_scores = CVS(model, X_test, y_test, cv=5)\n",
    "print(\"5-fold cross validation scores: \",y_scores)\n",
    "\n",
    "y_scores_cv = CVP(model, X_train, y_train, cv=5, method=\"predict\")\n",
    "print(\"\\nCross Validation Predictions:\\n\",y_scores_cv)"
   ]
  },
  {
   "cell_type": "markdown",
   "metadata": {},
   "source": [
    "To plot Precision Recall Curve and Recall Operating Curve, we need to do one hot encoder for the y - output."
   ]
  },
  {
   "cell_type": "code",
   "execution_count": 180,
   "metadata": {},
   "outputs": [
    {
     "name": "stdout",
     "output_type": "stream",
     "text": [
      "Average precision score, micro-averaged over all classes: 0.98\n"
     ]
    },
    {
     "data": {
      "text/plain": [
       "Text(0.5, 1.0, 'Average precision score, micro-averaged over all classes: AP=0.98')"
      ]
     },
     "execution_count": 180,
     "metadata": {},
     "output_type": "execute_result"
    },
    {
     "data": {
      "image/png": "[encoded data removed]",
      "text/plain": [
       "<Figure size 640x480 with 1 Axes>"
      ]
     },
     "metadata": {},
     "output_type": "display_data"
    }
   ],
   "source": [
    "from sklearn.preprocessing import OneHotEncoder as OHE\n",
    "from sklearn.multiclass import OneVsRestClassifier as OvsR\n",
    "from sklearn.metrics import precision_recall_curve\n",
    "from sklearn.metrics import average_precision_score\n",
    "from sklearn.metrics import plot_precision_recall_curve\n",
    "\n",
    "# One Hot Encode\n",
    "encoder = OHE(handle_unknown='ignore')\n",
    "y_num = pd.DataFrame(encoder.fit_transform(firewall_data[['Action']]).toarray())\n",
    "prc_data = firewall_data.join(y_num)\n",
    "\n",
    "y_num = y_num.values\n",
    "\n",
    "# Split into training and test\n",
    "X_train_num, X_test_num, y_train_num, y_test_num = train_test_split(X, y_num, test_size=.5,\n",
    "                                                    random_state=42)\n",
    "\n",
    "# Run classifier\n",
    "clf = OvsR(model)\n",
    "clf.fit(X_train_num, y_train_num)\n",
    "y_score = clf.predict(X_train_num)\n",
    "\n",
    "\n",
    "# For each class\n",
    "precision = dict()\n",
    "recall = dict()\n",
    "average_precision = dict()\n",
    "for i in range(y_num.shape[1]):\n",
    "    precision[i], recall[i], _ = precision_recall_curve(np.array(y_train_num)[:, i], y_score[:, i])\n",
    "    average_precision[i] = average_precision_score(np.array(y_train_num)[:, i], y_score[:, i])\n",
    "\n",
    "# A \"micro-average\": quantifying score on all classes jointly\n",
    "precision[\"micro\"], recall[\"micro\"], _ = precision_recall_curve(np.array(y_train_num).ravel(), y_score.ravel())\n",
    "average_precision[\"micro\"] = average_precision_score(y_train_num, y_score, average=\"micro\")\n",
    "print('Average precision score, micro-averaged over all classes: {0:0.2f}'.format(average_precision[\"micro\"]))\n",
    "\n",
    "plt.figure()\n",
    "plt.step(recall['micro'], precision['micro'], where='post')\n",
    "plt.plot([0, 1], [1, 0], color='darkorange', linestyle='--')\n",
    "plt.xlabel('Recall')\n",
    "plt.ylabel('Precision')\n",
    "plt.ylim([0.0, 1.05])\n",
    "plt.xlim([0.0, 1.0])\n",
    "plt.title('Average precision score, micro-averaged over all classes: AP={0:0.2f}'.format(average_precision[\"micro\"]))"
   ]
  },
  {
   "cell_type": "code",
   "execution_count": 181,
   "metadata": {},
   "outputs": [
    {
     "data": {
      "image/png": "[encoded data removed]",
      "text/plain": [
       "<Figure size 640x480 with 1 Axes>"
      ]
     },
     "metadata": {},
     "output_type": "display_data"
    }
   ],
   "source": [
    "# Plotting of ROC Graph that supports multiclass\n",
    "from sklearn.metrics import roc_curve, auc\n",
    "\n",
    "y_score = clf.predict(X_train_num)\n",
    "\n",
    "fpr = dict()\n",
    "tpr = dict()\n",
    "roc_auc = dict()\n",
    "for i in range(y_num.shape[1]):\n",
    "    fpr[i], tpr[i], _ = roc_curve(np.array(y_train_num)[:, i], y_score[:, i])\n",
    "    roc_auc[i] = auc(fpr[i], tpr[i])\n",
    "\n",
    "# Compute micro-average ROC curve and ROC area\n",
    "fpr[\"micro\"], tpr[\"micro\"], _ = roc_curve(np.array(y_train_num).ravel(), y_score.ravel())\n",
    "roc_auc[\"micro\"] = auc(fpr[\"micro\"], tpr[\"micro\"])\n",
    "\n",
    "# Plot of a ROC curve for a specific class\n",
    "\n",
    "plt.figure()\n",
    "lw = 2\n",
    "plt.plot(fpr[2], tpr[2], color='darkorange',\n",
    "         lw=lw, label='ROC curve (area = %0.2f)' % roc_auc[2])\n",
    "plt.plot([0, 1], [0, 1], color='navy', lw=lw, linestyle='--')\n",
    "plt.xlim([0.0, 1.0])\n",
    "plt.ylim([0.0, 1.05])\n",
    "plt.xlabel('False Positive Rate')\n",
    "plt.ylabel('True Positive Rate')\n",
    "plt.title('Receiver operating characteristic: Firewall Action')\n",
    "plt.legend(loc=\"lower right\")\n",
    "plt.show()"
   ]
  },
  {
   "cell_type": "code",
   "execution_count": 189,
   "metadata": {},
   "outputs": [
    {
     "name": "stdout",
     "output_type": "stream",
     "text": [
      "AUC = 0.8642\n"
     ]
    }
   ],
   "source": [
    "# Area Under the Graph\n",
    "from sklearn.metrics import roc_auc_score as RAS\n",
    "\n",
    "auc = RAS(y_train_num, y_score)\n",
    "print('AUC = {:.4f}'.format(auc))"
   ]
  },
  {
   "cell_type": "markdown",
   "metadata": {},
   "source": [
    "Grid Search ( Fine Tuning )"
   ]
  },
  {
   "cell_type": "code",
   "execution_count": 183,
   "metadata": {},
   "outputs": [
    {
     "name": "stdout",
     "output_type": "stream",
     "text": [
      "Performing grid search...Fitting 5 folds for each of 80 candidates, totalling 400 fits\n"
     ]
    },
    {
     "name": "stderr",
     "output_type": "stream",
     "text": [
      "[Parallel(n_jobs=-1)]: Using backend LokyBackend with 8 concurrent workers.\n",
      "[Parallel(n_jobs=-1)]: Done  34 tasks      | elapsed:    4.4s\n",
      "[Parallel(n_jobs=-1)]: Done 184 tasks      | elapsed:   40.4s\n",
      "[Parallel(n_jobs=-1)]: Done 400 out of 400 | elapsed:  7.8min finished\n"
     ]
    },
    {
     "name": "stdout",
     "output_type": "stream",
     "text": [
      "Best:  0.9901246729146284 using {'C': 1438.44988828766, 'max_iter': 100}\n",
      "Execution time: 472.1089642047882ms\n",
      "done\n"
     ]
    },
    {
     "name": "stderr",
     "output_type": "stream",
     "text": [
      "C:\\Users\\Wai Hin(Darkin)\\anaconda3\\lib\\site-packages\\sklearn\\linear_model\\_logistic.py:762: ConvergenceWarning: lbfgs failed to converge (status=1):\n",
      "STOP: TOTAL NO. of ITERATIONS REACHED LIMIT.\n",
      "\n",
      "Increase the number of iterations (max_iter) or scale the data as shown in:\n",
      "    https://scikit-learn.org/stable/modules/preprocessing.html\n",
      "Please also refer to the documentation for alternative solver options:\n",
      "    https://scikit-learn.org/stable/modules/linear_model.html#logistic-regression\n",
      "  n_iter_i = _check_optimize_result(\n"
     ]
    }
   ],
   "source": [
    "from sklearn.model_selection import GridSearchCV\n",
    "import time\n",
    "\n",
    "log_model = LogisticRegression(solver = 'lbfgs', max_iter=1000)\n",
    "\n",
    "# define param_grid (you may used the one defined above)\n",
    "param_grid = [\n",
    "    {\n",
    "    'C': np.logspace(-4, 4, 20),\n",
    "    'max_iter': [100, 1000, 2500, 5000]\n",
    "    }\n",
    "]\n",
    "\n",
    "# create an instance of GridSearchCV using param_grid with 5-fold cv\n",
    "grid_search = GridSearchCV(log_model, param_grid = param_grid, cv = 5, verbose = True, n_jobs = -1)\n",
    "\n",
    "start_time = time.time()\n",
    "print ('Performing grid search...', end = '')\n",
    "# perform grid search\n",
    "grid_result = grid_search.fit(X_train, y_train)\n",
    "#Summarize results\n",
    "print(\"Best: \", grid_result.best_score_, \"using\", grid_result.best_params_)\n",
    "print(\"Execution time: \" + str((time.time()-start_time)) + 'ms')\n",
    "print('done')"
   ]
  },
  {
   "cell_type": "code",
   "execution_count": 185,
   "metadata": {},
   "outputs": [
    {
     "data": {
      "text/plain": [
       "LogisticRegression(C=1438.44988828766)"
      ]
     },
     "execution_count": 185,
     "metadata": {},
     "output_type": "execute_result"
    }
   ],
   "source": [
    "best_model = grid_search.best_estimator_\n",
    "best_model"
   ]
  },
  {
   "cell_type": "markdown",
   "metadata": {},
   "source": [
    "As show, the logistic regression classifier best's model hyperparameter is differ from the default."
   ]
  },
  {
   "cell_type": "code",
   "execution_count": 186,
   "metadata": {},
   "outputs": [
    {
     "name": "stdout",
     "output_type": "stream",
     "text": [
      "Best hyperparameter settings: {'C': 1438.44988828766, 'max_iter': 100}\n"
     ]
    }
   ],
   "source": [
    "print('Best hyperparameter settings:', grid_search.best_params_)"
   ]
  },
  {
   "cell_type": "markdown",
   "metadata": {},
   "source": [
    "Therefore, we can now evaluate our new model on the test set."
   ]
  },
  {
   "cell_type": "code",
   "execution_count": 187,
   "metadata": {},
   "outputs": [
    {
     "name": "stdout",
     "output_type": "stream",
     "text": [
      "Testing Sets: \n",
      "X:\t (19660, 11) \n",
      "y:\t (19660,)\n"
     ]
    }
   ],
   "source": [
    "print(\"Testing Sets:\", \"\\nX:\\t\", X_test.shape, \"\\ny:\\t\", y_test.shape)"
   ]
  },
  {
   "cell_type": "code",
   "execution_count": 195,
   "metadata": {},
   "outputs": [
    {
     "name": "stderr",
     "output_type": "stream",
     "text": [
      "C:\\Users\\Wai Hin(Darkin)\\anaconda3\\lib\\site-packages\\sklearn\\linear_model\\_logistic.py:762: ConvergenceWarning: lbfgs failed to converge (status=1):\n",
      "STOP: TOTAL NO. of ITERATIONS REACHED LIMIT.\n",
      "\n",
      "Increase the number of iterations (max_iter) or scale the data as shown in:\n",
      "    https://scikit-learn.org/stable/modules/preprocessing.html\n",
      "Please also refer to the documentation for alternative solver options:\n",
      "    https://scikit-learn.org/stable/modules/linear_model.html#logistic-regression\n",
      "  n_iter_i = _check_optimize_result(\n",
      "C:\\Users\\Wai Hin(Darkin)\\anaconda3\\lib\\site-packages\\sklearn\\linear_model\\_logistic.py:762: ConvergenceWarning: lbfgs failed to converge (status=1):\n",
      "STOP: TOTAL NO. of ITERATIONS REACHED LIMIT.\n",
      "\n",
      "Increase the number of iterations (max_iter) or scale the data as shown in:\n",
      "    https://scikit-learn.org/stable/modules/preprocessing.html\n",
      "Please also refer to the documentation for alternative solver options:\n",
      "    https://scikit-learn.org/stable/modules/linear_model.html#logistic-regression\n",
      "  n_iter_i = _check_optimize_result(\n"
     ]
    },
    {
     "name": "stdout",
     "output_type": "stream",
     "text": [
      "Logistic Regression Classifier AUC = 0.8649\n"
     ]
    },
    {
     "name": "stderr",
     "output_type": "stream",
     "text": [
      "C:\\Users\\Wai Hin(Darkin)\\anaconda3\\lib\\site-packages\\sklearn\\linear_model\\_logistic.py:762: ConvergenceWarning: lbfgs failed to converge (status=1):\n",
      "STOP: TOTAL NO. of ITERATIONS REACHED LIMIT.\n",
      "\n",
      "Increase the number of iterations (max_iter) or scale the data as shown in:\n",
      "    https://scikit-learn.org/stable/modules/preprocessing.html\n",
      "Please also refer to the documentation for alternative solver options:\n",
      "    https://scikit-learn.org/stable/modules/linear_model.html#logistic-regression\n",
      "  n_iter_i = _check_optimize_result(\n"
     ]
    }
   ],
   "source": [
    "# Prediction on testing sets (unseen data)\n",
    "\n",
    "clf_final = OvsR(LogisticRegression(C=1438.44988828766))\n",
    "clf_final.fit(X_test_num, y_test_num)\n",
    "y_predict_final = clf.predict(X_test_num)\n",
    "\n",
    "auc_final = RAS(y_test_num, y_predict_final)\n",
    "print('Logistic Regression Classifier AUC = {:.4f}'.format(auc_final))"
   ]
  },
  {
   "cell_type": "markdown",
   "metadata": {},
   "source": [
    "Testing set AUC will usually a bit worse than the validation data as it is fine-tuned to the validation set. Therefore, we can see that the fine-tuned model perform better in test set."
   ]
  },
  {
   "cell_type": "markdown",
   "metadata": {},
   "source": [
    "<a id=\"knn_section\"></a>\n",
    "# k-Nearest Neighbors Classifier\n",
    "<hr>"
   ]
  },
  {
   "cell_type": "code",
   "execution_count": 220,
   "metadata": {},
   "outputs": [],
   "source": [
    "# Data Initialization\n",
    "\n",
    "# Library imports\n",
    "import pandas as pd\n",
    "import numpy as np\n",
    "import matplotlib.pyplot as plt\n",
    "\n",
    "# Random seeding to ensure we have consistent results\n",
    "np.random.seed(42)"
   ]
  },
  {
   "cell_type": "markdown",
   "metadata": {},
   "source": [
    "The output for this datasets consists of 4 unique values: Allow, Deny, Drop and Reset-both.<br>\n",
    "Thus we must consider a **multioutput regression** solution.<br>\n",
    "One of the possible training model that could be used is: **k-Nearest Neighbors**."
   ]
  },
  {
   "cell_type": "markdown",
   "metadata": {},
   "source": [
    "Since the actual dataset output, y is in categorical value, we need to convert it to a numerical value first."
   ]
  },
  {
   "cell_type": "markdown",
   "metadata": {},
   "source": [
    "<a id=\"data_pros_ohe\"></a>\n",
    "# 2.2 Data Preprocessing - One Hot Encoding\n",
    "<hr>"
   ]
  },
  {
   "cell_type": "code",
   "execution_count": 221,
   "metadata": {},
   "outputs": [
    {
     "data": {
      "text/plain": [
       "[array([    0,     5,    20, ..., 65532, 65533, 65534], dtype=int64),\n",
       " array([    0,     1,     7, ..., 65504, 65534, 65535], dtype=int64),\n",
       " array([    0,    20,    22, ..., 65530, 65534, 65535], dtype=int64),\n",
       " array([    0,     1,     7, ..., 65427, 65534, 65535], dtype=int64),\n",
       " array(['allow', 'deny', 'drop', 'reset-both'], dtype=object),\n",
       " array([        60,         61,         62, ...,  307104860,  428935914,\n",
       "        1269359015], dtype=int64),\n",
       " array([       60,        61,        62, ..., 122661116, 213443641,\n",
       "        948477220], dtype=int64),\n",
       " array([        0,        60,        62, ..., 237428641, 304353862,\n",
       "        320881795], dtype=int64),\n",
       " array([      1,       2,       3, ...,  238334,  635946, 1036116],\n",
       "       dtype=int64),\n",
       " array([    0,     1,     2,     3,     4,     5,     6,     7,     8,\n",
       "            9,    10,    11,    12,    13,    14,    15,    16,    17,\n",
       "           18,    19,    20,    21,    22,    23,    24,    25,    26,\n",
       "           27,    28,    29,    30,    31,    32,    33,    34,    35,\n",
       "           36,    37,    38,    39,    40,    41,    42,    43,    44,\n",
       "           45,    46,    47,    48,    49,    50,    51,    52,    53,\n",
       "           54,    55,    56,    57,    58,    59,    60,    61,    62,\n",
       "           63,    64,    65,    66,    67,    68,    69,    70,    71,\n",
       "           72,    73,    74,    75,    76,    77,    78,    79,    80,\n",
       "           81,    82,    83,    84,    85,    86,    87,    88,    89,\n",
       "           90,    91,    92,    93,    94,    95,    96,    97,    98,\n",
       "           99,   100,   101,   102,   103,   104,   105,   106,   107,\n",
       "          108,   109,   110,   111,   112,   113,   114,   115,   116,\n",
       "          117,   118,   119,   120,   121,   122,   123,   124,   125,\n",
       "          126,   127,   128,   129,   130,   131,   132,   133,   134,\n",
       "          135,   136,   137,   138,   139,   140,   141,   142,   143,\n",
       "          144,   145,   146,   147,   148,   149,   150,   151,   152,\n",
       "          153,   154,   155,   156,   157,   158,   159,   160,   161,\n",
       "          162,   163,   164,   165,   166,   167,   168,   169,   170,\n",
       "          171,   172,   173,   174,   175,   176,   177,   178,   179,\n",
       "          180,   181,   182,   183,   184,   185,   186,   187,   188,\n",
       "          189,   190,   191,   192,   193,   194,   195,   196,   197,\n",
       "          198,   199,   200,   201,   202,   203,   204,   205,   206,\n",
       "          207,   208,   209,   210,   211,   212,   213,   214,   215,\n",
       "          216,   217,   218,   219,   220,   221,   222,   223,   224,\n",
       "          225,   226,   227,   228,   229,   230,   231,   232,   233,\n",
       "          234,   235,   236,   237,   238,   239,   240,   241,   242,\n",
       "          243,   244,   245,   246,   247,   248,   249,   250,   251,\n",
       "          252,   253,   254,   255,   256,   257,   258,   259,   261,\n",
       "          262,   263,   264,   265,   266,   267,   268,   269,   270,\n",
       "          271,   272,   273,   274,   275,   276,   277,   278,   279,\n",
       "          280,   281,   282,   283,   284,   285,   286,   287,   288,\n",
       "          289,   290,   291,   292,   293,   294,   295,   296,   297,\n",
       "          298,   299,   300,   301,   302,   303,   304,   305,   306,\n",
       "          307,   308,   309,   310,   312,   313,   314,   315,   316,\n",
       "          317,   318,   319,   320,   321,   322,   323,   324,   325,\n",
       "          326,   327,   329,   330,   331,   332,   333,   334,   335,\n",
       "          336,   337,   338,   339,   340,   341,   342,   343,   344,\n",
       "          345,   346,   347,   348,   349,   350,   351,   352,   353,\n",
       "          354,   355,   356,   357,   358,   359,   360,   361,   362,\n",
       "          363,   364,   365,   367,   368,   369,   370,   371,   373,\n",
       "          374,   375,   376,   378,   379,   381,   382,   383,   384,\n",
       "          385,   386,   387,   389,   390,   391,   392,   393,   394,\n",
       "          395,   396,   397,   398,   399,   400,   401,   402,   403,\n",
       "          404,   405,   406,   407,   408,   409,   410,   412,   413,\n",
       "          414,   415,   416,   417,   418,   420,   421,   422,   423,\n",
       "          425,   426,   427,   428,   430,   432,   434,   436,   437,\n",
       "          438,   439,   440,   442,   444,   446,   447,   448,   449,\n",
       "          450,   451,   452,   453,   454,   455,   458,   459,   460,\n",
       "          461,   462,   463,   464,   466,   467,   468,   469,   470,\n",
       "          471,   473,   475,   476,   477,   480,   483,   486,   487,\n",
       "          488,   491,   492,   495,   498,   500,   501,   503,   504,\n",
       "          505,   506,   507,   508,   512,   514,   515,   516,   517,\n",
       "          520,   521,   522,   524,   525,   532,   534,   539,   541,\n",
       "          543,   544,   547,   548,   549,   553,   555,   556,   559,\n",
       "          560,   561,   566,   567,   569,   572,   574,   576,   579,\n",
       "          581,   585,   587,   588,   589,   591,   597,   598,   600,\n",
       "          601,   606,   607,   608,   610,   611,   612,   614,   615,\n",
       "          616,   618,   619,   620,   621,   622,   623,   624,   625,\n",
       "          626,   627,   629,   630,   631,   632,   637,   638,   640,\n",
       "          643,   648,   649,   650,   652,   658,   660,   662,   665,\n",
       "          667,   671,   681,   685,   686,   693,   694,   704,   706,\n",
       "          708,   713,   717,   721,   723,   727,   730,   732,   734,\n",
       "          735,   736,   738,   739,   750,   751,   753,   757,   762,\n",
       "          775,   788,   792,   797,   798,   806,   807,   809,   811,\n",
       "          813,   822,   829,   831,   832,   841,   846,   854,   870,\n",
       "          884,   895,   901,   902,   904,   916,   917,   918,   919,\n",
       "          928,   929,   944,   945,   952,   954,   966,   977,   978,\n",
       "          979,   980,   981,   982,   983,   984,   987,   995,   996,\n",
       "         1004,  1008,  1017,  1019,  1043,  1044,  1061,  1072,  1075,\n",
       "         1082,  1095,  1099,  1102,  1108,  1117,  1118,  1119,  1121,\n",
       "         1122,  1126,  1128,  1130,  1140,  1142,  1143,  1157,  1162,\n",
       "         1166,  1169,  1172,  1176,  1179,  1187,  1190,  1191,  1195,\n",
       "         1197,  1199,  1200,  1201,  1203,  1208,  1209,  1210,  1211,\n",
       "         1216,  1220,  1232,  1239,  1253,  1261,  1262,  1267,  1273,\n",
       "         1274,  1283,  1285,  1286,  1298,  1300,  1316,  1320,  1323,\n",
       "         1327,  1329,  1336,  1341,  1371,  1372,  1401,  1409,  1411,\n",
       "         1412,  1454,  1457,  1465,  1469,  1485,  1490,  1496,  1501,\n",
       "         1526,  1531,  1537,  1544,  1550,  1555,  1559,  1562,  1565,\n",
       "         1571,  1573,  1580,  1582,  1587,  1595,  1598,  1600,  1601,\n",
       "         1610,  1614,  1616,  1624,  1626,  1629,  1638,  1647,  1657,\n",
       "         1682,  1695,  1696,  1710,  1720,  1724,  1732,  1740,  1751,\n",
       "         1764,  1766,  1773,  1775,  1781,  1794,  1798,  1801,  1802,\n",
       "         1806,  1881,  1902,  1929,  1980,  2033,  2054,  2149,  2162,\n",
       "         2188,  2242,  2298,  2308,  2310,  2311,  2321,  2335,  2338,\n",
       "         2342,  2355,  2378,  2384,  2396,  2410,  2411,  2421,  2424,\n",
       "         2426,  2433,  2475,  2495,  2615,  2758,  2766,  2804,  2889,\n",
       "         2899,  2901,  2904,  2961,  2983,  3002,  3005,  3037,  3051,\n",
       "         3088,  3089,  3115,  3136,  3153,  3163,  3221,  3243,  3293,\n",
       "         3312,  3325,  3342,  3376,  3411,  3438,  3454,  3587,  3599,\n",
       "         3600,  3601,  3602,  3603,  3604,  3605,  3608,  3609,  3610,\n",
       "         3615,  3616,  3617,  3619,  3620,  3629,  3631,  3632,  3633,\n",
       "         3637,  3638,  3640,  3652,  3656,  3661,  3665,  3666,  3669,\n",
       "         3676,  3685,  3696,  3724,  3729,  3742,  3744,  3745,  3747,\n",
       "         3764,  3786,  3826,  3827,  3828,  3838,  3944,  3957,  3961,\n",
       "         3971,  4017,  4020,  4073,  4126,  4133,  4146,  4153,  4156,\n",
       "         4220,  4232,  4265,  4309,  4379,  4411,  4443,  4485,  4588,\n",
       "         4602,  4653,  4772,  4793,  4981,  5045,  5113,  5115,  5173,\n",
       "         5193,  5215,  5271,  5346,  5441,  5442,  5491,  5528,  5581,\n",
       "         5724,  5805,  5922,  5925,  5974,  6062,  6090,  6101,  6122,\n",
       "         6269,  6308,  6392,  6557,  6660,  6872,  7038,  7261,  7827,\n",
       "         8169,  8912,  9115,  9283,  9851, 10824], dtype=int64),\n",
       " array([     1,      2,      3,      4,      5,      6,      7,      8,\n",
       "             9,     10,     11,     12,     13,     14,     15,     16,\n",
       "            17,     18,     19,     20,     21,     22,     23,     24,\n",
       "            25,     26,     27,     28,     29,     30,     31,     32,\n",
       "            33,     34,     35,     36,     37,     38,     39,     40,\n",
       "            41,     42,     43,     44,     45,     46,     47,     48,\n",
       "            49,     50,     51,     52,     53,     54,     55,     56,\n",
       "            57,     58,     59,     60,     61,     62,     63,     64,\n",
       "            65,     66,     67,     68,     69,     70,     71,     72,\n",
       "            73,     74,     75,     76,     77,     78,     79,     80,\n",
       "            81,     82,     83,     84,     85,     86,     87,     88,\n",
       "            89,     90,     91,     92,     93,     94,     95,     96,\n",
       "            97,     98,     99,    100,    101,    102,    103,    104,\n",
       "           105,    106,    107,    108,    109,    110,    111,    112,\n",
       "           113,    114,    115,    116,    117,    118,    119,    120,\n",
       "           121,    122,    123,    124,    125,    126,    127,    128,\n",
       "           129,    130,    131,    132,    133,    134,    135,    136,\n",
       "           137,    138,    139,    140,    141,    142,    143,    144,\n",
       "           145,    146,    147,    148,    149,    150,    151,    152,\n",
       "           153,    154,    155,    156,    157,    158,    159,    160,\n",
       "           161,    162,    163,    164,    165,    167,    168,    169,\n",
       "           170,    171,    172,    173,    174,    175,    176,    177,\n",
       "           178,    179,    180,    181,    182,    183,    184,    185,\n",
       "           186,    187,    188,    189,    190,    191,    192,    193,\n",
       "           195,    196,    198,    199,    200,    201,    202,    203,\n",
       "           204,    205,    206,    207,    208,    209,    210,    211,\n",
       "           213,    214,    217,    218,    219,    220,    222,    223,\n",
       "           224,    225,    226,    227,    228,    229,    230,    231,\n",
       "           233,    234,    235,    236,    237,    238,    239,    241,\n",
       "           244,    245,    246,    247,    249,    250,    251,    252,\n",
       "           253,    254,    255,    256,    257,    258,    259,    261,\n",
       "           262,    263,    264,    265,    266,    267,    269,    270,\n",
       "           271,    273,    274,    275,    276,    278,    280,    282,\n",
       "           283,    286,    287,    288,    289,    290,    292,    293,\n",
       "           294,    295,    296,    297,    298,    299,    300,    302,\n",
       "           303,    304,    305,    306,    308,    309,    310,    311,\n",
       "           312,    314,    315,    316,    317,    320,    321,    322,\n",
       "           323,    325,    326,    327,    328,    329,    331,    332,\n",
       "           333,    334,    335,    337,    338,    339,    340,    341,\n",
       "           342,    343,    344,    346,    349,    350,    351,    353,\n",
       "           354,    355,    356,    357,    361,    363,    365,    366,\n",
       "           368,    369,    373,    378,    379,    381,    382,    383,\n",
       "           386,    388,    389,    400,    403,    404,    406,    407,\n",
       "           409,    410,    411,    412,    416,    418,    420,    421,\n",
       "           422,    423,    425,    427,    433,    436,    439,    440,\n",
       "           441,    442,    445,    446,    447,    449,    451,    455,\n",
       "           456,    458,    459,    462,    463,    465,    468,    469,\n",
       "           470,    473,    476,    478,    479,    483,    487,    493,\n",
       "           496,    498,    501,    504,    507,    510,    511,    514,\n",
       "           515,    518,    520,    522,    526,    527,    528,    531,\n",
       "           533,    534,    535,    537,    539,    540,    544,    546,\n",
       "           547,    548,    552,    553,    556,    557,    558,    559,\n",
       "           560,    563,    564,    570,    576,    580,    582,    591,\n",
       "           597,    599,    604,    606,    608,    609,    616,    617,\n",
       "           623,    626,    628,    632,    635,    636,    639,    640,\n",
       "           642,    643,    644,    649,    651,    654,    655,    656,\n",
       "           657,    666,    672,    678,    685,    686,    687,    689,\n",
       "           690,    692,    693,    700,    703,    715,    717,    721,\n",
       "           731,    732,    735,    736,    740,    744,    745,    746,\n",
       "           753,    755,    764,    765,    768,    769,    781,    782,\n",
       "           787,    788,    795,    811,    816,    820,    825,    838,\n",
       "           839,    843,    844,    846,    850,    852,    859,    863,\n",
       "           870,    891,    894,    896,    902,    908,    923,    929,\n",
       "           930,    935,    939,    943,    952,    955,    962,    976,\n",
       "           982,    983,    985,    986,    994,    995,    997,    999,\n",
       "          1006,   1023,   1027,   1072,   1078,   1081,   1086,   1088,\n",
       "          1103,   1111,   1112,   1118,   1138,   1140,   1160,   1161,\n",
       "          1175,   1184,   1188,   1197,   1198,   1208,   1212,   1228,\n",
       "          1230,   1237,   1240,   1252,   1261,   1277,   1281,   1284,\n",
       "          1285,   1291,   1293,   1315,   1320,   1321,   1340,   1356,\n",
       "          1375,   1379,   1382,   1387,   1390,   1393,   1394,   1395,\n",
       "          1411,   1412,   1413,   1423,   1428,   1445,   1452,   1464,\n",
       "          1473,   1479,   1487,   1498,   1499,   1519,   1525,   1531,\n",
       "          1538,   1546,   1574,   1586,   1601,   1608,   1634,   1650,\n",
       "          1667,   1680,   1683,   1688,   1689,   1695,   1708,   1736,\n",
       "          1740,   1741,   1755,   1783,   1819,   1832,   1845,   1854,\n",
       "          1861,   1877,   1888,   1890,   1907,   1945,   1964,   1968,\n",
       "          1981,   1982,   1994,   2012,   2024,   2033,   2083,   2089,\n",
       "          2098,   2116,   2117,   2146,   2194,   2197,   2201,   2203,\n",
       "          2227,   2231,   2259,   2261,   2262,   2268,   2287,   2298,\n",
       "          2303,   2325,   2387,   2412,   2429,   2437,   2494,   2497,\n",
       "          2509,   2531,   2579,   2586,   2591,   2677,   2687,   2721,\n",
       "          2785,   2789,   2822,   2833,   2851,   2865,   2907,   2976,\n",
       "          2983,   2984,   2989,   3004,   3016,   3022,   3124,   3160,\n",
       "          3195,   3300,   3384,   3386,   3435,   3515,   3584,   3693,\n",
       "          3739,   3773,   3839,   3846,   3853,   4036,   4079,   4090,\n",
       "          4119,   4141,   4158,   4327,   4424,   4494,   4589,   4655,\n",
       "          4673,   4700,   4780,   4872,   4917,   4929,   5065,   5174,\n",
       "          5246,   5458,   5482,   5532,   5536,   5708,   5899,   6098,\n",
       "          6438,   6466,   6533,   6716,   6803,   6969,   7647,   7700,\n",
       "          7731,   7975,   8113,   8143,   8531,   8650,   8746,   8846,\n",
       "          8862,   8944,   9675,  10580,  12126,  12240,  13976,  15017,\n",
       "         15196,  16827,  19380,  19716,  24913,  28698,  39649,  41466,\n",
       "         43917,  81340,  82907, 308738, 747520], dtype=int64),\n",
       " array([     0,      1,      2,      3,      4,      5,      6,      7,\n",
       "             8,      9,     10,     11,     12,     13,     14,     15,\n",
       "            16,     17,     18,     19,     20,     21,     22,     23,\n",
       "            24,     25,     26,     27,     28,     29,     30,     31,\n",
       "            32,     33,     34,     35,     36,     37,     38,     39,\n",
       "            40,     41,     42,     43,     44,     45,     46,     47,\n",
       "            48,     49,     50,     51,     52,     53,     54,     55,\n",
       "            56,     57,     58,     59,     60,     61,     62,     63,\n",
       "            64,     65,     66,     67,     68,     69,     70,     71,\n",
       "            72,     73,     74,     75,     76,     77,     78,     79,\n",
       "            80,     81,     82,     83,     84,     85,     86,     87,\n",
       "            88,     89,     90,     91,     92,     93,     94,     95,\n",
       "            96,     97,     98,     99,    100,    101,    102,    103,\n",
       "           104,    105,    106,    107,    108,    109,    110,    111,\n",
       "           112,    113,    114,    115,    116,    117,    118,    119,\n",
       "           120,    121,    122,    123,    124,    125,    126,    127,\n",
       "           128,    129,    130,    131,    132,    133,    134,    135,\n",
       "           136,    137,    138,    139,    140,    142,    143,    144,\n",
       "           145,    146,    147,    148,    149,    150,    151,    152,\n",
       "           153,    154,    155,    156,    157,    158,    159,    160,\n",
       "           161,    162,    163,    164,    165,    166,    167,    168,\n",
       "           169,    170,    171,    172,    173,    174,    175,    177,\n",
       "           178,    179,    180,    181,    182,    183,    184,    185,\n",
       "           186,    187,    188,    189,    190,    191,    192,    193,\n",
       "           194,    195,    196,    197,    198,    199,    200,    201,\n",
       "           202,    203,    204,    205,    206,    207,    208,    209,\n",
       "           210,    212,    213,    214,    215,    216,    217,    218,\n",
       "           219,    220,    221,    222,    223,    224,    225,    226,\n",
       "           227,    228,    229,    230,    231,    232,    234,    235,\n",
       "           236,    237,    238,    239,    240,    241,    242,    243,\n",
       "           244,    245,    246,    247,    248,    249,    251,    252,\n",
       "           253,    254,    256,    257,    258,    260,    261,    262,\n",
       "           263,    264,    265,    267,    268,    269,    270,    271,\n",
       "           273,    276,    277,    278,    279,    280,    281,    282,\n",
       "           283,    284,    286,    287,    288,    289,    290,    291,\n",
       "           292,    293,    294,    296,    298,    299,    300,    301,\n",
       "           302,    303,    304,    305,    306,    307,    308,    309,\n",
       "           310,    312,    313,    314,    315,    316,    318,    319,\n",
       "           320,    321,    324,    325,    327,    329,    330,    332,\n",
       "           334,    335,    337,    338,    339,    340,    341,    342,\n",
       "           343,    344,    345,    346,    348,    349,    350,    351,\n",
       "           355,    356,    357,    358,    360,    364,    367,    369,\n",
       "           370,    371,    372,    373,    374,    376,    379,    380,\n",
       "           382,    383,    385,    386,    387,    388,    389,    391,\n",
       "           392,    393,    394,    396,    397,    398,    399,    401,\n",
       "           402,    403,    404,    408,    409,    414,    415,    417,\n",
       "           419,    420,    422,    424,    426,    427,    428,    429,\n",
       "           430,    431,    433,    436,    438,    439,    442,    444,\n",
       "           445,    446,    448,    449,    450,    451,    452,    453,\n",
       "           457,    458,    459,    460,    461,    463,    465,    466,\n",
       "           468,    470,    472,    475,    478,    481,    484,    485,\n",
       "           486,    489,    490,    492,    494,    495,    496,    497,\n",
       "           499,    503,    505,    507,    510,    512,    514,    515,\n",
       "           518,    519,    520,    521,    522,    523,    526,    527,\n",
       "           531,    533,    536,    537,    540,    544,    547,    548,\n",
       "           549,    552,    562,    564,    566,    567,    569,    574,\n",
       "           576,    580,    581,    584,    589,    592,    593,    594,\n",
       "           595,    599,    600,    604,    605,    606,    607,    608,\n",
       "           616,    620,    624,    625,    626,    627,    633,    638,\n",
       "           639,    642,    650,    667,    670,    671,    676,    677,\n",
       "           678,    681,    682,    683,    684,    685,    689,    694,\n",
       "           696,    697,    699,    701,    703,    705,    706,    713,\n",
       "           714,    718,    721,    724,    725,    726,    728,    731,\n",
       "           733,    734,    740,    742,    743,    746,    748,    749,\n",
       "           750,    755,    756,    759,    760,    765,    766,    767,\n",
       "           778,    779,    784,    786,    788,    790,    793,    796,\n",
       "           798,    799,    802,    805,    811,    812,    820,    821,\n",
       "           824,    830,    833,    835,    836,    842,    852,    854,\n",
       "           861,    869,    872,    876,    878,    879,    887,    889,\n",
       "           902,    906,    907,    909,    910,    917,    921,    936,\n",
       "           939,    947,    949,    968,    979,   1000,   1001,   1002,\n",
       "          1003,   1006,   1009,   1022,   1029,   1033,   1034,   1040,\n",
       "          1045,   1059,   1060,   1072,   1077,   1089,   1092,   1102,\n",
       "          1105,   1108,   1118,   1124,   1148,   1154,   1159,   1161,\n",
       "          1163,   1168,   1185,   1192,   1200,   1205,   1206,   1249,\n",
       "          1258,   1261,   1274,   1277,   1278,   1290,   1292,   1299,\n",
       "          1314,   1320,   1334,   1337,   1339,   1341,   1352,   1370,\n",
       "          1387,   1403,   1411,   1412,   1413,   1425,   1438,   1449,\n",
       "          1478,   1480,   1481,   1487,   1490,   1529,   1540,   1557,\n",
       "          1560,   1564,   1570,   1583,   1594,   1613,   1642,   1655,\n",
       "          1660,   1663,   1681,   1692,   1694,   1728,   1729,   1731,\n",
       "          1762,   1770,   1775,   1820,   1834,   1838,   1844,   1859,\n",
       "          1865,   1873,   1901,   1911,   1913,   1933,   1934,   1937,\n",
       "          1940,   1953,   1970,   1971,   1973,   1974,   1993,   2004,\n",
       "          2048,   2086,   2091,   2174,   2190,   2199,   2213,   2239,\n",
       "          2244,   2282,   2293,   2310,   2325,   2353,   2357,   2378,\n",
       "          2379,   2394,   2395,   2399,   2445,   2450,   2468,   2481,\n",
       "          2523,   2524,   2527,   2543,   2547,   2564,   2583,   2613,\n",
       "          2630,   2631,   2641,   2649,   2657,   2672,   2673,   2721,\n",
       "          2785,   2888,   2911,   2936,   2943,   2958,   2984,   3030,\n",
       "          3065,   3082,   3106,   3111,   3115,   3157,   3184,   3226,\n",
       "          3251,   3320,   3332,   3357,   3369,   3388,   3420,   3480,\n",
       "          3499,   3615,   3690,   3691,   3759,   3777,   3782,   3791,\n",
       "          3795,   3892,   3897,   3899,   3939,   3956,   3983,   4025,\n",
       "          4033,   4065,   4080,   4178,   4189,   4197,   4199,   4237,\n",
       "          4253,   4258,   4281,   4309,   4352,   4359,   4388,   4462,\n",
       "          4547,   4555,   4574,   4603,   4643,   4698,   4700,   4709,\n",
       "          4721,   4811,   4821,   5084,   5097,   5220,   5285,   5297,\n",
       "          5343,   5359,   5488,   5519,   5576,   5602,   5701,   5726,\n",
       "          5784,   5801,   5820,   5892,   5917,   6002,   6043,   6149,\n",
       "          6155,   6167,   6181,   6186,   6200,   6390,   6404,   6417,\n",
       "          6525,   6526,   6529,   6531,   6638,   6684,   6803,   6823,\n",
       "          6833,   6891,   6957,   6968,   7123,   7176,   7406,   7537,\n",
       "          7568,   7615,   7619,   7682,   7720,   7725,   7781,   7849,\n",
       "          7891,   7906,   7973,   8147,   8171,   8196,   8248,   8263,\n",
       "          8301,   8353,   8534,   8591,   8639,   8681,   8746,   8783,\n",
       "          8976,   9041,   9045,   9056,   9110,   9113,   9155,   9237,\n",
       "          9250,   9286,   9288,   9318,   9386,   9420,   9554,   9608,\n",
       "          9709,   9756,   9919,   9972,  10107,  10619,  11047,  11161,\n",
       "         11255,  11684,  11899,  11972,  12355,  12831,  12920,  13005,\n",
       "         14249,  14309,  14434,  14553,  14711,  15048,  15437,  15548,\n",
       "         16139,  16271,  16407,  16641,  17062,  17943,  18162,  18697,\n",
       "         19444,  20378,  20536,  21264,  21270,  23074,  24623,  25672,\n",
       "         25860,  26962,  30490,  31423,  31953,  32588,  32921,  43514,\n",
       "         50634,  78123,  79821,  81809,  84012,  85811, 156994, 219580,\n",
       "        288596, 327208], dtype=int64)]"
      ]
     },
     "execution_count": 221,
     "metadata": {},
     "output_type": "execute_result"
    }
   ],
   "source": [
    "# One hot encoder\n",
    "from sklearn.preprocessing import OneHotEncoder as OHE\n",
    "\n",
    "encoder = OHE(handle_unknown='ignore')\n",
    "encoder.fit(firewall_data)\n",
    "encoder.categories_"
   ]
  },
  {
   "cell_type": "code",
   "execution_count": 222,
   "metadata": {},
   "outputs": [
    {
     "data": {
      "text/html": [
       "<div>\n",
       "<style scoped>\n",
       "    .dataframe tbody tr th:only-of-type {\n",
       "        vertical-align: middle;\n",
       "    }\n",
       "\n",
       "    .dataframe tbody tr th {\n",
       "        vertical-align: top;\n",
       "    }\n",
       "\n",
       "    .dataframe thead th {\n",
       "        text-align: right;\n",
       "    }\n",
       "</style>\n",
       "<table border=\"1\" class=\"dataframe\">\n",
       "  <thead>\n",
       "    <tr style=\"text-align: right;\">\n",
       "      <th></th>\n",
       "      <th>0</th>\n",
       "      <th>1</th>\n",
       "      <th>2</th>\n",
       "      <th>3</th>\n",
       "    </tr>\n",
       "  </thead>\n",
       "  <tbody>\n",
       "    <tr>\n",
       "      <th>0</th>\n",
       "      <td>1.0</td>\n",
       "      <td>0.0</td>\n",
       "      <td>0.0</td>\n",
       "      <td>0.0</td>\n",
       "    </tr>\n",
       "    <tr>\n",
       "      <th>1</th>\n",
       "      <td>1.0</td>\n",
       "      <td>0.0</td>\n",
       "      <td>0.0</td>\n",
       "      <td>0.0</td>\n",
       "    </tr>\n",
       "    <tr>\n",
       "      <th>2</th>\n",
       "      <td>1.0</td>\n",
       "      <td>0.0</td>\n",
       "      <td>0.0</td>\n",
       "      <td>0.0</td>\n",
       "    </tr>\n",
       "    <tr>\n",
       "      <th>3</th>\n",
       "      <td>1.0</td>\n",
       "      <td>0.0</td>\n",
       "      <td>0.0</td>\n",
       "      <td>0.0</td>\n",
       "    </tr>\n",
       "    <tr>\n",
       "      <th>4</th>\n",
       "      <td>1.0</td>\n",
       "      <td>0.0</td>\n",
       "      <td>0.0</td>\n",
       "      <td>0.0</td>\n",
       "    </tr>\n",
       "    <tr>\n",
       "      <th>...</th>\n",
       "      <td>...</td>\n",
       "      <td>...</td>\n",
       "      <td>...</td>\n",
       "      <td>...</td>\n",
       "    </tr>\n",
       "    <tr>\n",
       "      <th>65527</th>\n",
       "      <td>1.0</td>\n",
       "      <td>0.0</td>\n",
       "      <td>0.0</td>\n",
       "      <td>0.0</td>\n",
       "    </tr>\n",
       "    <tr>\n",
       "      <th>65528</th>\n",
       "      <td>1.0</td>\n",
       "      <td>0.0</td>\n",
       "      <td>0.0</td>\n",
       "      <td>0.0</td>\n",
       "    </tr>\n",
       "    <tr>\n",
       "      <th>65529</th>\n",
       "      <td>0.0</td>\n",
       "      <td>0.0</td>\n",
       "      <td>1.0</td>\n",
       "      <td>0.0</td>\n",
       "    </tr>\n",
       "    <tr>\n",
       "      <th>65530</th>\n",
       "      <td>0.0</td>\n",
       "      <td>0.0</td>\n",
       "      <td>1.0</td>\n",
       "      <td>0.0</td>\n",
       "    </tr>\n",
       "    <tr>\n",
       "      <th>65531</th>\n",
       "      <td>0.0</td>\n",
       "      <td>0.0</td>\n",
       "      <td>1.0</td>\n",
       "      <td>0.0</td>\n",
       "    </tr>\n",
       "  </tbody>\n",
       "</table>\n",
       "<p>65532 rows × 4 columns</p>\n",
       "</div>"
      ],
      "text/plain": [
       "         0    1    2    3\n",
       "0      1.0  0.0  0.0  0.0\n",
       "1      1.0  0.0  0.0  0.0\n",
       "2      1.0  0.0  0.0  0.0\n",
       "3      1.0  0.0  0.0  0.0\n",
       "4      1.0  0.0  0.0  0.0\n",
       "...    ...  ...  ...  ...\n",
       "65527  1.0  0.0  0.0  0.0\n",
       "65528  1.0  0.0  0.0  0.0\n",
       "65529  0.0  0.0  1.0  0.0\n",
       "65530  0.0  0.0  1.0  0.0\n",
       "65531  0.0  0.0  1.0  0.0\n",
       "\n",
       "[65532 rows x 4 columns]"
      ]
     },
     "execution_count": 222,
     "metadata": {},
     "output_type": "execute_result"
    }
   ],
   "source": [
    "action_cat = pd.DataFrame(encoder.fit_transform(firewall_data[['Action']]).toarray())\n",
    "action_cat"
   ]
  },
  {
   "cell_type": "code",
   "execution_count": 223,
   "metadata": {},
   "outputs": [
    {
     "data": {
      "text/html": [
       "<div>\n",
       "<style scoped>\n",
       "    .dataframe tbody tr th:only-of-type {\n",
       "        vertical-align: middle;\n",
       "    }\n",
       "\n",
       "    .dataframe tbody tr th {\n",
       "        vertical-align: top;\n",
       "    }\n",
       "\n",
       "    .dataframe thead th {\n",
       "        text-align: right;\n",
       "    }\n",
       "</style>\n",
       "<table border=\"1\" class=\"dataframe\">\n",
       "  <thead>\n",
       "    <tr style=\"text-align: right;\">\n",
       "      <th></th>\n",
       "      <th>Source Port</th>\n",
       "      <th>Destination Port</th>\n",
       "      <th>NAT Source Port</th>\n",
       "      <th>NAT Destination Port</th>\n",
       "      <th>Action</th>\n",
       "      <th>Bytes</th>\n",
       "      <th>Bytes Sent</th>\n",
       "      <th>Bytes Received</th>\n",
       "      <th>Packets</th>\n",
       "      <th>Elapsed Time (sec)</th>\n",
       "      <th>pkts_sent</th>\n",
       "      <th>pkts_received</th>\n",
       "      <th>0</th>\n",
       "      <th>1</th>\n",
       "      <th>2</th>\n",
       "      <th>3</th>\n",
       "    </tr>\n",
       "  </thead>\n",
       "  <tbody>\n",
       "    <tr>\n",
       "      <th>0</th>\n",
       "      <td>57222</td>\n",
       "      <td>53</td>\n",
       "      <td>54587</td>\n",
       "      <td>53</td>\n",
       "      <td>allow</td>\n",
       "      <td>177</td>\n",
       "      <td>94</td>\n",
       "      <td>83</td>\n",
       "      <td>2</td>\n",
       "      <td>30</td>\n",
       "      <td>1</td>\n",
       "      <td>1</td>\n",
       "      <td>1.0</td>\n",
       "      <td>0.0</td>\n",
       "      <td>0.0</td>\n",
       "      <td>0.0</td>\n",
       "    </tr>\n",
       "    <tr>\n",
       "      <th>1</th>\n",
       "      <td>56258</td>\n",
       "      <td>3389</td>\n",
       "      <td>56258</td>\n",
       "      <td>3389</td>\n",
       "      <td>allow</td>\n",
       "      <td>4768</td>\n",
       "      <td>1600</td>\n",
       "      <td>3168</td>\n",
       "      <td>19</td>\n",
       "      <td>17</td>\n",
       "      <td>10</td>\n",
       "      <td>9</td>\n",
       "      <td>1.0</td>\n",
       "      <td>0.0</td>\n",
       "      <td>0.0</td>\n",
       "      <td>0.0</td>\n",
       "    </tr>\n",
       "    <tr>\n",
       "      <th>2</th>\n",
       "      <td>6881</td>\n",
       "      <td>50321</td>\n",
       "      <td>43265</td>\n",
       "      <td>50321</td>\n",
       "      <td>allow</td>\n",
       "      <td>238</td>\n",
       "      <td>118</td>\n",
       "      <td>120</td>\n",
       "      <td>2</td>\n",
       "      <td>1199</td>\n",
       "      <td>1</td>\n",
       "      <td>1</td>\n",
       "      <td>1.0</td>\n",
       "      <td>0.0</td>\n",
       "      <td>0.0</td>\n",
       "      <td>0.0</td>\n",
       "    </tr>\n",
       "    <tr>\n",
       "      <th>3</th>\n",
       "      <td>50553</td>\n",
       "      <td>3389</td>\n",
       "      <td>50553</td>\n",
       "      <td>3389</td>\n",
       "      <td>allow</td>\n",
       "      <td>3327</td>\n",
       "      <td>1438</td>\n",
       "      <td>1889</td>\n",
       "      <td>15</td>\n",
       "      <td>17</td>\n",
       "      <td>8</td>\n",
       "      <td>7</td>\n",
       "      <td>1.0</td>\n",
       "      <td>0.0</td>\n",
       "      <td>0.0</td>\n",
       "      <td>0.0</td>\n",
       "    </tr>\n",
       "    <tr>\n",
       "      <th>4</th>\n",
       "      <td>50002</td>\n",
       "      <td>443</td>\n",
       "      <td>45848</td>\n",
       "      <td>443</td>\n",
       "      <td>allow</td>\n",
       "      <td>25358</td>\n",
       "      <td>6778</td>\n",
       "      <td>18580</td>\n",
       "      <td>31</td>\n",
       "      <td>16</td>\n",
       "      <td>13</td>\n",
       "      <td>18</td>\n",
       "      <td>1.0</td>\n",
       "      <td>0.0</td>\n",
       "      <td>0.0</td>\n",
       "      <td>0.0</td>\n",
       "    </tr>\n",
       "    <tr>\n",
       "      <th>...</th>\n",
       "      <td>...</td>\n",
       "      <td>...</td>\n",
       "      <td>...</td>\n",
       "      <td>...</td>\n",
       "      <td>...</td>\n",
       "      <td>...</td>\n",
       "      <td>...</td>\n",
       "      <td>...</td>\n",
       "      <td>...</td>\n",
       "      <td>...</td>\n",
       "      <td>...</td>\n",
       "      <td>...</td>\n",
       "      <td>...</td>\n",
       "      <td>...</td>\n",
       "      <td>...</td>\n",
       "      <td>...</td>\n",
       "    </tr>\n",
       "    <tr>\n",
       "      <th>65527</th>\n",
       "      <td>63691</td>\n",
       "      <td>80</td>\n",
       "      <td>13237</td>\n",
       "      <td>80</td>\n",
       "      <td>allow</td>\n",
       "      <td>314</td>\n",
       "      <td>192</td>\n",
       "      <td>122</td>\n",
       "      <td>6</td>\n",
       "      <td>15</td>\n",
       "      <td>4</td>\n",
       "      <td>2</td>\n",
       "      <td>1.0</td>\n",
       "      <td>0.0</td>\n",
       "      <td>0.0</td>\n",
       "      <td>0.0</td>\n",
       "    </tr>\n",
       "    <tr>\n",
       "      <th>65528</th>\n",
       "      <td>50964</td>\n",
       "      <td>80</td>\n",
       "      <td>13485</td>\n",
       "      <td>80</td>\n",
       "      <td>allow</td>\n",
       "      <td>4680740</td>\n",
       "      <td>67312</td>\n",
       "      <td>4613428</td>\n",
       "      <td>4675</td>\n",
       "      <td>77</td>\n",
       "      <td>985</td>\n",
       "      <td>3690</td>\n",
       "      <td>1.0</td>\n",
       "      <td>0.0</td>\n",
       "      <td>0.0</td>\n",
       "      <td>0.0</td>\n",
       "    </tr>\n",
       "    <tr>\n",
       "      <th>65529</th>\n",
       "      <td>54871</td>\n",
       "      <td>445</td>\n",
       "      <td>0</td>\n",
       "      <td>0</td>\n",
       "      <td>drop</td>\n",
       "      <td>70</td>\n",
       "      <td>70</td>\n",
       "      <td>0</td>\n",
       "      <td>1</td>\n",
       "      <td>0</td>\n",
       "      <td>1</td>\n",
       "      <td>0</td>\n",
       "      <td>0.0</td>\n",
       "      <td>0.0</td>\n",
       "      <td>1.0</td>\n",
       "      <td>0.0</td>\n",
       "    </tr>\n",
       "    <tr>\n",
       "      <th>65530</th>\n",
       "      <td>54870</td>\n",
       "      <td>445</td>\n",
       "      <td>0</td>\n",
       "      <td>0</td>\n",
       "      <td>drop</td>\n",
       "      <td>70</td>\n",
       "      <td>70</td>\n",
       "      <td>0</td>\n",
       "      <td>1</td>\n",
       "      <td>0</td>\n",
       "      <td>1</td>\n",
       "      <td>0</td>\n",
       "      <td>0.0</td>\n",
       "      <td>0.0</td>\n",
       "      <td>1.0</td>\n",
       "      <td>0.0</td>\n",
       "    </tr>\n",
       "    <tr>\n",
       "      <th>65531</th>\n",
       "      <td>54867</td>\n",
       "      <td>445</td>\n",
       "      <td>0</td>\n",
       "      <td>0</td>\n",
       "      <td>drop</td>\n",
       "      <td>70</td>\n",
       "      <td>70</td>\n",
       "      <td>0</td>\n",
       "      <td>1</td>\n",
       "      <td>0</td>\n",
       "      <td>1</td>\n",
       "      <td>0</td>\n",
       "      <td>0.0</td>\n",
       "      <td>0.0</td>\n",
       "      <td>1.0</td>\n",
       "      <td>0.0</td>\n",
       "    </tr>\n",
       "  </tbody>\n",
       "</table>\n",
       "<p>65532 rows × 16 columns</p>\n",
       "</div>"
      ],
      "text/plain": [
       "       Source Port  Destination Port  NAT Source Port  NAT Destination Port  \\\n",
       "0            57222                53            54587                    53   \n",
       "1            56258              3389            56258                  3389   \n",
       "2             6881             50321            43265                 50321   \n",
       "3            50553              3389            50553                  3389   \n",
       "4            50002               443            45848                   443   \n",
       "...            ...               ...              ...                   ...   \n",
       "65527        63691                80            13237                    80   \n",
       "65528        50964                80            13485                    80   \n",
       "65529        54871               445                0                     0   \n",
       "65530        54870               445                0                     0   \n",
       "65531        54867               445                0                     0   \n",
       "\n",
       "      Action    Bytes  Bytes Sent  Bytes Received  Packets  \\\n",
       "0      allow      177          94              83        2   \n",
       "1      allow     4768        1600            3168       19   \n",
       "2      allow      238         118             120        2   \n",
       "3      allow     3327        1438            1889       15   \n",
       "4      allow    25358        6778           18580       31   \n",
       "...      ...      ...         ...             ...      ...   \n",
       "65527  allow      314         192             122        6   \n",
       "65528  allow  4680740       67312         4613428     4675   \n",
       "65529   drop       70          70               0        1   \n",
       "65530   drop       70          70               0        1   \n",
       "65531   drop       70          70               0        1   \n",
       "\n",
       "       Elapsed Time (sec)  pkts_sent  pkts_received    0    1    2    3  \n",
       "0                      30          1              1  1.0  0.0  0.0  0.0  \n",
       "1                      17         10              9  1.0  0.0  0.0  0.0  \n",
       "2                    1199          1              1  1.0  0.0  0.0  0.0  \n",
       "3                      17          8              7  1.0  0.0  0.0  0.0  \n",
       "4                      16         13             18  1.0  0.0  0.0  0.0  \n",
       "...                   ...        ...            ...  ...  ...  ...  ...  \n",
       "65527                  15          4              2  1.0  0.0  0.0  0.0  \n",
       "65528                  77        985           3690  1.0  0.0  0.0  0.0  \n",
       "65529                   0          1              0  0.0  0.0  1.0  0.0  \n",
       "65530                   0          1              0  0.0  0.0  1.0  0.0  \n",
       "65531                   0          1              0  0.0  0.0  1.0  0.0  \n",
       "\n",
       "[65532 rows x 16 columns]"
      ]
     },
     "execution_count": 223,
     "metadata": {},
     "output_type": "execute_result"
    }
   ],
   "source": [
    "data = firewall_data.join(action_cat)\n",
    "data"
   ]
  },
  {
   "cell_type": "markdown",
   "metadata": {},
   "source": [
    "After joining the numerical value of 'Action', we can choose to drop the catergorical value of 'Action'"
   ]
  },
  {
   "cell_type": "code",
   "execution_count": 224,
   "metadata": {},
   "outputs": [
    {
     "data": {
      "text/html": [
       "<div>\n",
       "<style scoped>\n",
       "    .dataframe tbody tr th:only-of-type {\n",
       "        vertical-align: middle;\n",
       "    }\n",
       "\n",
       "    .dataframe tbody tr th {\n",
       "        vertical-align: top;\n",
       "    }\n",
       "\n",
       "    .dataframe thead th {\n",
       "        text-align: right;\n",
       "    }\n",
       "</style>\n",
       "<table border=\"1\" class=\"dataframe\">\n",
       "  <thead>\n",
       "    <tr style=\"text-align: right;\">\n",
       "      <th></th>\n",
       "      <th>Source Port</th>\n",
       "      <th>Destination Port</th>\n",
       "      <th>NAT Source Port</th>\n",
       "      <th>NAT Destination Port</th>\n",
       "      <th>Bytes</th>\n",
       "      <th>Bytes Sent</th>\n",
       "      <th>Bytes Received</th>\n",
       "      <th>Packets</th>\n",
       "      <th>Elapsed Time (sec)</th>\n",
       "      <th>pkts_sent</th>\n",
       "      <th>pkts_received</th>\n",
       "      <th>0</th>\n",
       "      <th>1</th>\n",
       "      <th>2</th>\n",
       "      <th>3</th>\n",
       "    </tr>\n",
       "  </thead>\n",
       "  <tbody>\n",
       "    <tr>\n",
       "      <th>0</th>\n",
       "      <td>57222</td>\n",
       "      <td>53</td>\n",
       "      <td>54587</td>\n",
       "      <td>53</td>\n",
       "      <td>177</td>\n",
       "      <td>94</td>\n",
       "      <td>83</td>\n",
       "      <td>2</td>\n",
       "      <td>30</td>\n",
       "      <td>1</td>\n",
       "      <td>1</td>\n",
       "      <td>1.0</td>\n",
       "      <td>0.0</td>\n",
       "      <td>0.0</td>\n",
       "      <td>0.0</td>\n",
       "    </tr>\n",
       "    <tr>\n",
       "      <th>1</th>\n",
       "      <td>56258</td>\n",
       "      <td>3389</td>\n",
       "      <td>56258</td>\n",
       "      <td>3389</td>\n",
       "      <td>4768</td>\n",
       "      <td>1600</td>\n",
       "      <td>3168</td>\n",
       "      <td>19</td>\n",
       "      <td>17</td>\n",
       "      <td>10</td>\n",
       "      <td>9</td>\n",
       "      <td>1.0</td>\n",
       "      <td>0.0</td>\n",
       "      <td>0.0</td>\n",
       "      <td>0.0</td>\n",
       "    </tr>\n",
       "    <tr>\n",
       "      <th>2</th>\n",
       "      <td>6881</td>\n",
       "      <td>50321</td>\n",
       "      <td>43265</td>\n",
       "      <td>50321</td>\n",
       "      <td>238</td>\n",
       "      <td>118</td>\n",
       "      <td>120</td>\n",
       "      <td>2</td>\n",
       "      <td>1199</td>\n",
       "      <td>1</td>\n",
       "      <td>1</td>\n",
       "      <td>1.0</td>\n",
       "      <td>0.0</td>\n",
       "      <td>0.0</td>\n",
       "      <td>0.0</td>\n",
       "    </tr>\n",
       "    <tr>\n",
       "      <th>3</th>\n",
       "      <td>50553</td>\n",
       "      <td>3389</td>\n",
       "      <td>50553</td>\n",
       "      <td>3389</td>\n",
       "      <td>3327</td>\n",
       "      <td>1438</td>\n",
       "      <td>1889</td>\n",
       "      <td>15</td>\n",
       "      <td>17</td>\n",
       "      <td>8</td>\n",
       "      <td>7</td>\n",
       "      <td>1.0</td>\n",
       "      <td>0.0</td>\n",
       "      <td>0.0</td>\n",
       "      <td>0.0</td>\n",
       "    </tr>\n",
       "    <tr>\n",
       "      <th>4</th>\n",
       "      <td>50002</td>\n",
       "      <td>443</td>\n",
       "      <td>45848</td>\n",
       "      <td>443</td>\n",
       "      <td>25358</td>\n",
       "      <td>6778</td>\n",
       "      <td>18580</td>\n",
       "      <td>31</td>\n",
       "      <td>16</td>\n",
       "      <td>13</td>\n",
       "      <td>18</td>\n",
       "      <td>1.0</td>\n",
       "      <td>0.0</td>\n",
       "      <td>0.0</td>\n",
       "      <td>0.0</td>\n",
       "    </tr>\n",
       "    <tr>\n",
       "      <th>...</th>\n",
       "      <td>...</td>\n",
       "      <td>...</td>\n",
       "      <td>...</td>\n",
       "      <td>...</td>\n",
       "      <td>...</td>\n",
       "      <td>...</td>\n",
       "      <td>...</td>\n",
       "      <td>...</td>\n",
       "      <td>...</td>\n",
       "      <td>...</td>\n",
       "      <td>...</td>\n",
       "      <td>...</td>\n",
       "      <td>...</td>\n",
       "      <td>...</td>\n",
       "      <td>...</td>\n",
       "    </tr>\n",
       "    <tr>\n",
       "      <th>65527</th>\n",
       "      <td>63691</td>\n",
       "      <td>80</td>\n",
       "      <td>13237</td>\n",
       "      <td>80</td>\n",
       "      <td>314</td>\n",
       "      <td>192</td>\n",
       "      <td>122</td>\n",
       "      <td>6</td>\n",
       "      <td>15</td>\n",
       "      <td>4</td>\n",
       "      <td>2</td>\n",
       "      <td>1.0</td>\n",
       "      <td>0.0</td>\n",
       "      <td>0.0</td>\n",
       "      <td>0.0</td>\n",
       "    </tr>\n",
       "    <tr>\n",
       "      <th>65528</th>\n",
       "      <td>50964</td>\n",
       "      <td>80</td>\n",
       "      <td>13485</td>\n",
       "      <td>80</td>\n",
       "      <td>4680740</td>\n",
       "      <td>67312</td>\n",
       "      <td>4613428</td>\n",
       "      <td>4675</td>\n",
       "      <td>77</td>\n",
       "      <td>985</td>\n",
       "      <td>3690</td>\n",
       "      <td>1.0</td>\n",
       "      <td>0.0</td>\n",
       "      <td>0.0</td>\n",
       "      <td>0.0</td>\n",
       "    </tr>\n",
       "    <tr>\n",
       "      <th>65529</th>\n",
       "      <td>54871</td>\n",
       "      <td>445</td>\n",
       "      <td>0</td>\n",
       "      <td>0</td>\n",
       "      <td>70</td>\n",
       "      <td>70</td>\n",
       "      <td>0</td>\n",
       "      <td>1</td>\n",
       "      <td>0</td>\n",
       "      <td>1</td>\n",
       "      <td>0</td>\n",
       "      <td>0.0</td>\n",
       "      <td>0.0</td>\n",
       "      <td>1.0</td>\n",
       "      <td>0.0</td>\n",
       "    </tr>\n",
       "    <tr>\n",
       "      <th>65530</th>\n",
       "      <td>54870</td>\n",
       "      <td>445</td>\n",
       "      <td>0</td>\n",
       "      <td>0</td>\n",
       "      <td>70</td>\n",
       "      <td>70</td>\n",
       "      <td>0</td>\n",
       "      <td>1</td>\n",
       "      <td>0</td>\n",
       "      <td>1</td>\n",
       "      <td>0</td>\n",
       "      <td>0.0</td>\n",
       "      <td>0.0</td>\n",
       "      <td>1.0</td>\n",
       "      <td>0.0</td>\n",
       "    </tr>\n",
       "    <tr>\n",
       "      <th>65531</th>\n",
       "      <td>54867</td>\n",
       "      <td>445</td>\n",
       "      <td>0</td>\n",
       "      <td>0</td>\n",
       "      <td>70</td>\n",
       "      <td>70</td>\n",
       "      <td>0</td>\n",
       "      <td>1</td>\n",
       "      <td>0</td>\n",
       "      <td>1</td>\n",
       "      <td>0</td>\n",
       "      <td>0.0</td>\n",
       "      <td>0.0</td>\n",
       "      <td>1.0</td>\n",
       "      <td>0.0</td>\n",
       "    </tr>\n",
       "  </tbody>\n",
       "</table>\n",
       "<p>65532 rows × 15 columns</p>\n",
       "</div>"
      ],
      "text/plain": [
       "       Source Port  Destination Port  NAT Source Port  NAT Destination Port  \\\n",
       "0            57222                53            54587                    53   \n",
       "1            56258              3389            56258                  3389   \n",
       "2             6881             50321            43265                 50321   \n",
       "3            50553              3389            50553                  3389   \n",
       "4            50002               443            45848                   443   \n",
       "...            ...               ...              ...                   ...   \n",
       "65527        63691                80            13237                    80   \n",
       "65528        50964                80            13485                    80   \n",
       "65529        54871               445                0                     0   \n",
       "65530        54870               445                0                     0   \n",
       "65531        54867               445                0                     0   \n",
       "\n",
       "         Bytes  Bytes Sent  Bytes Received  Packets  Elapsed Time (sec)  \\\n",
       "0          177          94              83        2                  30   \n",
       "1         4768        1600            3168       19                  17   \n",
       "2          238         118             120        2                1199   \n",
       "3         3327        1438            1889       15                  17   \n",
       "4        25358        6778           18580       31                  16   \n",
       "...        ...         ...             ...      ...                 ...   \n",
       "65527      314         192             122        6                  15   \n",
       "65528  4680740       67312         4613428     4675                  77   \n",
       "65529       70          70               0        1                   0   \n",
       "65530       70          70               0        1                   0   \n",
       "65531       70          70               0        1                   0   \n",
       "\n",
       "       pkts_sent  pkts_received    0    1    2    3  \n",
       "0              1              1  1.0  0.0  0.0  0.0  \n",
       "1             10              9  1.0  0.0  0.0  0.0  \n",
       "2              1              1  1.0  0.0  0.0  0.0  \n",
       "3              8              7  1.0  0.0  0.0  0.0  \n",
       "4             13             18  1.0  0.0  0.0  0.0  \n",
       "...          ...            ...  ...  ...  ...  ...  \n",
       "65527          4              2  1.0  0.0  0.0  0.0  \n",
       "65528        985           3690  1.0  0.0  0.0  0.0  \n",
       "65529          1              0  0.0  0.0  1.0  0.0  \n",
       "65530          1              0  0.0  0.0  1.0  0.0  \n",
       "65531          1              0  0.0  0.0  1.0  0.0  \n",
       "\n",
       "[65532 rows x 15 columns]"
      ]
     },
     "execution_count": 224,
     "metadata": {},
     "output_type": "execute_result"
    }
   ],
   "source": [
    "data = data.drop('Action',axis=1)\n",
    "data"
   ]
  },
  {
   "cell_type": "markdown",
   "metadata": {},
   "source": [
    "In this case, all inputs are very important contributing to the action provided by the firewall thus, all attribute are counted into the model."
   ]
  },
  {
   "cell_type": "code",
   "execution_count": 225,
   "metadata": {},
   "outputs": [
    {
     "name": "stdout",
     "output_type": "stream",
     "text": [
      "Training Sets: \n",
      "X:\t (45872, 11) \n",
      "y:\t (45872, 4)\n",
      "\n",
      "Testing Sets: \n",
      "X:\t (19660, 11) \n",
      "y:\t (19660, 4)\n"
     ]
    }
   ],
   "source": [
    "# Creating instance of K-NN Alogrithm\n",
    "from sklearn.neighbors import KNeighborsClassifier as KNClf\n",
    "action_model = KNClf()\n",
    "\n",
    "# Splitting dataset into input and outputs; or using the original values\n",
    "X = firewall_data.drop(['Action'],axis=1)\n",
    "y = action_cat\n",
    "y_cat = firewall_data['Action']\n",
    "\n",
    "X_train,X_test,y_train,y_test = train_test_split(X,y,test_size=0.3,random_state=42)\n",
    "y_train_cat = encoder.inverse_transform(y_train)\n",
    "y_test_cat = encoder.inverse_transform(y_test)\n",
    "\n",
    "\n",
    "print(\"Training Sets:\",\"\\nX:\\t\",X_train.shape,\"\\ny:\\t\",y_train.shape)\n",
    "print(\"\\nTesting Sets:\",\"\\nX:\\t\",X_test.shape,\"\\ny:\\t\",y_test.shape)"
   ]
  },
  {
   "cell_type": "code",
   "execution_count": 226,
   "metadata": {},
   "outputs": [
    {
     "name": "stdout",
     "output_type": "stream",
     "text": [
      "Actual\t\t|\tPredicted\n",
      "---------------------------------\n",
      "allow \t\t|\t allow\n",
      "drop \t\t|\t drop\n",
      "allow \t\t|\t allow\n",
      "allow \t\t|\t allow\n",
      "deny \t\t|\t deny\n",
      "deny \t\t|\t deny\n",
      "deny \t\t|\t deny\n",
      "allow \t\t|\t allow\n",
      "drop \t\t|\t drop\n",
      "deny \t\t|\t deny\n",
      "drop \t\t|\t drop\n",
      "allow \t\t|\t allow\n",
      "allow \t\t|\t allow\n",
      "allow \t\t|\t allow\n",
      "allow \t\t|\t allow\n",
      "allow \t\t|\t allow\n",
      "deny \t\t|\t deny\n",
      "allow \t\t|\t allow\n",
      "allow \t\t|\t allow\n",
      "allow \t\t|\t allow\n"
     ]
    }
   ],
   "source": [
    "# Training the KNN model\n",
    "action_model.fit(X_train,y_train)\n",
    "\n",
    "# Making a prediction on the testing sets\n",
    "y_action_predict = action_model.predict(X_train)\n",
    "\n",
    "# But first, let's make it readable by converting it back to categorical value\n",
    "y_action_predict_cat = encoder.inverse_transform(y_action_predict)\n",
    "\n",
    "# Let's see if the prediction is accurate enough\n",
    "def listToString(s):  \n",
    "    # initialize an empty string \n",
    "    str1 = \"\"  \n",
    "    # traverse in the string   \n",
    "    for ele in s:  \n",
    "        str1 += ele   \n",
    "    # return string   \n",
    "    return str1  \n",
    "\n",
    "def peek_results(actual, predicted, num = 20):\n",
    "    print('Actual\\t\\t|\\tPredicted')\n",
    "    print('---------------------------------')\n",
    "    for i in range(num):\n",
    "        sel = np.random.randint(0, len(y_action_predict_cat))\n",
    "        print(listToString(actual[sel]), '\\t\\t|\\t', listToString(predicted[sel]))\n",
    "        \n",
    "peek_results(y_train_cat, y_action_predict_cat)"
   ]
  },
  {
   "cell_type": "code",
   "execution_count": 227,
   "metadata": {},
   "outputs": [
    {
     "name": "stdout",
     "output_type": "stream",
     "text": [
      "Training Accuracy: 0.9947\n"
     ]
    }
   ],
   "source": [
    "# Accuracy Performance\n",
    "from sklearn.metrics import accuracy_score as AS\n",
    "acc = AS(y_action_predict, y_train)\n",
    "\n",
    "print(\"Training Accuracy: {:.4f}\".format(acc))"
   ]
  },
  {
   "cell_type": "code",
   "execution_count": 228,
   "metadata": {},
   "outputs": [
    {
     "data": {
      "image/png": "[encoded data removed]",
      "text/plain": [
       "<Figure size 640x480 with 2 Axes>"
      ]
     },
     "metadata": {},
     "output_type": "display_data"
    },
    {
     "data": {
      "image/png": "[encoded data removed]",
      "text/plain": [
       "<Figure size 640x480 with 2 Axes>"
      ]
     },
     "metadata": {},
     "output_type": "display_data"
    },
    {
     "data": {
      "image/png": "[encoded data removed]",
      "text/plain": [
       "<Figure size 640x480 with 2 Axes>"
      ]
     },
     "metadata": {},
     "output_type": "display_data"
    },
    {
     "data": {
      "image/png": "[encoded data removed]",
      "text/plain": [
       "<Figure size 640x480 with 2 Axes>"
      ]
     },
     "metadata": {},
     "output_type": "display_data"
    }
   ],
   "source": [
    "# Plotting the confusion matrix to determine the accuracy and recall\n",
    "from sklearn.metrics import confusion_matrix as CM\n",
    "from sklearn.metrics import multilabel_confusion_matrix as MCM\n",
    "\n",
    "action_labels=[\"allow\",\"deny\",\"drop\",\"reset-both\"]\n",
    "\n",
    "c_matrix = MCM(y_train, y_action_predict)\n",
    "\n",
    "import seaborn as sn\n",
    "def plot_confusion_matrix(cfm, y_test, caller, algor_name):\n",
    "    # plot confusion_matrix\n",
    "    df_cm = pd.DataFrame(cfm, columns=np.unique(y_test), index = np.unique(y_test))\n",
    "    df_cm.index.name = 'Actual'\n",
    "    df_cm.columns.name = 'Predicted'\n",
    "    fig = plt.figure()\n",
    "    plt.title('Confusion Matrix: ' + caller, fontsize=14)\n",
    "    plt.suptitle(algor_name, fontsize=16)\n",
    "    plt.style.use('default')\n",
    "    fig.tight_layout(rect=[0, 0.03, 1, 0.95])\n",
    "    sn.set(font_scale=1.4)\n",
    "    sn.heatmap(df_cm, cmap=\"Blues\", annot=True, fmt='g', annot_kws={\"size\": 10})\n",
    "    plt.show()\n",
    "\n",
    "plot_confusion_matrix(c_matrix[0], y_train[0], 'Firewall Action - Allow', type(action_model).__name__)\n",
    "plot_confusion_matrix(c_matrix[1], y_train[1], 'Firewall Action - Deny', type(action_model).__name__)\n",
    "plot_confusion_matrix(c_matrix[2], y_train[2], 'Firewall Action - Drop', type(action_model).__name__)\n",
    "plot_confusion_matrix(c_matrix[3], y_train[3], 'Firewall Action - Reset Both', type(action_model).__name__)\n"
   ]
  },
  {
   "cell_type": "code",
   "execution_count": 229,
   "metadata": {},
   "outputs": [
    {
     "name": "stdout",
     "output_type": "stream",
     "text": [
      "Precision\t= 0.9948\n",
      "Recall\t\t= 0.9947\n",
      "F1 Score\t= 0.9944\n"
     ]
    }
   ],
   "source": [
    "# Conducting performance measure on the model\n",
    "from sklearn.metrics import precision_score, recall_score, f1_score \n",
    "\n",
    "print(\"Precision\\t= {:.4f}\".format(precision_score(y_train,y_action_predict,average=\"weighted\")))\n",
    "print(\"Recall\\t\\t= {:.4f}\".format(recall_score(y_train,y_action_predict,average=\"weighted\")))\n",
    "print(\"F1 Score\\t= {:.4f}\".format(f1_score(y_train,y_action_predict,average=\"weighted\")))"
   ]
  },
  {
   "cell_type": "code",
   "execution_count": 230,
   "metadata": {},
   "outputs": [
    {
     "name": "stdout",
     "output_type": "stream",
     "text": [
      "5-fold cross validation scores:  [0.99186 0.99186 0.99059 0.98957 0.99262]\n",
      "\n",
      "Cross Validation Predictions:\n",
      " [[0. 1. 0. 0.]\n",
      " [0. 1. 0. 0.]\n",
      " [1. 0. 0. 0.]\n",
      " ...\n",
      " [1. 0. 0. 0.]\n",
      " [1. 0. 0. 0.]\n",
      " [1. 0. 0. 0.]]\n"
     ]
    }
   ],
   "source": [
    "# Cross validation of data\n",
    "from sklearn.model_selection import cross_val_score as CVS\n",
    "from sklearn.model_selection import cross_val_predict as CVP\n",
    "from sklearn.metrics import mean_squared_error as MSE\n",
    "\n",
    "y_scores = CVS(action_model, X_test, y_test, cv=5)\n",
    "print(\"5-fold cross validation scores: \",y_scores)\n",
    "\n",
    "y_scores_cv = CVP(action_model, X_train, y_train, cv=5, method=\"predict\")\n",
    "print(\"\\nCross Validation Predictions:\\n\",y_scores_cv)\n"
   ]
  },
  {
   "cell_type": "code",
   "execution_count": 231,
   "metadata": {},
   "outputs": [
    {
     "name": "stdout",
     "output_type": "stream",
     "text": [
      "Average precision score, micro-averaged over all classes: 0.99\n"
     ]
    },
    {
     "data": {
      "text/plain": [
       "Text(0.5, 1.0, 'Average precision score, micro-averaged over all classes: AP=0.99')"
      ]
     },
     "execution_count": 231,
     "metadata": {},
     "output_type": "execute_result"
    },
    {
     "data": {
      "image/png": "[encoded data removed]",
      "text/plain": [
       "<Figure size 640x480 with 1 Axes>"
      ]
     },
     "metadata": {},
     "output_type": "display_data"
    }
   ],
   "source": [
    "# Plotting of PR Graph that support multiclass\n",
    "from sklearn.multiclass import OneVsRestClassifier as OvsR\n",
    "from sklearn.metrics import precision_recall_curve\n",
    "from sklearn.metrics import plot_precision_recall_curve\n",
    "from sklearn.metrics import average_precision_score\n",
    "\n",
    "# Using OneVsRestClassifier for multi-label prediction\n",
    "clf = OvsR(KNClf())\n",
    "clf.fit(X_train, y_train)\n",
    "y_prob = clf.predict(X_train)\n",
    "\n",
    "# For each class\n",
    "precision = dict()\n",
    "recall = dict()\n",
    "average_precision = dict()\n",
    "for i in range(y.shape[1]):\n",
    "    precision[i], recall[i], _ = precision_recall_curve(np.array(y_train)[:, i], y_prob[:, i])\n",
    "    average_precision[i] = average_precision_score(np.array(y_train)[:, i], y_prob[:, i])\n",
    "\n",
    "# A \"micro-average\": quantifying score on all classes jointly\n",
    "precision[\"micro\"], recall[\"micro\"], _ = precision_recall_curve(np.array(y_train).ravel(), y_prob.ravel())\n",
    "average_precision[\"micro\"] = average_precision_score(y_train, y_prob, average=\"micro\")\n",
    "print('Average precision score, micro-averaged over all classes: {0:0.2f}'.format(average_precision[\"micro\"]))\n",
    "\n",
    "plt.figure()\n",
    "plt.step(recall['micro'], precision['micro'], where='post')\n",
    "plt.plot([0, 1], [1, 0], color='darkorange', linestyle='--')\n",
    "plt.xlabel('Recall')\n",
    "plt.ylabel('Precision')\n",
    "plt.ylim([0.0, 1.05])\n",
    "plt.xlim([0.0, 1.0])\n",
    "plt.title('Average precision score, micro-averaged over all classes: AP={0:0.2f}'.format(average_precision[\"micro\"]))"
   ]
  },
  {
   "cell_type": "code",
   "execution_count": 232,
   "metadata": {},
   "outputs": [
    {
     "data": {
      "image/png": "[encoded data removed]",
      "text/plain": [
       "<Figure size 640x480 with 1 Axes>"
      ]
     },
     "metadata": {},
     "output_type": "display_data"
    }
   ],
   "source": [
    "# Plotting of ROC Graph that supports multiclass\n",
    "from sklearn.metrics import roc_curve, auc\n",
    "\n",
    "y_prob = clf.predict(X_train)\n",
    "\n",
    "fpr = dict()\n",
    "tpr = dict()\n",
    "roc_auc = dict()\n",
    "for i in range(y.shape[1]):\n",
    "    fpr[i], tpr[i], _ = roc_curve(np.array(y_train)[:, i], y_prob[:, i])\n",
    "    roc_auc[i] = auc(fpr[i], tpr[i])\n",
    "\n",
    "# Compute micro-average ROC curve and ROC area\n",
    "fpr[\"micro\"], tpr[\"micro\"], _ = roc_curve(np.array(y_train).ravel(), y_prob.ravel())\n",
    "roc_auc[\"micro\"] = auc(fpr[\"micro\"], tpr[\"micro\"])\n",
    "\n",
    "# Plot of a ROC curve for a specific class\n",
    "\n",
    "plt.figure()\n",
    "lw = 2\n",
    "plt.plot(fpr[2], tpr[2], color='darkorange',\n",
    "         lw=lw, label='ROC curve (area = %0.2f)' % roc_auc[2])\n",
    "plt.plot([0, 1], [0, 1], color='navy', lw=lw, linestyle='--')\n",
    "plt.xlim([0.0, 1.0])\n",
    "plt.ylim([0.0, 1.05])\n",
    "plt.xlabel('False Positive Rate')\n",
    "plt.ylabel('True Positive Rate')\n",
    "plt.title('Receiver operating characteristic: Firewall Action')\n",
    "plt.legend(loc=\"lower right\")\n",
    "plt.show()\n",
    "\n"
   ]
  },
  {
   "cell_type": "code",
   "execution_count": 233,
   "metadata": {},
   "outputs": [
    {
     "name": "stdout",
     "output_type": "stream",
     "text": [
      "AUC = 0.8756\n"
     ]
    }
   ],
   "source": [
    "# Area Under the Graph\n",
    "from sklearn.metrics import roc_auc_score as RAS\n",
    "\n",
    "auc = RAS(y_train, y_prob)\n",
    "print('AUC = {:.4f}'.format(auc))"
   ]
  },
  {
   "cell_type": "markdown",
   "metadata": {},
   "source": [
    "After plotting both graphs, we can now evaluate and fine-tune the alogrithm."
   ]
  },
  {
   "cell_type": "code",
   "execution_count": 234,
   "metadata": {},
   "outputs": [
    {
     "name": "stdout",
     "output_type": "stream",
     "text": [
      "Initializing grid search...\n",
      "\n",
      "Grid Search completed.\n"
     ]
    }
   ],
   "source": [
    "# Data algorithm fine tuning\n",
    "from sklearn.model_selection import GridSearchCV\n",
    "from sklearn.calibration import CalibratedClassifierCV as Cal_CCV\n",
    "\n",
    "calibrated_knn = KNClf()\n",
    "param_grid = {\n",
    "    'n_neighbors': [1,3,5,7],\n",
    "    'p':[1,2],\n",
    "    'weights':['uniform','distance'],\n",
    "}\n",
    "search = GridSearchCV(calibrated_knn, param_grid, cv=5,scoring = 'roc_auc')\n",
    "\n",
    "print(\"Initializing grid search...\\n\")\n",
    "search.fit(X_train, y_train)\n",
    "print(\"Grid Search completed.\")\n"
   ]
  },
  {
   "cell_type": "code",
   "execution_count": 235,
   "metadata": {},
   "outputs": [
    {
     "name": "stdout",
     "output_type": "stream",
     "text": [
      "Best model:\t KNeighborsClassifier(p=1)\n"
     ]
    }
   ],
   "source": [
    "# Evaluating the best model\n",
    "best_model = search.best_estimator_\n",
    "print(\"Best model:\\t\",best_model)"
   ]
  },
  {
   "cell_type": "markdown",
   "metadata": {},
   "source": [
    "As shown, the KNN Classifier best's model hyperparameter is differ from the default.<br>"
   ]
  },
  {
   "cell_type": "code",
   "execution_count": 236,
   "metadata": {},
   "outputs": [
    {
     "name": "stdout",
     "output_type": "stream",
     "text": [
      "Best hyperparameter settings: {'n_neighbors': 5, 'p': 1, 'weights': 'uniform'}\n"
     ]
    }
   ],
   "source": [
    "print('Best hyperparameter settings:', search.best_params_)"
   ]
  },
  {
   "cell_type": "markdown",
   "metadata": {},
   "source": [
    "Thus we can now evaluate our new model on the test set."
   ]
  },
  {
   "cell_type": "code",
   "execution_count": 237,
   "metadata": {},
   "outputs": [
    {
     "name": "stdout",
     "output_type": "stream",
     "text": [
      "Testing Sets: \n",
      "X:\t (19660, 11) \n",
      "y:\t (19660, 4)\n"
     ]
    }
   ],
   "source": [
    "print(\"Testing Sets:\",\"\\nX:\\t\",X_test.shape,\"\\ny:\\t\",y_test.shape)"
   ]
  },
  {
   "cell_type": "code",
   "execution_count": 238,
   "metadata": {},
   "outputs": [
    {
     "name": "stdout",
     "output_type": "stream",
     "text": [
      "KNN Classifier AUC = 0.8722\n"
     ]
    }
   ],
   "source": [
    "# Prediciton on testing sets ( unseen data )\n",
    "y_action_predict_final = best_model.predict(X_test)\n",
    "\n",
    "clf_final = OvsR(KNClf(p=1))\n",
    "clf_final.fit(X_test, y_test)\n",
    "y_action_predict_final = clf.predict(X_test)\n",
    "\n",
    "auc_final = RAS(y_test, y_action_predict_final)\n",
    "print('KNN Classifier AUC = {:.4f}'.format(auc_final))"
   ]
  },
  {
   "cell_type": "markdown",
   "metadata": {},
   "source": [
    "Testing set AUC is usually slightly worse than the validation data as it is fine-tuned to the validation set.\n",
    "\n",
    "-- End of Algorithm --"
   ]
  }
 ],
 "metadata": {
  "kernelspec": {
   "display_name": "Python 3",
   "language": "python",
   "name": "python3"
  },
  "language_info": {
   "codemirror_mode": {
    "name": "ipython",
    "version": 3
   },
   "file_extension": ".py",
   "mimetype": "text/x-python",
   "name": "python",
   "nbconvert_exporter": "python",
   "pygments_lexer": "ipython3",
   "version": "3.8.3"
  }
 },
 "nbformat": 4,
 "nbformat_minor": 4
}
