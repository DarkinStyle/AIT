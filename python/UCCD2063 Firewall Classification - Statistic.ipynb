{
 "cells": [
  {
   "cell_type": "markdown",
   "metadata": {},
   "source": [
    "# UCCD2063 Machine Learning Classification Assignment\n",
    "The following is the Machine Learning algorithm designed to conduct classification tasks for multivariant attributes.\n",
    "\n",
    "**Contributors:**\n",
    "- Yee Zi Yang 18ACB02834\n",
    "- Lee Wai Hin 18ACB02736\n",
    "- Tan Jie Nan 18ACB02121\n",
    "\n",
    "**Classification Dataset:**\n",
    "- Firewall rules action on malicious data transfer"
   ]
  },
  {
   "cell_type": "markdown",
   "metadata": {},
   "source": [
    "## Table of Content\n",
    "\n",
    "### Contributor's Section:\n",
    "1. [Wai Hin's Code](#waihin_section)\n",
    "2. [Jie Nan's Code](#jienan_section)\n",
    "3. [Sammy's Code](#sammy_section)\n",
    "4. [Logistic Regression](#log_reg_section)\n",
    "\n",
    "<div class=\"alert alert-block alert-info\">\n",
    "The following is still under development and currently in alpha testing phase.\n",
    "</div>"
   ]
  },
  {
   "cell_type": "markdown",
   "metadata": {},
   "source": [
    "## 1.0 Data Initialization"
   ]
  },
  {
   "cell_type": "code",
   "execution_count": 90,
   "metadata": {
    "tags": []
   },
   "outputs": [
    {
     "name": "stdout",
     "output_type": "stream",
     "text": [
      "==> Loading specified dataset...\n",
      "\n",
      "==> Dataset loading completed.\n",
      "\n"
     ]
    }
   ],
   "source": [
    "#Library imports\n",
    "import pandas as pd\n",
    "import numpy as np\n",
    "import matplotlib.pyplot as plt\n",
    "\n",
    "# Load the dataset\n",
    "print ('==> Loading specified dataset...\\n')\n",
    "firewall_data =  pd.read_csv(\"Firewall_data_sets.csv\")\n",
    "print ('==> Dataset loading completed.\\n')\n"
   ]
  },
  {
   "cell_type": "code",
   "execution_count": 91,
   "metadata": {},
   "outputs": [
    {
     "data": {
      "text/html": [
       "<div>\n",
       "<style scoped>\n",
       "    .dataframe tbody tr th:only-of-type {\n",
       "        vertical-align: middle;\n",
       "    }\n",
       "\n",
       "    .dataframe tbody tr th {\n",
       "        vertical-align: top;\n",
       "    }\n",
       "\n",
       "    .dataframe thead th {\n",
       "        text-align: right;\n",
       "    }\n",
       "</style>\n",
       "<table border=\"1\" class=\"dataframe\">\n",
       "  <thead>\n",
       "    <tr style=\"text-align: right;\">\n",
       "      <th></th>\n",
       "      <th>Source Port</th>\n",
       "      <th>Destination Port</th>\n",
       "      <th>NAT Source Port</th>\n",
       "      <th>NAT Destination Port</th>\n",
       "      <th>Action</th>\n",
       "      <th>Bytes</th>\n",
       "      <th>Bytes Sent</th>\n",
       "      <th>Bytes Received</th>\n",
       "      <th>Packets</th>\n",
       "      <th>Elapsed Time (sec)</th>\n",
       "      <th>pkts_sent</th>\n",
       "      <th>pkts_received</th>\n",
       "    </tr>\n",
       "  </thead>\n",
       "  <tbody>\n",
       "    <tr>\n",
       "      <th>0</th>\n",
       "      <td>57222</td>\n",
       "      <td>53</td>\n",
       "      <td>54587</td>\n",
       "      <td>53</td>\n",
       "      <td>allow</td>\n",
       "      <td>177</td>\n",
       "      <td>94</td>\n",
       "      <td>83</td>\n",
       "      <td>2</td>\n",
       "      <td>30</td>\n",
       "      <td>1</td>\n",
       "      <td>1</td>\n",
       "    </tr>\n",
       "    <tr>\n",
       "      <th>1</th>\n",
       "      <td>56258</td>\n",
       "      <td>3389</td>\n",
       "      <td>56258</td>\n",
       "      <td>3389</td>\n",
       "      <td>allow</td>\n",
       "      <td>4768</td>\n",
       "      <td>1600</td>\n",
       "      <td>3168</td>\n",
       "      <td>19</td>\n",
       "      <td>17</td>\n",
       "      <td>10</td>\n",
       "      <td>9</td>\n",
       "    </tr>\n",
       "    <tr>\n",
       "      <th>2</th>\n",
       "      <td>6881</td>\n",
       "      <td>50321</td>\n",
       "      <td>43265</td>\n",
       "      <td>50321</td>\n",
       "      <td>allow</td>\n",
       "      <td>238</td>\n",
       "      <td>118</td>\n",
       "      <td>120</td>\n",
       "      <td>2</td>\n",
       "      <td>1199</td>\n",
       "      <td>1</td>\n",
       "      <td>1</td>\n",
       "    </tr>\n",
       "    <tr>\n",
       "      <th>3</th>\n",
       "      <td>50553</td>\n",
       "      <td>3389</td>\n",
       "      <td>50553</td>\n",
       "      <td>3389</td>\n",
       "      <td>allow</td>\n",
       "      <td>3327</td>\n",
       "      <td>1438</td>\n",
       "      <td>1889</td>\n",
       "      <td>15</td>\n",
       "      <td>17</td>\n",
       "      <td>8</td>\n",
       "      <td>7</td>\n",
       "    </tr>\n",
       "    <tr>\n",
       "      <th>4</th>\n",
       "      <td>50002</td>\n",
       "      <td>443</td>\n",
       "      <td>45848</td>\n",
       "      <td>443</td>\n",
       "      <td>allow</td>\n",
       "      <td>25358</td>\n",
       "      <td>6778</td>\n",
       "      <td>18580</td>\n",
       "      <td>31</td>\n",
       "      <td>16</td>\n",
       "      <td>13</td>\n",
       "      <td>18</td>\n",
       "    </tr>\n",
       "  </tbody>\n",
       "</table>\n",
       "</div>"
      ],
      "text/plain": [
       "   Source Port  Destination Port  NAT Source Port  NAT Destination Port  \\\n",
       "0        57222                53            54587                    53   \n",
       "1        56258              3389            56258                  3389   \n",
       "2         6881             50321            43265                 50321   \n",
       "3        50553              3389            50553                  3389   \n",
       "4        50002               443            45848                   443   \n",
       "\n",
       "  Action  Bytes  Bytes Sent  Bytes Received  Packets  Elapsed Time (sec)  \\\n",
       "0  allow    177          94              83        2                  30   \n",
       "1  allow   4768        1600            3168       19                  17   \n",
       "2  allow    238         118             120        2                1199   \n",
       "3  allow   3327        1438            1889       15                  17   \n",
       "4  allow  25358        6778           18580       31                  16   \n",
       "\n",
       "   pkts_sent  pkts_received  \n",
       "0          1              1  \n",
       "1         10              9  \n",
       "2          1              1  \n",
       "3          8              7  \n",
       "4         13             18  "
      ]
     },
     "execution_count": 91,
     "metadata": {},
     "output_type": "execute_result"
    }
   ],
   "source": [
    "firewall_data.head(5)"
   ]
  },
  {
   "cell_type": "code",
   "execution_count": 92,
   "metadata": {
    "tags": []
   },
   "outputs": [
    {
     "name": "stdout",
     "output_type": "stream",
     "text": [
      "<class 'pandas.core.frame.DataFrame'>\n",
      "RangeIndex: 65532 entries, 0 to 65531\n",
      "Data columns (total 12 columns):\n",
      " #   Column                Non-Null Count  Dtype \n",
      "---  ------                --------------  ----- \n",
      " 0   Source Port           65532 non-null  int64 \n",
      " 1   Destination Port      65532 non-null  int64 \n",
      " 2   NAT Source Port       65532 non-null  int64 \n",
      " 3   NAT Destination Port  65532 non-null  int64 \n",
      " 4   Action                65532 non-null  object\n",
      " 5   Bytes                 65532 non-null  int64 \n",
      " 6   Bytes Sent            65532 non-null  int64 \n",
      " 7   Bytes Received        65532 non-null  int64 \n",
      " 8   Packets               65532 non-null  int64 \n",
      " 9   Elapsed Time (sec)    65532 non-null  int64 \n",
      " 10  pkts_sent             65532 non-null  int64 \n",
      " 11  pkts_received         65532 non-null  int64 \n",
      "dtypes: int64(11), object(1)\n",
      "memory usage: 6.0+ MB\n"
     ]
    }
   ],
   "source": [
    "firewall_data.info()"
   ]
  },
  {
   "cell_type": "code",
   "execution_count": 93,
   "metadata": {},
   "outputs": [
    {
     "data": {
      "text/html": [
       "<div>\n",
       "<style scoped>\n",
       "    .dataframe tbody tr th:only-of-type {\n",
       "        vertical-align: middle;\n",
       "    }\n",
       "\n",
       "    .dataframe tbody tr th {\n",
       "        vertical-align: top;\n",
       "    }\n",
       "\n",
       "    .dataframe thead th {\n",
       "        text-align: right;\n",
       "    }\n",
       "</style>\n",
       "<table border=\"1\" class=\"dataframe\">\n",
       "  <thead>\n",
       "    <tr style=\"text-align: right;\">\n",
       "      <th></th>\n",
       "      <th>Source Port</th>\n",
       "      <th>Destination Port</th>\n",
       "      <th>NAT Source Port</th>\n",
       "      <th>NAT Destination Port</th>\n",
       "      <th>Bytes</th>\n",
       "      <th>Bytes Sent</th>\n",
       "      <th>Bytes Received</th>\n",
       "      <th>Packets</th>\n",
       "      <th>Elapsed Time (sec)</th>\n",
       "      <th>pkts_sent</th>\n",
       "      <th>pkts_received</th>\n",
       "    </tr>\n",
       "  </thead>\n",
       "  <tbody>\n",
       "    <tr>\n",
       "      <th>count</th>\n",
       "      <td>65532.000000</td>\n",
       "      <td>65532.000000</td>\n",
       "      <td>65532.000000</td>\n",
       "      <td>65532.000000</td>\n",
       "      <td>6.553200e+04</td>\n",
       "      <td>6.553200e+04</td>\n",
       "      <td>6.553200e+04</td>\n",
       "      <td>6.553200e+04</td>\n",
       "      <td>65532.000000</td>\n",
       "      <td>65532.000000</td>\n",
       "      <td>65532.000000</td>\n",
       "    </tr>\n",
       "    <tr>\n",
       "      <th>mean</th>\n",
       "      <td>49391.969343</td>\n",
       "      <td>10577.385812</td>\n",
       "      <td>19282.972761</td>\n",
       "      <td>2671.049930</td>\n",
       "      <td>9.712395e+04</td>\n",
       "      <td>2.238580e+04</td>\n",
       "      <td>7.473815e+04</td>\n",
       "      <td>1.028660e+02</td>\n",
       "      <td>65.833577</td>\n",
       "      <td>41.399530</td>\n",
       "      <td>61.466505</td>\n",
       "    </tr>\n",
       "    <tr>\n",
       "      <th>std</th>\n",
       "      <td>15255.712537</td>\n",
       "      <td>18466.027039</td>\n",
       "      <td>21970.689669</td>\n",
       "      <td>9739.162278</td>\n",
       "      <td>5.618439e+06</td>\n",
       "      <td>3.828139e+06</td>\n",
       "      <td>2.463208e+06</td>\n",
       "      <td>5.133002e+03</td>\n",
       "      <td>302.461762</td>\n",
       "      <td>3218.871288</td>\n",
       "      <td>2223.332271</td>\n",
       "    </tr>\n",
       "    <tr>\n",
       "      <th>min</th>\n",
       "      <td>0.000000</td>\n",
       "      <td>0.000000</td>\n",
       "      <td>0.000000</td>\n",
       "      <td>0.000000</td>\n",
       "      <td>6.000000e+01</td>\n",
       "      <td>6.000000e+01</td>\n",
       "      <td>0.000000e+00</td>\n",
       "      <td>1.000000e+00</td>\n",
       "      <td>0.000000</td>\n",
       "      <td>1.000000</td>\n",
       "      <td>0.000000</td>\n",
       "    </tr>\n",
       "    <tr>\n",
       "      <th>25%</th>\n",
       "      <td>49183.000000</td>\n",
       "      <td>80.000000</td>\n",
       "      <td>0.000000</td>\n",
       "      <td>0.000000</td>\n",
       "      <td>6.600000e+01</td>\n",
       "      <td>6.600000e+01</td>\n",
       "      <td>0.000000e+00</td>\n",
       "      <td>1.000000e+00</td>\n",
       "      <td>0.000000</td>\n",
       "      <td>1.000000</td>\n",
       "      <td>0.000000</td>\n",
       "    </tr>\n",
       "    <tr>\n",
       "      <th>50%</th>\n",
       "      <td>53776.500000</td>\n",
       "      <td>445.000000</td>\n",
       "      <td>8820.500000</td>\n",
       "      <td>53.000000</td>\n",
       "      <td>1.680000e+02</td>\n",
       "      <td>9.000000e+01</td>\n",
       "      <td>7.900000e+01</td>\n",
       "      <td>2.000000e+00</td>\n",
       "      <td>15.000000</td>\n",
       "      <td>1.000000</td>\n",
       "      <td>1.000000</td>\n",
       "    </tr>\n",
       "    <tr>\n",
       "      <th>75%</th>\n",
       "      <td>58638.000000</td>\n",
       "      <td>15000.000000</td>\n",
       "      <td>38366.250000</td>\n",
       "      <td>443.000000</td>\n",
       "      <td>7.522500e+02</td>\n",
       "      <td>2.100000e+02</td>\n",
       "      <td>4.490000e+02</td>\n",
       "      <td>6.000000e+00</td>\n",
       "      <td>30.000000</td>\n",
       "      <td>3.000000</td>\n",
       "      <td>2.000000</td>\n",
       "    </tr>\n",
       "    <tr>\n",
       "      <th>max</th>\n",
       "      <td>65534.000000</td>\n",
       "      <td>65535.000000</td>\n",
       "      <td>65535.000000</td>\n",
       "      <td>65535.000000</td>\n",
       "      <td>1.269359e+09</td>\n",
       "      <td>9.484772e+08</td>\n",
       "      <td>3.208818e+08</td>\n",
       "      <td>1.036116e+06</td>\n",
       "      <td>10824.000000</td>\n",
       "      <td>747520.000000</td>\n",
       "      <td>327208.000000</td>\n",
       "    </tr>\n",
       "  </tbody>\n",
       "</table>\n",
       "</div>"
      ],
      "text/plain": [
       "        Source Port  Destination Port  NAT Source Port  NAT Destination Port  \\\n",
       "count  65532.000000      65532.000000     65532.000000          65532.000000   \n",
       "mean   49391.969343      10577.385812     19282.972761           2671.049930   \n",
       "std    15255.712537      18466.027039     21970.689669           9739.162278   \n",
       "min        0.000000          0.000000         0.000000              0.000000   \n",
       "25%    49183.000000         80.000000         0.000000              0.000000   \n",
       "50%    53776.500000        445.000000      8820.500000             53.000000   \n",
       "75%    58638.000000      15000.000000     38366.250000            443.000000   \n",
       "max    65534.000000      65535.000000     65535.000000          65535.000000   \n",
       "\n",
       "              Bytes    Bytes Sent  Bytes Received       Packets  \\\n",
       "count  6.553200e+04  6.553200e+04    6.553200e+04  6.553200e+04   \n",
       "mean   9.712395e+04  2.238580e+04    7.473815e+04  1.028660e+02   \n",
       "std    5.618439e+06  3.828139e+06    2.463208e+06  5.133002e+03   \n",
       "min    6.000000e+01  6.000000e+01    0.000000e+00  1.000000e+00   \n",
       "25%    6.600000e+01  6.600000e+01    0.000000e+00  1.000000e+00   \n",
       "50%    1.680000e+02  9.000000e+01    7.900000e+01  2.000000e+00   \n",
       "75%    7.522500e+02  2.100000e+02    4.490000e+02  6.000000e+00   \n",
       "max    1.269359e+09  9.484772e+08    3.208818e+08  1.036116e+06   \n",
       "\n",
       "       Elapsed Time (sec)      pkts_sent  pkts_received  \n",
       "count        65532.000000   65532.000000   65532.000000  \n",
       "mean            65.833577      41.399530      61.466505  \n",
       "std            302.461762    3218.871288    2223.332271  \n",
       "min              0.000000       1.000000       0.000000  \n",
       "25%              0.000000       1.000000       0.000000  \n",
       "50%             15.000000       1.000000       1.000000  \n",
       "75%             30.000000       3.000000       2.000000  \n",
       "max          10824.000000  747520.000000  327208.000000  "
      ]
     },
     "execution_count": 93,
     "metadata": {},
     "output_type": "execute_result"
    }
   ],
   "source": [
    "firewall_data.describe()"
   ]
  },
  {
   "cell_type": "code",
   "execution_count": 94,
   "metadata": {},
   "outputs": [
    {
     "data": {
      "image/png": "[encoded data removed]",
      "text/plain": [
       "<Figure size 1440x1080 with 12 Axes>"
      ]
     },
     "metadata": {
      "needs_background": "light"
     },
     "output_type": "display_data"
    }
   ],
   "source": [
    "firewall_data.hist(bins=50,figsize=(20,15))\n",
    "plt.show()"
   ]
  },
  {
   "cell_type": "code",
   "execution_count": 95,
   "metadata": {},
   "outputs": [
    {
     "data": {
      "text/plain": [
       "allow         37640\n",
       "deny          14987\n",
       "drop          12851\n",
       "reset-both       54\n",
       "Name: Action, dtype: int64"
      ]
     },
     "execution_count": 95,
     "metadata": {},
     "output_type": "execute_result"
    }
   ],
   "source": [
    "firewall_data.Action.value_counts()"
   ]
  },
  {
   "cell_type": "code",
   "execution_count": 96,
   "metadata": {},
   "outputs": [
    {
     "data": {
      "text/html": [
       "<div>\n",
       "<style scoped>\n",
       "    .dataframe tbody tr th:only-of-type {\n",
       "        vertical-align: middle;\n",
       "    }\n",
       "\n",
       "    .dataframe tbody tr th {\n",
       "        vertical-align: top;\n",
       "    }\n",
       "\n",
       "    .dataframe thead th {\n",
       "        text-align: right;\n",
       "    }\n",
       "</style>\n",
       "<table border=\"1\" class=\"dataframe\">\n",
       "  <thead>\n",
       "    <tr style=\"text-align: right;\">\n",
       "      <th></th>\n",
       "      <th>Source Port</th>\n",
       "      <th>Destination Port</th>\n",
       "      <th>NAT Source Port</th>\n",
       "      <th>NAT Destination Port</th>\n",
       "      <th>Bytes</th>\n",
       "      <th>Bytes Sent</th>\n",
       "      <th>Bytes Received</th>\n",
       "      <th>Packets</th>\n",
       "      <th>Elapsed Time (sec)</th>\n",
       "      <th>pkts_sent</th>\n",
       "      <th>pkts_received</th>\n",
       "    </tr>\n",
       "  </thead>\n",
       "  <tbody>\n",
       "    <tr>\n",
       "      <th>Source Port</th>\n",
       "      <td>1.000000</td>\n",
       "      <td>-0.332246</td>\n",
       "      <td>0.145391</td>\n",
       "      <td>-0.024843</td>\n",
       "      <td>0.000221</td>\n",
       "      <td>-0.000931</td>\n",
       "      <td>0.001950</td>\n",
       "      <td>-0.001742</td>\n",
       "      <td>-0.046515</td>\n",
       "      <td>-0.001422</td>\n",
       "      <td>-0.001962</td>\n",
       "    </tr>\n",
       "    <tr>\n",
       "      <th>Destination Port</th>\n",
       "      <td>-0.332246</td>\n",
       "      <td>1.000000</td>\n",
       "      <td>-0.281676</td>\n",
       "      <td>0.410042</td>\n",
       "      <td>-0.005297</td>\n",
       "      <td>0.001675</td>\n",
       "      <td>-0.014684</td>\n",
       "      <td>-0.006063</td>\n",
       "      <td>0.023537</td>\n",
       "      <td>-0.002134</td>\n",
       "      <td>-0.010909</td>\n",
       "    </tr>\n",
       "    <tr>\n",
       "      <th>NAT Source Port</th>\n",
       "      <td>0.145391</td>\n",
       "      <td>-0.281676</td>\n",
       "      <td>1.000000</td>\n",
       "      <td>0.178435</td>\n",
       "      <td>0.010659</td>\n",
       "      <td>0.002242</td>\n",
       "      <td>0.020827</td>\n",
       "      <td>0.012633</td>\n",
       "      <td>0.141485</td>\n",
       "      <td>0.007180</td>\n",
       "      <td>0.018772</td>\n",
       "    </tr>\n",
       "    <tr>\n",
       "      <th>NAT Destination Port</th>\n",
       "      <td>-0.024843</td>\n",
       "      <td>0.410042</td>\n",
       "      <td>0.178435</td>\n",
       "      <td>1.000000</td>\n",
       "      <td>0.003975</td>\n",
       "      <td>0.007904</td>\n",
       "      <td>-0.003216</td>\n",
       "      <td>0.004605</td>\n",
       "      <td>0.219776</td>\n",
       "      <td>0.006136</td>\n",
       "      <td>0.001747</td>\n",
       "    </tr>\n",
       "    <tr>\n",
       "      <th>Bytes</th>\n",
       "      <td>0.000221</td>\n",
       "      <td>-0.005297</td>\n",
       "      <td>0.010659</td>\n",
       "      <td>0.003975</td>\n",
       "      <td>1.000000</td>\n",
       "      <td>0.933462</td>\n",
       "      <td>0.830225</td>\n",
       "      <td>0.974379</td>\n",
       "      <td>0.148834</td>\n",
       "      <td>0.966548</td>\n",
       "      <td>0.850209</td>\n",
       "    </tr>\n",
       "    <tr>\n",
       "      <th>Bytes Sent</th>\n",
       "      <td>-0.000931</td>\n",
       "      <td>0.001675</td>\n",
       "      <td>0.002242</td>\n",
       "      <td>0.007904</td>\n",
       "      <td>0.933462</td>\n",
       "      <td>1.000000</td>\n",
       "      <td>0.575047</td>\n",
       "      <td>0.887596</td>\n",
       "      <td>0.126039</td>\n",
       "      <td>0.973976</td>\n",
       "      <td>0.639098</td>\n",
       "    </tr>\n",
       "    <tr>\n",
       "      <th>Bytes Received</th>\n",
       "      <td>0.001950</td>\n",
       "      <td>-0.014684</td>\n",
       "      <td>0.020827</td>\n",
       "      <td>-0.003216</td>\n",
       "      <td>0.830225</td>\n",
       "      <td>0.575047</td>\n",
       "      <td>1.000000</td>\n",
       "      <td>0.843067</td>\n",
       "      <td>0.143601</td>\n",
       "      <td>0.690959</td>\n",
       "      <td>0.946039</td>\n",
       "    </tr>\n",
       "    <tr>\n",
       "      <th>Packets</th>\n",
       "      <td>-0.001742</td>\n",
       "      <td>-0.006063</td>\n",
       "      <td>0.012633</td>\n",
       "      <td>0.004605</td>\n",
       "      <td>0.974379</td>\n",
       "      <td>0.887596</td>\n",
       "      <td>0.843067</td>\n",
       "      <td>1.000000</td>\n",
       "      <td>0.147074</td>\n",
       "      <td>0.961286</td>\n",
       "      <td>0.916978</td>\n",
       "    </tr>\n",
       "    <tr>\n",
       "      <th>Elapsed Time (sec)</th>\n",
       "      <td>-0.046515</td>\n",
       "      <td>0.023537</td>\n",
       "      <td>0.141485</td>\n",
       "      <td>0.219776</td>\n",
       "      <td>0.148834</td>\n",
       "      <td>0.126039</td>\n",
       "      <td>0.143601</td>\n",
       "      <td>0.147074</td>\n",
       "      <td>1.000000</td>\n",
       "      <td>0.135101</td>\n",
       "      <td>0.143954</td>\n",
       "    </tr>\n",
       "    <tr>\n",
       "      <th>pkts_sent</th>\n",
       "      <td>-0.001422</td>\n",
       "      <td>-0.002134</td>\n",
       "      <td>0.007180</td>\n",
       "      <td>0.006136</td>\n",
       "      <td>0.966548</td>\n",
       "      <td>0.973976</td>\n",
       "      <td>0.690959</td>\n",
       "      <td>0.961286</td>\n",
       "      <td>0.135101</td>\n",
       "      <td>1.000000</td>\n",
       "      <td>0.771550</td>\n",
       "    </tr>\n",
       "    <tr>\n",
       "      <th>pkts_received</th>\n",
       "      <td>-0.001962</td>\n",
       "      <td>-0.010909</td>\n",
       "      <td>0.018772</td>\n",
       "      <td>0.001747</td>\n",
       "      <td>0.850209</td>\n",
       "      <td>0.639098</td>\n",
       "      <td>0.946039</td>\n",
       "      <td>0.916978</td>\n",
       "      <td>0.143954</td>\n",
       "      <td>0.771550</td>\n",
       "      <td>1.000000</td>\n",
       "    </tr>\n",
       "  </tbody>\n",
       "</table>\n",
       "</div>"
      ],
      "text/plain": [
       "                      Source Port  Destination Port  NAT Source Port  \\\n",
       "Source Port              1.000000         -0.332246         0.145391   \n",
       "Destination Port        -0.332246          1.000000        -0.281676   \n",
       "NAT Source Port          0.145391         -0.281676         1.000000   \n",
       "NAT Destination Port    -0.024843          0.410042         0.178435   \n",
       "Bytes                    0.000221         -0.005297         0.010659   \n",
       "Bytes Sent              -0.000931          0.001675         0.002242   \n",
       "Bytes Received           0.001950         -0.014684         0.020827   \n",
       "Packets                 -0.001742         -0.006063         0.012633   \n",
       "Elapsed Time (sec)      -0.046515          0.023537         0.141485   \n",
       "pkts_sent               -0.001422         -0.002134         0.007180   \n",
       "pkts_received           -0.001962         -0.010909         0.018772   \n",
       "\n",
       "                      NAT Destination Port     Bytes  Bytes Sent  \\\n",
       "Source Port                      -0.024843  0.000221   -0.000931   \n",
       "Destination Port                  0.410042 -0.005297    0.001675   \n",
       "NAT Source Port                   0.178435  0.010659    0.002242   \n",
       "NAT Destination Port              1.000000  0.003975    0.007904   \n",
       "Bytes                             0.003975  1.000000    0.933462   \n",
       "Bytes Sent                        0.007904  0.933462    1.000000   \n",
       "Bytes Received                   -0.003216  0.830225    0.575047   \n",
       "Packets                           0.004605  0.974379    0.887596   \n",
       "Elapsed Time (sec)                0.219776  0.148834    0.126039   \n",
       "pkts_sent                         0.006136  0.966548    0.973976   \n",
       "pkts_received                     0.001747  0.850209    0.639098   \n",
       "\n",
       "                      Bytes Received   Packets  Elapsed Time (sec)  pkts_sent  \\\n",
       "Source Port                 0.001950 -0.001742           -0.046515  -0.001422   \n",
       "Destination Port           -0.014684 -0.006063            0.023537  -0.002134   \n",
       "NAT Source Port             0.020827  0.012633            0.141485   0.007180   \n",
       "NAT Destination Port       -0.003216  0.004605            0.219776   0.006136   \n",
       "Bytes                       0.830225  0.974379            0.148834   0.966548   \n",
       "Bytes Sent                  0.575047  0.887596            0.126039   0.973976   \n",
       "Bytes Received              1.000000  0.843067            0.143601   0.690959   \n",
       "Packets                     0.843067  1.000000            0.147074   0.961286   \n",
       "Elapsed Time (sec)          0.143601  0.147074            1.000000   0.135101   \n",
       "pkts_sent                   0.690959  0.961286            0.135101   1.000000   \n",
       "pkts_received               0.946039  0.916978            0.143954   0.771550   \n",
       "\n",
       "                      pkts_received  \n",
       "Source Port               -0.001962  \n",
       "Destination Port          -0.010909  \n",
       "NAT Source Port            0.018772  \n",
       "NAT Destination Port       0.001747  \n",
       "Bytes                      0.850209  \n",
       "Bytes Sent                 0.639098  \n",
       "Bytes Received             0.946039  \n",
       "Packets                    0.916978  \n",
       "Elapsed Time (sec)         0.143954  \n",
       "pkts_sent                  0.771550  \n",
       "pkts_received              1.000000  "
      ]
     },
     "execution_count": 96,
     "metadata": {},
     "output_type": "execute_result"
    }
   ],
   "source": [
    "firewall_data.corr() #correlation"
   ]
  },
  {
   "cell_type": "markdown",
   "metadata": {},
   "source": [
    "<a id=\"waihin_section\"></a>\n",
    "# WaiHin's Code Here\n",
    "<hr>"
   ]
  },
  {
   "cell_type": "code",
   "execution_count": 97,
   "metadata": {
    "tags": []
   },
   "outputs": [
    {
     "data": {
      "text/html": [
       "<div>\n",
       "<style scoped>\n",
       "    .dataframe tbody tr th:only-of-type {\n",
       "        vertical-align: middle;\n",
       "    }\n",
       "\n",
       "    .dataframe tbody tr th {\n",
       "        vertical-align: top;\n",
       "    }\n",
       "\n",
       "    .dataframe thead th {\n",
       "        text-align: right;\n",
       "    }\n",
       "</style>\n",
       "<table border=\"1\" class=\"dataframe\">\n",
       "  <thead>\n",
       "    <tr style=\"text-align: right;\">\n",
       "      <th></th>\n",
       "      <th>Source Port</th>\n",
       "      <th>Destination Port</th>\n",
       "      <th>NAT Source Port</th>\n",
       "      <th>NAT Destination Port</th>\n",
       "      <th>Action</th>\n",
       "      <th>Bytes</th>\n",
       "      <th>Bytes Sent</th>\n",
       "      <th>Bytes Received</th>\n",
       "      <th>Packets</th>\n",
       "      <th>Elapsed Time (sec)</th>\n",
       "      <th>pkts_sent</th>\n",
       "      <th>pkts_received</th>\n",
       "    </tr>\n",
       "  </thead>\n",
       "  <tbody>\n",
       "    <tr>\n",
       "      <th>Source Port</th>\n",
       "      <td>1.000000</td>\n",
       "      <td>-0.332246</td>\n",
       "      <td>0.145391</td>\n",
       "      <td>-0.024843</td>\n",
       "      <td>0.132189</td>\n",
       "      <td>0.000221</td>\n",
       "      <td>-0.000931</td>\n",
       "      <td>0.001950</td>\n",
       "      <td>-0.001742</td>\n",
       "      <td>-0.046515</td>\n",
       "      <td>-0.001422</td>\n",
       "      <td>-0.001962</td>\n",
       "    </tr>\n",
       "    <tr>\n",
       "      <th>Destination Port</th>\n",
       "      <td>-0.332246</td>\n",
       "      <td>1.000000</td>\n",
       "      <td>-0.281676</td>\n",
       "      <td>0.410042</td>\n",
       "      <td>-0.367960</td>\n",
       "      <td>-0.005297</td>\n",
       "      <td>0.001675</td>\n",
       "      <td>-0.014684</td>\n",
       "      <td>-0.006063</td>\n",
       "      <td>0.023537</td>\n",
       "      <td>-0.002134</td>\n",
       "      <td>-0.010909</td>\n",
       "    </tr>\n",
       "    <tr>\n",
       "      <th>NAT Source Port</th>\n",
       "      <td>0.145391</td>\n",
       "      <td>-0.281676</td>\n",
       "      <td>1.000000</td>\n",
       "      <td>0.178435</td>\n",
       "      <td>0.754348</td>\n",
       "      <td>0.010659</td>\n",
       "      <td>0.002242</td>\n",
       "      <td>0.020827</td>\n",
       "      <td>0.012633</td>\n",
       "      <td>0.141485</td>\n",
       "      <td>0.007180</td>\n",
       "      <td>0.018772</td>\n",
       "    </tr>\n",
       "    <tr>\n",
       "      <th>NAT Destination Port</th>\n",
       "      <td>-0.024843</td>\n",
       "      <td>0.410042</td>\n",
       "      <td>0.178435</td>\n",
       "      <td>1.000000</td>\n",
       "      <td>0.235859</td>\n",
       "      <td>0.003975</td>\n",
       "      <td>0.007904</td>\n",
       "      <td>-0.003216</td>\n",
       "      <td>0.004605</td>\n",
       "      <td>0.219776</td>\n",
       "      <td>0.006136</td>\n",
       "      <td>0.001747</td>\n",
       "    </tr>\n",
       "    <tr>\n",
       "      <th>Action</th>\n",
       "      <td>0.132189</td>\n",
       "      <td>-0.367960</td>\n",
       "      <td>0.754348</td>\n",
       "      <td>0.235859</td>\n",
       "      <td>1.000000</td>\n",
       "      <td>0.014869</td>\n",
       "      <td>0.005017</td>\n",
       "      <td>0.026119</td>\n",
       "      <td>0.017083</td>\n",
       "      <td>0.187367</td>\n",
       "      <td>0.010804</td>\n",
       "      <td>0.023798</td>\n",
       "    </tr>\n",
       "    <tr>\n",
       "      <th>Bytes</th>\n",
       "      <td>0.000221</td>\n",
       "      <td>-0.005297</td>\n",
       "      <td>0.010659</td>\n",
       "      <td>0.003975</td>\n",
       "      <td>0.014869</td>\n",
       "      <td>1.000000</td>\n",
       "      <td>0.933462</td>\n",
       "      <td>0.830225</td>\n",
       "      <td>0.974379</td>\n",
       "      <td>0.148834</td>\n",
       "      <td>0.966548</td>\n",
       "      <td>0.850209</td>\n",
       "    </tr>\n",
       "    <tr>\n",
       "      <th>Bytes Sent</th>\n",
       "      <td>-0.000931</td>\n",
       "      <td>0.001675</td>\n",
       "      <td>0.002242</td>\n",
       "      <td>0.007904</td>\n",
       "      <td>0.005017</td>\n",
       "      <td>0.933462</td>\n",
       "      <td>1.000000</td>\n",
       "      <td>0.575047</td>\n",
       "      <td>0.887596</td>\n",
       "      <td>0.126039</td>\n",
       "      <td>0.973976</td>\n",
       "      <td>0.639098</td>\n",
       "    </tr>\n",
       "    <tr>\n",
       "      <th>Bytes Received</th>\n",
       "      <td>0.001950</td>\n",
       "      <td>-0.014684</td>\n",
       "      <td>0.020827</td>\n",
       "      <td>-0.003216</td>\n",
       "      <td>0.026119</td>\n",
       "      <td>0.830225</td>\n",
       "      <td>0.575047</td>\n",
       "      <td>1.000000</td>\n",
       "      <td>0.843067</td>\n",
       "      <td>0.143601</td>\n",
       "      <td>0.690959</td>\n",
       "      <td>0.946039</td>\n",
       "    </tr>\n",
       "    <tr>\n",
       "      <th>Packets</th>\n",
       "      <td>-0.001742</td>\n",
       "      <td>-0.006063</td>\n",
       "      <td>0.012633</td>\n",
       "      <td>0.004605</td>\n",
       "      <td>0.017083</td>\n",
       "      <td>0.974379</td>\n",
       "      <td>0.887596</td>\n",
       "      <td>0.843067</td>\n",
       "      <td>1.000000</td>\n",
       "      <td>0.147074</td>\n",
       "      <td>0.961286</td>\n",
       "      <td>0.916978</td>\n",
       "    </tr>\n",
       "    <tr>\n",
       "      <th>Elapsed Time (sec)</th>\n",
       "      <td>-0.046515</td>\n",
       "      <td>0.023537</td>\n",
       "      <td>0.141485</td>\n",
       "      <td>0.219776</td>\n",
       "      <td>0.187367</td>\n",
       "      <td>0.148834</td>\n",
       "      <td>0.126039</td>\n",
       "      <td>0.143601</td>\n",
       "      <td>0.147074</td>\n",
       "      <td>1.000000</td>\n",
       "      <td>0.135101</td>\n",
       "      <td>0.143954</td>\n",
       "    </tr>\n",
       "    <tr>\n",
       "      <th>pkts_sent</th>\n",
       "      <td>-0.001422</td>\n",
       "      <td>-0.002134</td>\n",
       "      <td>0.007180</td>\n",
       "      <td>0.006136</td>\n",
       "      <td>0.010804</td>\n",
       "      <td>0.966548</td>\n",
       "      <td>0.973976</td>\n",
       "      <td>0.690959</td>\n",
       "      <td>0.961286</td>\n",
       "      <td>0.135101</td>\n",
       "      <td>1.000000</td>\n",
       "      <td>0.771550</td>\n",
       "    </tr>\n",
       "    <tr>\n",
       "      <th>pkts_received</th>\n",
       "      <td>-0.001962</td>\n",
       "      <td>-0.010909</td>\n",
       "      <td>0.018772</td>\n",
       "      <td>0.001747</td>\n",
       "      <td>0.023798</td>\n",
       "      <td>0.850209</td>\n",
       "      <td>0.639098</td>\n",
       "      <td>0.946039</td>\n",
       "      <td>0.916978</td>\n",
       "      <td>0.143954</td>\n",
       "      <td>0.771550</td>\n",
       "      <td>1.000000</td>\n",
       "    </tr>\n",
       "  </tbody>\n",
       "</table>\n",
       "</div>"
      ],
      "text/plain": [
       "                      Source Port  Destination Port  NAT Source Port  \\\n",
       "Source Port              1.000000         -0.332246         0.145391   \n",
       "Destination Port        -0.332246          1.000000        -0.281676   \n",
       "NAT Source Port          0.145391         -0.281676         1.000000   \n",
       "NAT Destination Port    -0.024843          0.410042         0.178435   \n",
       "Action                   0.132189         -0.367960         0.754348   \n",
       "Bytes                    0.000221         -0.005297         0.010659   \n",
       "Bytes Sent              -0.000931          0.001675         0.002242   \n",
       "Bytes Received           0.001950         -0.014684         0.020827   \n",
       "Packets                 -0.001742         -0.006063         0.012633   \n",
       "Elapsed Time (sec)      -0.046515          0.023537         0.141485   \n",
       "pkts_sent               -0.001422         -0.002134         0.007180   \n",
       "pkts_received           -0.001962         -0.010909         0.018772   \n",
       "\n",
       "                      NAT Destination Port    Action     Bytes  Bytes Sent  \\\n",
       "Source Port                      -0.024843  0.132189  0.000221   -0.000931   \n",
       "Destination Port                  0.410042 -0.367960 -0.005297    0.001675   \n",
       "NAT Source Port                   0.178435  0.754348  0.010659    0.002242   \n",
       "NAT Destination Port              1.000000  0.235859  0.003975    0.007904   \n",
       "Action                            0.235859  1.000000  0.014869    0.005017   \n",
       "Bytes                             0.003975  0.014869  1.000000    0.933462   \n",
       "Bytes Sent                        0.007904  0.005017  0.933462    1.000000   \n",
       "Bytes Received                   -0.003216  0.026119  0.830225    0.575047   \n",
       "Packets                           0.004605  0.017083  0.974379    0.887596   \n",
       "Elapsed Time (sec)                0.219776  0.187367  0.148834    0.126039   \n",
       "pkts_sent                         0.006136  0.010804  0.966548    0.973976   \n",
       "pkts_received                     0.001747  0.023798  0.850209    0.639098   \n",
       "\n",
       "                      Bytes Received   Packets  Elapsed Time (sec)  pkts_sent  \\\n",
       "Source Port                 0.001950 -0.001742           -0.046515  -0.001422   \n",
       "Destination Port           -0.014684 -0.006063            0.023537  -0.002134   \n",
       "NAT Source Port             0.020827  0.012633            0.141485   0.007180   \n",
       "NAT Destination Port       -0.003216  0.004605            0.219776   0.006136   \n",
       "Action                      0.026119  0.017083            0.187367   0.010804   \n",
       "Bytes                       0.830225  0.974379            0.148834   0.966548   \n",
       "Bytes Sent                  0.575047  0.887596            0.126039   0.973976   \n",
       "Bytes Received              1.000000  0.843067            0.143601   0.690959   \n",
       "Packets                     0.843067  1.000000            0.147074   0.961286   \n",
       "Elapsed Time (sec)          0.143601  0.147074            1.000000   0.135101   \n",
       "pkts_sent                   0.690959  0.961286            0.135101   1.000000   \n",
       "pkts_received               0.946039  0.916978            0.143954   0.771550   \n",
       "\n",
       "                      pkts_received  \n",
       "Source Port               -0.001962  \n",
       "Destination Port          -0.010909  \n",
       "NAT Source Port            0.018772  \n",
       "NAT Destination Port       0.001747  \n",
       "Action                     0.023798  \n",
       "Bytes                      0.850209  \n",
       "Bytes Sent                 0.639098  \n",
       "Bytes Received             0.946039  \n",
       "Packets                    0.916978  \n",
       "Elapsed Time (sec)         0.143954  \n",
       "pkts_sent                  0.771550  \n",
       "pkts_received              1.000000  "
      ]
     },
     "execution_count": 97,
     "metadata": {},
     "output_type": "execute_result"
    }
   ],
   "source": [
    "from sklearn.preprocessing import LabelBinarizer\n",
    "\n",
    "lb_encoder = LabelBinarizer()\n",
    "firewall_data.Action = lb_encoder.fit_transform(firewall_data.Action)\n",
    "#firewall_data\n",
    "#print(firewall_data.Action.value_counts().count)\n",
    "#print(firewall_data.describe())\n",
    "#print(type(firewall_data))\n",
    "firewall_data.corr()\n"
   ]
  },
  {
   "cell_type": "code",
   "execution_count": 98,
   "metadata": {},
   "outputs": [
    {
     "data": {
      "text/plain": [
       "pandas.core.frame.DataFrame"
      ]
     },
     "execution_count": 98,
     "metadata": {},
     "output_type": "execute_result"
    }
   ],
   "source": [
    "type(firewall_data)"
   ]
  },
  {
   "cell_type": "code",
   "execution_count": 99,
   "metadata": {},
   "outputs": [
    {
     "data": {
      "text/html": [
       "<div>\n",
       "<style scoped>\n",
       "    .dataframe tbody tr th:only-of-type {\n",
       "        vertical-align: middle;\n",
       "    }\n",
       "\n",
       "    .dataframe tbody tr th {\n",
       "        vertical-align: top;\n",
       "    }\n",
       "\n",
       "    .dataframe thead th {\n",
       "        text-align: right;\n",
       "    }\n",
       "</style>\n",
       "<table border=\"1\" class=\"dataframe\">\n",
       "  <thead>\n",
       "    <tr style=\"text-align: right;\">\n",
       "      <th></th>\n",
       "      <th>Source Port</th>\n",
       "      <th>Destination Port</th>\n",
       "      <th>NAT Source Port</th>\n",
       "      <th>NAT Destination Port</th>\n",
       "      <th>Action</th>\n",
       "      <th>Bytes</th>\n",
       "      <th>Bytes Sent</th>\n",
       "      <th>Bytes Received</th>\n",
       "      <th>Packets</th>\n",
       "      <th>Elapsed Time (sec)</th>\n",
       "      <th>pkts_sent</th>\n",
       "      <th>pkts_received</th>\n",
       "    </tr>\n",
       "  </thead>\n",
       "  <tbody>\n",
       "    <tr>\n",
       "      <th>count</th>\n",
       "      <td>65532.000000</td>\n",
       "      <td>65532.000000</td>\n",
       "      <td>65532.000000</td>\n",
       "      <td>65532.000000</td>\n",
       "      <td>65532.000000</td>\n",
       "      <td>6.553200e+04</td>\n",
       "      <td>6.553200e+04</td>\n",
       "      <td>6.553200e+04</td>\n",
       "      <td>6.553200e+04</td>\n",
       "      <td>65532.000000</td>\n",
       "      <td>65532.000000</td>\n",
       "      <td>65532.000000</td>\n",
       "    </tr>\n",
       "    <tr>\n",
       "      <th>mean</th>\n",
       "      <td>49391.969343</td>\n",
       "      <td>10577.385812</td>\n",
       "      <td>19282.972761</td>\n",
       "      <td>2671.049930</td>\n",
       "      <td>0.574376</td>\n",
       "      <td>9.712395e+04</td>\n",
       "      <td>2.238580e+04</td>\n",
       "      <td>7.473815e+04</td>\n",
       "      <td>1.028660e+02</td>\n",
       "      <td>65.833577</td>\n",
       "      <td>41.399530</td>\n",
       "      <td>61.466505</td>\n",
       "    </tr>\n",
       "    <tr>\n",
       "      <th>std</th>\n",
       "      <td>15255.712537</td>\n",
       "      <td>18466.027039</td>\n",
       "      <td>21970.689669</td>\n",
       "      <td>9739.162278</td>\n",
       "      <td>0.494441</td>\n",
       "      <td>5.618439e+06</td>\n",
       "      <td>3.828139e+06</td>\n",
       "      <td>2.463208e+06</td>\n",
       "      <td>5.133002e+03</td>\n",
       "      <td>302.461762</td>\n",
       "      <td>3218.871288</td>\n",
       "      <td>2223.332271</td>\n",
       "    </tr>\n",
       "    <tr>\n",
       "      <th>min</th>\n",
       "      <td>0.000000</td>\n",
       "      <td>0.000000</td>\n",
       "      <td>0.000000</td>\n",
       "      <td>0.000000</td>\n",
       "      <td>0.000000</td>\n",
       "      <td>6.000000e+01</td>\n",
       "      <td>6.000000e+01</td>\n",
       "      <td>0.000000e+00</td>\n",
       "      <td>1.000000e+00</td>\n",
       "      <td>0.000000</td>\n",
       "      <td>1.000000</td>\n",
       "      <td>0.000000</td>\n",
       "    </tr>\n",
       "    <tr>\n",
       "      <th>25%</th>\n",
       "      <td>49183.000000</td>\n",
       "      <td>80.000000</td>\n",
       "      <td>0.000000</td>\n",
       "      <td>0.000000</td>\n",
       "      <td>0.000000</td>\n",
       "      <td>6.600000e+01</td>\n",
       "      <td>6.600000e+01</td>\n",
       "      <td>0.000000e+00</td>\n",
       "      <td>1.000000e+00</td>\n",
       "      <td>0.000000</td>\n",
       "      <td>1.000000</td>\n",
       "      <td>0.000000</td>\n",
       "    </tr>\n",
       "    <tr>\n",
       "      <th>50%</th>\n",
       "      <td>53776.500000</td>\n",
       "      <td>445.000000</td>\n",
       "      <td>8820.500000</td>\n",
       "      <td>53.000000</td>\n",
       "      <td>1.000000</td>\n",
       "      <td>1.680000e+02</td>\n",
       "      <td>9.000000e+01</td>\n",
       "      <td>7.900000e+01</td>\n",
       "      <td>2.000000e+00</td>\n",
       "      <td>15.000000</td>\n",
       "      <td>1.000000</td>\n",
       "      <td>1.000000</td>\n",
       "    </tr>\n",
       "    <tr>\n",
       "      <th>75%</th>\n",
       "      <td>58638.000000</td>\n",
       "      <td>15000.000000</td>\n",
       "      <td>38366.250000</td>\n",
       "      <td>443.000000</td>\n",
       "      <td>1.000000</td>\n",
       "      <td>7.522500e+02</td>\n",
       "      <td>2.100000e+02</td>\n",
       "      <td>4.490000e+02</td>\n",
       "      <td>6.000000e+00</td>\n",
       "      <td>30.000000</td>\n",
       "      <td>3.000000</td>\n",
       "      <td>2.000000</td>\n",
       "    </tr>\n",
       "    <tr>\n",
       "      <th>max</th>\n",
       "      <td>65534.000000</td>\n",
       "      <td>65535.000000</td>\n",
       "      <td>65535.000000</td>\n",
       "      <td>65535.000000</td>\n",
       "      <td>1.000000</td>\n",
       "      <td>1.269359e+09</td>\n",
       "      <td>9.484772e+08</td>\n",
       "      <td>3.208818e+08</td>\n",
       "      <td>1.036116e+06</td>\n",
       "      <td>10824.000000</td>\n",
       "      <td>747520.000000</td>\n",
       "      <td>327208.000000</td>\n",
       "    </tr>\n",
       "  </tbody>\n",
       "</table>\n",
       "</div>"
      ],
      "text/plain": [
       "        Source Port  Destination Port  NAT Source Port  NAT Destination Port  \\\n",
       "count  65532.000000      65532.000000     65532.000000          65532.000000   \n",
       "mean   49391.969343      10577.385812     19282.972761           2671.049930   \n",
       "std    15255.712537      18466.027039     21970.689669           9739.162278   \n",
       "min        0.000000          0.000000         0.000000              0.000000   \n",
       "25%    49183.000000         80.000000         0.000000              0.000000   \n",
       "50%    53776.500000        445.000000      8820.500000             53.000000   \n",
       "75%    58638.000000      15000.000000     38366.250000            443.000000   \n",
       "max    65534.000000      65535.000000     65535.000000          65535.000000   \n",
       "\n",
       "             Action         Bytes    Bytes Sent  Bytes Received       Packets  \\\n",
       "count  65532.000000  6.553200e+04  6.553200e+04    6.553200e+04  6.553200e+04   \n",
       "mean       0.574376  9.712395e+04  2.238580e+04    7.473815e+04  1.028660e+02   \n",
       "std        0.494441  5.618439e+06  3.828139e+06    2.463208e+06  5.133002e+03   \n",
       "min        0.000000  6.000000e+01  6.000000e+01    0.000000e+00  1.000000e+00   \n",
       "25%        0.000000  6.600000e+01  6.600000e+01    0.000000e+00  1.000000e+00   \n",
       "50%        1.000000  1.680000e+02  9.000000e+01    7.900000e+01  2.000000e+00   \n",
       "75%        1.000000  7.522500e+02  2.100000e+02    4.490000e+02  6.000000e+00   \n",
       "max        1.000000  1.269359e+09  9.484772e+08    3.208818e+08  1.036116e+06   \n",
       "\n",
       "       Elapsed Time (sec)      pkts_sent  pkts_received  \n",
       "count        65532.000000   65532.000000   65532.000000  \n",
       "mean            65.833577      41.399530      61.466505  \n",
       "std            302.461762    3218.871288    2223.332271  \n",
       "min              0.000000       1.000000       0.000000  \n",
       "25%              0.000000       1.000000       0.000000  \n",
       "50%             15.000000       1.000000       1.000000  \n",
       "75%             30.000000       3.000000       2.000000  \n",
       "max          10824.000000  747520.000000  327208.000000  "
      ]
     },
     "execution_count": 99,
     "metadata": {},
     "output_type": "execute_result"
    }
   ],
   "source": [
    "firewall_data.describe()"
   ]
  },
  {
   "cell_type": "code",
   "execution_count": 100,
   "metadata": {},
   "outputs": [
    {
     "data": {
      "text/plain": [
       "Action                  1.000000\n",
       "NAT Source Port         0.754348\n",
       "NAT Destination Port    0.235859\n",
       "Elapsed Time (sec)      0.187367\n",
       "Source Port             0.132189\n",
       "Bytes Received          0.026119\n",
       "pkts_received           0.023798\n",
       "Packets                 0.017083\n",
       "Bytes                   0.014869\n",
       "pkts_sent               0.010804\n",
       "Bytes Sent              0.005017\n",
       "Destination Port       -0.367960\n",
       "Name: Action, dtype: float64"
      ]
     },
     "execution_count": 100,
     "metadata": {},
     "output_type": "execute_result"
    }
   ],
   "source": [
    "corr_matrix = firewall_data.corr()\n",
    "corr_matrix['Action'].sort_values(ascending=False)"
   ]
  },
  {
   "cell_type": "code",
   "execution_count": 101,
   "metadata": {
    "tags": []
   },
   "outputs": [],
   "source": [
    "#print('lala')\n",
    "#from pandas.plotting import scatter_matrix\n",
    "#print('lala')\n",
    "#selected_cols = ['Source Port', 'Destination Port', 'NAT Source Port']\n",
    "#print('lala')\n",
    "#scatter_matrix(firewall_data[selected_cols], figsize=(12,8)) \n",
    "#print('lala')\n",
    "#plt.show()\n",
    "#print('lala')"
   ]
  },
  {
   "cell_type": "markdown",
   "metadata": {},
   "source": [
    "# Data Preprocessing"
   ]
  },
  {
   "cell_type": "code",
   "execution_count": 102,
   "metadata": {},
   "outputs": [
    {
     "data": {
      "text/html": [
       "<div>\n",
       "<style scoped>\n",
       "    .dataframe tbody tr th:only-of-type {\n",
       "        vertical-align: middle;\n",
       "    }\n",
       "\n",
       "    .dataframe tbody tr th {\n",
       "        vertical-align: top;\n",
       "    }\n",
       "\n",
       "    .dataframe thead th {\n",
       "        text-align: right;\n",
       "    }\n",
       "</style>\n",
       "<table border=\"1\" class=\"dataframe\">\n",
       "  <thead>\n",
       "    <tr style=\"text-align: right;\">\n",
       "      <th></th>\n",
       "      <th>Source Port</th>\n",
       "      <th>Destination Port</th>\n",
       "      <th>NAT Source Port</th>\n",
       "      <th>NAT Destination Port</th>\n",
       "      <th>Action</th>\n",
       "      <th>Bytes</th>\n",
       "      <th>Bytes Sent</th>\n",
       "      <th>Bytes Received</th>\n",
       "      <th>Packets</th>\n",
       "      <th>Elapsed Time (sec)</th>\n",
       "      <th>pkts_sent</th>\n",
       "      <th>pkts_received</th>\n",
       "    </tr>\n",
       "  </thead>\n",
       "  <tbody>\n",
       "    <tr>\n",
       "      <th>0</th>\n",
       "      <td>57222</td>\n",
       "      <td>53</td>\n",
       "      <td>54587</td>\n",
       "      <td>53</td>\n",
       "      <td>1</td>\n",
       "      <td>177</td>\n",
       "      <td>94</td>\n",
       "      <td>83</td>\n",
       "      <td>2</td>\n",
       "      <td>30</td>\n",
       "      <td>1</td>\n",
       "      <td>1</td>\n",
       "    </tr>\n",
       "    <tr>\n",
       "      <th>1</th>\n",
       "      <td>56258</td>\n",
       "      <td>3389</td>\n",
       "      <td>56258</td>\n",
       "      <td>3389</td>\n",
       "      <td>1</td>\n",
       "      <td>4768</td>\n",
       "      <td>1600</td>\n",
       "      <td>3168</td>\n",
       "      <td>19</td>\n",
       "      <td>17</td>\n",
       "      <td>10</td>\n",
       "      <td>9</td>\n",
       "    </tr>\n",
       "    <tr>\n",
       "      <th>2</th>\n",
       "      <td>6881</td>\n",
       "      <td>50321</td>\n",
       "      <td>43265</td>\n",
       "      <td>50321</td>\n",
       "      <td>1</td>\n",
       "      <td>238</td>\n",
       "      <td>118</td>\n",
       "      <td>120</td>\n",
       "      <td>2</td>\n",
       "      <td>1199</td>\n",
       "      <td>1</td>\n",
       "      <td>1</td>\n",
       "    </tr>\n",
       "    <tr>\n",
       "      <th>3</th>\n",
       "      <td>50553</td>\n",
       "      <td>3389</td>\n",
       "      <td>50553</td>\n",
       "      <td>3389</td>\n",
       "      <td>1</td>\n",
       "      <td>3327</td>\n",
       "      <td>1438</td>\n",
       "      <td>1889</td>\n",
       "      <td>15</td>\n",
       "      <td>17</td>\n",
       "      <td>8</td>\n",
       "      <td>7</td>\n",
       "    </tr>\n",
       "    <tr>\n",
       "      <th>4</th>\n",
       "      <td>50002</td>\n",
       "      <td>443</td>\n",
       "      <td>45848</td>\n",
       "      <td>443</td>\n",
       "      <td>1</td>\n",
       "      <td>25358</td>\n",
       "      <td>6778</td>\n",
       "      <td>18580</td>\n",
       "      <td>31</td>\n",
       "      <td>16</td>\n",
       "      <td>13</td>\n",
       "      <td>18</td>\n",
       "    </tr>\n",
       "    <tr>\n",
       "      <th>5</th>\n",
       "      <td>51465</td>\n",
       "      <td>443</td>\n",
       "      <td>39975</td>\n",
       "      <td>443</td>\n",
       "      <td>1</td>\n",
       "      <td>3961</td>\n",
       "      <td>1595</td>\n",
       "      <td>2366</td>\n",
       "      <td>21</td>\n",
       "      <td>16</td>\n",
       "      <td>12</td>\n",
       "      <td>9</td>\n",
       "    </tr>\n",
       "    <tr>\n",
       "      <th>6</th>\n",
       "      <td>60513</td>\n",
       "      <td>47094</td>\n",
       "      <td>45469</td>\n",
       "      <td>47094</td>\n",
       "      <td>1</td>\n",
       "      <td>320</td>\n",
       "      <td>140</td>\n",
       "      <td>180</td>\n",
       "      <td>6</td>\n",
       "      <td>7</td>\n",
       "      <td>3</td>\n",
       "      <td>3</td>\n",
       "    </tr>\n",
       "    <tr>\n",
       "      <th>7</th>\n",
       "      <td>50049</td>\n",
       "      <td>443</td>\n",
       "      <td>21285</td>\n",
       "      <td>443</td>\n",
       "      <td>1</td>\n",
       "      <td>7912</td>\n",
       "      <td>3269</td>\n",
       "      <td>4643</td>\n",
       "      <td>23</td>\n",
       "      <td>96</td>\n",
       "      <td>12</td>\n",
       "      <td>11</td>\n",
       "    </tr>\n",
       "  </tbody>\n",
       "</table>\n",
       "</div>"
      ],
      "text/plain": [
       "   Source Port  Destination Port  NAT Source Port  NAT Destination Port  \\\n",
       "0        57222                53            54587                    53   \n",
       "1        56258              3389            56258                  3389   \n",
       "2         6881             50321            43265                 50321   \n",
       "3        50553              3389            50553                  3389   \n",
       "4        50002               443            45848                   443   \n",
       "5        51465               443            39975                   443   \n",
       "6        60513             47094            45469                 47094   \n",
       "7        50049               443            21285                   443   \n",
       "\n",
       "   Action  Bytes  Bytes Sent  Bytes Received  Packets  Elapsed Time (sec)  \\\n",
       "0       1    177          94              83        2                  30   \n",
       "1       1   4768        1600            3168       19                  17   \n",
       "2       1    238         118             120        2                1199   \n",
       "3       1   3327        1438            1889       15                  17   \n",
       "4       1  25358        6778           18580       31                  16   \n",
       "5       1   3961        1595            2366       21                  16   \n",
       "6       1    320         140             180        6                   7   \n",
       "7       1   7912        3269            4643       23                  96   \n",
       "\n",
       "   pkts_sent  pkts_received  \n",
       "0          1              1  \n",
       "1         10              9  \n",
       "2          1              1  \n",
       "3          8              7  \n",
       "4         13             18  \n",
       "5         12              9  \n",
       "6          3              3  \n",
       "7         12             11  "
      ]
     },
     "execution_count": 102,
     "metadata": {},
     "output_type": "execute_result"
    }
   ],
   "source": [
    "firewall_data.head(8)"
   ]
  },
  {
   "cell_type": "code",
   "execution_count": 103,
   "metadata": {},
   "outputs": [],
   "source": [
    "# write code to separate the output (y) from input (X)\n",
    "X = firewall_data.drop('Action', axis = 1)\n",
    "y = firewall_data['Action']"
   ]
  },
  {
   "cell_type": "code",
   "execution_count": 106,
   "metadata": {
    "tags": []
   },
   "outputs": [
    {
     "name": "stdout",
     "output_type": "stream",
     "text": [
      "[5.39571e+06 2.86033e+08 9.33478e+08 1.29453e+08 4.70895e+09 1.07965e+09\n",
      " 3.62931e+09 4.89829e+06 3.19688e+06 1.91424e+06 2.98475e+06]\n",
      "[[   53 54587   177    94    83]\n",
      " [ 3389 56258  4768  1600  3168]\n",
      " [50321 43265   238   118   120]\n",
      " [ 3389 50553  3327  1438  1889]]\n"
     ]
    }
   ],
   "source": [
    "# Import the necessary libraries first\n",
    "from sklearn.feature_selection import SelectKBest\n",
    "from sklearn.feature_selection import chi2\n",
    "\n",
    "#Feature extraction\n",
    "test = SelectKBest(score_func=chi2, k=5)\n",
    "fit = test.fit(X, y)\n",
    "\n",
    "#Summarize scores\n",
    "np.set_printoptions(precision = 5)\n",
    "print(fit.scores_)\n",
    "\n",
    "features = fit.transform(X)\n",
    "\n",
    "#Summarize selected features\n",
    "print(features[0:4, :])\n"
   ]
  },
  {
   "cell_type": "code",
   "execution_count": 107,
   "metadata": {},
   "outputs": [],
   "source": [
    "X = firewall_data.drop(['Source Port', 'NAT Destination Port', 'Packets','Elapsed Time (sec)', 'pkts_sent', 'pkts_received', 'Action'], axis =1)"
   ]
  },
  {
   "cell_type": "code",
   "execution_count": 28,
   "metadata": {
    "tags": []
   },
   "outputs": [
    {
     "name": "stdout",
     "output_type": "stream",
     "text": [
      "Shape of original dataset, train (65532, 12)\n",
      "X: shape= (65532, 8) type= <class 'pandas.core.frame.DataFrame'>\n",
      "y: shape= (65532,) type= <class 'pandas.core.series.Series'>\n",
      "0        1\n",
      "1        1\n",
      "2        1\n",
      "3        1\n",
      "4        1\n",
      "        ..\n",
      "65527    1\n",
      "65528    1\n",
      "65529    0\n",
      "65530    0\n",
      "65531    0\n",
      "Name: Action, Length: 65532, dtype: int32\n"
     ]
    }
   ],
   "source": [
    "print('Shape of original dataset, train', firewall_data.shape)\n",
    "print('X: shape=', X.shape, 'type=', type(X))\n",
    "print('y: shape=', y.shape, 'type=', type(y))\n",
    "print(y)"
   ]
  },
  {
   "cell_type": "code",
   "execution_count": 29,
   "metadata": {},
   "outputs": [
    {
     "data": {
      "text/plain": [
       "Source Port             0\n",
       "Destination Port        0\n",
       "NAT Source Port         0\n",
       "NAT Destination Port    0\n",
       "Bytes                   0\n",
       "Bytes Sent              0\n",
       "Bytes Received          0\n",
       "Packets                 0\n",
       "dtype: int64"
      ]
     },
     "execution_count": 29,
     "metadata": {},
     "output_type": "execute_result"
    }
   ],
   "source": [
    "X.isnull().sum()"
   ]
  },
  {
   "cell_type": "code",
   "execution_count": 30,
   "metadata": {},
   "outputs": [
    {
     "data": {
      "text/plain": [
       "0"
      ]
     },
     "execution_count": 30,
     "metadata": {},
     "output_type": "execute_result"
    }
   ],
   "source": [
    "y.isnull().sum()"
   ]
  },
  {
   "cell_type": "code",
   "execution_count": 31,
   "metadata": {
    "tags": []
   },
   "outputs": [
    {
     "name": "stdout",
     "output_type": "stream",
     "text": [
      "<class 'numpy.ndarray'>\n",
      "<class 'numpy.ndarray'>\n"
     ]
    }
   ],
   "source": [
    "X = X.values\n",
    "y = y.values\n",
    "print(type(X))\n",
    "print(type(y))"
   ]
  },
  {
   "cell_type": "code",
   "execution_count": 32,
   "metadata": {
    "tags": []
   },
   "outputs": [
    {
     "name": "stdout",
     "output_type": "stream",
     "text": [
      "full set shape = (65532, 8)\n",
      "train shape= (52425, 8)\n",
      "test shape= (13107, 8)\n"
     ]
    }
   ],
   "source": [
    "# Your code here\n",
    "\n",
    "from sklearn.model_selection import train_test_split\n",
    "X_train, X_test, y_train, y_test = train_test_split(X, y, test_size = 0.2, random_state=30)\n",
    "\n",
    "print('full set shape =', X.shape)\n",
    "print('train shape=', X_train.shape)\n",
    "print('test shape=', X_test.shape)\n"
   ]
  },
  {
   "cell_type": "code",
   "execution_count": 33,
   "metadata": {
    "tags": []
   },
   "outputs": [
    {
     "name": "stdout",
     "output_type": "stream",
     "text": [
      "<class 'numpy.ndarray'>\n",
      "<class 'numpy.ndarray'>\n",
      "<class 'numpy.ndarray'>\n",
      "<class 'numpy.ndarray'>\n"
     ]
    }
   ],
   "source": [
    "print(type(X_train))\n",
    "print(type(X_test))\n",
    "print(type(y_train))\n",
    "print(type(y_test))"
   ]
  },
  {
   "cell_type": "code",
   "execution_count": 34,
   "metadata": {},
   "outputs": [],
   "source": [
    "from sklearn.preprocessing import StandardScaler\n",
    "scaler = StandardScaler()\n",
    "scaler.fit(X_train)\n",
    "X_train = scaler.transform(X_train)"
   ]
  },
  {
   "cell_type": "code",
   "execution_count": 35,
   "metadata": {
    "tags": []
   },
   "outputs": [
    {
     "name": "stdout",
     "output_type": "stream",
     "text": [
      "[ 1.11209e-16 -1.75307e-15 -5.42403e-16 -2.26832e-16 -3.80219e-16\n",
      " -8.68111e-17  6.61928e-16  1.24616e-17]\n",
      "[1. 1. 1. 1. 1. 1. 1. 1.]\n",
      ">>> Mean of all columns:\n",
      " 2.5912615983430455e-17\n",
      "\n",
      ">>> Std of all columns:\n",
      " 1.0000000000000293\n"
     ]
    }
   ],
   "source": [
    "print(X_train.mean (axis = 0))\n",
    "print(X_train.std (axis = 0))\n",
    "\n",
    "print('>>> Mean of all columns:\\n', X_train.mean())\n",
    "print('\\n>>> Std of all columns:\\n', X_train.std())"
   ]
  },
  {
   "cell_type": "code",
   "execution_count": 36,
   "metadata": {
    "tags": []
   },
   "outputs": [
    {
     "name": "stdout",
     "output_type": "stream",
     "text": [
      "Possible values of Action:\n",
      " ['allow' 'deny' 'drop' 'reset-both']\n"
     ]
    }
   ],
   "source": [
    "print('Possible values of Action:\\n', lb_encoder.classes_)"
   ]
  },
  {
   "cell_type": "code",
   "execution_count": 37,
   "metadata": {
    "tags": []
   },
   "outputs": [
    {
     "name": "stdout",
     "output_type": "stream",
     "text": [
      "X_train shape:  (52425, 8)\n",
      "<class 'numpy.ndarray'>\n",
      "y_train shape:  (52425,)\n"
     ]
    }
   ],
   "source": [
    "print('X_train shape: ', X_train.shape)\n",
    "print(type(y_train))\n",
    "print('y_train shape: ', y_train.shape)"
   ]
  },
  {
   "cell_type": "code",
   "execution_count": 38,
   "metadata": {
    "tags": []
   },
   "outputs": [
    {
     "name": "stdout",
     "output_type": "stream",
     "text": [
      "Result for the 10 random samples: \n",
      "actual =       1 pred =      1\n",
      "actual =       1 pred =      1\n",
      "actual =       0 pred =      0\n",
      "actual =       0 pred =      0\n",
      "actual =       0 pred =      0\n",
      "actual =       0 pred =      0\n",
      "actual =       0 pred =      0\n",
      "actual =       0 pred =      0\n",
      "actual =       0 pred =      0\n",
      "actual =       0 pred =      0\n",
      "RMSE =  0.011657977553138051\n"
     ]
    }
   ],
   "source": [
    "from sklearn.tree import DecisionTreeRegressor \n",
    "from sklearn.metrics import mean_squared_error\n",
    "#create a instance of DecisionTreeRegressor\n",
    "#tree_reg = ?\n",
    "tree_reg = DecisionTreeRegressor()\n",
    "\n",
    "#Train the regressor model\n",
    "tree_reg.fit(X_train, y_train)\n",
    "\n",
    "#Predict on training set using trained regressor\n",
    "y_pred = tree_reg.predict(X_train)\n",
    "\n",
    "#Show the result of 10 random samples\n",
    "def show10results(y_train, y_pred):\n",
    "    print('Result for the 10 random samples: ')\n",
    "    selected = np.random.randint(0, len(y_train), 10)\n",
    "    for i in selected:\n",
    "        print('actual = {:7.0f} pred ={:7.0f}'.format(y_train[i], y_pred[i]))\n",
    "\n",
    "\n",
    "show10results(y_train, y_pred)\n",
    "\n",
    "#Compute and show the RMSE on training set\n",
    "tree_mse = mean_squared_error(y_pred, y_train)\n",
    "tree_rmse = np.sqrt(tree_mse)\n",
    "print('RMSE = ', tree_rmse)"
   ]
  },
  {
   "cell_type": "code",
   "execution_count": 39,
   "metadata": {
    "tags": []
   },
   "outputs": [
    {
     "name": "stdout",
     "output_type": "stream",
     "text": [
      "Result for the 10 random samples:\n",
      "actual =       1 pred =      1\n",
      "actual =       0 pred =      0\n",
      "actual =       1 pred =      1\n",
      "actual =       1 pred =      1\n",
      "actual =       1 pred =      1\n",
      "actual =       1 pred =      1\n",
      "actual =       0 pred =      0\n",
      "actual =       1 pred =      1\n",
      "actual =       1 pred =      1\n",
      "actual =       0 pred =      0\n",
      "RMSE = 0.015565847625678064\n"
     ]
    }
   ],
   "source": [
    "from sklearn.ensemble import RandomForestRegressor\n",
    "\n",
    "# create a instance of RandomForestRegressor\n",
    "# forest_reg = ?\n",
    "forest_reg = RandomForestRegressor(n_estimators=10, random_state=42)\n",
    "\n",
    "# Train the regressor model\n",
    "forest_reg.fit (X_train, y_train)\n",
    "\n",
    "# Predict on training set using trained regressor\n",
    "y_pred = forest_reg.predict(X_train)\n",
    "# Show the result of 10 random samples\n",
    "def show10results(y_train, y_pred):\n",
    "    print('Result for the 10 random samples:')\n",
    "    selected = np.random.randint(0, len(y_train), 10)\n",
    "    for i in selected:\n",
    "        print('actual = {:7.0f} pred ={:7.0f}'.format(y_train[i], y_pred[i]))\n",
    "\n",
    "show10results(y_train, y_pred)\n",
    "\n",
    "\n",
    "# Compute and show the RMSE on training set\n",
    "forest_mse = mean_squared_error(y_pred, y_train)\n",
    "forest_rmse= np.sqrt(forest_mse)\n",
    "print('RMSE =', forest_rmse)"
   ]
  },
  {
   "cell_type": "code",
   "execution_count": 40,
   "metadata": {},
   "outputs": [
    {
     "data": {
      "text/plain": [
       "0.5743758774339254"
      ]
     },
     "execution_count": 40,
     "metadata": {},
     "output_type": "execute_result"
    }
   ],
   "source": [
    "firewall_data.Action.mean()"
   ]
  },
  {
   "cell_type": "markdown",
   "metadata": {},
   "source": [
    "# Evaluating "
   ]
  },
  {
   "cell_type": "code",
   "execution_count": 41,
   "metadata": {
    "tags": []
   },
   "outputs": [
    {
     "name": "stdout",
     "output_type": "stream",
     "text": [
      "Scores:  [0.03442 0.0337  0.02712 0.02762 0.03666] \n",
      "\n",
      "Mean:  0.03190411989999752\n",
      "Standard deviation:  0.0038323184795391353\n"
     ]
    }
   ],
   "source": [
    "from sklearn.model_selection import cross_val_score\n",
    "\n",
    "def display_scores(scores):\n",
    "    print('Scores: ', scores, '\\n')\n",
    "    print('Mean: ', scores.mean())\n",
    "    print('Standard deviation: ', scores.std())\n",
    "# perform k-fold cross-out validation\n",
    "# use cross_val_score on tree_reg\n",
    "k_fold_scores = cross_val_score(tree_reg, X_train, y_train, scoring = 'neg_mean_squared_error', cv = 5)\n",
    "\n",
    "# convert NMSE to RMSE\n",
    "tree_rmse_scores = np.sqrt(-k_fold_scores)\n",
    "\n",
    "# use display_scores to show the results\n",
    "display_scores(tree_rmse_scores)"
   ]
  },
  {
   "cell_type": "code",
   "execution_count": 42,
   "metadata": {
    "tags": []
   },
   "outputs": [
    {
     "name": "stdout",
     "output_type": "stream",
     "text": [
      "Scores:  [0.02907 0.02942 0.02618 0.02471 0.02917] \n",
      "\n",
      "Mean:  0.027711593018371183\n",
      "Standard deviation:  0.001908717851033406\n"
     ]
    }
   ],
   "source": [
    "# use cross_val_score on forest_reg\n",
    "\n",
    "k_fold_scores = cross_val_score(forest_reg, X_train, y_train, scoring ='neg_mean_squared_error', cv=5)\n",
    "\n",
    "# covert NMSE to RMSE\n",
    "forest_rmse_scores = np.sqrt(-k_fold_scores)\n",
    "\n",
    "# use display_scores to show the results\n",
    "display_scores(forest_rmse_scores)"
   ]
  },
  {
   "cell_type": "markdown",
   "metadata": {},
   "source": [
    "# SGD classifier"
   ]
  },
  {
   "cell_type": "markdown",
   "metadata": {},
   "source": [
    "### Training an action model"
   ]
  },
  {
   "cell_type": "code",
   "execution_count": 43,
   "metadata": {},
   "outputs": [
    {
     "data": {
      "text/plain": [
       "SGDClassifier(max_iter=5, random_state=42, tol=None)"
      ]
     },
     "execution_count": 43,
     "metadata": {},
     "output_type": "execute_result"
    }
   ],
   "source": [
    "# import the SGD from sklearn\n",
    "\n",
    "from sklearn.linear_model import SGDClassifier\n",
    "\n",
    "# Train using the training set\n",
    "sgd_clf = SGDClassifier (random_state = 42, max_iter = 5, tol = None)\n",
    "sgd_clf.fit(X_train, y_train)"
   ]
  },
  {
   "cell_type": "markdown",
   "metadata": {},
   "source": [
    "### Performing predictions"
   ]
  },
  {
   "cell_type": "code",
   "execution_count": 44,
   "metadata": {},
   "outputs": [
    {
     "data": {
      "text/plain": [
       "array([0, 1, 1, ..., 0, 1, 1])"
      ]
     },
     "execution_count": 44,
     "metadata": {},
     "output_type": "execute_result"
    }
   ],
   "source": [
    "y_pred_sgd = sgd_clf.predict(X_train)\n",
    "y_pred_sgd"
   ]
  },
  {
   "cell_type": "markdown",
   "metadata": {},
   "source": [
    "#### Detection result for some randomly generated samples"
   ]
  },
  {
   "cell_type": "code",
   "execution_count": 45,
   "metadata": {
    "tags": []
   },
   "outputs": [
    {
     "name": "stdout",
     "output_type": "stream",
     "text": [
      "actual | Predicted\n",
      "------------------\n",
      "1  |  1\n",
      "1  |  1\n",
      "0  |  0\n",
      "1  |  1\n",
      "1  |  1\n",
      "1  |  1\n",
      "1  |  1\n",
      "1  |  1\n",
      "0  |  0\n",
      "1  |  1\n",
      "0  |  0\n",
      "0  |  0\n",
      "1  |  1\n",
      "1  |  1\n",
      "1  |  1\n",
      "1  |  1\n",
      "1  |  1\n",
      "1  |  1\n",
      "0  |  0\n",
      "1  |  1\n"
     ]
    }
   ],
   "source": [
    "def peek_results(actual, predicted, num = 20):\n",
    "    print('actual | Predicted')\n",
    "    print('------------------')\n",
    "    for i in range(num):\n",
    "        sel = np.random.randint(0, len(y_train))\n",
    "        print(actual[sel], ' | ', predicted[sel])\n",
    "\n",
    "peek_results(y_train, y_pred_sgd)"
   ]
  },
  {
   "cell_type": "markdown",
   "metadata": {},
   "source": [
    "### Performance measure: Accuracy"
   ]
  },
  {
   "cell_type": "code",
   "execution_count": 46,
   "metadata": {
    "tags": []
   },
   "outputs": [
    {
     "name": "stdout",
     "output_type": "stream",
     "text": [
      "Training accuracy: 0.9861\n"
     ]
    }
   ],
   "source": [
    "from sklearn.metrics import accuracy_score\n",
    "\n",
    "# compute accuracy using accuracy_score and show the result\n",
    "train_acc = accuracy_score(y_train, y_pred_sgd)\n",
    "print('Training accuracy: {:.4f}'.format(train_acc))"
   ]
  },
  {
   "cell_type": "markdown",
   "metadata": {},
   "source": [
    "### Measuring training accuracy using Cross-validation"
   ]
  },
  {
   "cell_type": "code",
   "execution_count": 47,
   "metadata": {},
   "outputs": [
    {
     "data": {
      "text/plain": [
       "array([0.9877 , 0.98579, 0.98445, 0.98608, 0.98884])"
      ]
     },
     "execution_count": 47,
     "metadata": {},
     "output_type": "execute_result"
    }
   ],
   "source": [
    "# compute 5-fold cross validation accuracy and show the result\n",
    "# k_scores = ....\n",
    "\n",
    "k_scores = cross_val_score(sgd_clf, X_train, y_train, cv = 5, scoring = 'accuracy')\n",
    "k_scores"
   ]
  },
  {
   "cell_type": "markdown",
   "metadata": {},
   "source": [
    "#### Problems with accuracy"
   ]
  },
  {
   "cell_type": "code",
   "execution_count": 59,
   "metadata": {
    "tags": []
   },
   "outputs": [
    {
     "name": "stdout",
     "output_type": "stream",
     "text": [
      "Accuracy using prediction values:  0.9860944206008584\n",
      "Accuracy using prediction values:  0.4266666666666667\n",
      "Accuracy using prediction values:  0.5733333333333334\n"
     ]
    }
   ],
   "source": [
    "y_train_pred_sgd = sgd_clf.predict(X_train) \n",
    "print('Accuracy using prediction values: ', accuracy_score(y_train, y_train_pred_sgd))\n",
    "\n",
    "y_train_allzero = np.zeros(len(y_train), dtype=bool)\n",
    "print('Accuracy using prediction values: ', accuracy_score(y_train, y_train_allzero))\n",
    "\n",
    "y_train_allzero = np.ones(len(y_train), dtype=bool)\n",
    "print('Accuracy using prediction values: ', accuracy_score(y_train, y_train_allzero))"
   ]
  },
  {
   "cell_type": "markdown",
   "metadata": {},
   "source": [
    "### Performance Measure: Confusion Matrix\n",
    "\n",
    "#### Perform cross-validated prediction"
   ]
  },
  {
   "cell_type": "code",
   "execution_count": 49,
   "metadata": {},
   "outputs": [
    {
     "data": {
      "text/plain": [
       "array([0, 1, 1, ..., 0, 1, 1])"
      ]
     },
     "execution_count": 49,
     "metadata": {},
     "output_type": "execute_result"
    }
   ],
   "source": [
    "from sklearn.model_selection import cross_val_predict\n",
    "\n",
    "# perform cross-validation prediction using cross_val_predict\n",
    "y_pred_cv = cross_val_predict(sgd_clf, X_train, y_train, cv = 5)\n",
    "y_pred_cv"
   ]
  },
  {
   "cell_type": "code",
   "execution_count": 50,
   "metadata": {
    "tags": []
   },
   "outputs": [
    {
     "name": "stdout",
     "output_type": "stream",
     "text": [
      "actual | Predicted\n",
      "------------------\n",
      "1  |  1\n",
      "1  |  1\n",
      "1  |  1\n",
      "0  |  0\n",
      "1  |  1\n",
      "1  |  0\n",
      "0  |  0\n",
      "1  |  1\n",
      "1  |  1\n",
      "1  |  1\n",
      "0  |  0\n",
      "1  |  1\n",
      "0  |  0\n",
      "1  |  1\n",
      "1  |  1\n",
      "1  |  1\n",
      "1  |  1\n",
      "1  |  1\n",
      "1  |  1\n",
      "1  |  1\n"
     ]
    }
   ],
   "source": [
    "peek_results(y_train, y_pred_cv)"
   ]
  },
  {
   "cell_type": "markdown",
   "metadata": {},
   "source": [
    "#### Compute the confusion matrix"
   ]
  },
  {
   "cell_type": "code",
   "execution_count": 51,
   "metadata": {
    "tags": []
   },
   "outputs": [
    {
     "name": "stdout",
     "output_type": "stream",
     "text": [
      "[[22347    21]\n",
      " [  683 29374]]\n"
     ]
    }
   ],
   "source": [
    "from sklearn.metrics import confusion_matrix\n",
    "cm = confusion_matrix (y_train, y_pred_cv)\n",
    "print(cm)"
   ]
  },
  {
   "cell_type": "markdown",
   "metadata": {},
   "source": [
    "### Performance Measure: Precision, Recall and F1 Score"
   ]
  },
  {
   "cell_type": "code",
   "execution_count": 52,
   "metadata": {
    "tags": []
   },
   "outputs": [
    {
     "name": "stdout",
     "output_type": "stream",
     "text": [
      "Precision =  0.9992855927878891\n",
      "Recall =  0.9772765079681938\n",
      "Precision =  0.9881585144318105\n"
     ]
    }
   ],
   "source": [
    "from sklearn.metrics import precision_score, recall_score, f1_score\n",
    "\n",
    "# compute and print the precision, recall and f1 score\n",
    "print('Precision = ', precision_score(y_train, y_pred_cv))\n",
    "print('Recall = ', recall_score(y_train, y_pred_cv))\n",
    "print('Precision = ', f1_score(y_train, y_pred_cv))\n"
   ]
  },
  {
   "cell_type": "markdown",
   "metadata": {},
   "source": [
    "### Performance Measure: Precision-Recall curve"
   ]
  },
  {
   "cell_type": "markdown",
   "metadata": {},
   "source": [
    "#### Generating prediction scores"
   ]
  },
  {
   "cell_type": "code",
   "execution_count": 53,
   "metadata": {},
   "outputs": [],
   "source": [
    "def peek_scores(actual, scores, num = 20):\n",
    "    print('actual | score')\n",
    "    print('---------------')\n",
    "    for i in range(num):\n",
    "        sel = np.random.randint(0, len(y_train))\n",
    "        print(actual[sel], ' | ', scores[sel])\n",
    "\n",
    "y_scores = sgd_clf.decision_function(X_train) # retrieve classification scores"
   ]
  },
  {
   "cell_type": "code",
   "execution_count": 54,
   "metadata": {
    "tags": []
   },
   "outputs": [
    {
     "name": "stdout",
     "output_type": "stream",
     "text": [
      "actual | score\n",
      "---------------\n",
      "1  |  7.748899963706187\n",
      "0  |  -1.0659818703681907\n",
      "0  |  -1.407050446635397\n",
      "0  |  -1.0673070470476365\n",
      "1  |  0.9851648161286555\n",
      "0  |  -1.4482855847235818\n",
      "1  |  33.054384978060874\n",
      "1  |  27.532932096020517\n",
      "1  |  31.31091864906913\n",
      "0  |  -1.0532258692579077\n",
      "1  |  24.535253255946117\n",
      "1  |  29.240826204923685\n",
      "0  |  -1.0649497362760627\n",
      "1  |  30.198672645806802\n",
      "1  |  15.770247505373483\n",
      "1  |  12.910956396241513\n",
      "1  |  22.076885541034112\n",
      "0  |  -1.4992385682258327\n",
      "1  |  10.469865194302375\n",
      "0  |  -1.0653074710916446\n"
     ]
    }
   ],
   "source": [
    "peek_scores(y_train, y_scores)"
   ]
  },
  {
   "cell_type": "code",
   "execution_count": 55,
   "metadata": {},
   "outputs": [
    {
     "data": {
      "text/plain": [
       "array([-1.00583, 20.74463, 18.72774, ..., -1.12679, 10.26419, 19.03115])"
      ]
     },
     "execution_count": 55,
     "metadata": {},
     "output_type": "execute_result"
    }
   ],
   "source": [
    "# retrieve the average cross-validated prediction score values for all samples\n",
    "# y_scores_cv = ....\n",
    "y_scores_cv = cross_val_predict(sgd_clf, X_train, y_train, cv = 5, method = 'decision_function')\n",
    "y_scores_cv"
   ]
  },
  {
   "cell_type": "markdown",
   "metadata": {},
   "source": [
    "#### Plot precision and recall graph"
   ]
  },
  {
   "cell_type": "code",
   "execution_count": 63,
   "metadata": {},
   "outputs": [],
   "source": [
    "from sklearn.metrics import precision_recall_curve\n",
    "# compute precision-recall pairs for different threshold values\n",
    "# precisions, recalls, thresholds = .....\n",
    "precisions, recalls, threholds = precision_recall_curve(y_train, y_scores_cv)"
   ]
  },
  {
   "cell_type": "code",
   "execution_count": 62,
   "metadata": {},
   "outputs": [
    {
     "data": {
      "image/png": "[encoded data removed]",
      "text/plain": [
       "<Figure size 576x432 with 1 Axes>"
      ]
     },
     "metadata": {
      "needs_background": "light"
     },
     "output_type": "display_data"
    }
   ],
   "source": [
    "def plot_precision_vs_recall(precisions, recalls):\n",
    "    plt.plot(recalls, precisions, 'b-', linewidth=3)\n",
    "    plt.plot(np.linspace(0, 1, 20), np.linspace(1, 0, 20), 'k--')\n",
    "    plt.xlabel('Recall', fontsize = 16)\n",
    "    plt.ylabel('Precision', fontsize = 16)\n",
    "    plt.axis([0, 1, 0, 1])\n",
    "    \n",
    "plt.figure(figsize=(8, 6))\n",
    "plot_precision_vs_recall(precisions, recalls)\n",
    "plt.title('Precision-Recall Graph (Training Set', fontsize = 20)\n",
    "plt.show()"
   ]
  },
  {
   "cell_type": "markdown",
   "metadata": {},
   "source": [
    "# Performance measure: ROC curve"
   ]
  },
  {
   "cell_type": "code",
   "execution_count": 64,
   "metadata": {},
   "outputs": [
    {
     "data": {
      "image/png": "[encoded data removed]",
      "text/plain": [
       "<Figure size 432x288 with 1 Axes>"
      ]
     },
     "metadata": {
      "needs_background": "light"
     },
     "output_type": "display_data"
    }
   ],
   "source": [
    "from sklearn.metrics import roc_curve\n",
    "fpr, tpr, thresholds = roc_curve(y_train, y_scores_cv)\n",
    "\n",
    "def plot_roc_curve (fpr, tpr, style = 'b-', label = None):\n",
    "    plt.plot(fpr, tpr, style, linewidth = 3, label = label)\n",
    "    plt.plot([0,1], [0, 1], 'k--')\n",
    "    plt.axis([0, 1, 0, 1])\n",
    "    plt.xlabel ('False Positive Rate')\n",
    "    plt.ylabel ('True Positive Rate')\n",
    "    plt.title('TPR vs FPR', fontsize=20)\n",
    "    \n",
    "plot_roc_curve(fpr, tpr)\n"
   ]
  },
  {
   "cell_type": "markdown",
   "metadata": {},
   "source": [
    "# The AUC (Area under curve) measure"
   ]
  },
  {
   "cell_type": "code",
   "execution_count": 67,
   "metadata": {},
   "outputs": [
    {
     "name": "stdout",
     "output_type": "stream",
     "text": [
      "AUC = 0.9960\n"
     ]
    }
   ],
   "source": [
    "from sklearn.metrics import roc_auc_score\n",
    "\n",
    "auc = roc_auc_score(y_train, y_scores_cv)\n",
    "\n",
    "print('AUC = {:.4f}'.format(auc))"
   ]
  },
  {
   "cell_type": "markdown",
   "metadata": {},
   "source": [
    "# Evaluate model on test set"
   ]
  },
  {
   "cell_type": "code",
   "execution_count": 65,
   "metadata": {},
   "outputs": [
    {
     "name": "stdout",
     "output_type": "stream",
     "text": [
      "Test precision = 0.9931\n",
      "Test recall = 0.9929\n",
      "Test f1 score = 0.9930\n"
     ]
    }
   ],
   "source": [
    "from sklearn.linear_model import SGDClassifier\n",
    "from sklearn.metrics import precision_score, recall_score, f1_score\n",
    "\n",
    "y_pred_test = sgd_clf.predict(X_test)\n",
    "\n",
    "print('Test precision = {:.4f}'.format(precision_score(y_test, y_pred_test)))\n",
    "print('Test recall = {:.4f}'.format(recall_score(y_test, y_pred_test)))\n",
    "print('Test f1 score = {:.4f}'.format(f1_score(y_test, y_pred_test)))"
   ]
  },
  {
   "cell_type": "markdown",
   "metadata": {},
   "source": [
    "# Classifiers Comparison"
   ]
  },
  {
   "cell_type": "markdown",
   "metadata": {},
   "source": [
    "### SGDClassifier vs RandomForestClassifier"
   ]
  },
  {
   "cell_type": "code",
   "execution_count": 69,
   "metadata": {},
   "outputs": [
    {
     "name": "stdout",
     "output_type": "stream",
     "text": [
      "SGDClassifier: validation accuracy  = 0.9861\n",
      "SGDClassifier: validation recall    = 0.9764\n",
      "SGDClassifier: validation precision = 0.9993\n",
      "SGDClassifier: validation f1        = 0.9877\n"
     ]
    }
   ],
   "source": [
    "from sklearn.model_selection import cross_validate\n",
    "from sklearn.linear_model import SGDClassifier\n",
    "\n",
    "sgd_clf = SGDClassifier(max_iter = 200, random_state = 42)\n",
    "sgd_result = cross_validate (sgd_clf, X_train, y_train, cv=3, scoring=['accuracy', 'precision', 'recall', 'f1'])\n",
    "\n",
    "print('SGDClassifier: validation accuracy  = {:.4f}'.format(sgd_result['test_accuracy'].mean()))\n",
    "print('SGDClassifier: validation recall    = {:.4f}'.format(sgd_result['test_recall'].mean()))\n",
    "print('SGDClassifier: validation precision = {:.4f}'.format(sgd_result['test_precision'].mean()))\n",
    "print('SGDClassifier: validation f1        = {:.4f}'.format(sgd_result['test_f1'].mean()))"
   ]
  },
  {
   "cell_type": "code",
   "execution_count": 70,
   "metadata": {},
   "outputs": [
    {
     "name": "stdout",
     "output_type": "stream",
     "text": [
      "Forest: validation accuracy = 0.9990\n",
      "Forest: validation recall = 0.9986\n",
      "Forest: validation precision = 0.9997\n",
      "Forest: validation f1 = 0.9992\n"
     ]
    }
   ],
   "source": [
    "from sklearn.model_selection import cross_validate\n",
    "from sklearn.ensemble import RandomForestClassifier\n",
    "\n",
    "forest_clf = RandomForestClassifier(n_estimators = 10, random_state = 42)\n",
    "forest_result = cross_validate(forest_clf, X_train, y_train, cv = 5, scoring = ['accuracy', 'precision', 'recall', 'f1'])\n",
    "\n",
    "print('Forest: validation accuracy = {:.4f}'.format(forest_result['test_accuracy'].mean()))\n",
    "print('Forest: validation recall = {:.4f}'.format(forest_result['test_recall'].mean()))\n",
    "print('Forest: validation precision = {:.4f}'.format(forest_result['test_precision'].mean()))\n",
    "print('Forest: validation f1 = {:.4f}'.format(forest_result['test_f1'].mean()))"
   ]
  },
  {
   "cell_type": "markdown",
   "metadata": {},
   "source": [
    "### Comparing classifiers using the ROC curve\n",
    "\n",
    "#### SGDClassifier: decision_function\n",
    "#### RandomForestClassifier: predict_proba"
   ]
  },
  {
   "cell_type": "code",
   "execution_count": 74,
   "metadata": {},
   "outputs": [
    {
     "name": "stdout",
     "output_type": "stream",
     "text": [
      "Computing scores for SGDClassifier...done\n",
      "Computing scores for RandomForestClassifier...done\n"
     ]
    }
   ],
   "source": [
    "print('Computing scores for SGDClassifier...', end = '')\n",
    "y_scores_sgd = cross_val_predict(sgd_clf, X_train, y_train, cv = 5, method = 'decision_function')\n",
    "print('done')\n",
    "\n",
    "print('Computing scores for RandomForestClassifier...', end='')\n",
    "y_scores_forest = cross_val_predict(forest_clf, X_train, y_train, cv = 5, method = 'predict_proba')\n",
    "print('done')"
   ]
  },
  {
   "cell_type": "code",
   "execution_count": 75,
   "metadata": {},
   "outputs": [
    {
     "name": "stdout",
     "output_type": "stream",
     "text": [
      "Shape of y_scores_sgd: (52425,)\n",
      "Shape of y_scores_sgd: (52425, 2)\n"
     ]
    }
   ],
   "source": [
    "print('Shape of y_scores_sgd:', y_scores_sgd.shape)\n",
    "print('Shape of y_scores_sgd:', y_scores_forest.shape)"
   ]
  },
  {
   "cell_type": "code",
   "execution_count": 76,
   "metadata": {},
   "outputs": [],
   "source": [
    "y_scores_forest = y_scores_forest[:, 1]"
   ]
  },
  {
   "cell_type": "code",
   "execution_count": 77,
   "metadata": {},
   "outputs": [],
   "source": [
    "fpr_sgd, tpr_sgd, thresholds_sgd = roc_curve (y_train, y_scores_sgd)\n",
    "fpr_forest, tpr_forest, thresholds_forest = roc_curve (y_train, y_scores_forest)\n"
   ]
  },
  {
   "cell_type": "code",
   "execution_count": 78,
   "metadata": {},
   "outputs": [
    {
     "data": {
      "image/png": "[encoded data removed]",
      "text/plain": [
       "<Figure size 576x432 with 1 Axes>"
      ]
     },
     "metadata": {
      "needs_background": "light"
     },
     "output_type": "display_data"
    }
   ],
   "source": [
    "plt.figure(figsize = (8, 6))\n",
    "plot_roc_curve(fpr_sgd, tpr_sgd, 'r-', 'SGDClassifier')\n",
    "plot_roc_curve(fpr_forest, tpr_forest, 'b-', 'RandomForestClassifier')\n",
    "plt.legend (loc='lower right')\n",
    "plt.show()"
   ]
  },
  {
   "cell_type": "code",
   "execution_count": 79,
   "metadata": {},
   "outputs": [
    {
     "name": "stdout",
     "output_type": "stream",
     "text": [
      "AUC for SGDClassifier = 0.9955\n",
      "AUC for RandomForestClassifier = 0.9997\n"
     ]
    }
   ],
   "source": [
    "from sklearn.metrics import roc_auc_score\n",
    "\n",
    "auc_sgd = roc_auc_score(y_train, y_scores_sgd)\n",
    "print('AUC for SGDClassifier = {:.4f}'.format(auc_sgd))\n",
    "\n",
    "auc_forest = roc_auc_score(y_train, y_scores_forest)\n",
    "print('AUC for RandomForestClassifier = {:.4f}'.format(auc_forest))"
   ]
  },
  {
   "cell_type": "markdown",
   "metadata": {},
   "source": [
    "<a id=\"log_reg_section\"></a>\n",
    "# Logistic  Regression\n",
    "<hr>"
   ]
  },
  {
   "cell_type": "markdown",
   "metadata": {},
   "source": [
    "<div class=\"alert alert-block alert-info\">\n",
    " <h1>Imports</h1>\n",
    "</div>\n"
   ]
  },
  {
   "cell_type": "code",
   "execution_count": 1,
   "metadata": {},
   "outputs": [],
   "source": [
    "from sklearn.preprocessing import StandardScaler\n",
    "from sklearn import metrics\n",
    "from sklearn.model_selection import train_test_split\n",
    "from sklearn.linear_model import LogisticRegression\n",
    "import pandas as pd\n",
    "import numpy as np\n",
    "import matplotlib.pyplot as plt\n",
    "\n",
    "np.random.seed(42) # to ensure we have consistent results"
   ]
  },
  {
   "cell_type": "markdown",
   "metadata": {},
   "source": [
    "<div class=\"alert alert-block alert-info\">\n",
    " <h1>GET THE DATASET</h1>\n",
    "</div>"
   ]
  },
  {
   "cell_type": "code",
   "execution_count": 2,
   "metadata": {},
   "outputs": [
    {
     "name": "stdout",
     "output_type": "stream",
     "text": [
      "==> Loading specified dataset...\n",
      "\n",
      "==> Dataset loading completed.\n",
      "\n"
     ]
    }
   ],
   "source": [
    "# Load the dataset\n",
    "\n",
    "print('==> Loading specified dataset...\\n')\n",
    "firewall_data = pd.read_csv(\"Firewall_data_sets.csv\")\n",
    "print('==> Dataset loading completed.\\n')"
   ]
  },
  {
   "cell_type": "markdown",
   "metadata": {},
   "source": [
    "<div class=\"alert alert-block alert-info\">\n",
    " <h1>VISUALIZE THE DATA</h1>\n",
    "</div>\n"
   ]
  },
  {
   "cell_type": "code",
   "execution_count": 3,
   "metadata": {},
   "outputs": [
    {
     "name": "stdout",
     "output_type": "stream",
     "text": [
      "<class 'pandas.core.frame.DataFrame'>\n",
      "RangeIndex: 65532 entries, 0 to 65531\n",
      "Data columns (total 12 columns):\n",
      " #   Column                Non-Null Count  Dtype \n",
      "---  ------                --------------  ----- \n",
      " 0   Source Port           65532 non-null  int64 \n",
      " 1   Destination Port      65532 non-null  int64 \n",
      " 2   NAT Source Port       65532 non-null  int64 \n",
      " 3   NAT Destination Port  65532 non-null  int64 \n",
      " 4   Action                65532 non-null  object\n",
      " 5   Bytes                 65532 non-null  int64 \n",
      " 6   Bytes Sent            65532 non-null  int64 \n",
      " 7   Bytes Received        65532 non-null  int64 \n",
      " 8   Packets               65532 non-null  int64 \n",
      " 9   Elapsed Time (sec)    65532 non-null  int64 \n",
      " 10  pkts_sent             65532 non-null  int64 \n",
      " 11  pkts_received         65532 non-null  int64 \n",
      "dtypes: int64(11), object(1)\n",
      "memory usage: 6.0+ MB\n"
     ]
    }
   ],
   "source": [
    "# Data Header\n",
    "firewall_data.info()"
   ]
  },
  {
   "cell_type": "code",
   "execution_count": 4,
   "metadata": {},
   "outputs": [
    {
     "data": {
      "text/html": [
       "<div>\n",
       "<style scoped>\n",
       "    .dataframe tbody tr th:only-of-type {\n",
       "        vertical-align: middle;\n",
       "    }\n",
       "\n",
       "    .dataframe tbody tr th {\n",
       "        vertical-align: top;\n",
       "    }\n",
       "\n",
       "    .dataframe thead th {\n",
       "        text-align: right;\n",
       "    }\n",
       "</style>\n",
       "<table border=\"1\" class=\"dataframe\">\n",
       "  <thead>\n",
       "    <tr style=\"text-align: right;\">\n",
       "      <th></th>\n",
       "      <th>Source Port</th>\n",
       "      <th>Destination Port</th>\n",
       "      <th>NAT Source Port</th>\n",
       "      <th>NAT Destination Port</th>\n",
       "      <th>Action</th>\n",
       "      <th>Bytes</th>\n",
       "      <th>Bytes Sent</th>\n",
       "      <th>Bytes Received</th>\n",
       "      <th>Packets</th>\n",
       "      <th>Elapsed Time (sec)</th>\n",
       "      <th>pkts_sent</th>\n",
       "      <th>pkts_received</th>\n",
       "    </tr>\n",
       "  </thead>\n",
       "  <tbody>\n",
       "    <tr>\n",
       "      <th>0</th>\n",
       "      <td>57222</td>\n",
       "      <td>53</td>\n",
       "      <td>54587</td>\n",
       "      <td>53</td>\n",
       "      <td>allow</td>\n",
       "      <td>177</td>\n",
       "      <td>94</td>\n",
       "      <td>83</td>\n",
       "      <td>2</td>\n",
       "      <td>30</td>\n",
       "      <td>1</td>\n",
       "      <td>1</td>\n",
       "    </tr>\n",
       "    <tr>\n",
       "      <th>1</th>\n",
       "      <td>56258</td>\n",
       "      <td>3389</td>\n",
       "      <td>56258</td>\n",
       "      <td>3389</td>\n",
       "      <td>allow</td>\n",
       "      <td>4768</td>\n",
       "      <td>1600</td>\n",
       "      <td>3168</td>\n",
       "      <td>19</td>\n",
       "      <td>17</td>\n",
       "      <td>10</td>\n",
       "      <td>9</td>\n",
       "    </tr>\n",
       "    <tr>\n",
       "      <th>2</th>\n",
       "      <td>6881</td>\n",
       "      <td>50321</td>\n",
       "      <td>43265</td>\n",
       "      <td>50321</td>\n",
       "      <td>allow</td>\n",
       "      <td>238</td>\n",
       "      <td>118</td>\n",
       "      <td>120</td>\n",
       "      <td>2</td>\n",
       "      <td>1199</td>\n",
       "      <td>1</td>\n",
       "      <td>1</td>\n",
       "    </tr>\n",
       "    <tr>\n",
       "      <th>3</th>\n",
       "      <td>50553</td>\n",
       "      <td>3389</td>\n",
       "      <td>50553</td>\n",
       "      <td>3389</td>\n",
       "      <td>allow</td>\n",
       "      <td>3327</td>\n",
       "      <td>1438</td>\n",
       "      <td>1889</td>\n",
       "      <td>15</td>\n",
       "      <td>17</td>\n",
       "      <td>8</td>\n",
       "      <td>7</td>\n",
       "    </tr>\n",
       "    <tr>\n",
       "      <th>4</th>\n",
       "      <td>50002</td>\n",
       "      <td>443</td>\n",
       "      <td>45848</td>\n",
       "      <td>443</td>\n",
       "      <td>allow</td>\n",
       "      <td>25358</td>\n",
       "      <td>6778</td>\n",
       "      <td>18580</td>\n",
       "      <td>31</td>\n",
       "      <td>16</td>\n",
       "      <td>13</td>\n",
       "      <td>18</td>\n",
       "    </tr>\n",
       "    <tr>\n",
       "      <th>...</th>\n",
       "      <td>...</td>\n",
       "      <td>...</td>\n",
       "      <td>...</td>\n",
       "      <td>...</td>\n",
       "      <td>...</td>\n",
       "      <td>...</td>\n",
       "      <td>...</td>\n",
       "      <td>...</td>\n",
       "      <td>...</td>\n",
       "      <td>...</td>\n",
       "      <td>...</td>\n",
       "      <td>...</td>\n",
       "    </tr>\n",
       "    <tr>\n",
       "      <th>65527</th>\n",
       "      <td>63691</td>\n",
       "      <td>80</td>\n",
       "      <td>13237</td>\n",
       "      <td>80</td>\n",
       "      <td>allow</td>\n",
       "      <td>314</td>\n",
       "      <td>192</td>\n",
       "      <td>122</td>\n",
       "      <td>6</td>\n",
       "      <td>15</td>\n",
       "      <td>4</td>\n",
       "      <td>2</td>\n",
       "    </tr>\n",
       "    <tr>\n",
       "      <th>65528</th>\n",
       "      <td>50964</td>\n",
       "      <td>80</td>\n",
       "      <td>13485</td>\n",
       "      <td>80</td>\n",
       "      <td>allow</td>\n",
       "      <td>4680740</td>\n",
       "      <td>67312</td>\n",
       "      <td>4613428</td>\n",
       "      <td>4675</td>\n",
       "      <td>77</td>\n",
       "      <td>985</td>\n",
       "      <td>3690</td>\n",
       "    </tr>\n",
       "    <tr>\n",
       "      <th>65529</th>\n",
       "      <td>54871</td>\n",
       "      <td>445</td>\n",
       "      <td>0</td>\n",
       "      <td>0</td>\n",
       "      <td>drop</td>\n",
       "      <td>70</td>\n",
       "      <td>70</td>\n",
       "      <td>0</td>\n",
       "      <td>1</td>\n",
       "      <td>0</td>\n",
       "      <td>1</td>\n",
       "      <td>0</td>\n",
       "    </tr>\n",
       "    <tr>\n",
       "      <th>65530</th>\n",
       "      <td>54870</td>\n",
       "      <td>445</td>\n",
       "      <td>0</td>\n",
       "      <td>0</td>\n",
       "      <td>drop</td>\n",
       "      <td>70</td>\n",
       "      <td>70</td>\n",
       "      <td>0</td>\n",
       "      <td>1</td>\n",
       "      <td>0</td>\n",
       "      <td>1</td>\n",
       "      <td>0</td>\n",
       "    </tr>\n",
       "    <tr>\n",
       "      <th>65531</th>\n",
       "      <td>54867</td>\n",
       "      <td>445</td>\n",
       "      <td>0</td>\n",
       "      <td>0</td>\n",
       "      <td>drop</td>\n",
       "      <td>70</td>\n",
       "      <td>70</td>\n",
       "      <td>0</td>\n",
       "      <td>1</td>\n",
       "      <td>0</td>\n",
       "      <td>1</td>\n",
       "      <td>0</td>\n",
       "    </tr>\n",
       "  </tbody>\n",
       "</table>\n",
       "<p>65532 rows × 12 columns</p>\n",
       "</div>"
      ],
      "text/plain": [
       "       Source Port  Destination Port  NAT Source Port  NAT Destination Port  \\\n",
       "0            57222                53            54587                    53   \n",
       "1            56258              3389            56258                  3389   \n",
       "2             6881             50321            43265                 50321   \n",
       "3            50553              3389            50553                  3389   \n",
       "4            50002               443            45848                   443   \n",
       "...            ...               ...              ...                   ...   \n",
       "65527        63691                80            13237                    80   \n",
       "65528        50964                80            13485                    80   \n",
       "65529        54871               445                0                     0   \n",
       "65530        54870               445                0                     0   \n",
       "65531        54867               445                0                     0   \n",
       "\n",
       "      Action    Bytes  Bytes Sent  Bytes Received  Packets  \\\n",
       "0      allow      177          94              83        2   \n",
       "1      allow     4768        1600            3168       19   \n",
       "2      allow      238         118             120        2   \n",
       "3      allow     3327        1438            1889       15   \n",
       "4      allow    25358        6778           18580       31   \n",
       "...      ...      ...         ...             ...      ...   \n",
       "65527  allow      314         192             122        6   \n",
       "65528  allow  4680740       67312         4613428     4675   \n",
       "65529   drop       70          70               0        1   \n",
       "65530   drop       70          70               0        1   \n",
       "65531   drop       70          70               0        1   \n",
       "\n",
       "       Elapsed Time (sec)  pkts_sent  pkts_received  \n",
       "0                      30          1              1  \n",
       "1                      17         10              9  \n",
       "2                    1199          1              1  \n",
       "3                      17          8              7  \n",
       "4                      16         13             18  \n",
       "...                   ...        ...            ...  \n",
       "65527                  15          4              2  \n",
       "65528                  77        985           3690  \n",
       "65529                   0          1              0  \n",
       "65530                   0          1              0  \n",
       "65531                   0          1              0  \n",
       "\n",
       "[65532 rows x 12 columns]"
      ]
     },
     "execution_count": 4,
     "metadata": {},
     "output_type": "execute_result"
    }
   ],
   "source": [
    "# Data Preview\n",
    "firewall_data"
   ]
  },
  {
   "cell_type": "code",
   "execution_count": 5,
   "metadata": {},
   "outputs": [
    {
     "data": {
      "text/html": [
       "<div>\n",
       "<style scoped>\n",
       "    .dataframe tbody tr th:only-of-type {\n",
       "        vertical-align: middle;\n",
       "    }\n",
       "\n",
       "    .dataframe tbody tr th {\n",
       "        vertical-align: top;\n",
       "    }\n",
       "\n",
       "    .dataframe thead th {\n",
       "        text-align: right;\n",
       "    }\n",
       "</style>\n",
       "<table border=\"1\" class=\"dataframe\">\n",
       "  <thead>\n",
       "    <tr style=\"text-align: right;\">\n",
       "      <th></th>\n",
       "      <th>Source Port</th>\n",
       "      <th>Destination Port</th>\n",
       "      <th>NAT Source Port</th>\n",
       "      <th>NAT Destination Port</th>\n",
       "      <th>Bytes</th>\n",
       "      <th>Bytes Sent</th>\n",
       "      <th>Bytes Received</th>\n",
       "      <th>Packets</th>\n",
       "      <th>Elapsed Time (sec)</th>\n",
       "      <th>pkts_sent</th>\n",
       "      <th>pkts_received</th>\n",
       "    </tr>\n",
       "  </thead>\n",
       "  <tbody>\n",
       "    <tr>\n",
       "      <th>count</th>\n",
       "      <td>65532.000000</td>\n",
       "      <td>65532.000000</td>\n",
       "      <td>65532.000000</td>\n",
       "      <td>65532.000000</td>\n",
       "      <td>6.553200e+04</td>\n",
       "      <td>6.553200e+04</td>\n",
       "      <td>6.553200e+04</td>\n",
       "      <td>6.553200e+04</td>\n",
       "      <td>65532.000000</td>\n",
       "      <td>65532.000000</td>\n",
       "      <td>65532.000000</td>\n",
       "    </tr>\n",
       "    <tr>\n",
       "      <th>mean</th>\n",
       "      <td>49391.969343</td>\n",
       "      <td>10577.385812</td>\n",
       "      <td>19282.972761</td>\n",
       "      <td>2671.049930</td>\n",
       "      <td>9.712395e+04</td>\n",
       "      <td>2.238580e+04</td>\n",
       "      <td>7.473815e+04</td>\n",
       "      <td>1.028660e+02</td>\n",
       "      <td>65.833577</td>\n",
       "      <td>41.399530</td>\n",
       "      <td>61.466505</td>\n",
       "    </tr>\n",
       "    <tr>\n",
       "      <th>std</th>\n",
       "      <td>15255.712537</td>\n",
       "      <td>18466.027039</td>\n",
       "      <td>21970.689669</td>\n",
       "      <td>9739.162278</td>\n",
       "      <td>5.618439e+06</td>\n",
       "      <td>3.828139e+06</td>\n",
       "      <td>2.463208e+06</td>\n",
       "      <td>5.133002e+03</td>\n",
       "      <td>302.461762</td>\n",
       "      <td>3218.871288</td>\n",
       "      <td>2223.332271</td>\n",
       "    </tr>\n",
       "    <tr>\n",
       "      <th>min</th>\n",
       "      <td>0.000000</td>\n",
       "      <td>0.000000</td>\n",
       "      <td>0.000000</td>\n",
       "      <td>0.000000</td>\n",
       "      <td>6.000000e+01</td>\n",
       "      <td>6.000000e+01</td>\n",
       "      <td>0.000000e+00</td>\n",
       "      <td>1.000000e+00</td>\n",
       "      <td>0.000000</td>\n",
       "      <td>1.000000</td>\n",
       "      <td>0.000000</td>\n",
       "    </tr>\n",
       "    <tr>\n",
       "      <th>25%</th>\n",
       "      <td>49183.000000</td>\n",
       "      <td>80.000000</td>\n",
       "      <td>0.000000</td>\n",
       "      <td>0.000000</td>\n",
       "      <td>6.600000e+01</td>\n",
       "      <td>6.600000e+01</td>\n",
       "      <td>0.000000e+00</td>\n",
       "      <td>1.000000e+00</td>\n",
       "      <td>0.000000</td>\n",
       "      <td>1.000000</td>\n",
       "      <td>0.000000</td>\n",
       "    </tr>\n",
       "    <tr>\n",
       "      <th>50%</th>\n",
       "      <td>53776.500000</td>\n",
       "      <td>445.000000</td>\n",
       "      <td>8820.500000</td>\n",
       "      <td>53.000000</td>\n",
       "      <td>1.680000e+02</td>\n",
       "      <td>9.000000e+01</td>\n",
       "      <td>7.900000e+01</td>\n",
       "      <td>2.000000e+00</td>\n",
       "      <td>15.000000</td>\n",
       "      <td>1.000000</td>\n",
       "      <td>1.000000</td>\n",
       "    </tr>\n",
       "    <tr>\n",
       "      <th>75%</th>\n",
       "      <td>58638.000000</td>\n",
       "      <td>15000.000000</td>\n",
       "      <td>38366.250000</td>\n",
       "      <td>443.000000</td>\n",
       "      <td>7.522500e+02</td>\n",
       "      <td>2.100000e+02</td>\n",
       "      <td>4.490000e+02</td>\n",
       "      <td>6.000000e+00</td>\n",
       "      <td>30.000000</td>\n",
       "      <td>3.000000</td>\n",
       "      <td>2.000000</td>\n",
       "    </tr>\n",
       "    <tr>\n",
       "      <th>max</th>\n",
       "      <td>65534.000000</td>\n",
       "      <td>65535.000000</td>\n",
       "      <td>65535.000000</td>\n",
       "      <td>65535.000000</td>\n",
       "      <td>1.269359e+09</td>\n",
       "      <td>9.484772e+08</td>\n",
       "      <td>3.208818e+08</td>\n",
       "      <td>1.036116e+06</td>\n",
       "      <td>10824.000000</td>\n",
       "      <td>747520.000000</td>\n",
       "      <td>327208.000000</td>\n",
       "    </tr>\n",
       "  </tbody>\n",
       "</table>\n",
       "</div>"
      ],
      "text/plain": [
       "        Source Port  Destination Port  NAT Source Port  NAT Destination Port  \\\n",
       "count  65532.000000      65532.000000     65532.000000          65532.000000   \n",
       "mean   49391.969343      10577.385812     19282.972761           2671.049930   \n",
       "std    15255.712537      18466.027039     21970.689669           9739.162278   \n",
       "min        0.000000          0.000000         0.000000              0.000000   \n",
       "25%    49183.000000         80.000000         0.000000              0.000000   \n",
       "50%    53776.500000        445.000000      8820.500000             53.000000   \n",
       "75%    58638.000000      15000.000000     38366.250000            443.000000   \n",
       "max    65534.000000      65535.000000     65535.000000          65535.000000   \n",
       "\n",
       "              Bytes    Bytes Sent  Bytes Received       Packets  \\\n",
       "count  6.553200e+04  6.553200e+04    6.553200e+04  6.553200e+04   \n",
       "mean   9.712395e+04  2.238580e+04    7.473815e+04  1.028660e+02   \n",
       "std    5.618439e+06  3.828139e+06    2.463208e+06  5.133002e+03   \n",
       "min    6.000000e+01  6.000000e+01    0.000000e+00  1.000000e+00   \n",
       "25%    6.600000e+01  6.600000e+01    0.000000e+00  1.000000e+00   \n",
       "50%    1.680000e+02  9.000000e+01    7.900000e+01  2.000000e+00   \n",
       "75%    7.522500e+02  2.100000e+02    4.490000e+02  6.000000e+00   \n",
       "max    1.269359e+09  9.484772e+08    3.208818e+08  1.036116e+06   \n",
       "\n",
       "       Elapsed Time (sec)      pkts_sent  pkts_received  \n",
       "count        65532.000000   65532.000000   65532.000000  \n",
       "mean            65.833577      41.399530      61.466505  \n",
       "std            302.461762    3218.871288    2223.332271  \n",
       "min              0.000000       1.000000       0.000000  \n",
       "25%              0.000000       1.000000       0.000000  \n",
       "50%             15.000000       1.000000       1.000000  \n",
       "75%             30.000000       3.000000       2.000000  \n",
       "max          10824.000000  747520.000000  327208.000000  "
      ]
     },
     "execution_count": 5,
     "metadata": {},
     "output_type": "execute_result"
    }
   ],
   "source": [
    "# Additional Data Preview\n",
    "firewall_data.describe()"
   ]
  },
  {
   "cell_type": "code",
   "execution_count": 6,
   "metadata": {},
   "outputs": [
    {
     "name": "stdout",
     "output_type": "stream",
     "text": [
      "(65532, 12)\n"
     ]
    }
   ],
   "source": [
    "print(firewall_data.shape)\n"
   ]
  },
  {
   "cell_type": "code",
   "execution_count": 7,
   "metadata": {},
   "outputs": [
    {
     "data": {
      "text/plain": [
       "allow         37640\n",
       "deny          14987\n",
       "drop          12851\n",
       "reset-both       54\n",
       "Name: Action, dtype: int64"
      ]
     },
     "execution_count": 7,
     "metadata": {},
     "output_type": "execute_result"
    }
   ],
   "source": [
    "firewall_data.Action.value_counts()"
   ]
  },
  {
   "cell_type": "markdown",
   "metadata": {},
   "source": [
    "The output for this datasets consists of 4 unique values: Allow, Deny, Drop and Reset-both.\n",
    "Thus we must consider a <strong>multioutput regression</strong> solution.\n",
    "One of the possible training model that could be used is: <strong>Logistic Regression</strong>\n",
    "\n",
    "The actual dataset output, <strong>y</strong> is in categorical value, we no need to convert it to a numerical value because Logistic regression will automatically used the <strong>multinomial multiclass</strong> for this dataset output."
   ]
  },
  {
   "cell_type": "markdown",
   "metadata": {},
   "source": [
    "<div class=\"alert alert-block alert-info\">\n",
    " <h1>DATA PREPROCESSING</h1>\n",
    "</div>\n"
   ]
  },
  {
   "cell_type": "code",
   "execution_count": 8,
   "metadata": {},
   "outputs": [],
   "source": [
    "X = firewall_data.drop(['Source Port', 'NAT Destination Port', 'Packets','Elapsed Time (sec)', 'pkts_sent', 'pkts_received', 'Action'], axis =1)\n",
    "y = firewall_data['Action']"
   ]
  },
  {
   "cell_type": "markdown",
   "metadata": {},
   "source": [
    "Since there a feature selection done on the dataset in <strong>SGD Classification</strong> section, we have concluded to drop a few features as those features meant to be drop isn't change the outcome accuracy and increase the computational time."
   ]
  },
  {
   "cell_type": "code",
   "execution_count": 9,
   "metadata": {},
   "outputs": [
    {
     "name": "stdout",
     "output_type": "stream",
     "text": [
      "<class 'numpy.ndarray'>\n",
      "<class 'numpy.ndarray'>\n",
      "full set shape = (65532, 5)\n",
      "train shape= (45872, 5)\n",
      "test shape= (19660, 5)\n",
      "train shape= (45872,)\n",
      "test shape= (19660,)\n",
      "<class 'numpy.ndarray'>\n",
      "<class 'numpy.ndarray'>\n",
      "<class 'numpy.ndarray'>\n",
      "<class 'numpy.ndarray'>\n"
     ]
    }
   ],
   "source": [
    "# test_size: what proportion of original data is used for test set\n",
    "X = X.values\n",
    "y = y.values\n",
    "print(type(X))\n",
    "print(type(y))\n",
    "\n",
    "X_train, X_test, y_train, y_test = train_test_split(X, y, test_size = 0.3, random_state = 42)\n",
    "\n",
    "print('full set shape =', X.shape)\n",
    "print('train shape=', X_train.shape)\n",
    "print('test shape=', X_test.shape)\n",
    "print('train shape=', y_train.shape)\n",
    "print('test shape=', y_test.shape)\n",
    "\n",
    "print(type(X_train))\n",
    "print(type(X_test))\n",
    "print(type(y_train))\n",
    "print(type(y_test))\n"
   ]
  },
  {
   "cell_type": "markdown",
   "metadata": {},
   "source": [
    "<div class=\"alert alert-block alert-info\">\n",
    " <h1>TRAINING THE DATA</h1>\n",
    "</div>\n"
   ]
  },
  {
   "cell_type": "code",
   "execution_count": 10,
   "metadata": {},
   "outputs": [],
   "source": [
    "scaler = StandardScaler()\n",
    "# Fit on training set only.\n",
    "scaler.fit(X_train)\n",
    "# Apply transform to both the training set and the test set.\n",
    "X_train = scaler.transform(X_train)\n",
    "X_test = scaler.transform(X_test)"
   ]
  },
  {
   "cell_type": "markdown",
   "metadata": {},
   "source": [
    "We need to <strong>normalize</strong> the data."
   ]
  },
  {
   "cell_type": "code",
   "execution_count": 11,
   "metadata": {},
   "outputs": [
    {
     "name": "stdout",
     "output_type": "stream",
     "text": [
      "Actual\t\t|\tPredicted\n",
      "---------------------------------\n",
      "allow \t\t|\t allow\n",
      "drop \t\t|\t drop\n",
      "allow \t\t|\t allow\n",
      "allow \t\t|\t allow\n",
      "deny \t\t|\t deny\n",
      "deny \t\t|\t deny\n",
      "deny \t\t|\t deny\n",
      "allow \t\t|\t allow\n",
      "drop \t\t|\t drop\n",
      "deny \t\t|\t drop\n",
      "drop \t\t|\t drop\n",
      "allow \t\t|\t allow\n",
      "allow \t\t|\t allow\n",
      "allow \t\t|\t allow\n",
      "allow \t\t|\t allow\n",
      "allow \t\t|\t allow\n",
      "deny \t\t|\t deny\n",
      "allow \t\t|\t allow\n",
      "allow \t\t|\t allow\n",
      "allow \t\t|\t allow\n"
     ]
    }
   ],
   "source": [
    "#Training the Logistic Regression\n",
    "model = LogisticRegression(solver = 'lbfgs', max_iter = 1000)\n",
    "model.fit(X_train, y_train)\n",
    "\n",
    "# Making a prediction on the training sets\n",
    "y_pred_train = model.predict(X_train)\n",
    "\n",
    "# Let's see if the prediction is accurate enough\n",
    "def listToString(s):  \n",
    "    # initialize an empty string \n",
    "    str1 = \"\"  \n",
    "    # traverse in the string   \n",
    "    for ele in s:  \n",
    "        str1 += ele   \n",
    "    # return string   \n",
    "    return str1  \n",
    "\n",
    "def peek_results(actual, predicted, num = 20):\n",
    "    print('Actual\\t\\t|\\tPredicted')\n",
    "    print('---------------------------------')\n",
    "    for i in range(num):\n",
    "        sel = np.random.randint(0, len(y_pred_train))\n",
    "        print(listToString(actual[sel]), '\\t\\t|\\t', listToString(predicted[sel]))\n",
    "        \n",
    "peek_results(y_train, y_pred_train)\n"
   ]
  },
  {
   "cell_type": "code",
   "execution_count": 19,
   "metadata": {},
   "outputs": [
    {
     "name": "stdout",
     "output_type": "stream",
     "text": [
      "Misclassified samples: 1522\n",
      "Accuracy: 0.97\n"
     ]
    }
   ],
   "source": [
    "# Numbers of Misclassified samples\n",
    "count_misclassified = (y_train != y_pred_train).sum()\n",
    "print('Misclassified samples: {}'.format(count_misclassified))\n",
    "\n",
    "# Accuracy Performance\n",
    "accuracy = metrics.accuracy_score(y_train, y_pred_train)\n",
    "print('Accuracy: {:.2f}'.format(accuracy))\n"
   ]
  },
  {
   "cell_type": "code",
   "execution_count": 20,
   "metadata": {},
   "outputs": [
    {
     "name": "stdout",
     "output_type": "stream",
     "text": [
      "[[25579   218   513     0]\n",
      " [   10  9750   742     0]\n",
      " [    0     0  9021     0]\n",
      " [    9    30     0     0]]\n"
     ]
    }
   ],
   "source": [
    "from sklearn.metrics import confusion_matrix\n",
    "cm = confusion_matrix (y_train, y_pred_train)\n",
    "\n",
    "print(cm)"
   ]
  },
  {
   "cell_type": "code",
   "execution_count": 22,
   "metadata": {},
   "outputs": [
    {
     "data": {
      "image/png": "[encoded data removed]",
      "text/plain": [
       "<Figure size 640x480 with 2 Axes>"
      ]
     },
     "metadata": {},
     "output_type": "display_data"
    }
   ],
   "source": [
    "import seaborn as sn\n",
    "def plot_confusion_matrix(cfm, y_test, caller, algor_name):\n",
    "    # plot confusion_matrix\n",
    "    df_cm = pd.DataFrame(cfm, columns=np.unique(y_test), index = np.unique(y_test))\n",
    "    df_cm.index.name = 'Actual'\n",
    "    df_cm.columns.name = 'Predicted'\n",
    "    fig = plt.figure()\n",
    "    plt.title('Confusion Matrix: ' + caller, fontsize=14)\n",
    "    plt.suptitle(algor_name, fontsize=16)\n",
    "    plt.style.use('default')\n",
    "    fig.tight_layout(rect=[0, 0.03, 1, 0.95])\n",
    "    sn.set(font_scale=1.4)\n",
    "    sn.heatmap(df_cm, cmap=\"Blues\", annot=True, fmt='g', annot_kws={\"size\": 25})\n",
    "    plt.show()\n",
    "    \n",
    "plot_confusion_matrix(cm, y_train, 'Firewall Action', type(model).__name__)\n"
   ]
  },
  {
   "cell_type": "markdown",
   "metadata": {},
   "source": [
    "<div class=\"alert alert-block alert-info\">\n",
    " <h1>PERFORM THE ACCURACY MEASURE, F1, PRECISON AND RECALL SCORES</h1>\n",
    "</div>\n",
    " "
   ]
  },
  {
   "cell_type": "code",
   "execution_count": 24,
   "metadata": {},
   "outputs": [
    {
     "name": "stdout",
     "output_type": "stream",
     "text": [
      "Precision =  0.9690277731185509\n",
      "Recall =  0.9668207185211022\n",
      "F1 score =  0.9669051643984093\n"
     ]
    }
   ],
   "source": [
    "# Conducting performance measure on the model\n",
    "from sklearn.metrics import precision_score, recall_score, f1_score\n",
    "\n",
    "print('Precision = ', precision_score(y_train, y_pred_train, average = \"weighted\"))\n",
    "print('Recall = ', recall_score (y_train, y_pred_train, average = \"weighted\"))\n",
    "print('F1 score = ', f1_score(y_train, y_pred_train, average = \"weighted\"))"
   ]
  },
  {
   "cell_type": "code",
   "execution_count": 27,
   "metadata": {},
   "outputs": [
    {
     "name": "stdout",
     "output_type": "stream",
     "text": [
      "5-fold cross validation scores:  [0.95447609 0.96312309 0.96032553 0.95930824 0.96337742]\n",
      "\n",
      "Cross Validation Predictions:\n",
      " ['deny' 'deny' 'allow' ... 'allow' 'allow' 'allow']\n"
     ]
    }
   ],
   "source": [
    "# Cross validation of data\n",
    "from sklearn.model_selection import cross_val_score as CVS\n",
    "from sklearn.model_selection import cross_val_predict as CVP\n",
    "from sklearn.metrics import mean_squared_error as MSE\n",
    "\n",
    "y_scores = CVS(model, X_test, y_test, cv=5)\n",
    "print(\"5-fold cross validation scores: \",y_scores)\n",
    "\n",
    "y_scores_cv = CVP(model, X_train, y_train, cv=5, method=\"predict\")\n",
    "print(\"\\nCross Validation Predictions:\\n\",y_scores_cv)"
   ]
  },
  {
   "cell_type": "markdown",
   "metadata": {},
   "source": [
    "<div class=\"alert alert-block alert-info\">\n",
    " <h1>EVALUATION ON THE TEST</h1>\n",
    "</div>\n"
   ]
  },
  {
   "cell_type": "code",
   "execution_count": 31,
   "metadata": {},
   "outputs": [
    {
     "name": "stdout",
     "output_type": "stream",
     "text": [
      "Test precision = 0.9674\n",
      "Test recall = 0.9651\n",
      "Test f1 score = 0.9652\n"
     ]
    },
    {
     "name": "stderr",
     "output_type": "stream",
     "text": [
      "C:\\Users\\Wai Hin(Darkin)\\anaconda3\\lib\\site-packages\\sklearn\\metrics\\_classification.py:1221: UndefinedMetricWarning: Precision is ill-defined and being set to 0.0 in labels with no predicted samples. Use `zero_division` parameter to control this behavior.\n",
      "  _warn_prf(average, modifier, msg_start, len(result))\n"
     ]
    }
   ],
   "source": [
    "from sklearn.linear_model import SGDClassifier\n",
    "from sklearn.metrics import precision_score, recall_score, f1_score\n",
    "\n",
    "y_pred_test = sgd_clf.predict(X_test)\n",
    "\n",
    "print('Test precision = {:.4f}'.format(precision_score(y_test, y_pred_test, average = \"weighted\")))\n",
    "print('Test recall = {:.4f}'.format(recall_score(y_test, y_pred_test, average = \"weighted\")))\n",
    "print('Test f1 score = {:.4f}'.format(f1_score(y_test, y_pred_test, average = \"weighted\")))"
   ]
  },
  {
   "cell_type": "markdown",
   "metadata": {},
   "source": [
    "<div class=\"alert alert-block alert-info\">\n",
    " <h1>Grid Search ( FINE TUNING)</h1>\n",
    "</div>\n"
   ]
  },
  {
   "cell_type": "code",
   "execution_count": 32,
   "metadata": {},
   "outputs": [
    {
     "name": "stdout",
     "output_type": "stream",
     "text": [
      "Performing grid search...Fitting 5 folds for each of 80 candidates, totalling 400 fits\n"
     ]
    },
    {
     "name": "stderr",
     "output_type": "stream",
     "text": [
      "[Parallel(n_jobs=-1)]: Using backend LokyBackend with 8 concurrent workers.\n",
      "[Parallel(n_jobs=-1)]: Done  34 tasks      | elapsed:  5.0min\n",
      "[Parallel(n_jobs=-1)]: Done 184 tasks      | elapsed: 34.6min\n",
      "[Parallel(n_jobs=-1)]: Done 400 out of 400 | elapsed: 75.0min finished\n"
     ]
    },
    {
     "name": "stdout",
     "output_type": "stream",
     "text": [
      "Best:  0.9783616323222828 using {'C': 0.03359818286283781, 'max_iter': 5000}\n",
      "Execution time: 4504.567896604538ms\n",
      "done\n"
     ]
    },
    {
     "name": "stderr",
     "output_type": "stream",
     "text": [
      "C:\\Users\\Wai Hin(Darkin)\\anaconda3\\lib\\site-packages\\sklearn\\linear_model\\_logistic.py:762: ConvergenceWarning: lbfgs failed to converge (status=2):\n",
      "ABNORMAL_TERMINATION_IN_LNSRCH.\n",
      "\n",
      "Increase the number of iterations (max_iter) or scale the data as shown in:\n",
      "    https://scikit-learn.org/stable/modules/preprocessing.html\n",
      "Please also refer to the documentation for alternative solver options:\n",
      "    https://scikit-learn.org/stable/modules/linear_model.html#logistic-regression\n",
      "  n_iter_i = _check_optimize_result(\n"
     ]
    }
   ],
   "source": [
    "from sklearn.model_selection import GridSearchCV\n",
    "import time\n",
    "\n",
    "log_model = LogisticRegression(solver = 'lbfgs', max_iter=1000)\n",
    "\n",
    "# define param_grid (you may used the one defined above)\n",
    "param_grid = [\n",
    "    {\n",
    "    'C': np.logspace(-4, 4, 20),\n",
    "    'max_iter': [100, 1000, 2500, 5000]\n",
    "    }\n",
    "]\n",
    "\n",
    "# create an instance of GridSearchCV using param_grid with 5-fold cv\n",
    "grid_search = GridSearchCV(log_model, param_grid = param_grid, cv = 5, verbose = True, n_jobs = -1)\n",
    "\n",
    "start_time = time.time()\n",
    "print ('Performing grid search...', end = '')\n",
    "# perform grid search\n",
    "grid_result = grid_search.fit(X, y)\n",
    "#Summarize results\n",
    "print(\"Best: \", grid_result.best_score_, \"using\", grid_result.best_params_)\n",
    "print(\"Execution time: \" + str((time.time()-start_time)) + 'ms')\n",
    "print('done')\n"
   ]
  },
  {
   "cell_type": "code",
   "execution_count": 33,
   "metadata": {},
   "outputs": [
    {
     "data": {
      "text/plain": [
       "LogisticRegression(C=0.03359818286283781, max_iter=5000)"
      ]
     },
     "execution_count": 33,
     "metadata": {},
     "output_type": "execute_result"
    }
   ],
   "source": [
    "best_model = grid_search.best_estimator_\n",
    "best_model"
   ]
  },
  {
   "cell_type": "code",
   "execution_count": 35,
   "metadata": {},
   "outputs": [
    {
     "name": "stdout",
     "output_type": "stream",
     "text": [
      "Best hyperparameter settings: {'C': 0.03359818286283781, 'max_iter': 5000}\n"
     ]
    }
   ],
   "source": [
    "print('Best hyperparameter settings:', grid_search.best_params_)\n",
    "# print('RMSE of the best model =', np.sqrt(-grid_search.best_score_))"
   ]
  },
  {
   "cell_type": "markdown",
   "metadata": {},
   "source": [
    "<div class=\"alert alert-block alert-info\">\n",
    " <h1>PRC AND AUC</h1>\n",
    "</div>"
   ]
  },
  {
   "cell_type": "code",
   "execution_count": 166,
   "metadata": {},
   "outputs": [
    {
     "ename": "ValueError",
     "evalue": "multiclass format is not supported",
     "output_type": "error",
     "traceback": [
      "\u001b[1;31m---------------------------------------------------------------------------\u001b[0m",
      "\u001b[1;31mValueError\u001b[0m                                Traceback (most recent call last)",
      "\u001b[1;32m<ipython-input-166-e2a20aa722f4>\u001b[0m in \u001b[0;36m<module>\u001b[1;34m\u001b[0m\n\u001b[0;32m      3\u001b[0m \u001b[1;31m# Exercise: compute precision-recall pairs for different threshold values\u001b[0m\u001b[1;33m\u001b[0m\u001b[1;33m\u001b[0m\u001b[1;33m\u001b[0m\u001b[0m\n\u001b[0;32m      4\u001b[0m \u001b[1;31m# precisions, recalls, thresholds = (code here)\u001b[0m\u001b[1;33m\u001b[0m\u001b[1;33m\u001b[0m\u001b[1;33m\u001b[0m\u001b[0m\n\u001b[1;32m----> 5\u001b[1;33m \u001b[0mprecisions\u001b[0m\u001b[1;33m,\u001b[0m \u001b[0mrecalls\u001b[0m\u001b[1;33m,\u001b[0m \u001b[0mthreholds\u001b[0m \u001b[1;33m=\u001b[0m \u001b[0mprecision_recall_curve\u001b[0m \u001b[1;33m(\u001b[0m\u001b[0my_train\u001b[0m\u001b[1;33m,\u001b[0m \u001b[0my_scores_cv\u001b[0m\u001b[1;33m)\u001b[0m\u001b[1;33m\u001b[0m\u001b[1;33m\u001b[0m\u001b[0m\n\u001b[0m",
      "\u001b[1;32m~\\anaconda3\\lib\\site-packages\\sklearn\\utils\\validation.py\u001b[0m in \u001b[0;36minner_f\u001b[1;34m(*args, **kwargs)\u001b[0m\n\u001b[0;32m     71\u001b[0m                           FutureWarning)\n\u001b[0;32m     72\u001b[0m         \u001b[0mkwargs\u001b[0m\u001b[1;33m.\u001b[0m\u001b[0mupdate\u001b[0m\u001b[1;33m(\u001b[0m\u001b[1;33m{\u001b[0m\u001b[0mk\u001b[0m\u001b[1;33m:\u001b[0m \u001b[0marg\u001b[0m \u001b[1;32mfor\u001b[0m \u001b[0mk\u001b[0m\u001b[1;33m,\u001b[0m \u001b[0marg\u001b[0m \u001b[1;32min\u001b[0m \u001b[0mzip\u001b[0m\u001b[1;33m(\u001b[0m\u001b[0msig\u001b[0m\u001b[1;33m.\u001b[0m\u001b[0mparameters\u001b[0m\u001b[1;33m,\u001b[0m \u001b[0margs\u001b[0m\u001b[1;33m)\u001b[0m\u001b[1;33m}\u001b[0m\u001b[1;33m)\u001b[0m\u001b[1;33m\u001b[0m\u001b[1;33m\u001b[0m\u001b[0m\n\u001b[1;32m---> 73\u001b[1;33m         \u001b[1;32mreturn\u001b[0m \u001b[0mf\u001b[0m\u001b[1;33m(\u001b[0m\u001b[1;33m**\u001b[0m\u001b[0mkwargs\u001b[0m\u001b[1;33m)\u001b[0m\u001b[1;33m\u001b[0m\u001b[1;33m\u001b[0m\u001b[0m\n\u001b[0m\u001b[0;32m     74\u001b[0m     \u001b[1;32mreturn\u001b[0m \u001b[0minner_f\u001b[0m\u001b[1;33m\u001b[0m\u001b[1;33m\u001b[0m\u001b[0m\n\u001b[0;32m     75\u001b[0m \u001b[1;33m\u001b[0m\u001b[0m\n",
      "\u001b[1;32m~\\anaconda3\\lib\\site-packages\\sklearn\\metrics\\_ranking.py\u001b[0m in \u001b[0;36mprecision_recall_curve\u001b[1;34m(y_true, probas_pred, pos_label, sample_weight)\u001b[0m\n\u001b[0;32m    673\u001b[0m \u001b[1;33m\u001b[0m\u001b[0m\n\u001b[0;32m    674\u001b[0m     \"\"\"\n\u001b[1;32m--> 675\u001b[1;33m     fps, tps, thresholds = _binary_clf_curve(y_true, probas_pred,\n\u001b[0m\u001b[0;32m    676\u001b[0m                                              \u001b[0mpos_label\u001b[0m\u001b[1;33m=\u001b[0m\u001b[0mpos_label\u001b[0m\u001b[1;33m,\u001b[0m\u001b[1;33m\u001b[0m\u001b[1;33m\u001b[0m\u001b[0m\n\u001b[0;32m    677\u001b[0m                                              sample_weight=sample_weight)\n",
      "\u001b[1;32m~\\anaconda3\\lib\\site-packages\\sklearn\\metrics\\_ranking.py\u001b[0m in \u001b[0;36m_binary_clf_curve\u001b[1;34m(y_true, y_score, pos_label, sample_weight)\u001b[0m\n\u001b[0;32m    537\u001b[0m     if not (y_type == \"binary\" or\n\u001b[0;32m    538\u001b[0m             (y_type == \"multiclass\" and pos_label is not None)):\n\u001b[1;32m--> 539\u001b[1;33m         \u001b[1;32mraise\u001b[0m \u001b[0mValueError\u001b[0m\u001b[1;33m(\u001b[0m\u001b[1;34m\"{0} format is not supported\"\u001b[0m\u001b[1;33m.\u001b[0m\u001b[0mformat\u001b[0m\u001b[1;33m(\u001b[0m\u001b[0my_type\u001b[0m\u001b[1;33m)\u001b[0m\u001b[1;33m)\u001b[0m\u001b[1;33m\u001b[0m\u001b[1;33m\u001b[0m\u001b[0m\n\u001b[0m\u001b[0;32m    540\u001b[0m \u001b[1;33m\u001b[0m\u001b[0m\n\u001b[0;32m    541\u001b[0m     \u001b[0mcheck_consistent_length\u001b[0m\u001b[1;33m(\u001b[0m\u001b[0my_true\u001b[0m\u001b[1;33m,\u001b[0m \u001b[0my_score\u001b[0m\u001b[1;33m,\u001b[0m \u001b[0msample_weight\u001b[0m\u001b[1;33m)\u001b[0m\u001b[1;33m\u001b[0m\u001b[1;33m\u001b[0m\u001b[0m\n",
      "\u001b[1;31mValueError\u001b[0m: multiclass format is not supported"
     ]
    }
   ],
   "source": [
    "from sklearn.metrics import precision_recall_curve\n",
    "\n",
    "# Exercise: compute precision-recall pairs for different threshold values \n",
    "# precisions, recalls, thresholds = (code here)\n",
    "precisions, recalls, threholds = precision_recall_curve (y_train, y_scores_cv)"
   ]
  },
  {
   "cell_type": "code",
   "execution_count": null,
   "metadata": {},
   "outputs": [],
   "source": [
    "def plot_precision_vs_recall(precisions, recalls):\n",
    "    plt.plot(recalls, precisions, \"b-\", linewidth=3)\n",
    "    plt.plot(np.linspace(0, 1, 20), np.linspace(1, 0, 20), 'k--')\n",
    "    plt.xlabel(\"Recall\", fontsize=16)\n",
    "    plt.ylabel(\"Precision\", fontsize=16)\n",
    "    plt.axis([0, 1, 0, 1])\n",
    "\n",
    "plt.figure(figsize=(8, 6))\n",
    "plot_precision_vs_recall(precisions, recalls)\n",
    "plt.title ('Precision-Recall Graph (Training Set)', fontsize = 20)\n",
    "plt.show()"
   ]
  },
  {
   "cell_type": "markdown",
   "metadata": {},
   "source": [
    "<a id=\"waihin_section\"></a>\n",
    "# Jason's Code Here\n",
    "<hr>"
   ]
  },
  {
   "cell_type": "code",
   "execution_count": null,
   "metadata": {},
   "outputs": [],
   "source": []
  },
  {
   "cell_type": "markdown",
   "metadata": {},
   "source": [
    "<a id=\"sammy_section\"></a>\n",
    "# Sammy's Code Here\n",
    "<hr>"
   ]
  },
  {
   "cell_type": "code",
   "execution_count": 80,
   "metadata": {},
   "outputs": [
    {
     "name": "stdout",
     "output_type": "stream",
     "text": [
      "==> Loading specified dataset...\n",
      "\n",
      "==> Dataset loading completed.\n",
      "\n"
     ]
    }
   ],
   "source": [
    "# Data Initialization\n",
    "\n",
    "# Library imports\n",
    "import pandas as pd\n",
    "import numpy as np\n",
    "import matplotlib.pyplot as plt\n",
    "\n",
    "# Random seeding to ensure we have consistent results\n",
    "np.random.seed(42)\n",
    "\n",
    "# Load the dataset\n",
    "print ('==> Loading specified dataset...\\n')\n",
    "firewall_data =  pd.read_csv(\"Firewall_data_sets.csv\")\n",
    "print ('==> Dataset loading completed.\\n')"
   ]
  },
  {
   "cell_type": "code",
   "execution_count": 81,
   "metadata": {},
   "outputs": [
    {
     "name": "stdout",
     "output_type": "stream",
     "text": [
      "<class 'pandas.core.frame.DataFrame'>\n",
      "RangeIndex: 65532 entries, 0 to 65531\n",
      "Data columns (total 12 columns):\n",
      " #   Column                Non-Null Count  Dtype \n",
      "---  ------                --------------  ----- \n",
      " 0   Source Port           65532 non-null  int64 \n",
      " 1   Destination Port      65532 non-null  int64 \n",
      " 2   NAT Source Port       65532 non-null  int64 \n",
      " 3   NAT Destination Port  65532 non-null  int64 \n",
      " 4   Action                65532 non-null  object\n",
      " 5   Bytes                 65532 non-null  int64 \n",
      " 6   Bytes Sent            65532 non-null  int64 \n",
      " 7   Bytes Received        65532 non-null  int64 \n",
      " 8   Packets               65532 non-null  int64 \n",
      " 9   Elapsed Time (sec)    65532 non-null  int64 \n",
      " 10  pkts_sent             65532 non-null  int64 \n",
      " 11  pkts_received         65532 non-null  int64 \n",
      "dtypes: int64(11), object(1)\n",
      "memory usage: 6.0+ MB\n"
     ]
    }
   ],
   "source": [
    "# Data Header\n",
    "firewall_data.info()"
   ]
  },
  {
   "cell_type": "code",
   "execution_count": 82,
   "metadata": {},
   "outputs": [
    {
     "data": {
      "text/html": [
       "<div>\n",
       "<style scoped>\n",
       "    .dataframe tbody tr th:only-of-type {\n",
       "        vertical-align: middle;\n",
       "    }\n",
       "\n",
       "    .dataframe tbody tr th {\n",
       "        vertical-align: top;\n",
       "    }\n",
       "\n",
       "    .dataframe thead th {\n",
       "        text-align: right;\n",
       "    }\n",
       "</style>\n",
       "<table border=\"1\" class=\"dataframe\">\n",
       "  <thead>\n",
       "    <tr style=\"text-align: right;\">\n",
       "      <th></th>\n",
       "      <th>Source Port</th>\n",
       "      <th>Destination Port</th>\n",
       "      <th>NAT Source Port</th>\n",
       "      <th>NAT Destination Port</th>\n",
       "      <th>Action</th>\n",
       "      <th>Bytes</th>\n",
       "      <th>Bytes Sent</th>\n",
       "      <th>Bytes Received</th>\n",
       "      <th>Packets</th>\n",
       "      <th>Elapsed Time (sec)</th>\n",
       "      <th>pkts_sent</th>\n",
       "      <th>pkts_received</th>\n",
       "    </tr>\n",
       "  </thead>\n",
       "  <tbody>\n",
       "    <tr>\n",
       "      <th>0</th>\n",
       "      <td>57222</td>\n",
       "      <td>53</td>\n",
       "      <td>54587</td>\n",
       "      <td>53</td>\n",
       "      <td>allow</td>\n",
       "      <td>177</td>\n",
       "      <td>94</td>\n",
       "      <td>83</td>\n",
       "      <td>2</td>\n",
       "      <td>30</td>\n",
       "      <td>1</td>\n",
       "      <td>1</td>\n",
       "    </tr>\n",
       "    <tr>\n",
       "      <th>1</th>\n",
       "      <td>56258</td>\n",
       "      <td>3389</td>\n",
       "      <td>56258</td>\n",
       "      <td>3389</td>\n",
       "      <td>allow</td>\n",
       "      <td>4768</td>\n",
       "      <td>1600</td>\n",
       "      <td>3168</td>\n",
       "      <td>19</td>\n",
       "      <td>17</td>\n",
       "      <td>10</td>\n",
       "      <td>9</td>\n",
       "    </tr>\n",
       "    <tr>\n",
       "      <th>2</th>\n",
       "      <td>6881</td>\n",
       "      <td>50321</td>\n",
       "      <td>43265</td>\n",
       "      <td>50321</td>\n",
       "      <td>allow</td>\n",
       "      <td>238</td>\n",
       "      <td>118</td>\n",
       "      <td>120</td>\n",
       "      <td>2</td>\n",
       "      <td>1199</td>\n",
       "      <td>1</td>\n",
       "      <td>1</td>\n",
       "    </tr>\n",
       "    <tr>\n",
       "      <th>3</th>\n",
       "      <td>50553</td>\n",
       "      <td>3389</td>\n",
       "      <td>50553</td>\n",
       "      <td>3389</td>\n",
       "      <td>allow</td>\n",
       "      <td>3327</td>\n",
       "      <td>1438</td>\n",
       "      <td>1889</td>\n",
       "      <td>15</td>\n",
       "      <td>17</td>\n",
       "      <td>8</td>\n",
       "      <td>7</td>\n",
       "    </tr>\n",
       "    <tr>\n",
       "      <th>4</th>\n",
       "      <td>50002</td>\n",
       "      <td>443</td>\n",
       "      <td>45848</td>\n",
       "      <td>443</td>\n",
       "      <td>allow</td>\n",
       "      <td>25358</td>\n",
       "      <td>6778</td>\n",
       "      <td>18580</td>\n",
       "      <td>31</td>\n",
       "      <td>16</td>\n",
       "      <td>13</td>\n",
       "      <td>18</td>\n",
       "    </tr>\n",
       "    <tr>\n",
       "      <th>...</th>\n",
       "      <td>...</td>\n",
       "      <td>...</td>\n",
       "      <td>...</td>\n",
       "      <td>...</td>\n",
       "      <td>...</td>\n",
       "      <td>...</td>\n",
       "      <td>...</td>\n",
       "      <td>...</td>\n",
       "      <td>...</td>\n",
       "      <td>...</td>\n",
       "      <td>...</td>\n",
       "      <td>...</td>\n",
       "    </tr>\n",
       "    <tr>\n",
       "      <th>65527</th>\n",
       "      <td>63691</td>\n",
       "      <td>80</td>\n",
       "      <td>13237</td>\n",
       "      <td>80</td>\n",
       "      <td>allow</td>\n",
       "      <td>314</td>\n",
       "      <td>192</td>\n",
       "      <td>122</td>\n",
       "      <td>6</td>\n",
       "      <td>15</td>\n",
       "      <td>4</td>\n",
       "      <td>2</td>\n",
       "    </tr>\n",
       "    <tr>\n",
       "      <th>65528</th>\n",
       "      <td>50964</td>\n",
       "      <td>80</td>\n",
       "      <td>13485</td>\n",
       "      <td>80</td>\n",
       "      <td>allow</td>\n",
       "      <td>4680740</td>\n",
       "      <td>67312</td>\n",
       "      <td>4613428</td>\n",
       "      <td>4675</td>\n",
       "      <td>77</td>\n",
       "      <td>985</td>\n",
       "      <td>3690</td>\n",
       "    </tr>\n",
       "    <tr>\n",
       "      <th>65529</th>\n",
       "      <td>54871</td>\n",
       "      <td>445</td>\n",
       "      <td>0</td>\n",
       "      <td>0</td>\n",
       "      <td>drop</td>\n",
       "      <td>70</td>\n",
       "      <td>70</td>\n",
       "      <td>0</td>\n",
       "      <td>1</td>\n",
       "      <td>0</td>\n",
       "      <td>1</td>\n",
       "      <td>0</td>\n",
       "    </tr>\n",
       "    <tr>\n",
       "      <th>65530</th>\n",
       "      <td>54870</td>\n",
       "      <td>445</td>\n",
       "      <td>0</td>\n",
       "      <td>0</td>\n",
       "      <td>drop</td>\n",
       "      <td>70</td>\n",
       "      <td>70</td>\n",
       "      <td>0</td>\n",
       "      <td>1</td>\n",
       "      <td>0</td>\n",
       "      <td>1</td>\n",
       "      <td>0</td>\n",
       "    </tr>\n",
       "    <tr>\n",
       "      <th>65531</th>\n",
       "      <td>54867</td>\n",
       "      <td>445</td>\n",
       "      <td>0</td>\n",
       "      <td>0</td>\n",
       "      <td>drop</td>\n",
       "      <td>70</td>\n",
       "      <td>70</td>\n",
       "      <td>0</td>\n",
       "      <td>1</td>\n",
       "      <td>0</td>\n",
       "      <td>1</td>\n",
       "      <td>0</td>\n",
       "    </tr>\n",
       "  </tbody>\n",
       "</table>\n",
       "<p>65532 rows × 12 columns</p>\n",
       "</div>"
      ],
      "text/plain": [
       "       Source Port  Destination Port  NAT Source Port  NAT Destination Port  \\\n",
       "0            57222                53            54587                    53   \n",
       "1            56258              3389            56258                  3389   \n",
       "2             6881             50321            43265                 50321   \n",
       "3            50553              3389            50553                  3389   \n",
       "4            50002               443            45848                   443   \n",
       "...            ...               ...              ...                   ...   \n",
       "65527        63691                80            13237                    80   \n",
       "65528        50964                80            13485                    80   \n",
       "65529        54871               445                0                     0   \n",
       "65530        54870               445                0                     0   \n",
       "65531        54867               445                0                     0   \n",
       "\n",
       "      Action    Bytes  Bytes Sent  Bytes Received  Packets  \\\n",
       "0      allow      177          94              83        2   \n",
       "1      allow     4768        1600            3168       19   \n",
       "2      allow      238         118             120        2   \n",
       "3      allow     3327        1438            1889       15   \n",
       "4      allow    25358        6778           18580       31   \n",
       "...      ...      ...         ...             ...      ...   \n",
       "65527  allow      314         192             122        6   \n",
       "65528  allow  4680740       67312         4613428     4675   \n",
       "65529   drop       70          70               0        1   \n",
       "65530   drop       70          70               0        1   \n",
       "65531   drop       70          70               0        1   \n",
       "\n",
       "       Elapsed Time (sec)  pkts_sent  pkts_received  \n",
       "0                      30          1              1  \n",
       "1                      17         10              9  \n",
       "2                    1199          1              1  \n",
       "3                      17          8              7  \n",
       "4                      16         13             18  \n",
       "...                   ...        ...            ...  \n",
       "65527                  15          4              2  \n",
       "65528                  77        985           3690  \n",
       "65529                   0          1              0  \n",
       "65530                   0          1              0  \n",
       "65531                   0          1              0  \n",
       "\n",
       "[65532 rows x 12 columns]"
      ]
     },
     "execution_count": 82,
     "metadata": {},
     "output_type": "execute_result"
    }
   ],
   "source": [
    "# Data Preview\n",
    "firewall_data"
   ]
  },
  {
   "cell_type": "code",
   "execution_count": 83,
   "metadata": {},
   "outputs": [
    {
     "data": {
      "text/html": [
       "<div>\n",
       "<style scoped>\n",
       "    .dataframe tbody tr th:only-of-type {\n",
       "        vertical-align: middle;\n",
       "    }\n",
       "\n",
       "    .dataframe tbody tr th {\n",
       "        vertical-align: top;\n",
       "    }\n",
       "\n",
       "    .dataframe thead th {\n",
       "        text-align: right;\n",
       "    }\n",
       "</style>\n",
       "<table border=\"1\" class=\"dataframe\">\n",
       "  <thead>\n",
       "    <tr style=\"text-align: right;\">\n",
       "      <th></th>\n",
       "      <th>Source Port</th>\n",
       "      <th>Destination Port</th>\n",
       "      <th>NAT Source Port</th>\n",
       "      <th>NAT Destination Port</th>\n",
       "      <th>Bytes</th>\n",
       "      <th>Bytes Sent</th>\n",
       "      <th>Bytes Received</th>\n",
       "      <th>Packets</th>\n",
       "      <th>Elapsed Time (sec)</th>\n",
       "      <th>pkts_sent</th>\n",
       "      <th>pkts_received</th>\n",
       "    </tr>\n",
       "  </thead>\n",
       "  <tbody>\n",
       "    <tr>\n",
       "      <th>count</th>\n",
       "      <td>65532.000000</td>\n",
       "      <td>65532.000000</td>\n",
       "      <td>65532.000000</td>\n",
       "      <td>65532.000000</td>\n",
       "      <td>6.553200e+04</td>\n",
       "      <td>6.553200e+04</td>\n",
       "      <td>6.553200e+04</td>\n",
       "      <td>6.553200e+04</td>\n",
       "      <td>65532.000000</td>\n",
       "      <td>65532.000000</td>\n",
       "      <td>65532.000000</td>\n",
       "    </tr>\n",
       "    <tr>\n",
       "      <th>mean</th>\n",
       "      <td>49391.969343</td>\n",
       "      <td>10577.385812</td>\n",
       "      <td>19282.972761</td>\n",
       "      <td>2671.049930</td>\n",
       "      <td>9.712395e+04</td>\n",
       "      <td>2.238580e+04</td>\n",
       "      <td>7.473815e+04</td>\n",
       "      <td>1.028660e+02</td>\n",
       "      <td>65.833577</td>\n",
       "      <td>41.399530</td>\n",
       "      <td>61.466505</td>\n",
       "    </tr>\n",
       "    <tr>\n",
       "      <th>std</th>\n",
       "      <td>15255.712537</td>\n",
       "      <td>18466.027039</td>\n",
       "      <td>21970.689669</td>\n",
       "      <td>9739.162278</td>\n",
       "      <td>5.618439e+06</td>\n",
       "      <td>3.828139e+06</td>\n",
       "      <td>2.463208e+06</td>\n",
       "      <td>5.133002e+03</td>\n",
       "      <td>302.461762</td>\n",
       "      <td>3218.871288</td>\n",
       "      <td>2223.332271</td>\n",
       "    </tr>\n",
       "    <tr>\n",
       "      <th>min</th>\n",
       "      <td>0.000000</td>\n",
       "      <td>0.000000</td>\n",
       "      <td>0.000000</td>\n",
       "      <td>0.000000</td>\n",
       "      <td>6.000000e+01</td>\n",
       "      <td>6.000000e+01</td>\n",
       "      <td>0.000000e+00</td>\n",
       "      <td>1.000000e+00</td>\n",
       "      <td>0.000000</td>\n",
       "      <td>1.000000</td>\n",
       "      <td>0.000000</td>\n",
       "    </tr>\n",
       "    <tr>\n",
       "      <th>25%</th>\n",
       "      <td>49183.000000</td>\n",
       "      <td>80.000000</td>\n",
       "      <td>0.000000</td>\n",
       "      <td>0.000000</td>\n",
       "      <td>6.600000e+01</td>\n",
       "      <td>6.600000e+01</td>\n",
       "      <td>0.000000e+00</td>\n",
       "      <td>1.000000e+00</td>\n",
       "      <td>0.000000</td>\n",
       "      <td>1.000000</td>\n",
       "      <td>0.000000</td>\n",
       "    </tr>\n",
       "    <tr>\n",
       "      <th>50%</th>\n",
       "      <td>53776.500000</td>\n",
       "      <td>445.000000</td>\n",
       "      <td>8820.500000</td>\n",
       "      <td>53.000000</td>\n",
       "      <td>1.680000e+02</td>\n",
       "      <td>9.000000e+01</td>\n",
       "      <td>7.900000e+01</td>\n",
       "      <td>2.000000e+00</td>\n",
       "      <td>15.000000</td>\n",
       "      <td>1.000000</td>\n",
       "      <td>1.000000</td>\n",
       "    </tr>\n",
       "    <tr>\n",
       "      <th>75%</th>\n",
       "      <td>58638.000000</td>\n",
       "      <td>15000.000000</td>\n",
       "      <td>38366.250000</td>\n",
       "      <td>443.000000</td>\n",
       "      <td>7.522500e+02</td>\n",
       "      <td>2.100000e+02</td>\n",
       "      <td>4.490000e+02</td>\n",
       "      <td>6.000000e+00</td>\n",
       "      <td>30.000000</td>\n",
       "      <td>3.000000</td>\n",
       "      <td>2.000000</td>\n",
       "    </tr>\n",
       "    <tr>\n",
       "      <th>max</th>\n",
       "      <td>65534.000000</td>\n",
       "      <td>65535.000000</td>\n",
       "      <td>65535.000000</td>\n",
       "      <td>65535.000000</td>\n",
       "      <td>1.269359e+09</td>\n",
       "      <td>9.484772e+08</td>\n",
       "      <td>3.208818e+08</td>\n",
       "      <td>1.036116e+06</td>\n",
       "      <td>10824.000000</td>\n",
       "      <td>747520.000000</td>\n",
       "      <td>327208.000000</td>\n",
       "    </tr>\n",
       "  </tbody>\n",
       "</table>\n",
       "</div>"
      ],
      "text/plain": [
       "        Source Port  Destination Port  NAT Source Port  NAT Destination Port  \\\n",
       "count  65532.000000      65532.000000     65532.000000          65532.000000   \n",
       "mean   49391.969343      10577.385812     19282.972761           2671.049930   \n",
       "std    15255.712537      18466.027039     21970.689669           9739.162278   \n",
       "min        0.000000          0.000000         0.000000              0.000000   \n",
       "25%    49183.000000         80.000000         0.000000              0.000000   \n",
       "50%    53776.500000        445.000000      8820.500000             53.000000   \n",
       "75%    58638.000000      15000.000000     38366.250000            443.000000   \n",
       "max    65534.000000      65535.000000     65535.000000          65535.000000   \n",
       "\n",
       "              Bytes    Bytes Sent  Bytes Received       Packets  \\\n",
       "count  6.553200e+04  6.553200e+04    6.553200e+04  6.553200e+04   \n",
       "mean   9.712395e+04  2.238580e+04    7.473815e+04  1.028660e+02   \n",
       "std    5.618439e+06  3.828139e+06    2.463208e+06  5.133002e+03   \n",
       "min    6.000000e+01  6.000000e+01    0.000000e+00  1.000000e+00   \n",
       "25%    6.600000e+01  6.600000e+01    0.000000e+00  1.000000e+00   \n",
       "50%    1.680000e+02  9.000000e+01    7.900000e+01  2.000000e+00   \n",
       "75%    7.522500e+02  2.100000e+02    4.490000e+02  6.000000e+00   \n",
       "max    1.269359e+09  9.484772e+08    3.208818e+08  1.036116e+06   \n",
       "\n",
       "       Elapsed Time (sec)      pkts_sent  pkts_received  \n",
       "count        65532.000000   65532.000000   65532.000000  \n",
       "mean            65.833577      41.399530      61.466505  \n",
       "std            302.461762    3218.871288    2223.332271  \n",
       "min              0.000000       1.000000       0.000000  \n",
       "25%              0.000000       1.000000       0.000000  \n",
       "50%             15.000000       1.000000       1.000000  \n",
       "75%             30.000000       3.000000       2.000000  \n",
       "max          10824.000000  747520.000000  327208.000000  "
      ]
     },
     "execution_count": 83,
     "metadata": {},
     "output_type": "execute_result"
    }
   ],
   "source": [
    "# Additional Data Preview\n",
    "firewall_data.describe()"
   ]
  },
  {
   "cell_type": "code",
   "execution_count": 84,
   "metadata": {},
   "outputs": [
    {
     "data": {
      "text/plain": [
       "allow         37640\n",
       "deny          14987\n",
       "drop          12851\n",
       "reset-both       54\n",
       "Name: Action, dtype: int64"
      ]
     },
     "execution_count": 84,
     "metadata": {},
     "output_type": "execute_result"
    }
   ],
   "source": [
    "# Output ( y ) attributes\n",
    "firewall_data.Action.value_counts()"
   ]
  },
  {
   "cell_type": "markdown",
   "metadata": {},
   "source": [
    "The output for this datasets consists of 4 unique values: Allow, Deny, Drop and Reset-both.<br>\n",
    "Thus we must consider a **multioutput regression** solution."
   ]
  },
  {
   "cell_type": "code",
   "execution_count": 85,
   "metadata": {},
   "outputs": [
    {
     "name": "stdout",
     "output_type": "stream",
     "text": [
      "Original\n"
     ]
    },
    {
     "data": {
      "image/png": "[encoded data removed]",
      "text/plain": [
       "<Figure size 432x288 with 1 Axes>"
      ]
     },
     "metadata": {
      "needs_background": "light"
     },
     "output_type": "display_data"
    },
    {
     "name": "stdout",
     "output_type": "stream",
     "text": [
      "Trained Data\n"
     ]
    },
    {
     "data": {
      "image/png": "[encoded data removed]",
      "text/plain": [
       "<Figure size 432x288 with 1 Axes>"
      ]
     },
     "metadata": {
      "needs_background": "light"
     },
     "output_type": "display_data"
    }
   ],
   "source": [
    "# k-nearest neighbors for multioutput regression\n",
    "from sklearn.datasets import make_regression as MReg\n",
    "from sklearn.neighbors import KNeighborsRegressor as KNReg\n",
    "\n",
    "# Testing multioutput regression with KN \n",
    "X, y = MReg(n_samples=1000, n_features=10, n_informative=5, n_targets=4, random_state=42, noise=0.5)\n",
    "\n",
    "y1 = y[:,0]\n",
    "y2 = y[:,1]\n",
    "y3 = y[:,2]\n",
    "y4 = y[:,3]\n",
    "\n",
    "print(\"Original\")\n",
    "plt.plot(X,y1,'bo',X,y2,'go',X,y3,'ro',X,y4,'yo')\n",
    "plt.show()\n",
    "\n",
    "from sklearn.model_selection import train_test_split as TTS\n",
    "X_train,X_test,y_train,y_test = TTS(X,y,test_size=0.2)\n",
    "\n",
    "model = KNReg()\n",
    "model.fit(X_train,y_train)\n",
    "y_pred = model.predict(X_train)\n",
    "\n",
    "y1 = y_pred[:,0]\n",
    "y2 = y_pred[:,1]\n",
    "y3 = y_pred[:,2]\n",
    "y4 = y_pred[:,3]\n",
    "\n",
    "print(\"Trained Data\")\n",
    "plt.plot(X_train,y1,'bo',X_train,y2,'go',X_train,y3,'ro',X_train,y4,'yo')\n",
    "plt.show()"
   ]
  },
  {
   "cell_type": "markdown",
   "metadata": {},
   "source": [
    "Since the actual dataset output, y is in categorical attribute, we need to covnert it to a numerical attribute first."
   ]
  },
  {
   "cell_type": "code",
   "execution_count": 86,
   "metadata": {},
   "outputs": [
    {
     "data": {
      "text/plain": [
       "[array([    0,     5,    20, ..., 65532, 65533, 65534], dtype=int64),\n",
       " array([    0,     1,     7, ..., 65504, 65534, 65535], dtype=int64),\n",
       " array([    0,    20,    22, ..., 65530, 65534, 65535], dtype=int64),\n",
       " array([    0,     1,     7, ..., 65427, 65534, 65535], dtype=int64),\n",
       " array(['allow', 'deny', 'drop', 'reset-both'], dtype=object),\n",
       " array([        60,         61,         62, ...,  307104860,  428935914,\n",
       "        1269359015], dtype=int64),\n",
       " array([       60,        61,        62, ..., 122661116, 213443641,\n",
       "        948477220], dtype=int64),\n",
       " array([        0,        60,        62, ..., 237428641, 304353862,\n",
       "        320881795], dtype=int64),\n",
       " array([      1,       2,       3, ...,  238334,  635946, 1036116],\n",
       "       dtype=int64),\n",
       " array([    0,     1,     2,     3,     4,     5,     6,     7,     8,\n",
       "            9,    10,    11,    12,    13,    14,    15,    16,    17,\n",
       "           18,    19,    20,    21,    22,    23,    24,    25,    26,\n",
       "           27,    28,    29,    30,    31,    32,    33,    34,    35,\n",
       "           36,    37,    38,    39,    40,    41,    42,    43,    44,\n",
       "           45,    46,    47,    48,    49,    50,    51,    52,    53,\n",
       "           54,    55,    56,    57,    58,    59,    60,    61,    62,\n",
       "           63,    64,    65,    66,    67,    68,    69,    70,    71,\n",
       "           72,    73,    74,    75,    76,    77,    78,    79,    80,\n",
       "           81,    82,    83,    84,    85,    86,    87,    88,    89,\n",
       "           90,    91,    92,    93,    94,    95,    96,    97,    98,\n",
       "           99,   100,   101,   102,   103,   104,   105,   106,   107,\n",
       "          108,   109,   110,   111,   112,   113,   114,   115,   116,\n",
       "          117,   118,   119,   120,   121,   122,   123,   124,   125,\n",
       "          126,   127,   128,   129,   130,   131,   132,   133,   134,\n",
       "          135,   136,   137,   138,   139,   140,   141,   142,   143,\n",
       "          144,   145,   146,   147,   148,   149,   150,   151,   152,\n",
       "          153,   154,   155,   156,   157,   158,   159,   160,   161,\n",
       "          162,   163,   164,   165,   166,   167,   168,   169,   170,\n",
       "          171,   172,   173,   174,   175,   176,   177,   178,   179,\n",
       "          180,   181,   182,   183,   184,   185,   186,   187,   188,\n",
       "          189,   190,   191,   192,   193,   194,   195,   196,   197,\n",
       "          198,   199,   200,   201,   202,   203,   204,   205,   206,\n",
       "          207,   208,   209,   210,   211,   212,   213,   214,   215,\n",
       "          216,   217,   218,   219,   220,   221,   222,   223,   224,\n",
       "          225,   226,   227,   228,   229,   230,   231,   232,   233,\n",
       "          234,   235,   236,   237,   238,   239,   240,   241,   242,\n",
       "          243,   244,   245,   246,   247,   248,   249,   250,   251,\n",
       "          252,   253,   254,   255,   256,   257,   258,   259,   261,\n",
       "          262,   263,   264,   265,   266,   267,   268,   269,   270,\n",
       "          271,   272,   273,   274,   275,   276,   277,   278,   279,\n",
       "          280,   281,   282,   283,   284,   285,   286,   287,   288,\n",
       "          289,   290,   291,   292,   293,   294,   295,   296,   297,\n",
       "          298,   299,   300,   301,   302,   303,   304,   305,   306,\n",
       "          307,   308,   309,   310,   312,   313,   314,   315,   316,\n",
       "          317,   318,   319,   320,   321,   322,   323,   324,   325,\n",
       "          326,   327,   329,   330,   331,   332,   333,   334,   335,\n",
       "          336,   337,   338,   339,   340,   341,   342,   343,   344,\n",
       "          345,   346,   347,   348,   349,   350,   351,   352,   353,\n",
       "          354,   355,   356,   357,   358,   359,   360,   361,   362,\n",
       "          363,   364,   365,   367,   368,   369,   370,   371,   373,\n",
       "          374,   375,   376,   378,   379,   381,   382,   383,   384,\n",
       "          385,   386,   387,   389,   390,   391,   392,   393,   394,\n",
       "          395,   396,   397,   398,   399,   400,   401,   402,   403,\n",
       "          404,   405,   406,   407,   408,   409,   410,   412,   413,\n",
       "          414,   415,   416,   417,   418,   420,   421,   422,   423,\n",
       "          425,   426,   427,   428,   430,   432,   434,   436,   437,\n",
       "          438,   439,   440,   442,   444,   446,   447,   448,   449,\n",
       "          450,   451,   452,   453,   454,   455,   458,   459,   460,\n",
       "          461,   462,   463,   464,   466,   467,   468,   469,   470,\n",
       "          471,   473,   475,   476,   477,   480,   483,   486,   487,\n",
       "          488,   491,   492,   495,   498,   500,   501,   503,   504,\n",
       "          505,   506,   507,   508,   512,   514,   515,   516,   517,\n",
       "          520,   521,   522,   524,   525,   532,   534,   539,   541,\n",
       "          543,   544,   547,   548,   549,   553,   555,   556,   559,\n",
       "          560,   561,   566,   567,   569,   572,   574,   576,   579,\n",
       "          581,   585,   587,   588,   589,   591,   597,   598,   600,\n",
       "          601,   606,   607,   608,   610,   611,   612,   614,   615,\n",
       "          616,   618,   619,   620,   621,   622,   623,   624,   625,\n",
       "          626,   627,   629,   630,   631,   632,   637,   638,   640,\n",
       "          643,   648,   649,   650,   652,   658,   660,   662,   665,\n",
       "          667,   671,   681,   685,   686,   693,   694,   704,   706,\n",
       "          708,   713,   717,   721,   723,   727,   730,   732,   734,\n",
       "          735,   736,   738,   739,   750,   751,   753,   757,   762,\n",
       "          775,   788,   792,   797,   798,   806,   807,   809,   811,\n",
       "          813,   822,   829,   831,   832,   841,   846,   854,   870,\n",
       "          884,   895,   901,   902,   904,   916,   917,   918,   919,\n",
       "          928,   929,   944,   945,   952,   954,   966,   977,   978,\n",
       "          979,   980,   981,   982,   983,   984,   987,   995,   996,\n",
       "         1004,  1008,  1017,  1019,  1043,  1044,  1061,  1072,  1075,\n",
       "         1082,  1095,  1099,  1102,  1108,  1117,  1118,  1119,  1121,\n",
       "         1122,  1126,  1128,  1130,  1140,  1142,  1143,  1157,  1162,\n",
       "         1166,  1169,  1172,  1176,  1179,  1187,  1190,  1191,  1195,\n",
       "         1197,  1199,  1200,  1201,  1203,  1208,  1209,  1210,  1211,\n",
       "         1216,  1220,  1232,  1239,  1253,  1261,  1262,  1267,  1273,\n",
       "         1274,  1283,  1285,  1286,  1298,  1300,  1316,  1320,  1323,\n",
       "         1327,  1329,  1336,  1341,  1371,  1372,  1401,  1409,  1411,\n",
       "         1412,  1454,  1457,  1465,  1469,  1485,  1490,  1496,  1501,\n",
       "         1526,  1531,  1537,  1544,  1550,  1555,  1559,  1562,  1565,\n",
       "         1571,  1573,  1580,  1582,  1587,  1595,  1598,  1600,  1601,\n",
       "         1610,  1614,  1616,  1624,  1626,  1629,  1638,  1647,  1657,\n",
       "         1682,  1695,  1696,  1710,  1720,  1724,  1732,  1740,  1751,\n",
       "         1764,  1766,  1773,  1775,  1781,  1794,  1798,  1801,  1802,\n",
       "         1806,  1881,  1902,  1929,  1980,  2033,  2054,  2149,  2162,\n",
       "         2188,  2242,  2298,  2308,  2310,  2311,  2321,  2335,  2338,\n",
       "         2342,  2355,  2378,  2384,  2396,  2410,  2411,  2421,  2424,\n",
       "         2426,  2433,  2475,  2495,  2615,  2758,  2766,  2804,  2889,\n",
       "         2899,  2901,  2904,  2961,  2983,  3002,  3005,  3037,  3051,\n",
       "         3088,  3089,  3115,  3136,  3153,  3163,  3221,  3243,  3293,\n",
       "         3312,  3325,  3342,  3376,  3411,  3438,  3454,  3587,  3599,\n",
       "         3600,  3601,  3602,  3603,  3604,  3605,  3608,  3609,  3610,\n",
       "         3615,  3616,  3617,  3619,  3620,  3629,  3631,  3632,  3633,\n",
       "         3637,  3638,  3640,  3652,  3656,  3661,  3665,  3666,  3669,\n",
       "         3676,  3685,  3696,  3724,  3729,  3742,  3744,  3745,  3747,\n",
       "         3764,  3786,  3826,  3827,  3828,  3838,  3944,  3957,  3961,\n",
       "         3971,  4017,  4020,  4073,  4126,  4133,  4146,  4153,  4156,\n",
       "         4220,  4232,  4265,  4309,  4379,  4411,  4443,  4485,  4588,\n",
       "         4602,  4653,  4772,  4793,  4981,  5045,  5113,  5115,  5173,\n",
       "         5193,  5215,  5271,  5346,  5441,  5442,  5491,  5528,  5581,\n",
       "         5724,  5805,  5922,  5925,  5974,  6062,  6090,  6101,  6122,\n",
       "         6269,  6308,  6392,  6557,  6660,  6872,  7038,  7261,  7827,\n",
       "         8169,  8912,  9115,  9283,  9851, 10824], dtype=int64),\n",
       " array([     1,      2,      3,      4,      5,      6,      7,      8,\n",
       "             9,     10,     11,     12,     13,     14,     15,     16,\n",
       "            17,     18,     19,     20,     21,     22,     23,     24,\n",
       "            25,     26,     27,     28,     29,     30,     31,     32,\n",
       "            33,     34,     35,     36,     37,     38,     39,     40,\n",
       "            41,     42,     43,     44,     45,     46,     47,     48,\n",
       "            49,     50,     51,     52,     53,     54,     55,     56,\n",
       "            57,     58,     59,     60,     61,     62,     63,     64,\n",
       "            65,     66,     67,     68,     69,     70,     71,     72,\n",
       "            73,     74,     75,     76,     77,     78,     79,     80,\n",
       "            81,     82,     83,     84,     85,     86,     87,     88,\n",
       "            89,     90,     91,     92,     93,     94,     95,     96,\n",
       "            97,     98,     99,    100,    101,    102,    103,    104,\n",
       "           105,    106,    107,    108,    109,    110,    111,    112,\n",
       "           113,    114,    115,    116,    117,    118,    119,    120,\n",
       "           121,    122,    123,    124,    125,    126,    127,    128,\n",
       "           129,    130,    131,    132,    133,    134,    135,    136,\n",
       "           137,    138,    139,    140,    141,    142,    143,    144,\n",
       "           145,    146,    147,    148,    149,    150,    151,    152,\n",
       "           153,    154,    155,    156,    157,    158,    159,    160,\n",
       "           161,    162,    163,    164,    165,    167,    168,    169,\n",
       "           170,    171,    172,    173,    174,    175,    176,    177,\n",
       "           178,    179,    180,    181,    182,    183,    184,    185,\n",
       "           186,    187,    188,    189,    190,    191,    192,    193,\n",
       "           195,    196,    198,    199,    200,    201,    202,    203,\n",
       "           204,    205,    206,    207,    208,    209,    210,    211,\n",
       "           213,    214,    217,    218,    219,    220,    222,    223,\n",
       "           224,    225,    226,    227,    228,    229,    230,    231,\n",
       "           233,    234,    235,    236,    237,    238,    239,    241,\n",
       "           244,    245,    246,    247,    249,    250,    251,    252,\n",
       "           253,    254,    255,    256,    257,    258,    259,    261,\n",
       "           262,    263,    264,    265,    266,    267,    269,    270,\n",
       "           271,    273,    274,    275,    276,    278,    280,    282,\n",
       "           283,    286,    287,    288,    289,    290,    292,    293,\n",
       "           294,    295,    296,    297,    298,    299,    300,    302,\n",
       "           303,    304,    305,    306,    308,    309,    310,    311,\n",
       "           312,    314,    315,    316,    317,    320,    321,    322,\n",
       "           323,    325,    326,    327,    328,    329,    331,    332,\n",
       "           333,    334,    335,    337,    338,    339,    340,    341,\n",
       "           342,    343,    344,    346,    349,    350,    351,    353,\n",
       "           354,    355,    356,    357,    361,    363,    365,    366,\n",
       "           368,    369,    373,    378,    379,    381,    382,    383,\n",
       "           386,    388,    389,    400,    403,    404,    406,    407,\n",
       "           409,    410,    411,    412,    416,    418,    420,    421,\n",
       "           422,    423,    425,    427,    433,    436,    439,    440,\n",
       "           441,    442,    445,    446,    447,    449,    451,    455,\n",
       "           456,    458,    459,    462,    463,    465,    468,    469,\n",
       "           470,    473,    476,    478,    479,    483,    487,    493,\n",
       "           496,    498,    501,    504,    507,    510,    511,    514,\n",
       "           515,    518,    520,    522,    526,    527,    528,    531,\n",
       "           533,    534,    535,    537,    539,    540,    544,    546,\n",
       "           547,    548,    552,    553,    556,    557,    558,    559,\n",
       "           560,    563,    564,    570,    576,    580,    582,    591,\n",
       "           597,    599,    604,    606,    608,    609,    616,    617,\n",
       "           623,    626,    628,    632,    635,    636,    639,    640,\n",
       "           642,    643,    644,    649,    651,    654,    655,    656,\n",
       "           657,    666,    672,    678,    685,    686,    687,    689,\n",
       "           690,    692,    693,    700,    703,    715,    717,    721,\n",
       "           731,    732,    735,    736,    740,    744,    745,    746,\n",
       "           753,    755,    764,    765,    768,    769,    781,    782,\n",
       "           787,    788,    795,    811,    816,    820,    825,    838,\n",
       "           839,    843,    844,    846,    850,    852,    859,    863,\n",
       "           870,    891,    894,    896,    902,    908,    923,    929,\n",
       "           930,    935,    939,    943,    952,    955,    962,    976,\n",
       "           982,    983,    985,    986,    994,    995,    997,    999,\n",
       "          1006,   1023,   1027,   1072,   1078,   1081,   1086,   1088,\n",
       "          1103,   1111,   1112,   1118,   1138,   1140,   1160,   1161,\n",
       "          1175,   1184,   1188,   1197,   1198,   1208,   1212,   1228,\n",
       "          1230,   1237,   1240,   1252,   1261,   1277,   1281,   1284,\n",
       "          1285,   1291,   1293,   1315,   1320,   1321,   1340,   1356,\n",
       "          1375,   1379,   1382,   1387,   1390,   1393,   1394,   1395,\n",
       "          1411,   1412,   1413,   1423,   1428,   1445,   1452,   1464,\n",
       "          1473,   1479,   1487,   1498,   1499,   1519,   1525,   1531,\n",
       "          1538,   1546,   1574,   1586,   1601,   1608,   1634,   1650,\n",
       "          1667,   1680,   1683,   1688,   1689,   1695,   1708,   1736,\n",
       "          1740,   1741,   1755,   1783,   1819,   1832,   1845,   1854,\n",
       "          1861,   1877,   1888,   1890,   1907,   1945,   1964,   1968,\n",
       "          1981,   1982,   1994,   2012,   2024,   2033,   2083,   2089,\n",
       "          2098,   2116,   2117,   2146,   2194,   2197,   2201,   2203,\n",
       "          2227,   2231,   2259,   2261,   2262,   2268,   2287,   2298,\n",
       "          2303,   2325,   2387,   2412,   2429,   2437,   2494,   2497,\n",
       "          2509,   2531,   2579,   2586,   2591,   2677,   2687,   2721,\n",
       "          2785,   2789,   2822,   2833,   2851,   2865,   2907,   2976,\n",
       "          2983,   2984,   2989,   3004,   3016,   3022,   3124,   3160,\n",
       "          3195,   3300,   3384,   3386,   3435,   3515,   3584,   3693,\n",
       "          3739,   3773,   3839,   3846,   3853,   4036,   4079,   4090,\n",
       "          4119,   4141,   4158,   4327,   4424,   4494,   4589,   4655,\n",
       "          4673,   4700,   4780,   4872,   4917,   4929,   5065,   5174,\n",
       "          5246,   5458,   5482,   5532,   5536,   5708,   5899,   6098,\n",
       "          6438,   6466,   6533,   6716,   6803,   6969,   7647,   7700,\n",
       "          7731,   7975,   8113,   8143,   8531,   8650,   8746,   8846,\n",
       "          8862,   8944,   9675,  10580,  12126,  12240,  13976,  15017,\n",
       "         15196,  16827,  19380,  19716,  24913,  28698,  39649,  41466,\n",
       "         43917,  81340,  82907, 308738, 747520], dtype=int64),\n",
       " array([     0,      1,      2,      3,      4,      5,      6,      7,\n",
       "             8,      9,     10,     11,     12,     13,     14,     15,\n",
       "            16,     17,     18,     19,     20,     21,     22,     23,\n",
       "            24,     25,     26,     27,     28,     29,     30,     31,\n",
       "            32,     33,     34,     35,     36,     37,     38,     39,\n",
       "            40,     41,     42,     43,     44,     45,     46,     47,\n",
       "            48,     49,     50,     51,     52,     53,     54,     55,\n",
       "            56,     57,     58,     59,     60,     61,     62,     63,\n",
       "            64,     65,     66,     67,     68,     69,     70,     71,\n",
       "            72,     73,     74,     75,     76,     77,     78,     79,\n",
       "            80,     81,     82,     83,     84,     85,     86,     87,\n",
       "            88,     89,     90,     91,     92,     93,     94,     95,\n",
       "            96,     97,     98,     99,    100,    101,    102,    103,\n",
       "           104,    105,    106,    107,    108,    109,    110,    111,\n",
       "           112,    113,    114,    115,    116,    117,    118,    119,\n",
       "           120,    121,    122,    123,    124,    125,    126,    127,\n",
       "           128,    129,    130,    131,    132,    133,    134,    135,\n",
       "           136,    137,    138,    139,    140,    142,    143,    144,\n",
       "           145,    146,    147,    148,    149,    150,    151,    152,\n",
       "           153,    154,    155,    156,    157,    158,    159,    160,\n",
       "           161,    162,    163,    164,    165,    166,    167,    168,\n",
       "           169,    170,    171,    172,    173,    174,    175,    177,\n",
       "           178,    179,    180,    181,    182,    183,    184,    185,\n",
       "           186,    187,    188,    189,    190,    191,    192,    193,\n",
       "           194,    195,    196,    197,    198,    199,    200,    201,\n",
       "           202,    203,    204,    205,    206,    207,    208,    209,\n",
       "           210,    212,    213,    214,    215,    216,    217,    218,\n",
       "           219,    220,    221,    222,    223,    224,    225,    226,\n",
       "           227,    228,    229,    230,    231,    232,    234,    235,\n",
       "           236,    237,    238,    239,    240,    241,    242,    243,\n",
       "           244,    245,    246,    247,    248,    249,    251,    252,\n",
       "           253,    254,    256,    257,    258,    260,    261,    262,\n",
       "           263,    264,    265,    267,    268,    269,    270,    271,\n",
       "           273,    276,    277,    278,    279,    280,    281,    282,\n",
       "           283,    284,    286,    287,    288,    289,    290,    291,\n",
       "           292,    293,    294,    296,    298,    299,    300,    301,\n",
       "           302,    303,    304,    305,    306,    307,    308,    309,\n",
       "           310,    312,    313,    314,    315,    316,    318,    319,\n",
       "           320,    321,    324,    325,    327,    329,    330,    332,\n",
       "           334,    335,    337,    338,    339,    340,    341,    342,\n",
       "           343,    344,    345,    346,    348,    349,    350,    351,\n",
       "           355,    356,    357,    358,    360,    364,    367,    369,\n",
       "           370,    371,    372,    373,    374,    376,    379,    380,\n",
       "           382,    383,    385,    386,    387,    388,    389,    391,\n",
       "           392,    393,    394,    396,    397,    398,    399,    401,\n",
       "           402,    403,    404,    408,    409,    414,    415,    417,\n",
       "           419,    420,    422,    424,    426,    427,    428,    429,\n",
       "           430,    431,    433,    436,    438,    439,    442,    444,\n",
       "           445,    446,    448,    449,    450,    451,    452,    453,\n",
       "           457,    458,    459,    460,    461,    463,    465,    466,\n",
       "           468,    470,    472,    475,    478,    481,    484,    485,\n",
       "           486,    489,    490,    492,    494,    495,    496,    497,\n",
       "           499,    503,    505,    507,    510,    512,    514,    515,\n",
       "           518,    519,    520,    521,    522,    523,    526,    527,\n",
       "           531,    533,    536,    537,    540,    544,    547,    548,\n",
       "           549,    552,    562,    564,    566,    567,    569,    574,\n",
       "           576,    580,    581,    584,    589,    592,    593,    594,\n",
       "           595,    599,    600,    604,    605,    606,    607,    608,\n",
       "           616,    620,    624,    625,    626,    627,    633,    638,\n",
       "           639,    642,    650,    667,    670,    671,    676,    677,\n",
       "           678,    681,    682,    683,    684,    685,    689,    694,\n",
       "           696,    697,    699,    701,    703,    705,    706,    713,\n",
       "           714,    718,    721,    724,    725,    726,    728,    731,\n",
       "           733,    734,    740,    742,    743,    746,    748,    749,\n",
       "           750,    755,    756,    759,    760,    765,    766,    767,\n",
       "           778,    779,    784,    786,    788,    790,    793,    796,\n",
       "           798,    799,    802,    805,    811,    812,    820,    821,\n",
       "           824,    830,    833,    835,    836,    842,    852,    854,\n",
       "           861,    869,    872,    876,    878,    879,    887,    889,\n",
       "           902,    906,    907,    909,    910,    917,    921,    936,\n",
       "           939,    947,    949,    968,    979,   1000,   1001,   1002,\n",
       "          1003,   1006,   1009,   1022,   1029,   1033,   1034,   1040,\n",
       "          1045,   1059,   1060,   1072,   1077,   1089,   1092,   1102,\n",
       "          1105,   1108,   1118,   1124,   1148,   1154,   1159,   1161,\n",
       "          1163,   1168,   1185,   1192,   1200,   1205,   1206,   1249,\n",
       "          1258,   1261,   1274,   1277,   1278,   1290,   1292,   1299,\n",
       "          1314,   1320,   1334,   1337,   1339,   1341,   1352,   1370,\n",
       "          1387,   1403,   1411,   1412,   1413,   1425,   1438,   1449,\n",
       "          1478,   1480,   1481,   1487,   1490,   1529,   1540,   1557,\n",
       "          1560,   1564,   1570,   1583,   1594,   1613,   1642,   1655,\n",
       "          1660,   1663,   1681,   1692,   1694,   1728,   1729,   1731,\n",
       "          1762,   1770,   1775,   1820,   1834,   1838,   1844,   1859,\n",
       "          1865,   1873,   1901,   1911,   1913,   1933,   1934,   1937,\n",
       "          1940,   1953,   1970,   1971,   1973,   1974,   1993,   2004,\n",
       "          2048,   2086,   2091,   2174,   2190,   2199,   2213,   2239,\n",
       "          2244,   2282,   2293,   2310,   2325,   2353,   2357,   2378,\n",
       "          2379,   2394,   2395,   2399,   2445,   2450,   2468,   2481,\n",
       "          2523,   2524,   2527,   2543,   2547,   2564,   2583,   2613,\n",
       "          2630,   2631,   2641,   2649,   2657,   2672,   2673,   2721,\n",
       "          2785,   2888,   2911,   2936,   2943,   2958,   2984,   3030,\n",
       "          3065,   3082,   3106,   3111,   3115,   3157,   3184,   3226,\n",
       "          3251,   3320,   3332,   3357,   3369,   3388,   3420,   3480,\n",
       "          3499,   3615,   3690,   3691,   3759,   3777,   3782,   3791,\n",
       "          3795,   3892,   3897,   3899,   3939,   3956,   3983,   4025,\n",
       "          4033,   4065,   4080,   4178,   4189,   4197,   4199,   4237,\n",
       "          4253,   4258,   4281,   4309,   4352,   4359,   4388,   4462,\n",
       "          4547,   4555,   4574,   4603,   4643,   4698,   4700,   4709,\n",
       "          4721,   4811,   4821,   5084,   5097,   5220,   5285,   5297,\n",
       "          5343,   5359,   5488,   5519,   5576,   5602,   5701,   5726,\n",
       "          5784,   5801,   5820,   5892,   5917,   6002,   6043,   6149,\n",
       "          6155,   6167,   6181,   6186,   6200,   6390,   6404,   6417,\n",
       "          6525,   6526,   6529,   6531,   6638,   6684,   6803,   6823,\n",
       "          6833,   6891,   6957,   6968,   7123,   7176,   7406,   7537,\n",
       "          7568,   7615,   7619,   7682,   7720,   7725,   7781,   7849,\n",
       "          7891,   7906,   7973,   8147,   8171,   8196,   8248,   8263,\n",
       "          8301,   8353,   8534,   8591,   8639,   8681,   8746,   8783,\n",
       "          8976,   9041,   9045,   9056,   9110,   9113,   9155,   9237,\n",
       "          9250,   9286,   9288,   9318,   9386,   9420,   9554,   9608,\n",
       "          9709,   9756,   9919,   9972,  10107,  10619,  11047,  11161,\n",
       "         11255,  11684,  11899,  11972,  12355,  12831,  12920,  13005,\n",
       "         14249,  14309,  14434,  14553,  14711,  15048,  15437,  15548,\n",
       "         16139,  16271,  16407,  16641,  17062,  17943,  18162,  18697,\n",
       "         19444,  20378,  20536,  21264,  21270,  23074,  24623,  25672,\n",
       "         25860,  26962,  30490,  31423,  31953,  32588,  32921,  43514,\n",
       "         50634,  78123,  79821,  81809,  84012,  85811, 156994, 219580,\n",
       "        288596, 327208], dtype=int64)]"
      ]
     },
     "execution_count": 86,
     "metadata": {},
     "output_type": "execute_result"
    }
   ],
   "source": [
    "# One hot encoder\n",
    "from sklearn.preprocessing import OneHotEncoder as OHE\n",
    "\n",
    "encoder = OHE(handle_unknown='ignore')\n",
    "encoder.fit(firewall_data)\n",
    "encoder.categories_"
   ]
  },
  {
   "cell_type": "code",
   "execution_count": 87,
   "metadata": {},
   "outputs": [
    {
     "data": {
      "text/html": [
       "<div>\n",
       "<style scoped>\n",
       "    .dataframe tbody tr th:only-of-type {\n",
       "        vertical-align: middle;\n",
       "    }\n",
       "\n",
       "    .dataframe tbody tr th {\n",
       "        vertical-align: top;\n",
       "    }\n",
       "\n",
       "    .dataframe thead th {\n",
       "        text-align: right;\n",
       "    }\n",
       "</style>\n",
       "<table border=\"1\" class=\"dataframe\">\n",
       "  <thead>\n",
       "    <tr style=\"text-align: right;\">\n",
       "      <th></th>\n",
       "      <th>0</th>\n",
       "      <th>1</th>\n",
       "      <th>2</th>\n",
       "      <th>3</th>\n",
       "    </tr>\n",
       "  </thead>\n",
       "  <tbody>\n",
       "    <tr>\n",
       "      <th>0</th>\n",
       "      <td>1.0</td>\n",
       "      <td>0.0</td>\n",
       "      <td>0.0</td>\n",
       "      <td>0.0</td>\n",
       "    </tr>\n",
       "    <tr>\n",
       "      <th>1</th>\n",
       "      <td>1.0</td>\n",
       "      <td>0.0</td>\n",
       "      <td>0.0</td>\n",
       "      <td>0.0</td>\n",
       "    </tr>\n",
       "    <tr>\n",
       "      <th>2</th>\n",
       "      <td>1.0</td>\n",
       "      <td>0.0</td>\n",
       "      <td>0.0</td>\n",
       "      <td>0.0</td>\n",
       "    </tr>\n",
       "    <tr>\n",
       "      <th>3</th>\n",
       "      <td>1.0</td>\n",
       "      <td>0.0</td>\n",
       "      <td>0.0</td>\n",
       "      <td>0.0</td>\n",
       "    </tr>\n",
       "    <tr>\n",
       "      <th>4</th>\n",
       "      <td>1.0</td>\n",
       "      <td>0.0</td>\n",
       "      <td>0.0</td>\n",
       "      <td>0.0</td>\n",
       "    </tr>\n",
       "    <tr>\n",
       "      <th>...</th>\n",
       "      <td>...</td>\n",
       "      <td>...</td>\n",
       "      <td>...</td>\n",
       "      <td>...</td>\n",
       "    </tr>\n",
       "    <tr>\n",
       "      <th>65527</th>\n",
       "      <td>1.0</td>\n",
       "      <td>0.0</td>\n",
       "      <td>0.0</td>\n",
       "      <td>0.0</td>\n",
       "    </tr>\n",
       "    <tr>\n",
       "      <th>65528</th>\n",
       "      <td>1.0</td>\n",
       "      <td>0.0</td>\n",
       "      <td>0.0</td>\n",
       "      <td>0.0</td>\n",
       "    </tr>\n",
       "    <tr>\n",
       "      <th>65529</th>\n",
       "      <td>0.0</td>\n",
       "      <td>0.0</td>\n",
       "      <td>1.0</td>\n",
       "      <td>0.0</td>\n",
       "    </tr>\n",
       "    <tr>\n",
       "      <th>65530</th>\n",
       "      <td>0.0</td>\n",
       "      <td>0.0</td>\n",
       "      <td>1.0</td>\n",
       "      <td>0.0</td>\n",
       "    </tr>\n",
       "    <tr>\n",
       "      <th>65531</th>\n",
       "      <td>0.0</td>\n",
       "      <td>0.0</td>\n",
       "      <td>1.0</td>\n",
       "      <td>0.0</td>\n",
       "    </tr>\n",
       "  </tbody>\n",
       "</table>\n",
       "<p>65532 rows × 4 columns</p>\n",
       "</div>"
      ],
      "text/plain": [
       "         0    1    2    3\n",
       "0      1.0  0.0  0.0  0.0\n",
       "1      1.0  0.0  0.0  0.0\n",
       "2      1.0  0.0  0.0  0.0\n",
       "3      1.0  0.0  0.0  0.0\n",
       "4      1.0  0.0  0.0  0.0\n",
       "...    ...  ...  ...  ...\n",
       "65527  1.0  0.0  0.0  0.0\n",
       "65528  1.0  0.0  0.0  0.0\n",
       "65529  0.0  0.0  1.0  0.0\n",
       "65530  0.0  0.0  1.0  0.0\n",
       "65531  0.0  0.0  1.0  0.0\n",
       "\n",
       "[65532 rows x 4 columns]"
      ]
     },
     "execution_count": 87,
     "metadata": {},
     "output_type": "execute_result"
    }
   ],
   "source": [
    "action_cat = pd.DataFrame(encoder.fit_transform(firewall_data[['Action']]).toarray())\n",
    "action_cat"
   ]
  },
  {
   "cell_type": "code",
   "execution_count": null,
   "metadata": {},
   "outputs": [],
   "source": [
    "data = firewall_data.join(action_cat)\n",
    "data"
   ]
  },
  {
   "cell_type": "markdown",
   "metadata": {},
   "source": [
    "After joining the numerical value of 'Action', we can choose to drop the catergorical value of 'Action'"
   ]
  },
  {
   "cell_type": "code",
   "execution_count": null,
   "metadata": {},
   "outputs": [],
   "source": [
    "data = data.drop('Action',axis=1)\n",
    "data"
   ]
  },
  {
   "cell_type": "code",
   "execution_count": null,
   "metadata": {},
   "outputs": [],
   "source": []
  }
 ],
 "metadata": {
  "kernelspec": {
   "display_name": "Python 3",
   "language": "python",
   "name": "python3"
  },
  "language_info": {
   "codemirror_mode": {
    "name": "ipython",
    "version": 3
   },
   "file_extension": ".py",
   "mimetype": "text/x-python",
   "name": "python",
   "nbconvert_exporter": "python",
   "pygments_lexer": "ipython3",
   "version": "3.8.3"
  }
 },
 "nbformat": 4,
 "nbformat_minor": 4
}
